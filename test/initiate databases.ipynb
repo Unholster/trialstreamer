{
 "cells": [
  {
   "cell_type": "code",
   "execution_count": 22,
   "metadata": {},
   "outputs": [],
   "source": [
    "import psycopg2"
   ]
  },
  {
   "cell_type": "code",
   "execution_count": 23,
   "metadata": {},
   "outputs": [],
   "source": [
    "conn = psycopg2.connect(dbname='trialstreamer', user='trialstreamer',\n",
    "                        host='localhost', password=\"rYX4cVb@E*6O@lapLTkCfM1l\")\n"
   ]
  },
  {
   "cell_type": "code",
   "execution_count": 24,
   "metadata": {},
   "outputs": [],
   "source": [
    "create_tables_command = (\n",
    "\"\"\"CREATE TABLE IF NOT EXISTS pubmed (\n",
    "            id SERIAL PRIMARY KEY,\n",
    "            tsid VARCHAR(16),\n",
    "            pmid VARCHAR(16) NOT NULL,\n",
    "            ti TEXT,\n",
    "            ab TEXT,\n",
    "            pm_data JSONB,\n",
    "            clf_type VARCHAR(16),\n",
    "            clf_score REAL,\n",
    "            clf_date TIMESTAMP,\n",
    "            source_filename VARCHAR(256)\n",
    "            );\n",
    "            \n",
    "CREATE TABLE IF NOT EXISTS ictrp (\n",
    "            id SERIAL PRIMARY KEY,\n",
    "            regid VARCHAR(16) NOT NULL,\n",
    "            ti TEXT,\n",
    "            ictrp_data JSONB,\n",
    "            source_filename VARCHAR(256)\n",
    "            );\n",
    "\"\"\")"
   ]
  },
  {
   "cell_type": "code",
   "execution_count": 25,
   "metadata": {},
   "outputs": [],
   "source": [
    "cur = conn.cursor()\n",
    "cur.execute(create_tables_command)\n",
    "cur.close()\n",
    "conn.commit()"
   ]
  }
 ],
 "metadata": {
  "kernelspec": {
   "display_name": "Python 3",
   "language": "python",
   "name": "python3"
  },
  "language_info": {
   "codemirror_mode": {
    "name": "ipython",
    "version": 3
   },
   "file_extension": ".py",
   "mimetype": "text/x-python",
   "name": "python",
   "nbconvert_exporter": "python",
   "pygments_lexer": "ipython3",
   "version": "3.6.6"
  }
 },
 "nbformat": 4,
 "nbformat_minor": 2
}
