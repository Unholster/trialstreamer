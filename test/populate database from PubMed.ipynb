{
 "cells": [
  {
   "cell_type": "code",
   "execution_count": 2,
   "metadata": {},
   "outputs": [
    {
     "name": "stderr",
     "output_type": "stream",
     "text": [
      "/home/iain/anaconda3/envs/rr3/lib/python3.6/site-packages/psycopg2/__init__.py:144: UserWarning: The psycopg2 wheel package will be renamed from release 2.8; in order to keep installing from binary please use \"pip install psycopg2-binary\" instead. For details see: <http://initd.org/psycopg/docs/install.html#binary-install-from-pypi>.\n",
      "  \"\"\")\n",
      "[INFO] robotdata 2019-02-01 10:28:39,307: Welcome to RobotData :)\n",
      "/home/iain/anaconda3/envs/rr3/lib/python3.6/site-packages/h5py/__init__.py:36: FutureWarning: Conversion of the second argument of issubdtype from `float` to `np.floating` is deprecated. In future, it will be treated as `np.float64 == np.dtype(float).type`.\n",
      "  from ._conv import register_converters as _register_converters\n",
      "Using TensorFlow backend.\n",
      "[WARNING] tensorflow 2019-02-01 10:28:46,656: From /home/iain/anaconda3/envs/rr3/lib/python3.6/site-packages/keras/backend/tensorflow_backend.py:1210: calling reduce_prod (from tensorflow.python.ops.math_ops) with keep_dims is deprecated and will be removed in a future version.\n",
      "Instructions for updating:\n",
      "keep_dims is deprecated, use keepdims instead\n",
      "/home/iain/anaconda3/envs/rr3/lib/python3.6/site-packages/keras/engine/topology.py:1242: UserWarning: The `Merge` layer is deprecated and will be removed after 08/2017. Use instead layers from `keras.layers.merge`, e.g. `add`, `concatenate`, etc.\n",
      "  return cls(**config)\n",
      "[WARNING] tensorflow 2019-02-01 10:28:47,940: From /home/iain/anaconda3/envs/rr3/lib/python3.6/site-packages/keras/backend/tensorflow_backend.py:1299: calling reduce_mean (from tensorflow.python.ops.math_ops) with keep_dims is deprecated and will be removed in a future version.\n",
      "Instructions for updating:\n",
      "keep_dims is deprecated, use keepdims instead\n"
     ]
    }
   ],
   "source": [
    "from trialstreamer import pubmed"
   ]
  },
  {
   "cell_type": "code",
   "execution_count": 4,
   "metadata": {},
   "outputs": [
    {
     "name": "stderr",
     "output_type": "stream",
     "text": [
      "testing the abstract parsing (0/64) /home/iain/Code/robotlabs/trialstreamer/data/updates/pubmed19n0973.xml.gz: 15008it [00:30, 500.25it/s] [INFO] trialstreamer.pubmed 2019-02-01 10:30:34,174: 64 PubMed title/abstract update files on FTP server\n",
      "[INFO] trialstreamer.pubmed 2019-02-01 10:30:34,176: Checking hashfiles, and downloading any missing\n",
      "[INFO] trialstreamer.pubmed 2019-02-01 10:30:34,181: Verifying local gzipped data files\n",
      "\n",
      "Validating local files:   0%|          | 0/64 [00:00<?, ?it/s]\u001b[A\n",
      "Validating local files:   3%|▎         | 2/64 [00:00<00:03, 17.20it/s]\u001b[A\n",
      "Validating local files:   9%|▉         | 6/64 [00:00<00:02, 20.95it/s]\u001b[A\n",
      "Validating local files:  14%|█▍        | 9/64 [00:00<00:02, 19.51it/s]\u001b[A\n",
      "Validating local files:  17%|█▋        | 11/64 [00:00<00:02, 19.44it/s]\u001b[A\n",
      "Validating local files:  20%|██        | 13/64 [00:00<00:02, 17.76it/s]\u001b[A\n",
      "Validating local files:  23%|██▎       | 15/64 [00:00<00:02, 17.88it/s]\u001b[A\n",
      "Validating local files:  33%|███▎      | 21/64 [00:00<00:01, 21.98it/s]\u001b[A\n",
      "Validating local files:  42%|████▏     | 27/64 [00:01<00:01, 24.99it/s]\u001b[A\n",
      "Validating local files:  48%|████▊     | 31/64 [00:01<00:01, 22.80it/s]\u001b[A\n",
      "Validating local files:  53%|█████▎    | 34/64 [00:01<00:01, 22.81it/s]\u001b[A\n",
      "Validating local files:  58%|█████▊    | 37/64 [00:01<00:01, 22.39it/s]\u001b[A\n",
      "Validating local files:  66%|██████▌   | 42/64 [00:01<00:00, 23.53it/s]\u001b[A\n",
      "Validating local files:  72%|███████▏  | 46/64 [00:01<00:00, 24.19it/s]\u001b[A\n",
      "Validating local files:  77%|███████▋  | 49/64 [00:02<00:00, 24.00it/s]\u001b[A\n",
      "Validating local files:  84%|████████▍ | 54/64 [00:02<00:00, 24.76it/s]\u001b[A\n",
      "Validating local files:  89%|████████▉ | 57/64 [00:02<00:00, 24.56it/s]\u001b[A\n",
      "Validating local files:  95%|█████████▌| 61/64 [00:02<00:00, 24.82it/s]\u001b[A\n",
      "Validating local files: 100%|██████████| 64/64 [00:02<00:00, 25.19it/s]\u001b[A[INFO] trialstreamer.pubmed 2019-02-01 10:30:36,728: Data validated\n",
      "[INFO] trialstreamer.pubmed 2019-02-01 10:30:36,728: Checking hashfiles, and downloading any missing\n",
      "\n",
      "md5 hashes downloaded from PubMed FTP server:   0%|          | 0/64 [00:00<?, ?it/s]\u001b[A\n",
      "md5 hashes downloaded from PubMed FTP server: 100%|██████████| 64/64 [00:00<00:00, 32965.18it/s]\u001b[A\n",
      "data files downloaded from PubMed FTP server:   0%|          | 0/64 [00:00<?, ?it/s]\u001b[A\n",
      "data files downloaded from PubMed FTP server: 100%|██████████| 64/64 [00:00<00:00, 194659.50it/s]\u001b[A[INFO] trialstreamer.pubmed 2019-02-01 10:30:37,239: Uploading to postgres\n",
      "\n",
      "classifying and uploading postgres (58/64) /home/iain/Code/robotlabs/trialstreamer/data/updates/pubmed19n1031.xml.gz: 0it [00:00, ?it/s]\u001b[A\n",
      "classifying and uploading postgres (58/64) /home/iain/Code/robotlabs/trialstreamer/data/updates/pubmed19n1031.xml.gz: 1it [00:16, 16.26s/it]\u001b[A\n",
      "\u001b[A\n",
      "classifying and uploading postgres (59/64) /home/iain/Code/robotlabs/trialstreamer/data/updates/pubmed19n1032.xml.gz: 0it [00:00, ?it/s]\u001b[A\n",
      "classifying and uploading postgres (59/64) /home/iain/Code/robotlabs/trialstreamer/data/updates/pubmed19n1032.xml.gz: 1it [00:26, 26.22s/it]\u001b[A\n",
      "classifying and uploading postgres (59/64) /home/iain/Code/robotlabs/trialstreamer/data/updates/pubmed19n1032.xml.gz: 2it [00:43, 21.86s/it]\u001b[A\n",
      "classifying and uploading postgres (59/64) /home/iain/Code/robotlabs/trialstreamer/data/updates/pubmed19n1032.xml.gz: 3it [00:58, 19.63s/it]\u001b[A\n",
      "classifying and uploading postgres (59/64) /home/iain/Code/robotlabs/trialstreamer/data/updates/pubmed19n1032.xml.gz: 4it [01:02, 15.57s/it]\u001b[A\n",
      "\u001b[A\n",
      "classifying and uploading postgres (60/64) /home/iain/Code/robotlabs/trialstreamer/data/updates/pubmed19n1033.xml.gz: 0it [00:00, ?it/s]\u001b[A\n",
      "classifying and uploading postgres (60/64) /home/iain/Code/robotlabs/trialstreamer/data/updates/pubmed19n1033.xml.gz: 1it [00:19, 19.34s/it]\u001b[A\n",
      "classifying and uploading postgres (60/64) /home/iain/Code/robotlabs/trialstreamer/data/updates/pubmed19n1033.xml.gz: 2it [00:41, 20.77s/it]\u001b[A\n",
      "classifying and uploading postgres (60/64) /home/iain/Code/robotlabs/trialstreamer/data/updates/pubmed19n1033.xml.gz: 3it [00:59, 19.96s/it]\u001b[A\n",
      "classifying and uploading postgres (60/64) /home/iain/Code/robotlabs/trialstreamer/data/updates/pubmed19n1033.xml.gz: 4it [01:17, 19.45s/it]\u001b[A\n",
      "classifying and uploading postgres (60/64) /home/iain/Code/robotlabs/trialstreamer/data/updates/pubmed19n1033.xml.gz: 5it [01:34, 18.91s/it]\u001b[A\n",
      "classifying and uploading postgres (60/64) /home/iain/Code/robotlabs/trialstreamer/data/updates/pubmed19n1033.xml.gz: 6it [01:50, 18.47s/it]\u001b[A\n",
      "classifying and uploading postgres (60/64) /home/iain/Code/robotlabs/trialstreamer/data/updates/pubmed19n1033.xml.gz: 7it [01:51, 15.98s/it]\u001b[A\n",
      "\u001b[A\n",
      "classifying and uploading postgres (61/64) /home/iain/Code/robotlabs/trialstreamer/data/updates/pubmed19n1034.xml.gz: 0it [00:00, ?it/s]\u001b[A\n",
      "classifying and uploading postgres (61/64) /home/iain/Code/robotlabs/trialstreamer/data/updates/pubmed19n1034.xml.gz: 1it [00:17, 17.25s/it]\u001b[A\n",
      "classifying and uploading postgres (61/64) /home/iain/Code/robotlabs/trialstreamer/data/updates/pubmed19n1034.xml.gz: 2it [00:20, 10.46s/it]\u001b[A\n",
      "\u001b[A\n",
      "classifying and uploading postgres (62/64) /home/iain/Code/robotlabs/trialstreamer/data/updates/pubmed19n1035.xml.gz: 0it [00:00, ?it/s]\u001b[A\n",
      "classifying and uploading postgres (62/64) /home/iain/Code/robotlabs/trialstreamer/data/updates/pubmed19n1035.xml.gz: 1it [00:20, 20.36s/it]\u001b[A\n",
      "classifying and uploading postgres (62/64) /home/iain/Code/robotlabs/trialstreamer/data/updates/pubmed19n1035.xml.gz: 2it [00:39, 19.56s/it]\u001b[A\n",
      "classifying and uploading postgres (62/64) /home/iain/Code/robotlabs/trialstreamer/data/updates/pubmed19n1035.xml.gz: 3it [00:56, 18.72s/it]\u001b[A\n",
      "classifying and uploading postgres (62/64) /home/iain/Code/robotlabs/trialstreamer/data/updates/pubmed19n1035.xml.gz: 4it [01:15, 18.78s/it]\u001b[A\n",
      "classifying and uploading postgres (62/64) /home/iain/Code/robotlabs/trialstreamer/data/updates/pubmed19n1035.xml.gz: 5it [01:27, 17.59s/it]\u001b[A\n",
      "\u001b[A\n",
      "classifying and uploading postgres (63/64) /home/iain/Code/robotlabs/trialstreamer/data/updates/pubmed19n1036.xml.gz: 0it [00:00, ?it/s]\u001b[A\n",
      "classifying and uploading postgres (63/64) /home/iain/Code/robotlabs/trialstreamer/data/updates/pubmed19n1036.xml.gz: 1it [00:16, 16.16s/it]\u001b[A\n",
      "classifying and uploading postgres (63/64) /home/iain/Code/robotlabs/trialstreamer/data/updates/pubmed19n1036.xml.gz: 2it [00:34, 17.15s/it]\u001b[A\n",
      "classifying and uploading postgres (63/64) /home/iain/Code/robotlabs/trialstreamer/data/updates/pubmed19n1036.xml.gz: 3it [00:53, 17.97s/it]\u001b[A\n",
      "classifying and uploading postgres (63/64) /home/iain/Code/robotlabs/trialstreamer/data/updates/pubmed19n1036.xml.gz: 4it [01:08, 17.20s/it]\u001b[A\n",
      "classifying and uploading postgres (63/64) /home/iain/Code/robotlabs/trialstreamer/data/updates/pubmed19n1036.xml.gz: 5it [01:21, 16.36s/it]\u001b[A\n",
      "\u001b[A[INFO] trialstreamer.pubmed 2019-02-01 10:36:58,487: Counter({'batches classified': 24})\n",
      "[INFO] trialstreamer.pubmed 2019-02-01 10:36:58,588: Uploaded!\n"
     ]
    }
   ],
   "source": [
    "pubmed.download_ftp_updates(safety_test_parse=False)"
   ]
  },
  {
   "cell_type": "code",
   "execution_count": null,
   "metadata": {},
   "outputs": [],
   "source": []
  }
 ],
 "metadata": {
  "kernelspec": {
   "display_name": "Python 3",
   "language": "python",
   "name": "python3"
  },
  "language_info": {
   "codemirror_mode": {
    "name": "ipython",
    "version": 3
   },
   "file_extension": ".py",
   "mimetype": "text/x-python",
   "name": "python",
   "nbconvert_exporter": "python",
   "pygments_lexer": "ipython3",
   "version": "3.6.8"
  }
 },
 "nbformat": 4,
 "nbformat_minor": 2
}
