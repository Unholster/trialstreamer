{
 "cells": [
  {
   "cell_type": "code",
   "execution_count": 3,
   "metadata": {},
   "outputs": [],
   "source": [
    "# download latest\n",
    "import ftplib\n",
    "from trialstreamer import config\n",
    "\n",
    "\n",
    "\n",
    "homepage = \"nlmpubs.nlm.nih.gov\"\n",
    "\n",
    "\n",
    "def get_ftp():\n",
    "    \"\"\"\n",
    "    log in to FTP and pass back\n",
    "    \"\"\"\n",
    "    ftp = ftplib.FTP(homepage)\n",
    "    ftp.login(user=\"anonymous\", passwd=config.PUBMED_USER_EMAIL)\n",
    "    return ftp\n",
    "\n",
    "ftp = get_ftp()\n",
    "\n",
    "with open('data/pa2019.xml', 'wb') as f:\n",
    "    ftp.retrbinary('RETR ' + 'online/mesh/MESH_FILES/xmlmesh/pa2019.xml', f.write)"
   ]
  },
  {
   "cell_type": "code",
   "execution_count": 60,
   "metadata": {},
   "outputs": [],
   "source": [
    "import xml.etree.ElementTree as ET\n",
    "tree = ET.parse('data/pa2019.xml')\n",
    "root = tree.getroot()"
   ]
  },
  {
   "cell_type": "code",
   "execution_count": 61,
   "metadata": {},
   "outputs": [],
   "source": [
    "pas = root.findall('PharmacologicalAction')"
   ]
  },
  {
   "cell_type": "code",
   "execution_count": 72,
   "metadata": {},
   "outputs": [],
   "source": [
    "from collections import defaultdict\n",
    "\n",
    "drugs_from_class = defaultdict(list)\n",
    "class_from_drug = defaultdict(list)\n",
    "\n",
    "\n",
    "for pa in pas:\n",
    "    descriptor = pa.find('DescriptorReferredTo')\n",
    "    substance_list = pa.find(\"PharmacologicalActionSubstanceList\")\n",
    "    \n",
    "    d_ui = descriptor.find('DescriptorUI').text\n",
    "    d_term = descriptor.find('DescriptorName/String').text\n",
    "    \n",
    "    \n",
    "    for substance in substance_list:\n",
    "        s_ui = substance.find('RecordUI').text\n",
    "        s_term = substance.find('RecordName/String').text\n",
    "        \n",
    "        drugs_from_class[d_term].append({\"mesh_ui\": s_ui, \"mesh_term\": s_term})\n",
    "        class_from_drug[s_term].append({\"mesh_ui\": d_ui, \"mesh_term\": d_term})\n",
    "    "
   ]
  },
  {
   "cell_type": "code",
   "execution_count": 76,
   "metadata": {},
   "outputs": [],
   "source": [
    "import pickle\n",
    "\n",
    "with open('trialstreamer/data/drugs_from_class.pck', 'wb') as f:\n",
    "    pickle.dump(drugs_from_class, f)\n",
    "    \n",
    "with open('trialstreamer/data/class_from_drug.pck', 'wb') as f:\n",
    "    pickle.dump(class_from_drug, f)"
   ]
  },
  {
   "cell_type": "code",
   "execution_count": 16,
   "metadata": {},
   "outputs": [
    {
     "data": {
      "text/plain": [
       "<Element 'PharmacologicalActionSubstanceList' at 0x7f6d3ffbeef8>"
      ]
     },
     "execution_count": 16,
     "metadata": {},
     "output_type": "execute_result"
    }
   ],
   "source": []
  },
  {
   "cell_type": "code",
   "execution_count": null,
   "metadata": {},
   "outputs": [],
   "source": []
  }
 ],
 "metadata": {
  "kernelspec": {
   "display_name": "Python (trialstreamer2)",
   "language": "python",
   "name": "trialstreamer"
  },
  "language_info": {
   "codemirror_mode": {
    "name": "ipython",
    "version": 3
   },
   "file_extension": ".py",
   "mimetype": "text/x-python",
   "name": "python",
   "nbconvert_exporter": "python",
   "pygments_lexer": "ipython3",
   "version": "3.7.3"
  }
 },
 "nbformat": 4,
 "nbformat_minor": 2
}
