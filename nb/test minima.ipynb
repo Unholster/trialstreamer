{
 "cells": [
  {
   "cell_type": "code",
   "execution_count": 1,
   "metadata": {},
   "outputs": [],
   "source": [
    "from trialstreamer import minimap"
   ]
  },
  {
   "cell_type": "code",
   "execution_count": 2,
   "metadata": {},
   "outputs": [
    {
     "name": "stdout",
     "output_type": "stream",
     "text": [
      "[{'mesh_term': 'Raloxifene', 'mesh_ui': 'D020849', 'cui': 'C0244404', 'start_idx': 0, 'end_idx': 1, 'source_text': 'raloxifene'}]\n",
      "[{'mesh_term': 'Raloxifene', 'mesh_ui': 'D020849', 'cui': 'C0244404', 'start_idx': 0, 'end_idx': 1, 'source_text': 'raloxifene'}]\n",
      "[{'mesh_term': 'Raloxifene', 'mesh_ui': 'D020849', 'cui': 'C0244404', 'start_idx': 0, 'end_idx': 1, 'source_text': 'raloxifene'}]\n",
      "[{'mesh_term': 'Raloxifene', 'mesh_ui': 'D020849', 'cui': 'C0244404', 'start_idx': 0, 'end_idx': 1, 'source_text': 'raloxifene'}]\n",
      "[{'mesh_term': 'Placebos', 'mesh_ui': 'D010919', 'cui': 'C0032042', 'start_idx': 0, 'end_idx': 1, 'source_text': 'placebo'}]\n",
      "[{'mesh_term': 'Raloxifene', 'mesh_ui': 'D020849', 'cui': 'C0244404', 'start_idx': 1, 'end_idx': 2, 'source_text': 'raloxifene'}]\n",
      "[{'mesh_term': 'Raloxifene', 'mesh_ui': 'D020849', 'cui': 'C0244404', 'start_idx': 0, 'end_idx': 1, 'source_text': 'raloxifene'}]\n",
      "[{'mesh_term': 'Raloxifene', 'mesh_ui': 'D020849', 'cui': 'C0244404', 'start_idx': 0, 'end_idx': 1, 'source_text': 'raloxifene'}, {'mesh_term': 'Diseases', 'mesh_ui': 'D004194', 'cui': 'C0012634', 'start_idx': 5, 'end_idx': 6, 'source_text': 'disorders'}]\n",
      "[]\n"
     ]
    }
   ],
   "source": [
    "example_i = [\"Raloxifene\", \"Raloxifene\", \"raloxifene\", \"raloxifene\", \"placebo\", \"adjunctive raloxifene\", \"Raloxifene\", \"raloxifene 2 TRNA other myocardial disorders such as MI\", \"2\"]\n",
    "\n",
    "for i in example_i:\n",
    "    print(minimap.minimap(i))"
   ]
  },
  {
   "cell_type": "code",
   "execution_count": 10,
   "metadata": {},
   "outputs": [
    {
     "data": {
      "text/plain": [
       "[]"
      ]
     },
     "execution_count": 10,
     "metadata": {},
     "output_type": "execute_result"
    }
   ],
   "source": [
    "minimap.minimap(\"placebo\")"
   ]
  },
  {
   "cell_type": "code",
   "execution_count": null,
   "metadata": {},
   "outputs": [],
   "source": []
  }
 ],
 "metadata": {
  "kernelspec": {
   "display_name": "Python (trialstreamer2)",
   "language": "python",
   "name": "trialstreamer"
  },
  "language_info": {
   "codemirror_mode": {
    "name": "ipython",
    "version": 3
   },
   "file_extension": ".py",
   "mimetype": "text/x-python",
   "name": "python",
   "nbconvert_exporter": "python",
   "pygments_lexer": "ipython3",
   "version": "3.7.3"
  }
 },
 "nbformat": 4,
 "nbformat_minor": 2
}
