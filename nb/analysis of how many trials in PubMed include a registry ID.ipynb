{
 "cells": [
  {
   "cell_type": "code",
   "execution_count": 1,
   "metadata": {},
   "outputs": [],
   "source": [
    "# HOW MANY NEWLY PUBLISHED RCTs HAVE GOT A REGISTRY ID IN THE ABSTRACT"
   ]
  },
  {
   "cell_type": "code",
   "execution_count": 13,
   "metadata": {},
   "outputs": [],
   "source": [
    "from trialstreamer import dbutil\n",
    "import re\n",
    "import psycopg2\n",
    "import tqdm\n",
    "from collections import Counter, defaultdict"
   ]
  },
  {
   "cell_type": "code",
   "execution_count": 1,
   "metadata": {},
   "outputs": [],
   "source": [
    "# in September 2018, this regular expression was developed iteratively, and covered 100%\n",
    "# of registry IDs from ICTRP\n",
    "# {'total': 428822, 'matches': 428822}\n",
    "import re\n",
    "\n",
    "reg_re = re.compile(\"\"\"RBR\\-[0-9a-z]{6}|\\\n",
    "ACTRN[0-9]{14}|\\\n",
    "ChiCTR\\-[A-Za-z]{2,5}\\-[0-9]{8}|\\\n",
    "ChiCTR[0-9]{10}|\\\n",
    "IRCT[0-9N]{14,18}|\\\n",
    "PACTR[0-9]{15,16}|\\\n",
    "ISRCTN[0-9]{8}|\\\n",
    "NCT[0-9]{8}|\\\n",
    "CTRI/[0-9]{4}/[0-9]{2,3}/[0-9{6}]|\\\n",
    "DRKS[0-9]{8}|\\\n",
    "EUCTR[0-9]{4}\\-[0-9]{6}\\-[0-9]{2}|\\\n",
    "JPRN\\-C[0-9]{9}|\\\n",
    "JPRN\\-JMA\\-IIA[0-9]{5}|\\\n",
    "JPRN\\-JapicCTI\\-{0-9}{6}|\\\n",
    "JPRN\\-UMIN[0-9]{9}|\\\n",
    "JPRN\\-JapicCTI\\-[0-9]{6}|\\\n",
    "KCT[0-9]{7}|\\\n",
    "NTR[0-9]{2,4}|\\\n",
    "PER-[0-9]{3}-[0-9]{2}|\\\n",
    "RPCEC[0-9]{8}|\\\n",
    "SLCTR\\/[0-9]{4}/[0-9]{3}|\\\n",
    "TCTR[0-9]{11}\"\"\")\n",
    "\n"
   ]
  },
  {
   "cell_type": "code",
   "execution_count": 9,
   "metadata": {},
   "outputs": [],
   "source": [
    "# USE A PRECISE MODEL\n",
    "cur = dbutil.db.cursor(cursor_factory=psycopg2.extras.DictCursor)\n",
    "cur.execute(\"select * from pubmed where is_rct_precise=true;\")"
   ]
  },
  {
   "cell_type": "code",
   "execution_count": 16,
   "metadata": {},
   "outputs": [
    {
     "name": "stderr",
     "output_type": "stream",
     "text": [
      "502090it [00:19, 25230.21it/s]\n"
     ]
    }
   ],
   "source": [
    "out = defaultdict(Counter)\n",
    "for r in tqdm.tqdm(cur):\n",
    "    if reg_re.search(r.get('ab', '')):\n",
    "        out[r['year']]['registered'] += 1\n",
    "    else:\n",
    "        out[r['year']]['not registered'] += 1"
   ]
  },
  {
   "cell_type": "code",
   "execution_count": 18,
   "metadata": {},
   "outputs": [
    {
     "data": {
      "text/plain": [
       "[('', Counter({'not registered': 29680, 'registered': 350})),\n",
       " ('1848', Counter({'not registered': 1})),\n",
       " ('1849', Counter({'not registered': 1})),\n",
       " ('1850', Counter({'not registered': 2})),\n",
       " ('1859', Counter({'not registered': 1})),\n",
       " ('1880', Counter({'not registered': 1})),\n",
       " ('1882', Counter({'not registered': 1})),\n",
       " ('1887', Counter({'not registered': 1})),\n",
       " ('1888', Counter({'not registered': 1})),\n",
       " ('1892', Counter({'not registered': 1})),\n",
       " ('1893', Counter({'not registered': 1})),\n",
       " ('1896', Counter({'not registered': 1})),\n",
       " ('1897', Counter({'not registered': 1})),\n",
       " ('1910', Counter({'not registered': 1})),\n",
       " ('1913', Counter({'not registered': 1})),\n",
       " ('1917', Counter({'not registered': 1})),\n",
       " ('1922', Counter({'not registered': 1})),\n",
       " ('1925', Counter({'not registered': 2})),\n",
       " ('1926', Counter({'not registered': 1})),\n",
       " ('1934', Counter({'not registered': 1})),\n",
       " ('1938', Counter({'not registered': 3})),\n",
       " ('1941', Counter({'not registered': 1})),\n",
       " ('1942', Counter({'not registered': 1})),\n",
       " ('1945', Counter({'not registered': 2})),\n",
       " ('1947', Counter({'not registered': 1})),\n",
       " ('1948', Counter({'not registered': 2})),\n",
       " ('1950', Counter({'not registered': 1})),\n",
       " ('1953', Counter({'not registered': 1})),\n",
       " ('1954', Counter({'not registered': 2})),\n",
       " ('1958', Counter({'not registered': 1})),\n",
       " ('1960', Counter({'not registered': 3})),\n",
       " ('1961', Counter({'not registered': 6})),\n",
       " ('1962', Counter({'not registered': 6})),\n",
       " ('1963', Counter({'not registered': 7})),\n",
       " ('1964', Counter({'not registered': 5})),\n",
       " ('1965', Counter({'not registered': 45})),\n",
       " ('1966', Counter({'not registered': 188})),\n",
       " ('1967', Counter({'not registered': 209})),\n",
       " ('1968', Counter({'not registered': 256})),\n",
       " ('1969', Counter({'not registered': 284})),\n",
       " ('1970', Counter({'not registered': 345})),\n",
       " ('1971', Counter({'not registered': 353})),\n",
       " ('1972', Counter({'not registered': 463})),\n",
       " ('1973', Counter({'not registered': 550})),\n",
       " ('1974', Counter({'not registered': 630})),\n",
       " ('1975', Counter({'not registered': 916})),\n",
       " ('1976', Counter({'not registered': 1201})),\n",
       " ('1977', Counter({'not registered': 1196})),\n",
       " ('1978', Counter({'not registered': 1434})),\n",
       " ('1979', Counter({'not registered': 1718})),\n",
       " ('1980', Counter({'not registered': 1980})),\n",
       " ('1981', Counter({'not registered': 2158})),\n",
       " ('1982', Counter({'not registered': 2429})),\n",
       " ('1983', Counter({'not registered': 2943})),\n",
       " ('1984', Counter({'not registered': 2786})),\n",
       " ('1985', Counter({'not registered': 3355})),\n",
       " ('1986', Counter({'not registered': 3710})),\n",
       " ('1987', Counter({'not registered': 4254})),\n",
       " ('1988', Counter({'not registered': 4333})),\n",
       " ('1989', Counter({'not registered': 5327})),\n",
       " ('1990', Counter({'not registered': 6261})),\n",
       " ('1991', Counter({'not registered': 6666})),\n",
       " ('1992', Counter({'not registered': 7062})),\n",
       " ('1993', Counter({'not registered': 7649})),\n",
       " ('1994', Counter({'not registered': 8781})),\n",
       " ('1995', Counter({'not registered': 9656})),\n",
       " ('1996', Counter({'not registered': 9500})),\n",
       " ('1997', Counter({'not registered': 9652})),\n",
       " ('1998', Counter({'not registered': 10129})),\n",
       " ('1999', Counter({'not registered': 10792})),\n",
       " ('2000', Counter({'not registered': 10593})),\n",
       " ('2001', Counter({'not registered': 11293})),\n",
       " ('2002', Counter({'not registered': 11465})),\n",
       " ('2003', Counter({'not registered': 12550, 'registered': 1})),\n",
       " ('2004', Counter({'not registered': 13845})),\n",
       " ('2005', Counter({'not registered': 14333, 'registered': 32})),\n",
       " ('2006', Counter({'not registered': 14627, 'registered': 272})),\n",
       " ('2007', Counter({'not registered': 15576, 'registered': 571})),\n",
       " ('2008', Counter({'not registered': 15596, 'registered': 923})),\n",
       " ('2009', Counter({'not registered': 16045, 'registered': 1250})),\n",
       " ('2010', Counter({'not registered': 16967, 'registered': 1802})),\n",
       " ('2011', Counter({'not registered': 18491, 'registered': 2283})),\n",
       " ('2012', Counter({'not registered': 20439, 'registered': 2653})),\n",
       " ('2013', Counter({'not registered': 22555, 'registered': 3390})),\n",
       " ('2014', Counter({'not registered': 22500, 'registered': 4419})),\n",
       " ('2015', Counter({'not registered': 22434, 'registered': 5051})),\n",
       " ('2016', Counter({'not registered': 22501, 'registered': 5682})),\n",
       " ('2017', Counter({'not registered': 26196, 'registered': 6307})),\n",
       " ('2018', Counter({'not registered': 120, 'registered': 24}))]"
      ]
     },
     "execution_count": 18,
     "metadata": {},
     "output_type": "execute_result"
    }
   ],
   "source": [
    "sorted(out.items(), key=lambda x: x[0])"
   ]
  },
  {
   "cell_type": "code",
   "execution_count": 17,
   "metadata": {},
   "outputs": [],
   "source": [
    "ab = \"Hi this is a trial number ISRCTN91566927. Hopefully we'll (NCT02216123) find it\""
   ]
  },
  {
   "cell_type": "code",
   "execution_count": 20,
   "metadata": {},
   "outputs": [],
   "source": []
  },
  {
   "cell_type": "code",
   "execution_count": 21,
   "metadata": {},
   "outputs": [
    {
     "data": {
      "text/plain": [
       "['ISRCTN91566927', 'NCT02216123']"
      ]
     },
     "execution_count": 21,
     "metadata": {},
     "output_type": "execute_result"
    }
   ],
   "source": [
    "m"
   ]
  },
  {
   "cell_type": "code",
   "execution_count": null,
   "metadata": {},
   "outputs": [],
   "source": []
  }
 ],
 "metadata": {
  "kernelspec": {
   "display_name": "Python 3",
   "language": "python",
   "name": "python3"
  },
  "language_info": {
   "codemirror_mode": {
    "name": "ipython",
    "version": 3
   },
   "file_extension": ".py",
   "mimetype": "text/x-python",
   "name": "python",
   "nbconvert_exporter": "python",
   "pygments_lexer": "ipython3",
   "version": "3.7.3"
  }
 },
 "nbformat": 4,
 "nbformat_minor": 2
}
