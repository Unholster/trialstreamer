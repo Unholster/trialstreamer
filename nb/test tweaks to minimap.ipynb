{
 "cells": [
  {
   "cell_type": "code",
   "execution_count": 1,
   "metadata": {},
   "outputs": [],
   "source": [
    "from trialstreamer import minimap \n",
    "\n"
   ]
  },
  {
   "cell_type": "code",
   "execution_count": null,
   "metadata": {},
   "outputs": [],
   "source": []
  },
  {
   "cell_type": "code",
   "execution_count": 1,
   "metadata": {},
   "outputs": [
    {
     "name": "stderr",
     "output_type": "stream",
     "text": [
      "[INFO] robotdata 2019-09-05 18:53:03,994: Welcome to RobotData :)\n"
     ]
    }
   ],
   "source": [
    "from trialstreamer import pubmed"
   ]
  },
  {
   "cell_type": "code",
   "execution_count": 3,
   "metadata": {},
   "outputs": [
    {
     "name": "stderr",
     "output_type": "stream",
     "text": [
      "[WARNING] trialstreamer.pubmed 2019-09-05 19:10:27,633: Getting PICO spans via RobotReviewer\n",
      "[INFO] trialstreamer.pubmed 2019-09-05 19:10:27,634: getting list of all PICOs done so far...\n",
      "[INFO] trialstreamer.pubmed 2019-09-05 19:10:28,692: Fetching data to annotate\n",
      "[INFO] trialstreamer.pubmed 2019-09-05 19:10:34,524: PICO annotation in progress\n",
      "100s articles annotated: 6636it [43:39,  2.53it/s]\n"
     ]
    }
   ],
   "source": [
    "pubmed.annotate_rcts()"
   ]
  },
  {
   "cell_type": "code",
   "execution_count": 5,
   "metadata": {},
   "outputs": [
    {
     "name": "stderr",
     "output_type": "stream",
     "text": [
      "[WARNING] trialstreamer.pubmed 2019-09-05 22:11:45,416: Computing PICO mesh terms\n",
      "[INFO] trialstreamer.pubmed 2019-09-05 22:11:45,417: Calculating abbreviation dictionaries\n",
      "generating abstract-specific abbreviation expansions: 663599it [02:05, 5299.36it/s] \n",
      "[INFO] trialstreamer.pubmed 2019-09-05 22:13:50,642: updating new records...\n",
      "[INFO] trialstreamer.pubmed 2019-09-05 22:13:50,642: getting source data\n",
      "articles annotated: 0it [00:00, ?it/s]\n"
     ]
    }
   ],
   "source": [
    "pubmed.annotate_rcts_mesh(force_refresh=False)"
   ]
  },
  {
   "cell_type": "code",
   "execution_count": 3,
   "metadata": {},
   "outputs": [
    {
     "data": {
      "text/plain": [
       "{'MDR-TB': 'multidrug-resistant tuberculosis', 'AUC': 'area under the curve'}"
      ]
     },
     "execution_count": 3,
     "metadata": {},
     "output_type": "execute_result"
    }
   ],
   "source": [
    "ad['29178937']"
   ]
  },
  {
   "cell_type": "code",
   "execution_count": 4,
   "metadata": {},
   "outputs": [],
   "source": [
    "from trialstreamer import minimap"
   ]
  },
  {
   "cell_type": "code",
   "execution_count": 4,
   "metadata": {},
   "outputs": [
    {
     "name": "stdout",
     "output_type": "stream",
     "text": [
      "caught\n"
     ]
    }
   ],
   "source": [
    "d = {}\n",
    "try:\n",
    "    print(d['Hi'])\n",
    "except KeyError:\n",
    "    print(\"caught\")\n",
    "    "
   ]
  },
  {
   "cell_type": "code",
   "execution_count": 7,
   "metadata": {
    "scrolled": true
   },
   "outputs": [
    {
     "data": {
      "text/plain": [
       "[{'mesh_term': 'Tuberculosis, Multidrug-Resistant',\n",
       "  'mesh_ui': 'D018088',\n",
       "  'cui': 'C0206526',\n",
       "  'start_idx': 0,\n",
       "  'end_idx': 3,\n",
       "  'source_text': 'multidrug resistant tuberculosis'},\n",
       " {'mesh_term': 'Patient',\n",
       "  'mesh_ui': 'D010361',\n",
       "  'cui': 'C0030705',\n",
       "  'start_idx': 3,\n",
       "  'end_idx': 4,\n",
       "  'source_text': 'patients'}]"
      ]
     },
     "execution_count": 7,
     "metadata": {},
     "output_type": "execute_result"
    }
   ],
   "source": [
    "minimap.minimap('MDR-TB patients', abbrevs=ad['29178937'])"
   ]
  },
  {
   "cell_type": "code",
   "execution_count": null,
   "metadata": {},
   "outputs": [
    {
     "name": "stderr",
     "output_type": "stream",
     "text": [
      "[WARNING] trialstreamer.pubmed 2019-09-03 08:42:13,255: Computing PICO mesh terms\n",
      "[INFO] trialstreamer.pubmed 2019-09-03 08:42:13,256: Calculating abbreviation dictionaries\n",
      "generating abstract-specific abbreviation expansions: 657794it [02:03, 5318.39it/s] \n",
      "[INFO] trialstreamer.pubmed 2019-09-03 08:44:16,943: redoing all PICO mesh terms...\n",
      "[INFO] trialstreamer.pubmed 2019-09-03 08:44:16,943: getting source data\n",
      "articles annotated: 256114it [2:52:32, 27.18it/s]"
     ]
    },
    {
     "name": "stdout",
     "output_type": "stream",
     "text": [
      "Regex error caused for one abstract! (for text string 'Thirty-six boys between the ages of 8.3 and 9.7 years with ADHD and 36 matched controls were included')\n",
      "and abbreviation dictionary '{'EFs': 'executive functions', 'MPH': 'methylphenidate', 'CCRT': 'Choice Reaction Time', 'HI\\\\C': 'hyperactive-impulsive\\\\combined'}'\n",
      "Regex error caused for one abstract! (for text string 'children with ADHD and typical children')\n",
      "and abbreviation dictionary '{'EFs': 'executive functions', 'MPH': 'methylphenidate', 'CCRT': 'Choice Reaction Time', 'HI\\\\C': 'hyperactive-impulsive\\\\combined'}'\n",
      "Regex error caused for one abstract! (for text string 'children with ADHD')\n",
      "and abbreviation dictionary '{'EFs': 'executive functions', 'MPH': 'methylphenidate', 'CCRT': 'Choice Reaction Time', 'HI\\\\C': 'hyperactive-impulsive\\\\combined'}'\n",
      "Regex error caused for one abstract! (for text string 'methylphenidate (methylphenidate')\n",
      "and abbreviation dictionary '{'EFs': 'executive functions', 'MPH': 'methylphenidate', 'CCRT': 'Choice Reaction Time', 'HI\\\\C': 'hyperactive-impulsive\\\\combined'}'\n",
      "Regex error caused for one abstract! (for text string 'Methylphenidate')\n",
      "and abbreviation dictionary '{'EFs': 'executive functions', 'MPH': 'methylphenidate', 'CCRT': 'Choice Reaction Time', 'HI\\\\C': 'hyperactive-impulsive\\\\combined'}'\n",
      "Regex error caused for one abstract! (for text string 'methylphenidate and placebo')\n",
      "and abbreviation dictionary '{'EFs': 'executive functions', 'MPH': 'methylphenidate', 'CCRT': 'Choice Reaction Time', 'HI\\\\C': 'hyperactive-impulsive\\\\combined'}'\n",
      "Regex error caused for one abstract! (for text string 'visual cues and incongruent cuing')\n",
      "and abbreviation dictionary '{'EFs': 'executive functions', 'MPH': 'methylphenidate', 'CCRT': 'Choice Reaction Time', 'HI\\\\C': 'hyperactive-impulsive\\\\combined'}'\n",
      "Regex error caused for one abstract! (for text string 'Auditory and Visual Executive Functions')\n",
      "and abbreviation dictionary '{'EFs': 'executive functions', 'MPH': 'methylphenidate', 'CCRT': 'Choice Reaction Time', 'HI\\\\C': 'hyperactive-impulsive\\\\combined'}'\n",
      "Regex error caused for one abstract! (for text string 'pronounce under incongruent auditory cuing ')\n",
      "and abbreviation dictionary '{'EFs': 'executive functions', 'MPH': 'methylphenidate', 'CCRT': 'Choice Reaction Time', 'HI\\\\C': 'hyperactive-impulsive\\\\combined'}'\n"
     ]
    },
    {
     "name": "stderr",
     "output_type": "stream",
     "text": [
      "articles annotated: 459792it [5:36:54, 18.51it/s] IOPub message rate exceeded.\n",
      "The notebook server will temporarily stop sending output\n",
      "to the client in order to avoid crashing it.\n",
      "To change this limit, set the config variable\n",
      "`--NotebookApp.iopub_msg_rate_limit`.\n",
      "\n",
      "Current values:\n",
      "NotebookApp.iopub_msg_rate_limit=1000.0 (msgs/sec)\n",
      "NotebookApp.rate_limit_window=3.0 (secs)\n",
      "\n",
      "articles annotated: 623971it [7:47:08, 20.14it/s]"
     ]
    }
   ],
   "source": [
    "pubmed.annotate_rcts_mesh(force_refresh=True)"
   ]
  },
  {
   "cell_type": "code",
   "execution_count": 3,
   "metadata": {},
   "outputs": [],
   "source": [
    "from trialstreamer import schwartz_hearst"
   ]
  },
  {
   "cell_type": "code",
   "execution_count": 7,
   "metadata": {},
   "outputs": [],
   "source": [
    "abbrevs = schwartz_hearst.extract_abbreviation_definition_pairs(doc_text=\"Multiple sclerosis  is a neurological problem.\")"
   ]
  },
  {
   "cell_type": "code",
   "execution_count": 9,
   "metadata": {},
   "outputs": [
    {
     "data": {
      "text/plain": [
       "False"
      ]
     },
     "execution_count": 9,
     "metadata": {},
     "output_type": "execute_result"
    }
   ],
   "source": [
    "abbrevs == True"
   ]
  },
  {
   "cell_type": "code",
   "execution_count": 6,
   "metadata": {
    "scrolled": true
   },
   "outputs": [
    {
     "data": {
      "text/plain": [
       "[{'mesh_term': 'Myocardial Infarction',\n",
       "  'mesh_ui': 'D009203',\n",
       "  'cui': 'C0027051',\n",
       "  'start_idx': 0,\n",
       "  'end_idx': 2,\n",
       "  'source_text': 'heart attack'},\n",
       " {'mesh_term': 'Ischemic Attack, Transient',\n",
       "  'mesh_ui': 'D002546',\n",
       "  'cui': 'C0007787',\n",
       "  'start_idx': 3,\n",
       "  'end_idx': 4,\n",
       "  'source_text': 'tia'},\n",
       " {'mesh_term': 'Multiple Sclerosis',\n",
       "  'mesh_ui': 'D009103',\n",
       "  'cui': 'C0026769',\n",
       "  'start_idx': 5,\n",
       "  'end_idx': 7,\n",
       "  'source_text': 'multiple sclerosis'}]"
      ]
     },
     "execution_count": 6,
     "metadata": {},
     "output_type": "execute_result"
    }
   ],
   "source": [
    "minimap.minimap('heart attack or TIA or MS', abbrevs=abbrevs)"
   ]
  },
  {
   "cell_type": "code",
   "execution_count": 15,
   "metadata": {},
   "outputs": [],
   "source": [
    "\n",
    "import re"
   ]
  },
  {
   "cell_type": "code",
   "execution_count": 16,
   "metadata": {},
   "outputs": [],
   "source": [
    "text_str = \"heart attack or TIA or MS\"\n",
    "abbrevs={\"MS\": \"multiple sclerosis\"}\n",
    "# sub out abbreviations if abbreviation dict given\n",
    "if abbrevs:\n",
    "    for abbrev, expansion in abbrevs.items():\n",
    "        text_str = re.sub(r\"\\b\" + abbrev + r\"\\b\", expansion, text_str)"
   ]
  },
  {
   "cell_type": "code",
   "execution_count": 17,
   "metadata": {},
   "outputs": [
    {
     "data": {
      "text/plain": [
       "'heart attack or TIA or multiple sclerosis'"
      ]
     },
     "execution_count": 17,
     "metadata": {},
     "output_type": "execute_result"
    }
   ],
   "source": [
    "text_str"
   ]
  },
  {
   "cell_type": "code",
   "execution_count": 3,
   "metadata": {},
   "outputs": [],
   "source": [
    "from spacy.lemmatizer import Lemmatizer\n",
    "from spacy.lang.en import LEMMA_INDEX, LEMMA_EXC, LEMMA_RULES\n",
    "lemmatizer = Lemmatizer(LEMMA_INDEX, LEMMA_EXC, LEMMA_RULES)\n",
    "lemmas = lemmatizer(u\"suffering\", u\"NOUN\")\n"
   ]
  },
  {
   "cell_type": "code",
   "execution_count": 15,
   "metadata": {},
   "outputs": [
    {
     "data": {
      "text/plain": [
       "['suffering']"
      ]
     },
     "execution_count": 15,
     "metadata": {},
     "output_type": "execute_result"
    }
   ],
   "source": [
    "lemmas"
   ]
  },
  {
   "cell_type": "code",
   "execution_count": 4,
   "metadata": {},
   "outputs": [],
   "source": [
    "from trialstreamer import minimap \n"
   ]
  },
  {
   "cell_type": "code",
   "execution_count": 6,
   "metadata": {},
   "outputs": [
    {
     "data": {
      "text/plain": [
       "[{'mesh_term': 'Tuberculosis, Multidrug-Resistant',\n",
       "  'mesh_ui': 'D018088',\n",
       "  'cui': 'C0206526',\n",
       "  'start_idx': 0,\n",
       "  'end_idx': 3,\n",
       "  'source_text': 'multidrug resistant tuberculosis'},\n",
       " {'mesh_term': 'Patient',\n",
       "  'mesh_ui': 'D010361',\n",
       "  'cui': 'C0030705',\n",
       "  'start_idx': 3,\n",
       "  'end_idx': 4,\n",
       "  'source_text': 'patients'}]"
      ]
     },
     "execution_count": 6,
     "metadata": {},
     "output_type": "execute_result"
    }
   ],
   "source": [
    "minimap.minimap('multidrug-resistant tuberculosis patients')"
   ]
  },
  {
   "cell_type": "code",
   "execution_count": null,
   "metadata": {},
   "outputs": [],
   "source": []
  }
 ],
 "metadata": {
  "kernelspec": {
   "display_name": "Python 3",
   "language": "python",
   "name": "python3"
  },
  "language_info": {
   "codemirror_mode": {
    "name": "ipython",
    "version": 3
   },
   "file_extension": ".py",
   "mimetype": "text/x-python",
   "name": "python",
   "nbconvert_exporter": "python",
   "pygments_lexer": "ipython3",
   "version": "3.7.3"
  }
 },
 "nbformat": 4,
 "nbformat_minor": 2
}
