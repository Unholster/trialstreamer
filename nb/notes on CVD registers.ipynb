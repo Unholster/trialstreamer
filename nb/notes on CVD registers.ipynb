{
 "cells": [
  {
   "cell_type": "code",
   "execution_count": 1,
   "metadata": {},
   "outputs": [],
   "source": [
    "# generate datasets"
   ]
  },
  {
   "cell_type": "code",
   "execution_count": 2,
   "metadata": {},
   "outputs": [],
   "source": [
    " cmd = \"\"\"\\copy (select pmid, ti, ab, (pm_data->'mesh' ?| array['Hypertensive Retinopathy',                           'Hypertension, Renal','Hypertension, Renovascular',                        'Hypertension, Pregnancy-Induced','Hypertension',\n",
    "                           'Essential Hypertension',\n",
    "                           'Hypertension, Malignant',\n",
    "                           'Masked Hypertension',\n",
    "                           'White Coat Hypertension']) as y_htn,\n",
    "(pm_data->'mesh' ?| array['Brain Infarction',\n",
    "                          'Brain Stem Infarctions',\n",
    "                          'Lateral Medullary Syndrome',\n",
    "                          'Cerebral Infarction',\n",
    "                          'Infarction, Anterior Cerebral Artery',\n",
    "                          'Infarction, Middle Cerebral Artery',\n",
    "                          'Infarction, Posterior Cerebral Artery',\n",
    "                          'Stroke, Lacunar',\n",
    "                          'Stroke']) as y_stroke,\n",
    "(pm_data->'mesh' ?| array['Myocardial Ischemia',\n",
    "                          'Acute Coronary Syndrome',\n",
    "                          'Microvascular Angina',\n",
    "                          'Coronary Disease',\n",
    "                          'Coronary Aneurysm',\n",
    "                          'Coronary Artery Disease',\n",
    "                          'Coronary Occlusion',\n",
    "                          'Coronary Stenosis',\n",
    "                          'Coronary Restenosis',\n",
    "                          'Coronary Thrombosis',\n",
    "                          'Coronary Vasospasm',\n",
    "                          'Myocardial Infarction',\n",
    "                          'Anterior Wall Myocardial Infarction',\n",
    "                          'Inferior Wall Myocardial Infarction',\n",
    "                          'Non-ST Elevated Myocardial Infarction',\n",
    "                          'ST Elevation Myocardial Infarction']) as y_ihd,        \n",
    "(pm_data->'mesh' ?| array['Peripheral Arterial Disease',\n",
    "                          'Peripheral Vascular Diseases']) as y_pvd                         \n",
    "                           from pubmed where is_rct_balanced=true and pm_status='MEDLINE')\n",
    "                           to 'cvd_rcts.csv' with csv headert\n",
    "\"\"\"\n"
   ]
  },
  {
   "cell_type": "code",
   "execution_count": 7,
   "metadata": {},
   "outputs": [],
   "source": [
    "\n",
    "cmd = cmd.replace('\\n', ' ')"
   ]
  },
  {
   "cell_type": "code",
   "execution_count": 9,
   "metadata": {},
   "outputs": [
    {
     "name": "stdout",
     "output_type": "stream",
     "text": [
      "\\copy (select pmid, ti, ab, (pm_data->'mesh' ?| array['Hypertensive Retinopathy',                           'Hypertension, Renal','Hypertension, Renovascular',                        'Hypertension, Pregnancy-Induced','Hypertension',                           'Essential Hypertension',                           'Hypertension, Malignant',                           'Masked Hypertension',                           'White Coat Hypertension']) as y_htn, (pm_data->'mesh' ?| array['Brain Infarction',                          'Brain Stem Infarctions',                          'Lateral Medullary Syndrome',                          'Cerebral Infarction',                          'Infarction, Anterior Cerebral Artery',                          'Infarction, Middle Cerebral Artery',                          'Infarction, Posterior Cerebral Artery',                          'Stroke, Lacunar',                          'Stroke']) as y_stroke, (pm_data->'mesh' ?| array['Myocardial Ischemia',                          'Acute Coronary Syndrome',                          'Microvascular Angina',                          'Coronary Disease',                          'Coronary Aneurysm',                          'Coronary Artery Disease',                          'Coronary Occlusion',                          'Coronary Stenosis',                          'Coronary Restenosis',                          'Coronary Thrombosis',                          'Coronary Vasospasm',                          'Myocardial Infarction',                          'Anterior Wall Myocardial Infarction',                          'Inferior Wall Myocardial Infarction',                          'Non-ST Elevated Myocardial Infarction',                          'ST Elevation Myocardial Infarction']) as y_ihd,         (pm_data->'mesh' ?| array['Peripheral Arterial Disease',                          'Peripheral Vascular Diseases']) as y_pvd                                                    from pubmed where is_rct_balanced=true and pm_status='MEDLINE')                           to 'cvd_rcts.csv' with csv header; \n"
     ]
    }
   ],
   "source": [
    "print(cmd)"
   ]
  },
  {
   "cell_type": "raw",
   "metadata": {},
   "source": [
    "\\copy (\n",
    "select pmid, ti, ab, pm_data->'mesh' ?| array['Hypertensive Retinopathy',\n",
    "                           'Hypertension, Renal',\n",
    "                           'Hypertension, Renovascular',\n",
    "                           'Hypertension, Pregnancy-Induced',\n",
    "                           'Hypertension',\n",
    "                           'Essential Hypertension',\n",
    "                           'Hypertension, Malignant',\n",
    "                           'Masked Hypertension',\n",
    "                           'White Coat Hypertension'] as y_htn                \n",
    "                           from pubmed where is_rct_balanced=true and pm_status='MEDLINE' limit 10)\n",
    "                           to 'cvd_rcts.csv' with csv header"
   ]
  }
 ],
 "metadata": {
  "kernelspec": {
   "display_name": "Python 3",
   "language": "python",
   "name": "python3"
  },
  "language_info": {
   "codemirror_mode": {
    "name": "ipython",
    "version": 3
   },
   "file_extension": ".py",
   "mimetype": "text/x-python",
   "name": "python",
   "nbconvert_exporter": "python",
   "pygments_lexer": "ipython3",
   "version": "3.6.8"
  }
 },
 "nbformat": 4,
 "nbformat_minor": 2
}
