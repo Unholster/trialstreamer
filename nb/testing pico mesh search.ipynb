{
 "cells": [
  {
   "cell_type": "code",
   "execution_count": 1,
   "metadata": {},
   "outputs": [],
   "source": [
    "from trialstreamer import dbutil, config\n",
    "import psycopg2\n",
    "import trialstreamer\n",
    "import json\n",
    "import tqdm\n",
    "from trialstreamer import minimap"
   ]
  },
  {
   "cell_type": "code",
   "execution_count": 44,
   "metadata": {},
   "outputs": [],
   "source": [
    "from psycopg2.extensions import QuotedString"
   ]
  },
  {
   "cell_type": "code",
   "execution_count": 47,
   "metadata": {},
   "outputs": [],
   "source": [
    "dbutil.db.rollback()"
   ]
  },
  {
   "cell_type": "code",
   "execution_count": 4,
   "metadata": {},
   "outputs": [],
   "source": [
    "cur = dbutil.db.cursor(cursor_factory=psycopg2.extras.RealDictCursor)\n"
   ]
  },
  {
   "cell_type": "code",
   "execution_count": 5,
   "metadata": {},
   "outputs": [],
   "source": [
    "import pickle\n",
    "\n",
    "with open('trialstreamer/data/drugs_from_class.pck', 'rb') as f:\n",
    "    drugs_from_class = pickle.load(f)\n",
    "    \n",
    "with open('trialstreamer/data/class_from_drug.pck', 'rb') as f:\n",
    "    class_from_drug = pickle.load(f)"
   ]
  },
  {
   "cell_type": "code",
   "execution_count": 6,
   "metadata": {},
   "outputs": [],
   "source": [
    "def nested_mesh(q):\n",
    "    out = []\n",
    "    for i in q:\n",
    "        if isinstance(i, str):\n",
    "            if i in ['OR', 'AND']:\n",
    "                out.append(i)\n",
    "            else:\n",
    "                terms = [t['mesh_term'] for t in minimap.minimap(i)]\n",
    "                if len(terms) == 1:\n",
    "                    out.append(terms[0])\n",
    "                else:\n",
    "                    out.append([\"OR\", *terms])\n",
    "        else:\n",
    "            out.append(nested_mesh(i))\n",
    "    return out\n",
    "\n",
    "def nested_subtrees(q):\n",
    "    \"\"\"\n",
    "    adds an 'or'ed subtree where needed\n",
    "    \"\"\"\n",
    "    out = []\n",
    "    for i in q:\n",
    "        if isinstance(i, str):\n",
    "            if i in ['OR', 'AND']:\n",
    "                out.append(i)\n",
    "            else:\n",
    "                terms = get_subtree(i)\n",
    "                if len(terms) == 1:\n",
    "                    out.append(terms[0])\n",
    "                else:\n",
    "                    out.append([\"OR\", *terms])\n",
    "        else:\n",
    "            out.append(nested_subtrees(i))\n",
    "    return out\n",
    "\n",
    "def nested_pa(q):\n",
    "    \"\"\"\n",
    "    if any terms are pharmacological actions, then add the component drugs to the search\n",
    "    \"\"\"\n",
    "    out = []\n",
    "    for i in q:\n",
    "        if isinstance(i, str):\n",
    "            if i in ['OR', 'AND']:\n",
    "                out.append(i)\n",
    "            elif i in drugs_from_class:\n",
    "                terms = [r['mesh_term'] for r in drugs_from_class[i]]\n",
    "                if len(terms) == 1:\n",
    "                    out.append(terms[0])\n",
    "                else:\n",
    "                    out.append([\"OR\", *terms])\n",
    "            else:\n",
    "                out.append(i)\n",
    "        else:\n",
    "            out.append(nested_pa(i))\n",
    "    return out   \n",
    "        \n",
    "def unravel(q):\n",
    "    return nested_pa(nested_subtrees(nested_mesh(q)))\n",
    "\n",
    "def queryize(q, pio='population'):\n",
    "    \"\"\"\n",
    "    deals with queries in format:\n",
    "    p=[\"Migraine\", [\"OR\", \"Migraine with Aura\", \"Migraine Disorders\"]]\n",
    "    \"\"\"\n",
    "    if isinstance(q, str):\n",
    "        return 'pp.{}_mesh @> \\'[{{\"mesh_term\": {}}}]\\''.format(pio, json.dumps(q))\n",
    "    elif isinstance(q, list):\n",
    "        out = []\n",
    "        for i in q:\n",
    "            if isinstance(i, str):\n",
    "                if i in ['OR', 'AND']:\n",
    "                    \n",
    "                    if len(q) < 3: # otherwise an AND/OR without anything to operate over\n",
    "                        return \"\"\n",
    "                    out2 = []\n",
    "                    for r in q[1:]:\n",
    "                        qr = queryize(r, pio=pio)\n",
    "                        if qr:\n",
    "                            out2.append(qr)                    \n",
    "                    out.extend(['(' + ' {} '.format(i).join(out2) + ')'])\n",
    "                    break                    \n",
    "                else:\n",
    "                    out.append(queryize(i, pio=pio))   \n",
    "\n",
    "            elif isinstance(i, list):\n",
    "                out.append(queryize(i, pio=pio))\n",
    "        return ' '.join(out)"
   ]
  },
  {
   "cell_type": "code",
   "execution_count": 7,
   "metadata": {},
   "outputs": [
    {
     "name": "stdout",
     "output_type": "stream",
     "text": [
      "'Bowen''s disease'\n"
     ]
    }
   ],
   "source": [
    "print(QuotedString(\"Bowen's disease\").getquoted().decode())"
   ]
  },
  {
   "cell_type": "code",
   "execution_count": 8,
   "metadata": {},
   "outputs": [
    {
     "ename": "NameError",
     "evalue": "name 'make_pico_q2' is not defined",
     "output_type": "error",
     "traceback": [
      "\u001b[0;31m---------------------------------------------------------------------------\u001b[0m",
      "\u001b[0;31mNameError\u001b[0m                                 Traceback (most recent call last)",
      "\u001b[0;32m<ipython-input-8-33205ca23300>\u001b[0m in \u001b[0;36m<module>\u001b[0;34m\u001b[0m\n\u001b[0;32m----> 1\u001b[0;31m \u001b[0mmake_pico_q2\u001b[0m\u001b[0;34m(\u001b[0m\u001b[0mp\u001b[0m\u001b[0;34m=\u001b[0m\u001b[0;34m\"squamous cell carcinoma\"\u001b[0m\u001b[0;34m,\u001b[0m \u001b[0mget_mesh\u001b[0m\u001b[0;34m=\u001b[0m\u001b[0;32mTrue\u001b[0m\u001b[0;34m,\u001b[0m \u001b[0msubtrees\u001b[0m\u001b[0;34m=\u001b[0m\u001b[0;32mFalse\u001b[0m\u001b[0;34m)\u001b[0m\u001b[0;34m\u001b[0m\u001b[0;34m\u001b[0m\u001b[0m\n\u001b[0m",
      "\u001b[0;31mNameError\u001b[0m: name 'make_pico_q2' is not defined"
     ]
    }
   ],
   "source": [
    "make_pico_q2(p=\"squamous cell carcinoma\", get_mesh=True, subtrees=False)"
   ]
  },
  {
   "cell_type": "code",
   "execution_count": 9,
   "metadata": {
    "scrolled": true
   },
   "outputs": [
    {
     "name": "stdout",
     "output_type": "stream",
     "text": [
      "((pp.population_mesh @> '[{\"mesh_term\": \"Calcium Channel Blockers\"}]' AND (pp.population_mesh @> '[{\"mesh_term\": \"Stroke\"}]' OR pp.population_mesh @> '[{\"mesh_term\": \"Stroke2\"}]')) OR pp.population_mesh @> '[{\"mesh_term\": \"Atrial Fib\"}]')\n"
     ]
    }
   ],
   "source": [
    "print(queryize([\"OR\", [\"AND\", \"Calcium Channel Blockers\", [\"OR\", \"Stroke\", \"Stroke2\"]], \"Atrial Fib\"]))"
   ]
  },
  {
   "cell_type": "code",
   "execution_count": 10,
   "metadata": {},
   "outputs": [],
   "source": [
    "def make_pico_q2(p=None, i=None, o=None, join_reg=False, join_pm=False, subtrees=False, get_mesh=False, pm_data=True):\n",
    "    \"\"\"Calcium Channel Blockers\n",
    "    deals with queries in format:\n",
    "    p=[\"Migraine\", [\"OR\", \"Migraine with Aura\", \"Migraine Disorders\"]]\n",
    "    \"\"\"\n",
    "    \n",
    "    if isinstance(p, str):\n",
    "        if p:\n",
    "            p = [p]\n",
    "        else:\n",
    "            p = None\n",
    "    if isinstance(i, str):\n",
    "        if i:\n",
    "            i = [i]\n",
    "        else:\n",
    "            i = None\n",
    "\n",
    "    if isinstance(o, str):\n",
    "        if o:\n",
    "            o = [o]\n",
    "        else:\n",
    "            o = None\n",
    "\n",
    "    if not (p or i or o):\n",
    "        raise Exception(\"No terms in the search\")\n",
    "    \n",
    "    pico_parts = []\n",
    "    \n",
    "    if p:\n",
    "        pico_parts.append(queryize(unravel(p), pio='population'))\n",
    "        \n",
    "    if i:\n",
    "        pico_parts.append(queryize(unravel(i), pio='interventions'))\n",
    "    if o:\n",
    "        pico_parts.append(queryize(unravel(o), pio='outcomes'))    \n",
    "    \n",
    "    parts = []\n",
    "    parts.append('select pp.pmid')\n",
    "    \n",
    "    if get_mesh:\n",
    "        parts.append(', pp.population_mesh, pp.interventions_mesh, pp.outcomes_mesh')\n",
    "    \n",
    "    if join_reg:\n",
    "        parts.append(', rl.regid')\n",
    "        \n",
    "    if join_pm:\n",
    "        parts.append(', pm.ti, pm.ab')\n",
    "    \n",
    "    if pm_data and join_pm:\n",
    "        parts.append(', pm.pm_data')\n",
    "            \n",
    "    parts.append('from pubmed_pico as pp')\n",
    "    \n",
    "    if join_reg:\n",
    "        parts.append(', registry_links as rl')\n",
    "        \n",
    "    if join_pm:\n",
    "        parts.append(', pubmed as pm')\n",
    "    \n",
    "    parts.append('where')\n",
    "\n",
    "    parts.append('(')\n",
    "    parts.append(') and ('.join(pico_parts))\n",
    "    parts.append(')')\n",
    "    if join_reg:\n",
    "        parts.append('and pp.pmid=rl.pmid')\n",
    "    \n",
    "    if join_pm:\n",
    "        parts.append('and pp.pmid=pm.pmid')\n",
    "    \n",
    "    return ' '.join(parts)\n",
    "    \n"
   ]
  },
  {
   "cell_type": "code",
   "execution_count": 11,
   "metadata": {},
   "outputs": [],
   "source": [
    "def make_pico_q(p=None, i=None, o=None, join_reg=False, join_pm=False, subtrees=True, get_mesh=False, pm_data=True):\n",
    "    \n",
    "    if isinstance(p, str):\n",
    "        p = [p]\n",
    "    if isinstance(i, str):\n",
    "        i = [i]\n",
    "    if isinstance(o, str):\n",
    "        o = [o]\n",
    "    \n",
    "    pico_parts = []\n",
    "    \n",
    "    if p:\n",
    "        if subtrees:            \n",
    "            pico_parts.extend([' or '.join(['pp.population_mesh @> \\'[{{\"mesh_term\": \"{}\"}}]\\''.format(r)\n",
    "                                           for r in get_subtree(pp)]) for pp in p])\n",
    "        else:\n",
    "            pico_parts.extend(['pp.population_mesh @> \\'[{{\"mesh_term\": \"{}\"}}]\\''.format(r) for r in p])\n",
    "    if i:\n",
    "        if subtrees:\n",
    "            pico_parts.extend([' or '.join(['pp.interventions_mesh @> \\'[{{\"mesh_term\": \"{}\"}}]\\''.format(r)\n",
    "                                           for r in get_subtree(ip)]) for ip in i])\n",
    "\n",
    "        else:\n",
    "            pico_parts.extend(['pp.interventions_mesh @> \\'[{{\"mesh_term\": \"{}\"}}]\\''.format(r) for r in i])\n",
    "    if o:\n",
    "        if subtrees:\n",
    "            pico_parts.extend([' or '.join(['pp.outcomes_mesh @> \\'[{{\"mesh_term\": \"{}\"}}]\\''.format(r)\n",
    "                                           for r in get_subtree(op)]) for op in o])\n",
    "        else:\n",
    "            pico_parts.extend(['pp.outcomes_mesh @> \\'[{{\"mesh_term\": \"{}\"}}]\\''.format(r) for r in o])\n",
    "    \n",
    "    \n",
    "    parts = []\n",
    "    parts.append('select pp.pmid')\n",
    "    \n",
    "    if get_mesh:\n",
    "        parts.append(', pp.population_mesh, pp.interventions_mesh, pp.outcomes_mesh')\n",
    "        \n",
    "    if pm_data and join_pm:\n",
    "        parts.append(', pm.pm_data')\n",
    "    \n",
    "    if join_reg:\n",
    "        parts.append(', rl.regid')\n",
    "        \n",
    "    if join_pm:\n",
    "        parts.append(', pm.ti, pm.ab')\n",
    "            \n",
    "    parts.append('from pubmed_pico as pp')\n",
    "    \n",
    "    if join_reg:\n",
    "        parts.append(', registry_links as rl')\n",
    "        \n",
    "    if join_pm:\n",
    "        parts.append(', pubmed as pm')\n",
    "    \n",
    "    parts.append('where')\n",
    "\n",
    "    parts.append('(')\n",
    "    parts.append(') and ('.join(pico_parts))\n",
    "    parts.append(')')\n",
    "    if join_reg:\n",
    "        parts.append('and pp.pmid=rl.pmid')\n",
    "    \n",
    "    if join_pm:\n",
    "        parts.append('and pp.pmid=pm.pmid')\n",
    "    \n",
    "    return ' '.join(parts)\n",
    "    \n"
   ]
  },
  {
   "cell_type": "code",
   "execution_count": 26,
   "metadata": {},
   "outputs": [],
   "source": [
    "\n",
    "def pmids(p=None, i=None, o=None):\n",
    "    sql = make_pico_q2(p=p, i=i, o=o)\n",
    "    cur.execute(sql)\n",
    "    records = cur.fetchall()\n",
    "    return [r['pmid'] for r in records]\n",
    " \n",
    "\n",
    "def linked_search(p=None, i=None, o=None, join_pm=False, join_reg=False, get_mesh=False, pm_data=False):    \n",
    "    sql = make_pico_q2(p=p, i=i, o=o, join_pm=join_pm, join_reg=join_reg, get_mesh=get_mesh, pm_data=pm_data)\n",
    "    cur.execute(sql)\n",
    "    records = cur.fetchall()\n",
    "    return list(records)\n",
    "    \n",
    "def pubmed(p=None, i=None, o=None, pm_data=False):\n",
    "    return linked_search(p=p, i=i, o=o, join_pm=True, pm_data=pm_data)\n",
    "\n",
    "def reg(p=None, i=None, o=None):\n",
    "    return linked_search(p=p, i=i, o=o, join_reg=True)\n",
    "\n",
    "    \n",
    "def pubmed_ti(p=None, i=None, o=None):\n",
    "    ab = pubmed(p, i, o)\n",
    "    return [r['ti'] for r in ab]\n",
    "    \n",
    "    \n",
    "def mesh(p=None, i=None, o=None):\n",
    "    ab = linked_search(p, i, o, get_mesh=True)\n",
    "    return ab\n"
   ]
  },
  {
   "cell_type": "code",
   "execution_count": 13,
   "metadata": {},
   "outputs": [],
   "source": [
    "import pickle\n",
    "with open('trialstreamer/data/minimap/subtrees.pck', 'rb') as f:\n",
    "    subtrees = pickle.load(f)\n",
    "\n",
    "def get_subtree(term):\n",
    "    out = set([term])\n",
    "    if term in subtrees:\n",
    "        for subterms in subtrees[term]:\n",
    "            out.update(get_subtree(subterms))\n",
    "    return list(out)"
   ]
  },
  {
   "cell_type": "code",
   "execution_count": 14,
   "metadata": {},
   "outputs": [
    {
     "name": "stdout",
     "output_type": "stream",
     "text": [
      "select pp.pmid from pubmed_pico as pp where ( pp.population_mesh @> '[{\"mesh_term\": \"squamous cell carcinoma\"}]' )\n"
     ]
    }
   ],
   "source": [
    "print(make_pico_q(p='squamous cell carcinoma'))"
   ]
  },
  {
   "cell_type": "code",
   "execution_count": 15,
   "metadata": {
    "scrolled": true
   },
   "outputs": [
    {
     "data": {
      "text/plain": [
       "'\"Bowen\\'s disease\"'"
      ]
     },
     "execution_count": 15,
     "metadata": {},
     "output_type": "execute_result"
    }
   ],
   "source": [
    "json.dumps(\"Bowen's disease\")"
   ]
  },
  {
   "cell_type": "code",
   "execution_count": 16,
   "metadata": {},
   "outputs": [],
   "source": [
    "terms = mesh(p=\"Acne\")"
   ]
  },
  {
   "cell_type": "code",
   "execution_count": 17,
   "metadata": {},
   "outputs": [
    {
     "data": {
      "text/plain": [
       "574"
      ]
     },
     "execution_count": 17,
     "metadata": {},
     "output_type": "execute_result"
    }
   ],
   "source": [
    "len(terms)"
   ]
  },
  {
   "cell_type": "code",
   "execution_count": 49,
   "metadata": {},
   "outputs": [
    {
     "data": {
      "text/plain": [
       "86"
      ]
     },
     "execution_count": 49,
     "metadata": {},
     "output_type": "execute_result"
    }
   ],
   "source": [
    "len(pubmed_ti(p=[\"stroke\"], i=[\"calcium channel blockers\"]))"
   ]
  },
  {
   "cell_type": "code",
   "execution_count": 588,
   "metadata": {},
   "outputs": [
    {
     "data": {
      "text/plain": [
       "[{'mesh_term': 'Migraine with Aura',\n",
       "  'mesh_ui': 'D020325',\n",
       "  'cui': 'C0154723',\n",
       "  'start_idx': 0,\n",
       "  'end_idx': 3,\n",
       "  'source_text': 'migraine with aura'}]"
      ]
     },
     "execution_count": 588,
     "metadata": {},
     "output_type": "execute_result"
    }
   ],
   "source": [
    "minimap.minimap(\"Migraine with aura\")"
   ]
  },
  {
   "cell_type": "code",
   "execution_count": 336,
   "metadata": {},
   "outputs": [
    {
     "data": {
      "text/plain": [
       "[('Acne', 572),\n",
       " ('Patient', 399),\n",
       " ('Acne Vulgaris', 191),\n",
       " ('Aging', 88),\n",
       " ('Cicatrix', 73),\n",
       " ('Female', 71),\n",
       " ('Women', 61),\n",
       " ('Therapeutics', 58),\n",
       " ('Atrophy', 49),\n",
       " ('Skin', 43),\n",
       " ('Male', 41),\n",
       " ('Adult', 34),\n",
       " ('Face', 32),\n",
       " ('Population Groups', 32),\n",
       " ('(GlyA)12', 30),\n",
       " ('Adolescent', 24),\n",
       " ('Asians', 18),\n",
       " ('(Asn-Ala-Asn-Pro)3', 18),\n",
       " ('(Gly)10', 18),\n",
       " ('Isotretinoin', 17),\n",
       " ('Men', 15),\n",
       " ('Researcher', 14),\n",
       " ('Dermatology', 14),\n",
       " ('Hirsutism', 13),\n",
       " ('Volunteers', 13),\n",
       " ('Mental Suffering', 13),\n",
       " ('Aged', 12),\n",
       " ('Koreans', 12),\n",
       " ('(Glc)4', 11),\n",
       " ('control', 10)]"
      ]
     },
     "execution_count": 336,
     "metadata": {},
     "output_type": "execute_result"
    }
   ],
   "source": [
    "# top co-occuring p's\n",
    "from collections import Counter\n",
    "\n",
    "\n",
    "c = Counter()\n",
    "for r in terms:\n",
    "    for t in r['population_mesh']:\n",
    "        c[t['mesh_term']]+= 1\n",
    "        \n",
    "c.most_common(30)"
   ]
  },
  {
   "cell_type": "code",
   "execution_count": 337,
   "metadata": {},
   "outputs": [
    {
     "data": {
      "text/plain": [
       "[('Acne', 236),\n",
       " ('Safety', 141),\n",
       " ('adverse effects', 81),\n",
       " ('Skin', 62),\n",
       " ('Erythemas', 62),\n",
       " ('Cicatrix', 48),\n",
       " ('Index', 43),\n",
       " ('Sebum', 41),\n",
       " ('Scales', 40),\n",
       " ('Therapeutics', 40),\n",
       " ('Researcher', 38),\n",
       " ('Patient', 31),\n",
       " ('Quality of Life', 29),\n",
       " ('Pain', 29),\n",
       " ('Overall', 25),\n",
       " ('Satisfaction', 23),\n",
       " ('Hyperpigmentation', 21),\n",
       " ('Burn', 20),\n",
       " ('Treatment Efficacy', 20),\n",
       " ('Serum', 19),\n",
       " ('Patient Satisfaction', 19),\n",
       " ('symptoms', 17),\n",
       " ('Pruritus', 17),\n",
       " ('Plasma', 17),\n",
       " ('Testosterone', 16),\n",
       " ('Immunoglobulin A', 16),\n",
       " ('Concentration', 15),\n",
       " ('Production', 14),\n",
       " ('Questionnaires', 14),\n",
       " ('Incidence', 13),\n",
       " ('Atrophy', 13),\n",
       " ('Visual Analog Scale', 13),\n",
       " ('Lipids', 12),\n",
       " ('Time', 12),\n",
       " ('Dermatology', 12),\n",
       " ('Bodily Secretions', 11),\n",
       " ('frequency', 11),\n",
       " ('Sex Hormone-Binding Globulin', 11),\n",
       " ('Laboratory', 10),\n",
       " ('Edema', 10),\n",
       " ('Water', 10),\n",
       " ('Physician', 10),\n",
       " ('Inflammations', 10),\n",
       " ('Androgens', 10),\n",
       " ('Dermatitis, Seborrheic', 10),\n",
       " ('Transients', 9),\n",
       " ('Gagging', 9),\n",
       " ('Blood', 9),\n",
       " ('DHEA', 9),\n",
       " ('Self-Assessment', 8)]"
      ]
     },
     "execution_count": 337,
     "metadata": {},
     "output_type": "execute_result"
    }
   ],
   "source": [
    "# top outcomes\n",
    "\n",
    "\n",
    "c = Counter()\n",
    "for r in terms:\n",
    "    for t in r['outcomes_mesh']:\n",
    "        c[t['mesh_term']]+= 1\n",
    "\n",
    "c.most_common(50)"
   ]
  },
  {
   "cell_type": "code",
   "execution_count": 338,
   "metadata": {},
   "outputs": [
    {
     "data": {
      "text/plain": [
       "[('Gels', 131),\n",
       " ('Placebos', 102),\n",
       " ('Therapeutics', 84),\n",
       " ('Benzoyl Peroxide', 83),\n",
       " ('Clindamycin', 59),\n",
       " ('Adapalene', 57),\n",
       " ('Isotretinoin', 52),\n",
       " ('Laser', 49),\n",
       " ('Tretinoin', 43),\n",
       " ('clindamycin phosphate', 42),\n",
       " ('Ethinyl Estradiol', 36),\n",
       " ('Light', 35),\n",
       " ('N2,N2-dimethylguanosine', 35),\n",
       " ('Population Groups', 30),\n",
       " ('Photochemotherapy', 27),\n",
       " ('5-(PAHA)', 27),\n",
       " ('3,3-dimethyl-1-phenyltriazene', 21),\n",
       " ('(SNOPPP)2', 21),\n",
       " ('Contraceptives, Oral', 20),\n",
       " ('Peroxides', 20)]"
      ]
     },
     "execution_count": 338,
     "metadata": {},
     "output_type": "execute_result"
    }
   ],
   "source": [
    "# top interventions\n",
    "c = Counter()\n",
    "for r in terms:\n",
    "    for t in r['interventions_mesh']:\n",
    "        c[t['mesh_term']]+= 1\n",
    "        \n",
    "c.most_common(20)"
   ]
  },
  {
   "cell_type": "code",
   "execution_count": 28,
   "metadata": {},
   "outputs": [],
   "source": [
    "def get_simple_cite(pm_data_row):\n",
    "    if 'authors' in pm_data_row and pm_data_row['authors']:\n",
    "        return \"{} {}, {} ({})\".format(pm_data_row['authors'][0]['LastName'], pm_data_row['authors'][0]['Initials'], pm_data_row['year'], pm_data_row['pmid'])\n",
    "    else:\n",
    "        return pm_data_row['pmid']"
   ]
  },
  {
   "cell_type": "code",
   "execution_count": 36,
   "metadata": {},
   "outputs": [
    {
     "data": {
      "text/plain": [
       "['Reproductive, lifestyle, and anthropometric risk factors for cancer in elderly women.',\n",
       " 'Folate, vitamin B6, multivitamin supplements, and colorectal cancer risk in women.',\n",
       " 'Cyclooxygenase-2 expression and recurrence of colorectal adenomas: effect of aspirin chemoprevention.',\n",
       " 'Effect of daily aspirin on long-term risk of death due to cancer: analysis of individual patient data from randomised trials.',\n",
       " \"Aspirin use and colorectal cancer: post-trial follow-up data from the Physicians' Health Study.\",\n",
       " 'Alternate-day, low-dose aspirin and cancer risk: long-term observational follow-up of a randomized trial.',\n",
       " 'Nonsteroidal anti-inflammatory drug use and protection against colorectal cancer in women.',\n",
       " 'Preventive effects of low-dose aspirin on colorectal adenoma growth in patients with familial adenomatous polyposis: double-blind, randomized clinical trial.',\n",
       " \"Low-dose aspirin in the primary prevention of cancer: the Women's Health Study: a randomized controlled trial.\",\n",
       " 'Obesity, Aspirin, and Risk of Colorectal Cancer in Carriers of Hereditary Colorectal Cancer: A Prospective Investigation in the CAPP2 Study.',\n",
       " 'Primary prevention of colorectal cancer with low-dose aspirin in combination with endoscopy: a cost-effectiveness analysis.',\n",
       " 'Effect of a Single Aspirin Dose Prior to Fecal Immunochemical Testing on Test Sensitivity for Detecting Advanced Colorectal Neoplasms: A Randomized Clinical Trial.',\n",
       " 'Low-dose aspirin and incidence of colorectal tumors in a randomized trial.',\n",
       " 'Dietary fat and fatty acids and risk of colorectal cancer in women.',\n",
       " 'APACC, a French prospective study on aspirin efficacy in reducing colorectal adenoma recurrence: design and baseline findings.',\n",
       " 'Long-term effect of aspirin on cancer risk in carriers of hereditary colorectal cancer: an analysis from the CAPP2 randomised controlled trial.',\n",
       " 'The utility of Aspirin in Dukes C and High Risk Dukes B Colorectal cancer--the ASCOLT study: study protocol for a randomized controlled trial.',\n",
       " 'Individualised prediction of alternate-day aspirin treatment effects on the combined risk of cancer, cardiovascular disease and gastrointestinal bleeding in healthy women.',\n",
       " 'Colorectal cancer after start of nonsteroidal anti-inflammatory drug use.',\n",
       " \"Interaction between Nonsteroidal Anti-inflammatory Drugs and Low-fat Dietary Intervention on Colorectal Cancer Incidence; the Women's Health Initiative (WHI) Dietary Modification Trial.\",\n",
       " \"Inflammatory biomarkers, aspirin, and risk of colorectal cancer: Findings from the physicians' health study.\",\n",
       " 'Effect of aspirin on prostaglandin E2 formation and transforming growth factor alpha expression in human rectal mucosa from individuals with a history of adenomatous polyps of the colon.',\n",
       " 'Long-term effect of aspirin on colorectal cancer incidence and mortality: 20-year follow-up of five randomised trials.',\n",
       " 'Long-term effect of resistant starch on cancer risk in carriers of hereditary colorectal cancer: an analysis from the CAPP2 randomised controlled trial.',\n",
       " 'A 22-year prospective study of fish, n-3 fatty acid intake, and colorectal cancer risk in men.',\n",
       " 'The ASAMET trial: a randomized, phase II, double-blind, placebo-controlled, multicenter, 2\\u2009×\\u20092 factorial biomarker study of tertiary prevention with low-dose aspirin and metformin in stage I-III colorectal cancer patients.',\n",
       " 'Celecoxib: new indication. Colorectal cancer: no preventive benefit.']"
      ]
     },
     "execution_count": 36,
     "metadata": {},
     "output_type": "execute_result"
    }
   ],
   "source": [
    "pubmed_ti(i='aspirin', o='colorectal cancer')"
   ]
  },
  {
   "cell_type": "code",
   "execution_count": 33,
   "metadata": {
    "scrolled": true
   },
   "outputs": [
    {
     "name": "stdout",
     "output_type": "stream",
     "text": [
      "1731418\n",
      "Afshari D, 2013 (22749947)\n",
      "Ahmed N, 2000 (10835440)\n",
      "Ahmed N, 2001 (11350571)\n",
      "Ameriso SF, 1992 (26486430)\n",
      "Azcona A, 1990 (2150642)\n",
      "Bogousslavsky J, 1990 (2404768)\n",
      "Fagan SC, 1988 (3354029)\n",
      "Fischhof PK, 1993 (7794292)\n",
      "Fogelholm R, 2000 (10773644)\n",
      "Franke CL, 1996 (8825274)\n",
      "Gaab MR, 1985 (4010872)\n",
      "Gelmers HJ, 1987 (2433932)\n",
      "Gelmers HJ, 1988 (3275894)\n",
      "Gelmers HJ, 1990 (2260153)\n",
      "Heiss WD, 1990 (2298828)\n",
      "Holthoff V, 1990 (2260157)\n",
      "Horn J, 2001 (11157183)\n",
      "Kaste M, 1994 (8023348)\n",
      "Kim JS, 2011 (21316855)\n",
      "Kirwan BA, 2007 (17509947)\n",
      "Lawlor B, 2014 (25300460)\n",
      "Lawlor B, 2018 (30248105)\n",
      "Limburg M, 1990 (2358004)\n",
      "Lisk DR, 1993 (8352673)\n",
      "Liu L, 1998 (9869017)\n",
      "Liu LS, 1989 (2505975)\n",
      "Martínez-Vila E, 1990 (2195714)\n",
      "Muir KW, 1998 (9596235)\n",
      "Nag D, 1998 (10874361)\n",
      "Novosel D, 1994 (7898083)\n",
      "Paci A, 1989 (2683557)\n",
      "Pantoni L, 2000 (10831772)\n",
      "Pantoni L, 2000 (10831773)\n",
      "Perez I, 1998 (9391222)\n",
      "Poole-Wilson PA, 2007 (17573989)\n",
      "Saver JL, 2014 (24444116)\n",
      "Saver JL, 2015 (25651247)\n",
      "Schrier RW, 2002 (11849464)\n",
      "Staessen JA, 1997 (9297994)\n",
      "Tsujikawa S, 2019 (30656404)\n",
      "Wang P, 2012 (22950711)\n",
      "Weihrauch TR, 1999 (10367099)\n"
     ]
    }
   ],
   "source": [
    "results = pubmed(p='Stroke', i=[\"AND\", \"Calcium channel blockers\", [\"OR\", \"placebo\", \"control\"]], pm_data=True)\n",
    "\n",
    "papers = []\n",
    "\n",
    "for r in results:\n",
    "    papers.append(get_simple_cite(r['pm_data']))\n",
    "    \n",
    "papers.sort()\n",
    "\n",
    "print('\\n'.join(papers))"
   ]
  },
  {
   "cell_type": "code",
   "execution_count": 613,
   "metadata": {},
   "outputs": [
    {
     "data": {
      "text/plain": [
       "43"
      ]
     },
     "execution_count": 613,
     "metadata": {},
     "output_type": "execute_result"
    }
   ],
   "source": [
    "len(papers)"
   ]
  },
  {
   "cell_type": "code",
   "execution_count": 608,
   "metadata": {
    "scrolled": true
   },
   "outputs": [
    {
     "data": {
      "text/plain": [
       "{'pmid': '7631339',\n",
       " 'ti': 'Hyperbaric oxygen in the treatment of acute ischemic stroke. A double-blind pilot study.',\n",
       " 'ab': \"BACKGROUND AND PURPOSE\\n\\n\\nThe effects of hyperbaric oxygen (HBO) therapy on humans are uncertain. Our study aims first to outline the practical aspects and the safety of HBO treatment and then to evaluate the effect of HBO on long-term disability.\\nMETHODS\\n\\n\\nPatients who experienced middle cerebral artery occlusion and were seen within 24 hours of onset were randomized to receive either active (HBO) or sham (air) treatment. The HBO patients were exposed daily to 40 minutes at 1.5 atmospheres absolute for a total of 10 dives. We used the Orgogozo scale to establish a pretreatment functional level. Changes in the Orgogozo scale score at 6 months and 1 year after therapy were used to assess the therapeutic efficacy of HBO. In addition, we used the Rankin scale and our own 10-point scale to assess long term-disability at 6 months and 1 year. Two sample t tests and 95% confidence intervals were used to compare the mean differences between the two treatment groups. Student's two-tailed test was used to compare the differences between pretherapeutic and posttherapeutic scores at 6 months and 1 year in the two treatment groups.\\nRESULTS\\n\\n\\nOver the 3 years of study enrollment, 34 patients were randomized, 17 to hyperbaric treatment with air and 17 to hyperbaric treatment with 100% oxygen. There was no significant difference at inclusion between groups regarding age, time from stroke onset to randomization, and Orgogozo scale scores. Neurological deterioration occurred during the first week in 4 patients in the sham group, 3 of whom died; this worsening was clearly related to the ischemic damage. Treatment was also discontinued for 3 patients in the HBO group who experienced myocardial infarction, a worsening related to the ischemic process, and claustrophobia. Therefore, 27 patients (13 in the sham group and 14 in the HBO group) completed a full course of therapy. The mean score of the HBO group was significantly better on the Orgogozo scale at 1 year (P < .02). However, the difference at 1 year between pretherapeutic and posttherapeutic scores was not significantly different in the two groups (P < .16). Moreover, no statistically significant improvement was observed in the HBO group at 6 months and 1 year according to Rankin score (P < .78) and our own 10-point scale (P < .50).\\nCONCLUSIONS\\n\\n\\nAlthough the small number of patients in each group precludes any conclusion regarding the potential deleterious effect of HBO, we did not observe the major side effects usually related to HBO. Accordingly, it can be assumed that hyperbaric oxygen might be safe. We hypothesize that HBO might improve outcome after stroke, as we detected an outcome trend favoring HBO therapy. A large randomized trial might be required to address the efficacy of this therapy.\",\n",
       " 'pm_data': {'dois': [],\n",
       "  'mesh': ['Adult',\n",
       "   'Aged',\n",
       "   'Brain Ischemia',\n",
       "   'Double-Blind Method',\n",
       "   'Female',\n",
       "   'Follow-Up Studies',\n",
       "   'Humans',\n",
       "   'Hyperbaric Oxygenation',\n",
       "   'Male',\n",
       "   'Middle Aged',\n",
       "   'Oxygen',\n",
       "   'Pilot Projects'],\n",
       "  'pmid': '7631339',\n",
       "  'ptyp': ['Clinical Trial', 'Journal Article', 'Randomized Controlled Trial'],\n",
       "  'year': '1995',\n",
       "  'issue': '8',\n",
       "  'month': 'Aug',\n",
       "  'pages': {'page_to': '1372', 'page_from': '1369'},\n",
       "  'title': 'Hyperbaric oxygen in the treatment of acute ischemic stroke. A double-blind pilot study.',\n",
       "  'status': 'MEDLINE',\n",
       "  'volume': '26',\n",
       "  'authors': [{'ForeName': 'N',\n",
       "    'Initials': 'N',\n",
       "    'LastName': 'Nighoghossian',\n",
       "    'Affiliation': 'Department of Neurology, Cerebrovascular Disease, Neurological Hospital, Lyon, France.'},\n",
       "   {'ForeName': 'P',\n",
       "    'Initials': 'P',\n",
       "    'LastName': 'Trouillas',\n",
       "    'Affiliation': ''},\n",
       "   {'ForeName': 'P',\n",
       "    'Initials': 'P',\n",
       "    'LastName': 'Adeleine',\n",
       "    'Affiliation': ''},\n",
       "   {'ForeName': 'F',\n",
       "    'Initials': 'F',\n",
       "    'LastName': 'Salord',\n",
       "    'Affiliation': ''}],\n",
       "  'journal': 'Stroke',\n",
       "  'abstract': [{'text': 'The effects of hyperbaric oxygen (HBO) therapy on humans are uncertain. Our study aims first to outline the practical aspects and the safety of HBO treatment and then to evaluate the effect of HBO on long-term disability.',\n",
       "    'header': 'BACKGROUND AND PURPOSE'},\n",
       "   {'text': \"Patients who experienced middle cerebral artery occlusion and were seen within 24 hours of onset were randomized to receive either active (HBO) or sham (air) treatment. The HBO patients were exposed daily to 40 minutes at 1.5 atmospheres absolute for a total of 10 dives. We used the Orgogozo scale to establish a pretreatment functional level. Changes in the Orgogozo scale score at 6 months and 1 year after therapy were used to assess the therapeutic efficacy of HBO. In addition, we used the Rankin scale and our own 10-point scale to assess long term-disability at 6 months and 1 year. Two sample t tests and 95% confidence intervals were used to compare the mean differences between the two treatment groups. Student's two-tailed test was used to compare the differences between pretherapeutic and posttherapeutic scores at 6 months and 1 year in the two treatment groups.\",\n",
       "    'header': 'METHODS'},\n",
       "   {'text': 'Over the 3 years of study enrollment, 34 patients were randomized, 17 to hyperbaric treatment with air and 17 to hyperbaric treatment with 100% oxygen. There was no significant difference at inclusion between groups regarding age, time from stroke onset to randomization, and Orgogozo scale scores. Neurological deterioration occurred during the first week in 4 patients in the sham group, 3 of whom died; this worsening was clearly related to the ischemic damage. Treatment was also discontinued for 3 patients in the HBO group who experienced myocardial infarction, a worsening related to the ischemic process, and claustrophobia. Therefore, 27 patients (13 in the sham group and 14 in the HBO group) completed a full course of therapy. The mean score of the HBO group was significantly better on the Orgogozo scale at 1 year (P < .02). However, the difference at 1 year between pretherapeutic and posttherapeutic scores was not significantly different in the two groups (P < .16). Moreover, no statistically significant improvement was observed in the HBO group at 6 months and 1 year according to Rankin score (P < .78) and our own 10-point scale (P < .50).',\n",
       "    'header': 'RESULTS'},\n",
       "   {'text': 'Although the small number of patients in each group precludes any conclusion regarding the potential deleterious effect of HBO, we did not observe the major side effects usually related to HBO. Accordingly, it can be assumed that hyperbaric oxygen might be safe. We hypothesize that HBO might improve outcome after stroke, as we detected an outcome trend favoring HBO therapy. A large randomized trial might be required to address the efficacy of this therapy.',\n",
       "    'header': 'CONCLUSIONS'}],\n",
       "  'registry_ids': [],\n",
       "  'journal_abbrv': 'Stroke',\n",
       "  'indexing_method': 'Human',\n",
       "  'abstract_plaintext': \"BACKGROUND AND PURPOSE\\n\\n\\nThe effects of hyperbaric oxygen (HBO) therapy on humans are uncertain. Our study aims first to outline the practical aspects and the safety of HBO treatment and then to evaluate the effect of HBO on long-term disability.\\nMETHODS\\n\\n\\nPatients who experienced middle cerebral artery occlusion and were seen within 24 hours of onset were randomized to receive either active (HBO) or sham (air) treatment. The HBO patients were exposed daily to 40 minutes at 1.5 atmospheres absolute for a total of 10 dives. We used the Orgogozo scale to establish a pretreatment functional level. Changes in the Orgogozo scale score at 6 months and 1 year after therapy were used to assess the therapeutic efficacy of HBO. In addition, we used the Rankin scale and our own 10-point scale to assess long term-disability at 6 months and 1 year. Two sample t tests and 95% confidence intervals were used to compare the mean differences between the two treatment groups. Student's two-tailed test was used to compare the differences between pretherapeutic and posttherapeutic scores at 6 months and 1 year in the two treatment groups.\\nRESULTS\\n\\n\\nOver the 3 years of study enrollment, 34 patients were randomized, 17 to hyperbaric treatment with air and 17 to hyperbaric treatment with 100% oxygen. There was no significant difference at inclusion between groups regarding age, time from stroke onset to randomization, and Orgogozo scale scores. Neurological deterioration occurred during the first week in 4 patients in the sham group, 3 of whom died; this worsening was clearly related to the ischemic damage. Treatment was also discontinued for 3 patients in the HBO group who experienced myocardial infarction, a worsening related to the ischemic process, and claustrophobia. Therefore, 27 patients (13 in the sham group and 14 in the HBO group) completed a full course of therapy. The mean score of the HBO group was significantly better on the Orgogozo scale at 1 year (P < .02). However, the difference at 1 year between pretherapeutic and posttherapeutic scores was not significantly different in the two groups (P < .16). Moreover, no statistically significant improvement was observed in the HBO group at 6 months and 1 year according to Rankin score (P < .78) and our own 10-point scale (P < .50).\\nCONCLUSIONS\\n\\n\\nAlthough the small number of patients in each group precludes any conclusion regarding the potential deleterious effect of HBO, we did not observe the major side effects usually related to HBO. Accordingly, it can be assumed that hyperbaric oxygen might be safe. We hypothesize that HBO might improve outcome after stroke, as we detected an outcome trend favoring HBO therapy. A large randomized trial might be required to address the efficacy of this therapy.\"}}"
      ]
     },
     "execution_count": 608,
     "metadata": {},
     "output_type": "execute_result"
    }
   ],
   "source": [
    "pubmed(p='Stroke', pm_data=True)[0]"
   ]
  },
  {
   "cell_type": "code",
   "execution_count": 211,
   "metadata": {},
   "outputs": [],
   "source": [
    "from trialstreamer import minimap"
   ]
  },
  {
   "cell_type": "code",
   "execution_count": 440,
   "metadata": {},
   "outputs": [
    {
     "data": {
      "text/plain": [
       "[{'mesh_term': 'Virtual Reality',\n",
       "  'mesh_ui': 'D000076142',\n",
       "  'cui': 'C0871582',\n",
       "  'start_idx': 0,\n",
       "  'end_idx': 2,\n",
       "  'source_text': 'virtual reality'}]"
      ]
     },
     "execution_count": 440,
     "metadata": {},
     "output_type": "execute_result"
    }
   ],
   "source": [
    "minimap.minimap('Virtual Reality')"
   ]
  },
  {
   "cell_type": "code",
   "execution_count": 459,
   "metadata": {},
   "outputs": [
    {
     "data": {
      "text/plain": [
       "[{'mesh_ui': 'C038806', 'mesh_term': '1,4-dihydropyridine'},\n",
       " {'mesh_ui': 'C063159',\n",
       "  'mesh_term': '1-(2-(3-(4-methoxyphenyl)propoxy)-4-methoxyphenylethyl)-1H-imidazole'},\n",
       " {'mesh_ui': 'C011786',\n",
       "  'mesh_term': '2-(4-(dimethylamino)styryl)-1-methylpyridinium'},\n",
       " {'mesh_ui': 'C006014',\n",
       "  'mesh_term': '8-(N,N-diethylamino)octyl-3,4,5-trimethoxybenzoate'},\n",
       " {'mesh_ui': 'C064970', 'mesh_term': 'AE0047'},\n",
       " {'mesh_ui': 'C119283', 'mesh_term': 'AH 1058'},\n",
       " {'mesh_ui': 'D017311', 'mesh_term': 'Amlodipine'},\n",
       " {'mesh_ui': 'D000068558',\n",
       "  'mesh_term': 'Amlodipine Besylate, Olmesartan Medoxomil Drug Combination'},\n",
       " {'mesh_ui': 'C487936',\n",
       "  'mesh_term': 'amlodipine, atorvastatin drug combination'},\n",
       " {'mesh_ui': 'D000676', 'mesh_term': 'Amrinone'},\n",
       " {'mesh_ui': 'C078814', 'mesh_term': 'anandamide'},\n",
       " {'mesh_ui': 'C045313', 'mesh_term': 'anipamil'},\n",
       " {'mesh_ui': 'C086123', 'mesh_term': 'azimilide'},\n",
       " {'mesh_ui': 'D001537', 'mesh_term': 'Bencyclane'},\n",
       " {'mesh_ui': 'C061004', 'mesh_term': 'benidipine'},\n",
       " {'mesh_ui': 'D015764', 'mesh_term': 'Bepridil'},\n",
       " {'mesh_ui': 'C027870', 'mesh_term': 'berbamine'},\n",
       " {'mesh_ui': 'C067971', 'mesh_term': 'calciseptine'},\n",
       " {'mesh_ui': 'C004645', 'mesh_term': 'canadine'},\n",
       " {'mesh_ui': 'C062058', 'mesh_term': 'carboxyamido-triazole'},\n",
       " {'mesh_ui': 'C000957', 'mesh_term': 'caroverine'},\n",
       " {'mesh_ui': 'D000077261', 'mesh_term': 'Carvedilol'},\n",
       " {'mesh_ui': 'C054179', 'mesh_term': 'CD 349'},\n",
       " {'mesh_ui': 'C065927', 'mesh_term': 'cilnidipine'},\n",
       " {'mesh_ui': 'D002936', 'mesh_term': 'Cinnarizine'},\n",
       " {'mesh_ui': 'C056595', 'mesh_term': 'clentiazem'},\n",
       " {'mesh_ui': 'C118563', 'mesh_term': 'clevidipine'},\n",
       " {'mesh_ui': 'D020916', 'mesh_term': 'Conotoxins'},\n",
       " {'mesh_ui': 'C053423', 'mesh_term': 'Conus magus toxin'},\n",
       " {'mesh_ui': 'C034600', 'mesh_term': 'darodipine'},\n",
       " {'mesh_ui': 'C035934', 'mesh_term': 'dauricine'},\n",
       " {'mesh_ui': 'C055885', 'mesh_term': 'devapamil'},\n",
       " {'mesh_ui': 'D004110', 'mesh_term': 'Diltiazem'},\n",
       " {'mesh_ui': 'C083946', 'mesh_term': 'dotarizine'},\n",
       " {'mesh_ui': 'C066425', 'mesh_term': 'efonidipine'},\n",
       " {'mesh_ui': 'C052752', 'mesh_term': 'emopamil'},\n",
       " {'mesh_ui': 'C020407', 'mesh_term': 'enpiperate'},\n",
       " {'mesh_ui': 'C030848', 'mesh_term': 'eperisone'},\n",
       " {'mesh_ui': 'C030532', 'mesh_term': 'falipamil'},\n",
       " {'mesh_ui': 'C059901', 'mesh_term': 'fantofarone'},\n",
       " {'mesh_ui': 'C049347', 'mesh_term': 'fasudil'},\n",
       " {'mesh_ui': 'D015736', 'mesh_term': 'Felodipine'},\n",
       " {'mesh_ui': 'C001209', 'mesh_term': 'fenamic acid'},\n",
       " {'mesh_ui': 'D005275', 'mesh_term': 'Fendiline'},\n",
       " {'mesh_ui': 'D005444', 'mesh_term': 'Flunarizine'},\n",
       " {'mesh_ui': 'C035950', 'mesh_term': 'fosfedil'},\n",
       " {'mesh_ui': 'C071920', 'mesh_term': 'FTX, spider toxin'},\n",
       " {'mesh_ui': 'D005711', 'mesh_term': 'Gallopamil'},\n",
       " {'mesh_ui': 'C079053', 'mesh_term': 'IH 764-3'},\n",
       " {'mesh_ui': 'D017275', 'mesh_term': 'Isradipine'},\n",
       " {'mesh_ui': 'C051271', 'mesh_term': 'KT 362'},\n",
       " {'mesh_ui': 'C060285', 'mesh_term': 'lacidipine'},\n",
       " {'mesh_ui': 'D000077213', 'mesh_term': 'Lamotrigine'},\n",
       " {'mesh_ui': 'C060343', 'mesh_term': 'lercanidipine'},\n",
       " {'mesh_ui': 'D008013', 'mesh_term': 'Lidoflazine'},\n",
       " {'mesh_ui': 'C052424', 'mesh_term': 'lomerizine'},\n",
       " {'mesh_ui': 'D008278', 'mesh_term': 'Magnesium Sulfate'},\n",
       " {'mesh_ui': 'C054218', 'mesh_term': 'manidipine'},\n",
       " {'mesh_ui': 'C045673', 'mesh_term': 'manoalide'},\n",
       " {'mesh_ui': 'C050699', 'mesh_term': 'mepirodipine'},\n",
       " {'mesh_ui': 'D020748', 'mesh_term': 'Mibefradil'},\n",
       " {'mesh_ui': 'C067818', 'mesh_term': 'monatepil'},\n",
       " {'mesh_ui': 'C043204',\n",
       "  'mesh_term': 'N-(2-guanidinoethyl)-5-isoquinolinesulfonamide'},\n",
       " {'mesh_ui': 'C064357', 'mesh_term': 'naftopidil'},\n",
       " {'mesh_ui': 'D009529', 'mesh_term': 'Nicardipine'},\n",
       " {'mesh_ui': 'D009543', 'mesh_term': 'Nifedipine'},\n",
       " {'mesh_ui': 'C054074', 'mesh_term': 'niguldipine'},\n",
       " {'mesh_ui': 'C019497', 'mesh_term': 'niludipin'},\n",
       " {'mesh_ui': 'C035100', 'mesh_term': 'nilvadipine'},\n",
       " {'mesh_ui': 'D009553', 'mesh_term': 'Nimodipine'},\n",
       " {'mesh_ui': 'D015737', 'mesh_term': 'Nisoldipine'},\n",
       " {'mesh_ui': 'D009568', 'mesh_term': 'Nitrendipine'},\n",
       " {'mesh_ui': 'C484287', 'mesh_term': 'NNC 55-0396'},\n",
       " {'mesh_ui': 'C016904', 'mesh_term': 'norverapamil'},\n",
       " {'mesh_ui': 'C025589', 'mesh_term': 'ochratoxin A'},\n",
       " {'mesh_ui': 'C013934', 'mesh_term': 'octylonium'},\n",
       " {'mesh_ui': 'D020867', 'mesh_term': 'omega-Agatoxin IVA'},\n",
       " {'mesh_ui': 'D020866', 'mesh_term': 'omega-Conotoxin GVIA'},\n",
       " {'mesh_ui': 'C075851', 'mesh_term': 'omega-conotoxin-MVIIC'},\n",
       " {'mesh_ui': 'D020960', 'mesh_term': 'omega-Conotoxins'},\n",
       " {'mesh_ui': 'C046627', 'mesh_term': 'osthol'},\n",
       " {'mesh_ui': 'C053783', 'mesh_term': 'oxodipine'},\n",
       " {'mesh_ui': 'D010480', 'mesh_term': 'Perhexiline'},\n",
       " {'mesh_ui': 'C013199', 'mesh_term': 'pinaverium'},\n",
       " {'mesh_ui': 'C032727', 'mesh_term': 'piperidine'},\n",
       " {'mesh_ui': 'C049834', 'mesh_term': 'PN 202-791'},\n",
       " {'mesh_ui': 'C048161', 'mesh_term': 'pranidipine'},\n",
       " {'mesh_ui': 'D000069583', 'mesh_term': 'Pregabalin'},\n",
       " {'mesh_ui': 'D011299', 'mesh_term': 'Prenylamine'},\n",
       " {'mesh_ui': 'C054551', 'mesh_term': 'R 56865'},\n",
       " {'mesh_ui': 'D000068296', 'mesh_term': 'Risedronic Acid'},\n",
       " {'mesh_ui': 'C045912', 'mesh_term': 'ryodipine'},\n",
       " {'mesh_ui': 'C045796', 'mesh_term': 'SAN 202791'},\n",
       " {'mesh_ui': 'C064356', 'mesh_term': 'sesamodil'},\n",
       " {'mesh_ui': 'C000626599', 'mesh_term': 'SOR-C13'},\n",
       " {'mesh_ui': 'C010513', 'mesh_term': 'stepholidine'},\n",
       " {'mesh_ui': 'C105354', 'mesh_term': 'temiverine'},\n",
       " {'mesh_ui': 'C010637', 'mesh_term': 'terodiline'},\n",
       " {'mesh_ui': 'C014215', 'mesh_term': 'tetrahydropalmatine'},\n",
       " {'mesh_ui': 'C009438', 'mesh_term': 'tetrandrine'},\n",
       " {'mesh_ui': 'D013976', 'mesh_term': 'Tiapamil Hydrochloride'},\n",
       " {'mesh_ui': 'C009500', 'mesh_term': 'tolfenamic acid'},\n",
       " {'mesh_ui': 'C012293', 'mesh_term': 'tranilast'},\n",
       " {'mesh_ui': 'C000630279', 'mesh_term': 'tylerdipine hydrochloride'},\n",
       " {'mesh_ui': 'D014700', 'mesh_term': 'Verapamil'},\n",
       " {'mesh_ui': 'C070417', 'mesh_term': 'Win 55212-2'},\n",
       " {'mesh_ui': 'C000629484', 'mesh_term': 'Z160'},\n",
       " {'mesh_ui': 'C000629485', 'mesh_term': 'Z944'},\n",
       " {'mesh_ui': 'C078452', 'mesh_term': 'ziconotide'},\n",
       " {'mesh_ui': 'D000078305', 'mesh_term': 'Zonisamide'}]"
      ]
     },
     "execution_count": 459,
     "metadata": {},
     "output_type": "execute_result"
    }
   ],
   "source": [
    "drugs_from_class['Calcium Channel Blockers']"
   ]
  },
  {
   "cell_type": "code",
   "execution_count": 76,
   "metadata": {},
   "outputs": [
    {
     "ename": "ProgrammingError",
     "evalue": "syntax error at or near \"s\"\nLINE 1: ...re ( pp.population_mesh @> '[{\"mesh_term\": \"Bowen's Disease\"...\n                                                             ^\n",
     "output_type": "error",
     "traceback": [
      "\u001b[0;31m---------------------------------------------------------------------------\u001b[0m",
      "\u001b[0;31mProgrammingError\u001b[0m                          Traceback (most recent call last)",
      "\u001b[0;32m<ipython-input-76-ec2bd821179a>\u001b[0m in \u001b[0;36m<module>\u001b[0;34m\u001b[0m\n\u001b[0;32m----> 1\u001b[0;31m \u001b[0mpubmed_ti\u001b[0m\u001b[0;34m(\u001b[0m\u001b[0mp\u001b[0m\u001b[0;34m=\u001b[0m\u001b[0;34m'Carcinoma, Squamous Cell'\u001b[0m\u001b[0;34m)\u001b[0m\u001b[0;34m\u001b[0m\u001b[0;34m\u001b[0m\u001b[0m\n\u001b[0m",
      "\u001b[0;32m<ipython-input-70-80883db31b9e>\u001b[0m in \u001b[0;36mpubmed_ti\u001b[0;34m(p, i, o)\u001b[0m\n\u001b[1;32m     21\u001b[0m \u001b[0;34m\u001b[0m\u001b[0m\n\u001b[1;32m     22\u001b[0m \u001b[0;32mdef\u001b[0m \u001b[0mpubmed_ti\u001b[0m\u001b[0;34m(\u001b[0m\u001b[0mp\u001b[0m\u001b[0;34m=\u001b[0m\u001b[0;32mNone\u001b[0m\u001b[0;34m,\u001b[0m \u001b[0mi\u001b[0m\u001b[0;34m=\u001b[0m\u001b[0;32mNone\u001b[0m\u001b[0;34m,\u001b[0m \u001b[0mo\u001b[0m\u001b[0;34m=\u001b[0m\u001b[0;32mNone\u001b[0m\u001b[0;34m)\u001b[0m\u001b[0;34m:\u001b[0m\u001b[0;34m\u001b[0m\u001b[0;34m\u001b[0m\u001b[0m\n\u001b[0;32m---> 23\u001b[0;31m     \u001b[0mab\u001b[0m \u001b[0;34m=\u001b[0m \u001b[0mpubmed\u001b[0m\u001b[0;34m(\u001b[0m\u001b[0mp\u001b[0m\u001b[0;34m,\u001b[0m \u001b[0mi\u001b[0m\u001b[0;34m,\u001b[0m \u001b[0mo\u001b[0m\u001b[0;34m)\u001b[0m\u001b[0;34m\u001b[0m\u001b[0;34m\u001b[0m\u001b[0m\n\u001b[0m\u001b[1;32m     24\u001b[0m     \u001b[0;32mreturn\u001b[0m \u001b[0;34m[\u001b[0m\u001b[0mr\u001b[0m\u001b[0;34m[\u001b[0m\u001b[0;34m'ti'\u001b[0m\u001b[0;34m]\u001b[0m \u001b[0;32mfor\u001b[0m \u001b[0mr\u001b[0m \u001b[0;32min\u001b[0m \u001b[0mab\u001b[0m\u001b[0;34m]\u001b[0m\u001b[0;34m\u001b[0m\u001b[0;34m\u001b[0m\u001b[0m\n\u001b[1;32m     25\u001b[0m \u001b[0;34m\u001b[0m\u001b[0m\n",
      "\u001b[0;32m<ipython-input-70-80883db31b9e>\u001b[0m in \u001b[0;36mpubmed\u001b[0;34m(p, i, o, pm_data)\u001b[0m\n\u001b[1;32m     14\u001b[0m \u001b[0;34m\u001b[0m\u001b[0m\n\u001b[1;32m     15\u001b[0m \u001b[0;32mdef\u001b[0m \u001b[0mpubmed\u001b[0m\u001b[0;34m(\u001b[0m\u001b[0mp\u001b[0m\u001b[0;34m=\u001b[0m\u001b[0;32mNone\u001b[0m\u001b[0;34m,\u001b[0m \u001b[0mi\u001b[0m\u001b[0;34m=\u001b[0m\u001b[0;32mNone\u001b[0m\u001b[0;34m,\u001b[0m \u001b[0mo\u001b[0m\u001b[0;34m=\u001b[0m\u001b[0;32mNone\u001b[0m\u001b[0;34m,\u001b[0m \u001b[0mpm_data\u001b[0m\u001b[0;34m=\u001b[0m\u001b[0;32mFalse\u001b[0m\u001b[0;34m)\u001b[0m\u001b[0;34m:\u001b[0m\u001b[0;34m\u001b[0m\u001b[0;34m\u001b[0m\u001b[0m\n\u001b[0;32m---> 16\u001b[0;31m     \u001b[0;32mreturn\u001b[0m \u001b[0mlinked_search\u001b[0m\u001b[0;34m(\u001b[0m\u001b[0mp\u001b[0m\u001b[0;34m=\u001b[0m\u001b[0mp\u001b[0m\u001b[0;34m,\u001b[0m \u001b[0mi\u001b[0m\u001b[0;34m=\u001b[0m\u001b[0mi\u001b[0m\u001b[0;34m,\u001b[0m \u001b[0mo\u001b[0m\u001b[0;34m=\u001b[0m\u001b[0mo\u001b[0m\u001b[0;34m,\u001b[0m \u001b[0mjoin_pm\u001b[0m\u001b[0;34m=\u001b[0m\u001b[0;32mTrue\u001b[0m\u001b[0;34m,\u001b[0m \u001b[0mpm_data\u001b[0m\u001b[0;34m=\u001b[0m\u001b[0mpm_data\u001b[0m\u001b[0;34m)\u001b[0m\u001b[0;34m\u001b[0m\u001b[0;34m\u001b[0m\u001b[0m\n\u001b[0m\u001b[1;32m     17\u001b[0m \u001b[0;34m\u001b[0m\u001b[0m\n\u001b[1;32m     18\u001b[0m \u001b[0;32mdef\u001b[0m \u001b[0mreg\u001b[0m\u001b[0;34m(\u001b[0m\u001b[0mp\u001b[0m\u001b[0;34m=\u001b[0m\u001b[0;32mNone\u001b[0m\u001b[0;34m,\u001b[0m \u001b[0mi\u001b[0m\u001b[0;34m=\u001b[0m\u001b[0;32mNone\u001b[0m\u001b[0;34m,\u001b[0m \u001b[0mo\u001b[0m\u001b[0;34m=\u001b[0m\u001b[0;32mNone\u001b[0m\u001b[0;34m)\u001b[0m\u001b[0;34m:\u001b[0m\u001b[0;34m\u001b[0m\u001b[0;34m\u001b[0m\u001b[0m\n",
      "\u001b[0;32m<ipython-input-70-80883db31b9e>\u001b[0m in \u001b[0;36mlinked_search\u001b[0;34m(p, i, o, join_pm, join_reg, get_mesh, pm_data)\u001b[0m\n\u001b[1;32m      9\u001b[0m \u001b[0;32mdef\u001b[0m \u001b[0mlinked_search\u001b[0m\u001b[0;34m(\u001b[0m\u001b[0mp\u001b[0m\u001b[0;34m=\u001b[0m\u001b[0;32mNone\u001b[0m\u001b[0;34m,\u001b[0m \u001b[0mi\u001b[0m\u001b[0;34m=\u001b[0m\u001b[0;32mNone\u001b[0m\u001b[0;34m,\u001b[0m \u001b[0mo\u001b[0m\u001b[0;34m=\u001b[0m\u001b[0;32mNone\u001b[0m\u001b[0;34m,\u001b[0m \u001b[0mjoin_pm\u001b[0m\u001b[0;34m=\u001b[0m\u001b[0;32mFalse\u001b[0m\u001b[0;34m,\u001b[0m \u001b[0mjoin_reg\u001b[0m\u001b[0;34m=\u001b[0m\u001b[0;32mFalse\u001b[0m\u001b[0;34m,\u001b[0m \u001b[0mget_mesh\u001b[0m\u001b[0;34m=\u001b[0m\u001b[0;32mFalse\u001b[0m\u001b[0;34m,\u001b[0m \u001b[0mpm_data\u001b[0m\u001b[0;34m=\u001b[0m\u001b[0;32mFalse\u001b[0m\u001b[0;34m)\u001b[0m\u001b[0;34m:\u001b[0m\u001b[0;34m\u001b[0m\u001b[0;34m\u001b[0m\u001b[0m\n\u001b[1;32m     10\u001b[0m     \u001b[0msql\u001b[0m \u001b[0;34m=\u001b[0m \u001b[0mmake_pico_q\u001b[0m\u001b[0;34m(\u001b[0m\u001b[0mp\u001b[0m\u001b[0;34m=\u001b[0m\u001b[0mp\u001b[0m\u001b[0;34m,\u001b[0m \u001b[0mi\u001b[0m\u001b[0;34m=\u001b[0m\u001b[0mi\u001b[0m\u001b[0;34m,\u001b[0m \u001b[0mo\u001b[0m\u001b[0;34m=\u001b[0m\u001b[0mo\u001b[0m\u001b[0;34m,\u001b[0m \u001b[0mjoin_pm\u001b[0m\u001b[0;34m=\u001b[0m\u001b[0mjoin_pm\u001b[0m\u001b[0;34m,\u001b[0m \u001b[0mjoin_reg\u001b[0m\u001b[0;34m=\u001b[0m\u001b[0mjoin_reg\u001b[0m\u001b[0;34m,\u001b[0m \u001b[0mget_mesh\u001b[0m\u001b[0;34m=\u001b[0m\u001b[0mget_mesh\u001b[0m\u001b[0;34m,\u001b[0m \u001b[0mpm_data\u001b[0m\u001b[0;34m=\u001b[0m\u001b[0mpm_data\u001b[0m\u001b[0;34m)\u001b[0m\u001b[0;34m\u001b[0m\u001b[0;34m\u001b[0m\u001b[0m\n\u001b[0;32m---> 11\u001b[0;31m     \u001b[0mcur\u001b[0m\u001b[0;34m.\u001b[0m\u001b[0mexecute\u001b[0m\u001b[0;34m(\u001b[0m\u001b[0msql\u001b[0m\u001b[0;34m)\u001b[0m\u001b[0;34m\u001b[0m\u001b[0;34m\u001b[0m\u001b[0m\n\u001b[0m\u001b[1;32m     12\u001b[0m     \u001b[0mrecords\u001b[0m \u001b[0;34m=\u001b[0m \u001b[0mcur\u001b[0m\u001b[0;34m.\u001b[0m\u001b[0mfetchall\u001b[0m\u001b[0;34m(\u001b[0m\u001b[0;34m)\u001b[0m\u001b[0;34m\u001b[0m\u001b[0;34m\u001b[0m\u001b[0m\n\u001b[1;32m     13\u001b[0m     \u001b[0;32mreturn\u001b[0m \u001b[0mlist\u001b[0m\u001b[0;34m(\u001b[0m\u001b[0mrecords\u001b[0m\u001b[0;34m)\u001b[0m\u001b[0;34m\u001b[0m\u001b[0;34m\u001b[0m\u001b[0m\n",
      "\u001b[0;32m~/anaconda3/envs/trialstreamer/lib/python3.7/site-packages/psycopg2/extras.py\u001b[0m in \u001b[0;36mexecute\u001b[0;34m(self, query, vars)\u001b[0m\n\u001b[1;32m    244\u001b[0m         \u001b[0mself\u001b[0m\u001b[0;34m.\u001b[0m\u001b[0mcolumn_mapping\u001b[0m \u001b[0;34m=\u001b[0m \u001b[0;34m[\u001b[0m\u001b[0;34m]\u001b[0m\u001b[0;34m\u001b[0m\u001b[0;34m\u001b[0m\u001b[0m\n\u001b[1;32m    245\u001b[0m         \u001b[0mself\u001b[0m\u001b[0;34m.\u001b[0m\u001b[0m_query_executed\u001b[0m \u001b[0;34m=\u001b[0m \u001b[0;36m1\u001b[0m\u001b[0;34m\u001b[0m\u001b[0;34m\u001b[0m\u001b[0m\n\u001b[0;32m--> 246\u001b[0;31m         \u001b[0;32mreturn\u001b[0m \u001b[0msuper\u001b[0m\u001b[0;34m(\u001b[0m\u001b[0mRealDictCursor\u001b[0m\u001b[0;34m,\u001b[0m \u001b[0mself\u001b[0m\u001b[0;34m)\u001b[0m\u001b[0;34m.\u001b[0m\u001b[0mexecute\u001b[0m\u001b[0;34m(\u001b[0m\u001b[0mquery\u001b[0m\u001b[0;34m,\u001b[0m \u001b[0mvars\u001b[0m\u001b[0;34m)\u001b[0m\u001b[0;34m\u001b[0m\u001b[0;34m\u001b[0m\u001b[0m\n\u001b[0m\u001b[1;32m    247\u001b[0m \u001b[0;34m\u001b[0m\u001b[0m\n\u001b[1;32m    248\u001b[0m     \u001b[0;32mdef\u001b[0m \u001b[0mcallproc\u001b[0m\u001b[0;34m(\u001b[0m\u001b[0mself\u001b[0m\u001b[0;34m,\u001b[0m \u001b[0mprocname\u001b[0m\u001b[0;34m,\u001b[0m \u001b[0mvars\u001b[0m\u001b[0;34m=\u001b[0m\u001b[0;32mNone\u001b[0m\u001b[0;34m)\u001b[0m\u001b[0;34m:\u001b[0m\u001b[0;34m\u001b[0m\u001b[0;34m\u001b[0m\u001b[0m\n",
      "\u001b[0;31mProgrammingError\u001b[0m: syntax error at or near \"s\"\nLINE 1: ...re ( pp.population_mesh @> '[{\"mesh_term\": \"Bowen's Disease\"...\n                                                             ^\n"
     ]
    }
   ],
   "source": [
    "pubmed_ti(p='Carcinoma, Squamous Cell')"
   ]
  },
  {
   "cell_type": "code",
   "execution_count": 42,
   "metadata": {},
   "outputs": [],
   "source": [
    "from psycopg2.extensions import adapt\n"
   ]
  },
  {
   "cell_type": "code",
   "execution_count": 45,
   "metadata": {},
   "outputs": [
    {
     "name": "stdout",
     "output_type": "stream",
     "text": [
      "'Bowen''s disease'\n"
     ]
    }
   ],
   "source": [
    "print(adapt(\"Bowen's disease\"))"
   ]
  },
  {
   "cell_type": "code",
   "execution_count": 57,
   "metadata": {},
   "outputs": [
    {
     "data": {
      "text/plain": [
       "str"
      ]
     },
     "execution_count": 57,
     "metadata": {},
     "output_type": "execute_result"
    }
   ],
   "source": [
    "type(json.dumps(\"Bowen\\'s disease\"))"
   ]
  },
  {
   "cell_type": "code",
   "execution_count": null,
   "metadata": {},
   "outputs": [],
   "source": []
  }
 ],
 "metadata": {
  "kernelspec": {
   "display_name": "Python (trialstreamer2)",
   "language": "python",
   "name": "trialstreamer"
  },
  "language_info": {
   "codemirror_mode": {
    "name": "ipython",
    "version": 3
   },
   "file_extension": ".py",
   "mimetype": "text/x-python",
   "name": "python",
   "nbconvert_exporter": "python",
   "pygments_lexer": "ipython3",
   "version": "3.7.3"
  }
 },
 "nbformat": 4,
 "nbformat_minor": 2
}
