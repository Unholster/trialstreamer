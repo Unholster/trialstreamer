{
 "cells": [
  {
   "cell_type": "code",
   "execution_count": 1,
   "metadata": {},
   "outputs": [],
   "source": [
    "from trialstreamer import minimap"
   ]
  },
  {
   "cell_type": "code",
   "execution_count": 4,
   "metadata": {
    "scrolled": true
   },
   "outputs": [
    {
     "name": "stdout",
     "output_type": "stream",
     "text": [
      "\\c\n"
     ]
    }
   ],
   "source": [
    "print(\"\\\\c\")"
   ]
  },
  {
   "cell_type": "code",
   "execution_count": 2,
   "metadata": {
    "scrolled": true
   },
   "outputs": [
    {
     "data": {
      "text/plain": [
       "[{'mesh_term': 'Myocardial Infarction',\n",
       "  'mesh_ui': 'D009203',\n",
       "  'cui': 'C0027051',\n",
       "  'start_idx': 0,\n",
       "  'end_idx': 2,\n",
       "  'source_text': 'heart attack'}]"
      ]
     },
     "execution_count": 2,
     "metadata": {},
     "output_type": "execute_result"
    }
   ],
   "source": [
    "minimap.minimap('heart attack')"
   ]
  },
  {
   "cell_type": "code",
   "execution_count": 3,
   "metadata": {},
   "outputs": [
    {
     "data": {
      "text/plain": [
       "[{'mesh_term': 'ST Elevation Myocardial Infarction',\n",
       "  'mesh_ui': 'D000072657',\n",
       "  'cui': 'C1536220',\n",
       "  'start_idx': 0,\n",
       "  'end_idx': 1,\n",
       "  'source_text': 'stemi'}]"
      ]
     },
     "execution_count": 3,
     "metadata": {},
     "output_type": "execute_result"
    }
   ],
   "source": [
    "minimap.minimap('STEMI')"
   ]
  },
  {
   "cell_type": "code",
   "execution_count": 37,
   "metadata": {},
   "outputs": [],
   "source": [
    "from trialstreamer import dbutil"
   ]
  },
  {
   "cell_type": "code",
   "execution_count": 38,
   "metadata": {},
   "outputs": [],
   "source": [
    "import datetime\n"
   ]
  },
  {
   "cell_type": "code",
   "execution_count": 39,
   "metadata": {},
   "outputs": [
    {
     "name": "stdout",
     "output_type": "stream",
     "text": [
      "{'id': 2, 'update_type': 'ictrp', 'source_filename': '/mnt/md0/Code/trialstreamer/trialstreamer/downloads/ictrp/ictrp-raw-2018-w36.xml.gz', 'source_date': datetime.datetime(2018, 9, 3, 0, 0), 'download_date': datetime.datetime(2018, 9, 14, 11, 45, 51, 739550)}\n"
     ]
    }
   ],
   "source": [
    "print(dbutil.last_update('ictrp'))"
   ]
  },
  {
   "cell_type": "code",
   "execution_count": 1,
   "metadata": {},
   "outputs": [
    {
     "name": "stderr",
     "output_type": "stream",
     "text": [
      "/home/iain/anaconda3/envs/rr3/lib/python3.6/site-packages/psycopg2/__init__.py:144: UserWarning: The psycopg2 wheel package will be renamed from release 2.8; in order to keep installing from binary please use \"pip install psycopg2-binary\" instead. For details see: <http://initd.org/psycopg/docs/install.html#binary-install-from-pypi>.\n",
      "  \"\"\")\n"
     ]
    }
   ],
   "source": [
    "from trialstreamer import ictrp"
   ]
  },
  {
   "cell_type": "code",
   "execution_count": 2,
   "metadata": {
    "scrolled": true
   },
   "outputs": [],
   "source": [
    "ictrp.update()"
   ]
  },
  {
   "cell_type": "code",
   "execution_count": 2,
   "metadata": {
    "scrolled": true
   },
   "outputs": [
    {
     "name": "stdout",
     "output_type": "stream",
     "text": [
      "data-201603.xml.gz\n",
      "ictrp-raw-2017-w19.xml.gz\n",
      "ictrp-raw-2017-w20.xml.gz\n",
      "ictrp-raw-2017-w21.xml.gz\n",
      "ictrp-raw-2017-w22.xml.gz\n",
      "ictrp-raw-2017-w23.xml.gz\n",
      "ictrp-raw-2017-w24.xml.gz\n",
      "ictrp-raw-2017-w25.xml.gz\n",
      "ictrp-raw-2017-w26.xml.gz\n",
      "ictrp-raw-2017-w27.xml.gz\n",
      "ictrp-raw-2017-w29.xml.gz\n",
      "ictrp-raw-2017-w35.xml.gz\n",
      "ictrp-raw-2017-w36.xml.gz\n",
      "ictrp-raw-2017-w37.xml.gz\n",
      "ictrp-raw-2017-w38.xml.gz\n",
      "ictrp-raw-2017-w39.xml.gz\n",
      "ictrp-raw-2017-w40.xml.gz\n",
      "ictrp-raw-2017-w41.xml.gz\n",
      "ictrp-raw-2017-w42.xml.gz\n",
      "ictrp-raw-2017-w43.xml.gz\n",
      "ictrp-raw-2017-w44.xml.gz\n",
      "ictrp-raw-2017-w45.xml.gz\n",
      "ictrp-raw-2017-w46.xml.gz\n",
      "ictrp-raw-2017-w47.xml.gz\n",
      "ictrp-raw-2017-w48.xml.gz\n",
      "ictrp-raw-2017-w49.xml.gz\n",
      "ictrp-raw-2017-w50.xml.gz\n",
      "ictrp-raw-2017-w51.xml.gz\n",
      "ictrp-raw-2017-w52.xml.gz\n",
      "ictrp-raw-2018-w1.xml.gz\n",
      "ictrp-raw-2018-w10.xml.gz\n",
      "ictrp-raw-2018-w11.xml.gz\n",
      "ictrp-raw-2018-w12.xml.gz\n",
      "ictrp-raw-2018-w13.xml.gz\n",
      "ictrp-raw-2018-w17.xml.gz\n",
      "ictrp-raw-2018-w18.xml.gz\n",
      "ictrp-raw-2018-w2.xml.gz\n",
      "ictrp-raw-2018-w3.xml.gz\n",
      "ictrp-raw-2018-w30.xml.gz\n",
      "ictrp-raw-2018-w31.xml.gz\n",
      "ictrp-raw-2018-w32.xml.gz\n",
      "ictrp-raw-2018-w33.xml.gz\n",
      "ictrp-raw-2018-w4.xml.gz\n",
      "ictrp-raw-2018-w5.xml.gz\n",
      "ictrp-raw-2018-w6.xml.gz\n",
      "ictrp-raw-2018-w7.xml.gz\n",
      "ictrp-raw-2018-w8.xml.gz\n",
      "ictrp-raw-2018-w9.xml.gz\n",
      "Updating!! to {'fn': 'ictrp-raw-2018-w33.xml.gz', 'date': datetime.datetime(2018, 8, 13, 0, 0)}\n"
     ]
    }
   ],
   "source": [
    "ictrp.check_if_new_data()"
   ]
  },
  {
   "cell_type": "code",
   "execution_count": 7,
   "metadata": {},
   "outputs": [],
   "source": [
    "import trialstreamer"
   ]
  },
  {
   "cell_type": "code",
   "execution_count": 2,
   "metadata": {},
   "outputs": [
    {
     "data": {
      "text/plain": [
       "'/mnt/md0/Code/trialstreamer/trialstreamer/downloads'"
      ]
     },
     "execution_count": 2,
     "metadata": {},
     "output_type": "execute_result"
    }
   ],
   "source": [
    "trialstreamer.DATA_ROOT"
   ]
  },
  {
   "cell_type": "code",
   "execution_count": 4,
   "metadata": {},
   "outputs": [
    {
     "name": "stderr",
     "output_type": "stream",
     "text": [
      "/home/iain/anaconda3/envs/rr3/lib/python3.6/site-packages/psycopg2/__init__.py:144: UserWarning: The psycopg2 wheel package will be renamed from release 2.8; in order to keep installing from binary please use \"pip install psycopg2-binary\" instead. For details see: <http://initd.org/psycopg/docs/install.html#binary-install-from-pypi>.\n",
      "  \"\"\")\n"
     ]
    }
   ],
   "source": [
    "from trialstreamer.ictrp import parse_file"
   ]
  },
  {
   "cell_type": "code",
   "execution_count": 6,
   "metadata": {},
   "outputs": [
    {
     "name": "stdout",
     "output_type": "stream",
     "text": [
      "./home/iain/Code/ictrp-retrieval/parse.py\n"
     ]
    }
   ],
   "source": [
    "parse_file('jhi')"
   ]
  },
  {
   "cell_type": "code",
   "execution_count": 52,
   "metadata": {},
   "outputs": [],
   "source": [
    "fn = '/home/iain/Data/ictrp/ictrp-json-20180-w18.json'"
   ]
  },
  {
   "cell_type": "code",
   "execution_count": 1,
   "metadata": {},
   "outputs": [],
   "source": [
    "import subprocess\n",
    "import os\n",
    "from trialstreamer import config\n",
    "import tqdm\n",
    "import sys\n",
    "import json"
   ]
  },
  {
   "cell_type": "code",
   "execution_count": 5,
   "metadata": {},
   "outputs": [],
   "source": [
    "fn = '/home/iain/Data/ictrp/ictrp-raw-2018-w18.xml.gz'"
   ]
  },
  {
   "cell_type": "code",
   "execution_count": 30,
   "metadata": {},
   "outputs": [],
   "source": [
    "def parse_file(fn):\n",
    "    cmd = \"{} {}\".format(os.path.join(config.ICTRP_RETRIEVAL_PATH, 'parse.py'), fn)\n",
    "    with open('test.log', 'wb') as f:\n",
    "        process = subprocess.Popen(cmd, stdout=subprocess.PIPE, shell=True, cwd=config.ICTRP_RETRIEVAL_PATH)\n",
    "        for line in tqdm.tqdm(iter(process.stdout.readline, b'')):  # replace '' with b'' for Python 3            \n",
    "            yield json.loads(line.decode('utf-8'))"
   ]
  },
  {
   "cell_type": "code",
   "execution_count": 31,
   "metadata": {
    "scrolled": true
   },
   "outputs": [
    {
     "name": "stderr",
     "output_type": "stream",
     "text": [
      "\n",
      "0it [00:00, ?it/s]\u001b[A\n",
      "187it [00:00, 1855.24it/s]\u001b[A\n",
      "400it [00:00, 1986.29it/s]\u001b[A\n",
      "623it [00:00, 2065.27it/s]\u001b[A\n",
      "836it [00:00, 2081.05it/s]\u001b[A\n",
      "1053it [00:00, 2098.39it/s]\u001b[A\n",
      "1269it [00:00, 2108.46it/s]\u001b[A\n",
      "1467it [00:00, 2089.63it/s]\u001b[A\n",
      "1683it [00:00, 2097.96it/s]\u001b[A\n",
      "1882it [00:00, 2083.17it/s]\u001b[A\n",
      "2102it [00:01, 2093.40it/s]\u001b[A\n",
      "2320it [00:01, 2100.74it/s]\u001b[A\n",
      "2529it [00:01, 2091.49it/s]\u001b[A\n",
      "2748it [00:01, 2097.79it/s]\u001b[A\n",
      "2965it [00:01, 2102.75it/s]\u001b[A\n",
      "3183it [00:01, 2106.88it/s]\u001b[A\n",
      "3400it [00:01, 2110.50it/s]\u001b[A\n",
      "3614it [00:01, 2103.42it/s]\u001b[A\n",
      "3824it [00:01, 2088.31it/s]\u001b[A\n",
      "4034it [00:01, 2088.95it/s]\u001b[A\n",
      "4242it [00:02, 2088.43it/s]\u001b[A\n",
      "4451it [00:02, 2087.82it/s]\u001b[A\n",
      "4658it [00:02, 2085.23it/s]\u001b[A\n",
      "4864it [00:02, 2084.07it/s]\u001b[A\n",
      "5070it [00:02, 2079.62it/s]\u001b[A\n",
      "5274it [00:02, 2077.46it/s]\u001b[A\n",
      "5481it [00:02, 2077.03it/s]\u001b[A\n",
      "5686it [00:02, 2073.87it/s]\u001b[A\n",
      "5889it [00:02, 2071.80it/s]\u001b[A\n",
      "6094it [00:02, 2070.76it/s]\u001b[A\n",
      "6297it [00:03, 2067.76it/s]\u001b[A\n",
      "6499it [00:03, 2062.03it/s]\u001b[A\n",
      "6702it [00:03, 2060.79it/s]\u001b[A\n",
      "6909it [00:03, 2060.91it/s]\u001b[A\n",
      "7118it [00:03, 2061.76it/s]\u001b[A\n",
      "7328it [00:03, 2062.78it/s]\u001b[A\n",
      "7534it [00:03, 2061.65it/s]\u001b[A\n",
      "7739it [00:03, 2059.18it/s]\u001b[A\n",
      "7942it [00:03, 2058.36it/s]\u001b[A\n",
      "8145it [00:03, 2045.83it/s]\u001b[A\n",
      "8349it [00:04, 2045.75it/s]\u001b[A\n",
      "8550it [00:04, 2044.71it/s]\u001b[A\n",
      "8755it [00:04, 2044.82it/s]\u001b[A\n",
      "8955it [00:04, 2043.43it/s]\u001b[A\n",
      "9154it [00:04, 2042.11it/s]\u001b[A\n",
      "9353it [00:04, 2040.92it/s]\u001b[A\n",
      "9552it [00:04, 2039.72it/s]\u001b[A\n",
      "9755it [00:04, 2039.27it/s]\u001b[A\n",
      "9957it [00:04, 2038.54it/s]\u001b[A"
     ]
    }
   ],
   "source": [
    "out = []\n",
    "\n",
    "for idx, l in enumerate(parse_file(fn)):\n",
    "    out.append(l)\n",
    "    if idx == 10000:\n",
    "        break\n",
    "    \n",
    "    "
   ]
  },
  {
   "cell_type": "code",
   "execution_count": 2,
   "metadata": {},
   "outputs": [
    {
     "ename": "ImportError",
     "evalue": "Traceback (most recent call last):\n  File \"/home/iain/anaconda3/envs/rr3/lib/python3.6/site-packages/tensorflow/python/pywrap_tensorflow.py\", line 41, in <module>\n    from tensorflow.python.pywrap_tensorflow_internal import *\n  File \"/home/iain/anaconda3/envs/rr3/lib/python3.6/site-packages/tensorflow/python/pywrap_tensorflow_internal.py\", line 28, in <module>\n    _pywrap_tensorflow_internal = swig_import_helper()\n  File \"/home/iain/anaconda3/envs/rr3/lib/python3.6/site-packages/tensorflow/python/pywrap_tensorflow_internal.py\", line 24, in swig_import_helper\n    _mod = imp.load_module('_pywrap_tensorflow_internal', fp, pathname, description)\n  File \"/home/iain/anaconda3/envs/rr3/lib/python3.6/imp.py\", line 243, in load_module\n    return load_dynamic(name, filename, file)\n  File \"/home/iain/anaconda3/envs/rr3/lib/python3.6/imp.py\", line 343, in load_dynamic\n    return _load(spec)\nImportError: libcusolver.so.8.0: cannot open shared object file: No such file or directory\n\n\nFailed to load the native TensorFlow runtime.\n\nSee https://www.tensorflow.org/install/install_sources#common_installation_problems\n\nfor some common reasons and solutions.  Include the entire stack trace\nabove this error message when asking for help.",
     "output_type": "error",
     "traceback": [
      "\u001b[0;31m-----------------------------------------\u001b[0m",
      "\u001b[0;31mImportError\u001b[0mTraceback (most recent call last)",
      "\u001b[0;32m~/anaconda3/envs/rr3/lib/python3.6/site-packages/tensorflow/python/pywrap_tensorflow.py\u001b[0m in \u001b[0;36m<module>\u001b[0;34m()\u001b[0m\n\u001b[1;32m     40\u001b[0m     \u001b[0msys\u001b[0m\u001b[0;34m.\u001b[0m\u001b[0msetdlopenflags\u001b[0m\u001b[0;34m(\u001b[0m\u001b[0m_default_dlopen_flags\u001b[0m \u001b[0;34m|\u001b[0m \u001b[0mctypes\u001b[0m\u001b[0;34m.\u001b[0m\u001b[0mRTLD_GLOBAL\u001b[0m\u001b[0;34m)\u001b[0m\u001b[0;34m\u001b[0m\u001b[0m\n\u001b[0;32m---> 41\u001b[0;31m   \u001b[0;32mfrom\u001b[0m \u001b[0mtensorflow\u001b[0m\u001b[0;34m.\u001b[0m\u001b[0mpython\u001b[0m\u001b[0;34m.\u001b[0m\u001b[0mpywrap_tensorflow_internal\u001b[0m \u001b[0;32mimport\u001b[0m \u001b[0;34m*\u001b[0m\u001b[0;34m\u001b[0m\u001b[0m\n\u001b[0m\u001b[1;32m     42\u001b[0m   \u001b[0;32mfrom\u001b[0m \u001b[0mtensorflow\u001b[0m\u001b[0;34m.\u001b[0m\u001b[0mpython\u001b[0m\u001b[0;34m.\u001b[0m\u001b[0mpywrap_tensorflow_internal\u001b[0m \u001b[0;32mimport\u001b[0m \u001b[0m__version__\u001b[0m\u001b[0;34m\u001b[0m\u001b[0m\n",
      "\u001b[0;32m~/anaconda3/envs/rr3/lib/python3.6/site-packages/tensorflow/python/pywrap_tensorflow_internal.py\u001b[0m in \u001b[0;36m<module>\u001b[0;34m()\u001b[0m\n\u001b[1;32m     27\u001b[0m             \u001b[0;32mreturn\u001b[0m \u001b[0m_mod\u001b[0m\u001b[0;34m\u001b[0m\u001b[0m\n\u001b[0;32m---> 28\u001b[0;31m     \u001b[0m_pywrap_tensorflow_internal\u001b[0m \u001b[0;34m=\u001b[0m \u001b[0mswig_import_helper\u001b[0m\u001b[0;34m(\u001b[0m\u001b[0;34m)\u001b[0m\u001b[0;34m\u001b[0m\u001b[0m\n\u001b[0m\u001b[1;32m     29\u001b[0m     \u001b[0;32mdel\u001b[0m \u001b[0mswig_import_helper\u001b[0m\u001b[0;34m\u001b[0m\u001b[0m\n",
      "\u001b[0;32m~/anaconda3/envs/rr3/lib/python3.6/site-packages/tensorflow/python/pywrap_tensorflow_internal.py\u001b[0m in \u001b[0;36mswig_import_helper\u001b[0;34m()\u001b[0m\n\u001b[1;32m     23\u001b[0m             \u001b[0;32mtry\u001b[0m\u001b[0;34m:\u001b[0m\u001b[0;34m\u001b[0m\u001b[0m\n\u001b[0;32m---> 24\u001b[0;31m                 \u001b[0m_mod\u001b[0m \u001b[0;34m=\u001b[0m \u001b[0mimp\u001b[0m\u001b[0;34m.\u001b[0m\u001b[0mload_module\u001b[0m\u001b[0;34m(\u001b[0m\u001b[0;34m'_pywrap_tensorflow_internal'\u001b[0m\u001b[0;34m,\u001b[0m \u001b[0mfp\u001b[0m\u001b[0;34m,\u001b[0m \u001b[0mpathname\u001b[0m\u001b[0;34m,\u001b[0m \u001b[0mdescription\u001b[0m\u001b[0;34m)\u001b[0m\u001b[0;34m\u001b[0m\u001b[0m\n\u001b[0m\u001b[1;32m     25\u001b[0m             \u001b[0;32mfinally\u001b[0m\u001b[0;34m:\u001b[0m\u001b[0;34m\u001b[0m\u001b[0m\n",
      "\u001b[0;32m~/anaconda3/envs/rr3/lib/python3.6/imp.py\u001b[0m in \u001b[0;36mload_module\u001b[0;34m(name, file, filename, details)\u001b[0m\n\u001b[1;32m    242\u001b[0m         \u001b[0;32melse\u001b[0m\u001b[0;34m:\u001b[0m\u001b[0;34m\u001b[0m\u001b[0m\n\u001b[0;32m--> 243\u001b[0;31m             \u001b[0;32mreturn\u001b[0m \u001b[0mload_dynamic\u001b[0m\u001b[0;34m(\u001b[0m\u001b[0mname\u001b[0m\u001b[0;34m,\u001b[0m \u001b[0mfilename\u001b[0m\u001b[0;34m,\u001b[0m \u001b[0mfile\u001b[0m\u001b[0;34m)\u001b[0m\u001b[0;34m\u001b[0m\u001b[0m\n\u001b[0m\u001b[1;32m    244\u001b[0m     \u001b[0;32melif\u001b[0m \u001b[0mtype_\u001b[0m \u001b[0;34m==\u001b[0m \u001b[0mPKG_DIRECTORY\u001b[0m\u001b[0;34m:\u001b[0m\u001b[0;34m\u001b[0m\u001b[0m\n",
      "\u001b[0;32m~/anaconda3/envs/rr3/lib/python3.6/imp.py\u001b[0m in \u001b[0;36mload_dynamic\u001b[0;34m(name, path, file)\u001b[0m\n\u001b[1;32m    342\u001b[0m             name=name, loader=loader, origin=path)\n\u001b[0;32m--> 343\u001b[0;31m         \u001b[0;32mreturn\u001b[0m \u001b[0m_load\u001b[0m\u001b[0;34m(\u001b[0m\u001b[0mspec\u001b[0m\u001b[0;34m)\u001b[0m\u001b[0;34m\u001b[0m\u001b[0m\n\u001b[0m\u001b[1;32m    344\u001b[0m \u001b[0;34m\u001b[0m\u001b[0m\n",
      "\u001b[0;31mImportError\u001b[0m: libcusolver.so.8.0: cannot open shared object file: No such file or directory",
      "\nDuring handling of the above exception, another exception occurred:\n",
      "\u001b[0;31mImportError\u001b[0mTraceback (most recent call last)",
      "\u001b[0;32m<ipython-input-2-0ca82b29604d>\u001b[0m in \u001b[0;36m<module>\u001b[0;34m()\u001b[0m\n\u001b[0;32m----> 1\u001b[0;31m \u001b[0;32mfrom\u001b[0m \u001b[0mtensorflow\u001b[0m\u001b[0;34m.\u001b[0m\u001b[0mpython\u001b[0m\u001b[0;34m.\u001b[0m\u001b[0mclient\u001b[0m \u001b[0;32mimport\u001b[0m \u001b[0mdevice_lib\u001b[0m\u001b[0;34m\u001b[0m\u001b[0m\n\u001b[0m\u001b[1;32m      2\u001b[0m \u001b[0mprint\u001b[0m\u001b[0;34m(\u001b[0m\u001b[0mdevice_lib\u001b[0m\u001b[0;34m.\u001b[0m\u001b[0mlist_local_devices\u001b[0m\u001b[0;34m(\u001b[0m\u001b[0;34m)\u001b[0m\u001b[0;34m)\u001b[0m\u001b[0;34m\u001b[0m\u001b[0m\n",
      "\u001b[0;32m~/anaconda3/envs/rr3/lib/python3.6/site-packages/tensorflow/__init__.py\u001b[0m in \u001b[0;36m<module>\u001b[0;34m()\u001b[0m\n\u001b[1;32m     22\u001b[0m \u001b[0;34m\u001b[0m\u001b[0m\n\u001b[1;32m     23\u001b[0m \u001b[0;31m# pylint: disable=wildcard-import\u001b[0m\u001b[0;34m\u001b[0m\u001b[0;34m\u001b[0m\u001b[0m\n\u001b[0;32m---> 24\u001b[0;31m \u001b[0;32mfrom\u001b[0m \u001b[0mtensorflow\u001b[0m\u001b[0;34m.\u001b[0m\u001b[0mpython\u001b[0m \u001b[0;32mimport\u001b[0m \u001b[0;34m*\u001b[0m\u001b[0;34m\u001b[0m\u001b[0m\n\u001b[0m\u001b[1;32m     25\u001b[0m \u001b[0;31m# pylint: enable=wildcard-import\u001b[0m\u001b[0;34m\u001b[0m\u001b[0;34m\u001b[0m\u001b[0m\n\u001b[1;32m     26\u001b[0m \u001b[0;34m\u001b[0m\u001b[0m\n",
      "\u001b[0;32m~/anaconda3/envs/rr3/lib/python3.6/site-packages/tensorflow/python/__init__.py\u001b[0m in \u001b[0;36m<module>\u001b[0;34m()\u001b[0m\n\u001b[1;32m     47\u001b[0m \u001b[0;32mimport\u001b[0m \u001b[0mnumpy\u001b[0m \u001b[0;32mas\u001b[0m \u001b[0mnp\u001b[0m\u001b[0;34m\u001b[0m\u001b[0m\n\u001b[1;32m     48\u001b[0m \u001b[0;34m\u001b[0m\u001b[0m\n\u001b[0;32m---> 49\u001b[0;31m \u001b[0;32mfrom\u001b[0m \u001b[0mtensorflow\u001b[0m\u001b[0;34m.\u001b[0m\u001b[0mpython\u001b[0m \u001b[0;32mimport\u001b[0m \u001b[0mpywrap_tensorflow\u001b[0m\u001b[0;34m\u001b[0m\u001b[0m\n\u001b[0m\u001b[1;32m     50\u001b[0m \u001b[0;34m\u001b[0m\u001b[0m\n\u001b[1;32m     51\u001b[0m \u001b[0;31m# Protocol buffers\u001b[0m\u001b[0;34m\u001b[0m\u001b[0;34m\u001b[0m\u001b[0m\n",
      "\u001b[0;32m~/anaconda3/envs/rr3/lib/python3.6/site-packages/tensorflow/python/pywrap_tensorflow.py\u001b[0m in \u001b[0;36m<module>\u001b[0;34m()\u001b[0m\n\u001b[1;32m     50\u001b[0m \u001b[0;32mfor\u001b[0m \u001b[0msome\u001b[0m \u001b[0mcommon\u001b[0m \u001b[0mreasons\u001b[0m \u001b[0;32mand\u001b[0m \u001b[0msolutions\u001b[0m\u001b[0;34m.\u001b[0m  \u001b[0mInclude\u001b[0m \u001b[0mthe\u001b[0m \u001b[0mentire\u001b[0m \u001b[0mstack\u001b[0m \u001b[0mtrace\u001b[0m\u001b[0;34m\u001b[0m\u001b[0m\n\u001b[1;32m     51\u001b[0m above this error message when asking for help.\"\"\" % traceback.format_exc()\n\u001b[0;32m---> 52\u001b[0;31m   \u001b[0;32mraise\u001b[0m \u001b[0mImportError\u001b[0m\u001b[0;34m(\u001b[0m\u001b[0mmsg\u001b[0m\u001b[0;34m)\u001b[0m\u001b[0;34m\u001b[0m\u001b[0m\n\u001b[0m\u001b[1;32m     53\u001b[0m \u001b[0;34m\u001b[0m\u001b[0m\n\u001b[1;32m     54\u001b[0m \u001b[0;31m# pylint: enable=wildcard-import,g-import-not-at-top,unused-import,line-too-long\u001b[0m\u001b[0;34m\u001b[0m\u001b[0;34m\u001b[0m\u001b[0m\n",
      "\u001b[0;31mImportError\u001b[0m: Traceback (most recent call last):\n  File \"/home/iain/anaconda3/envs/rr3/lib/python3.6/site-packages/tensorflow/python/pywrap_tensorflow.py\", line 41, in <module>\n    from tensorflow.python.pywrap_tensorflow_internal import *\n  File \"/home/iain/anaconda3/envs/rr3/lib/python3.6/site-packages/tensorflow/python/pywrap_tensorflow_internal.py\", line 28, in <module>\n    _pywrap_tensorflow_internal = swig_import_helper()\n  File \"/home/iain/anaconda3/envs/rr3/lib/python3.6/site-packages/tensorflow/python/pywrap_tensorflow_internal.py\", line 24, in swig_import_helper\n    _mod = imp.load_module('_pywrap_tensorflow_internal', fp, pathname, description)\n  File \"/home/iain/anaconda3/envs/rr3/lib/python3.6/imp.py\", line 243, in load_module\n    return load_dynamic(name, filename, file)\n  File \"/home/iain/anaconda3/envs/rr3/lib/python3.6/imp.py\", line 343, in load_dynamic\n    return _load(spec)\nImportError: libcusolver.so.8.0: cannot open shared object file: No such file or directory\n\n\nFailed to load the native TensorFlow runtime.\n\nSee https://www.tensorflow.org/install/install_sources#common_installation_problems\n\nfor some common reasons and solutions.  Include the entire stack trace\nabove this error message when asking for help."
     ]
    }
   ],
   "source": [
    "from tensorflow.python.client import device_lib\n",
    "print(device_lib.list_local_devices())"
   ]
  },
  {
   "cell_type": "code",
   "execution_count": 2,
   "metadata": {
    "scrolled": true
   },
   "outputs": [
    {
     "name": "stdout",
     "output_type": "stream",
     "text": [
      "[[22. 28.]\n",
      " [49. 64.]]\n"
     ]
    }
   ],
   "source": [
    "import tensorflow as tf\n",
    "with tf.device('/gpu:0'):\n",
    "    a = tf.constant([1.0, 2.0, 3.0, 4.0, 5.0, 6.0], shape=[2, 3], name='a')\n",
    "    b = tf.constant([1.0, 2.0, 3.0, 4.0, 5.0, 6.0], shape=[3, 2], name='b')\n",
    "    c = tf.matmul(a, b)\n",
    "\n",
    "with tf.Session() as sess:\n",
    "    print (sess.run(c))"
   ]
  },
  {
   "cell_type": "code",
   "execution_count": 3,
   "metadata": {},
   "outputs": [],
   "source": [
    "sess = tf.Session(config=tf.ConfigProto(log_device_placement=True))\n"
   ]
  },
  {
   "cell_type": "code",
   "execution_count": 1,
   "metadata": {},
   "outputs": [],
   "source": [
    "import tensorflow\n"
   ]
  },
  {
   "cell_type": "code",
   "execution_count": 7,
   "metadata": {
    "scrolled": true
   },
   "outputs": [
    {
     "name": "stderr",
     "output_type": "stream",
     "text": [
      "[INFO] robotdata 2019-02-08 12:47:21,807: Welcome to RobotData :)\n",
      "/home/iain/anaconda3/envs/rr3/lib/python3.6/site-packages/h5py/__init__.py:36: FutureWarning: Conversion of the second argument of issubdtype from `float` to `np.floating` is deprecated. In future, it will be treated as `np.float64 == np.dtype(float).type`.\n",
      "  from ._conv import register_converters as _register_converters\n",
      "Using TensorFlow backend.\n",
      "[WARNING] tensorflow 2019-02-08 12:47:29,066: From /home/iain/anaconda3/envs/rr3/lib/python3.6/site-packages/keras/backend/tensorflow_backend.py:1210: calling reduce_prod (from tensorflow.python.ops.math_ops) with keep_dims is deprecated and will be removed in a future version.\n",
      "Instructions for updating:\n",
      "keep_dims is deprecated, use keepdims instead\n",
      "/home/iain/anaconda3/envs/rr3/lib/python3.6/site-packages/keras/engine/topology.py:1242: UserWarning: The `Merge` layer is deprecated and will be removed after 08/2017. Use instead layers from `keras.layers.merge`, e.g. `add`, `concatenate`, etc.\n",
      "  return cls(**config)\n",
      "[WARNING] tensorflow 2019-02-08 12:47:31,525: From /home/iain/anaconda3/envs/rr3/lib/python3.6/site-packages/keras/backend/tensorflow_backend.py:1299: calling reduce_mean (from tensorflow.python.ops.math_ops) with keep_dims is deprecated and will be removed in a future version.\n",
      "Instructions for updating:\n",
      "keep_dims is deprecated, use keepdims instead\n"
     ]
    }
   ],
   "source": [
    "from trialstreamer import pubmed"
   ]
  },
  {
   "cell_type": "code",
   "execution_count": 2,
   "metadata": {
    "scrolled": true
   },
   "outputs": [
    {
     "name": "stderr",
     "output_type": "stream",
     "text": [
      "[WARNING] trialstreamer.pubmed 2018-09-25 14:52:55,951: NB The parse is not being test run... This is quicker, but unexpected code crashes will result in local database being lost\n",
      "[INFO] trialstreamer.pubmed 2018-09-25 14:52:59,089: 928 PubMed title/abstract files on FTP server\n",
      "[INFO] trialstreamer.pubmed 2018-09-25 14:52:59,090: Checking hashfiles, and downloading any missing\n",
      "md5 hashes downloaded from PubMed FTP server: 100%|██████████| 928/928 [00:00<00:00, 573242.14it/s]\n",
      "[INFO] trialstreamer.pubmed 2018-09-25 14:52:59,742: Verifying local gzipped data files\n",
      "[INFO] trialstreamer.pubmed 2018-09-25 14:52:59,746: Data validated\n",
      "[INFO] trialstreamer.pubmed 2018-09-25 14:52:59,746: Downloading and validating remaining files\n",
      "md5 hashes downloaded from PubMed FTP server: 100%|██████████| 928/928 [00:00<00:00, 929618.85it/s]\n",
      "[INFO] trialstreamer.pubmed 2018-09-25 14:52:59,752: Uploading to postgres\n",
      "[WARNING] trialstreamer.pubmed 2018-09-25 14:52:59,756: will skip 1017 already done... rerun with 'force_update=True' to reclassify all\n",
      "classifying and uploading postgres (0/928) /home/iain/Code/robotlabs/trialstreamer/data/pubmed18n0003.xml.gz: 60it [00:46,  1.30it/s]\n",
      "classifying and uploading postgres (1/928) /home/iain/Code/robotlabs/trialstreamer/data/pubmed18n0002.xml.gz: 60it [00:53,  1.13it/s]\n",
      "classifying and uploading postgres (2/928) /home/iain/Code/robotlabs/trialstreamer/data/pubmed18n0001.xml.gz: 60it [00:52,  1.13it/s]\n",
      "classifying and uploading postgres (3/928) /home/iain/Code/robotlabs/trialstreamer/data/pubmed18n0004.xml.gz: 60it [00:54,  1.11it/s]\n",
      "classifying and uploading postgres (4/928) /home/iain/Code/robotlabs/trialstreamer/data/pubmed18n0005.xml.gz: 60it [00:53,  1.13it/s]\n",
      "classifying and uploading postgres (5/928) /home/iain/Code/robotlabs/trialstreamer/data/pubmed18n0008.xml.gz: 60it [00:53,  1.13it/s]\n",
      "classifying and uploading postgres (6/928) /home/iain/Code/robotlabs/trialstreamer/data/pubmed18n0007.xml.gz: 60it [00:51,  1.17it/s]\n",
      "classifying and uploading postgres (7/928) /home/iain/Code/robotlabs/trialstreamer/data/pubmed18n0006.xml.gz: 60it [00:53,  1.13it/s]\n",
      "classifying and uploading postgres (8/928) /home/iain/Code/robotlabs/trialstreamer/data/pubmed18n0009.xml.gz: 60it [00:44,  1.34it/s]\n",
      "classifying and uploading postgres (9/928) /home/iain/Code/robotlabs/trialstreamer/data/pubmed18n0010.xml.gz: 60it [00:46,  1.30it/s]\n",
      "classifying and uploading postgres (10/928) /home/iain/Code/robotlabs/trialstreamer/data/pubmed18n0012.xml.gz: 60it [00:53,  1.12it/s]\n",
      "classifying and uploading postgres (11/928) /home/iain/Code/robotlabs/trialstreamer/data/pubmed18n0011.xml.gz: 60it [00:51,  1.16it/s]\n",
      "classifying and uploading postgres (12/928) /home/iain/Code/robotlabs/trialstreamer/data/pubmed18n0013.xml.gz: 60it [00:51,  1.18it/s]\n",
      "classifying and uploading postgres (13/928) /home/iain/Code/robotlabs/trialstreamer/data/pubmed18n0014.xml.gz: 60it [00:51,  1.18it/s]\n",
      "classifying and uploading postgres (14/928) /home/iain/Code/robotlabs/trialstreamer/data/pubmed18n0015.xml.gz: 60it [00:49,  1.22it/s]\n",
      "classifying and uploading postgres (15/928) /home/iain/Code/robotlabs/trialstreamer/data/pubmed18n0016.xml.gz: 60it [00:49,  1.20it/s]\n",
      "classifying and uploading postgres (16/928) /home/iain/Code/robotlabs/trialstreamer/data/pubmed18n0017.xml.gz: 60it [00:51,  1.18it/s]\n",
      "classifying and uploading postgres (17/928) /home/iain/Code/robotlabs/trialstreamer/data/pubmed18n0018.xml.gz: 60it [00:51,  1.16it/s]\n",
      "classifying and uploading postgres (18/928) /home/iain/Code/robotlabs/trialstreamer/data/pubmed18n0020.xml.gz: 60it [00:49,  1.22it/s]\n",
      "classifying and uploading postgres (19/928) /home/iain/Code/robotlabs/trialstreamer/data/pubmed18n0019.xml.gz: 60it [00:50,  1.19it/s]\n",
      "classifying and uploading postgres (20/928) /home/iain/Code/robotlabs/trialstreamer/data/pubmed18n0021.xml.gz: 60it [00:48,  1.23it/s]\n",
      "classifying and uploading postgres (21/928) /home/iain/Code/robotlabs/trialstreamer/data/pubmed18n0022.xml.gz: 60it [00:49,  1.21it/s]\n",
      "classifying and uploading postgres (22/928) /home/iain/Code/robotlabs/trialstreamer/data/pubmed18n0023.xml.gz: 60it [00:47,  1.26it/s]\n",
      "classifying and uploading postgres (23/928) /home/iain/Code/robotlabs/trialstreamer/data/pubmed18n0024.xml.gz: 60it [00:49,  1.22it/s]\n",
      "classifying and uploading postgres (24/928) /home/iain/Code/robotlabs/trialstreamer/data/pubmed18n0025.xml.gz: 60it [00:49,  1.21it/s]\n",
      "classifying and uploading postgres (25/928) /home/iain/Code/robotlabs/trialstreamer/data/pubmed18n0026.xml.gz: 60it [00:52,  1.15it/s]\n",
      "classifying and uploading postgres (26/928) /home/iain/Code/robotlabs/trialstreamer/data/pubmed18n0027.xml.gz: 60it [00:52,  1.14it/s]\n",
      "classifying and uploading postgres (27/928) /home/iain/Code/robotlabs/trialstreamer/data/pubmed18n0028.xml.gz: 60it [00:47,  1.26it/s]\n",
      "classifying and uploading postgres (28/928) /home/iain/Code/robotlabs/trialstreamer/data/pubmed18n0029.xml.gz: 60it [00:51,  1.16it/s]\n",
      "classifying and uploading postgres (29/928) /home/iain/Code/robotlabs/trialstreamer/data/pubmed18n0030.xml.gz: 60it [00:48,  1.24it/s]\n",
      "classifying and uploading postgres (30/928) /home/iain/Code/robotlabs/trialstreamer/data/pubmed18n0031.xml.gz: 60it [00:49,  1.21it/s]\n",
      "classifying and uploading postgres (31/928) /home/iain/Code/robotlabs/trialstreamer/data/pubmed18n0032.xml.gz: 60it [00:51,  1.17it/s]\n",
      "classifying and uploading postgres (32/928) /home/iain/Code/robotlabs/trialstreamer/data/pubmed18n0034.xml.gz: 60it [00:47,  1.25it/s]\n",
      "classifying and uploading postgres (33/928) /home/iain/Code/robotlabs/trialstreamer/data/pubmed18n0033.xml.gz: 60it [00:52,  1.15it/s]\n",
      "classifying and uploading postgres (34/928) /home/iain/Code/robotlabs/trialstreamer/data/pubmed18n0035.xml.gz: 60it [00:49,  1.22it/s]\n",
      "classifying and uploading postgres (35/928) /home/iain/Code/robotlabs/trialstreamer/data/pubmed18n0036.xml.gz: 60it [00:51,  1.16it/s]\n",
      "classifying and uploading postgres (36/928) /home/iain/Code/robotlabs/trialstreamer/data/pubmed18n0038.xml.gz: 60it [00:52,  1.14it/s]\n",
      "classifying and uploading postgres (37/928) /home/iain/Code/robotlabs/trialstreamer/data/pubmed18n0037.xml.gz: 60it [00:53,  1.12it/s]\n",
      "classifying and uploading postgres (38/928) /home/iain/Code/robotlabs/trialstreamer/data/pubmed18n0039.xml.gz: 60it [00:49,  1.21it/s]\n",
      "classifying and uploading postgres (39/928) /home/iain/Code/robotlabs/trialstreamer/data/pubmed18n0040.xml.gz: 60it [00:46,  1.29it/s]\n",
      "classifying and uploading postgres (40/928) /home/iain/Code/robotlabs/trialstreamer/data/pubmed18n0041.xml.gz: 60it [00:47,  1.26it/s]\n",
      "classifying and uploading postgres (41/928) /home/iain/Code/robotlabs/trialstreamer/data/pubmed18n0042.xml.gz: 60it [00:50,  1.19it/s]\n",
      "classifying and uploading postgres (42/928) /home/iain/Code/robotlabs/trialstreamer/data/pubmed18n0043.xml.gz: 60it [00:55,  1.09it/s]\n",
      "classifying and uploading postgres (43/928) /home/iain/Code/robotlabs/trialstreamer/data/pubmed18n0044.xml.gz: 60it [00:58,  1.02it/s]\n",
      "classifying and uploading postgres (44/928) /home/iain/Code/robotlabs/trialstreamer/data/pubmed18n0045.xml.gz: 60it [00:57,  1.04it/s]\n",
      "classifying and uploading postgres (45/928) /home/iain/Code/robotlabs/trialstreamer/data/pubmed18n0046.xml.gz: 60it [00:57,  1.04it/s]\n",
      "classifying and uploading postgres (46/928) /home/iain/Code/robotlabs/trialstreamer/data/pubmed18n0047.xml.gz: 60it [00:59,  1.00it/s]\n",
      "classifying and uploading postgres (47/928) /home/iain/Code/robotlabs/trialstreamer/data/pubmed18n0048.xml.gz: 60it [01:00,  1.01s/it]\n",
      "classifying and uploading postgres (48/928) /home/iain/Code/robotlabs/trialstreamer/data/pubmed18n0049.xml.gz: 60it [00:59,  1.01it/s]\n",
      "classifying and uploading postgres (49/928) /home/iain/Code/robotlabs/trialstreamer/data/pubmed18n0050.xml.gz: 60it [00:59,  1.01it/s]\n",
      "classifying and uploading postgres (50/928) /home/iain/Code/robotlabs/trialstreamer/data/pubmed18n0051.xml.gz: 60it [01:03,  1.05s/it]\n",
      "classifying and uploading postgres (51/928) /home/iain/Code/robotlabs/trialstreamer/data/pubmed18n0052.xml.gz: 60it [00:59,  1.00it/s]\n",
      "classifying and uploading postgres (52/928) /home/iain/Code/robotlabs/trialstreamer/data/pubmed18n0053.xml.gz: 60it [01:00,  1.01s/it]\n",
      "classifying and uploading postgres (53/928) /home/iain/Code/robotlabs/trialstreamer/data/pubmed18n0054.xml.gz: 60it [00:59,  1.00it/s]\n",
      "classifying and uploading postgres (54/928) /home/iain/Code/robotlabs/trialstreamer/data/pubmed18n0055.xml.gz: 60it [01:00,  1.01s/it]\n",
      "classifying and uploading postgres (55/928) /home/iain/Code/robotlabs/trialstreamer/data/pubmed18n0056.xml.gz: 60it [01:00,  1.00s/it]\n",
      "classifying and uploading postgres (56/928) /home/iain/Code/robotlabs/trialstreamer/data/pubmed18n0058.xml.gz: 60it [01:00,  1.01s/it]\n",
      "classifying and uploading postgres (57/928) /home/iain/Code/robotlabs/trialstreamer/data/pubmed18n0057.xml.gz: 60it [01:00,  1.01s/it]\n",
      "classifying and uploading postgres (58/928) /home/iain/Code/robotlabs/trialstreamer/data/pubmed18n0059.xml.gz: 60it [00:58,  1.02it/s]\n",
      "classifying and uploading postgres (59/928) /home/iain/Code/robotlabs/trialstreamer/data/pubmed18n0060.xml.gz: 60it [00:57,  1.05it/s]\n",
      "classifying and uploading postgres (60/928) /home/iain/Code/robotlabs/trialstreamer/data/pubmed18n0062.xml.gz: 60it [01:00,  1.01s/it]\n",
      "classifying and uploading postgres (61/928) /home/iain/Code/robotlabs/trialstreamer/data/pubmed18n0061.xml.gz: 60it [01:00,  1.01s/it]\n",
      "classifying and uploading postgres (62/928) /home/iain/Code/robotlabs/trialstreamer/data/pubmed18n0063.xml.gz: 60it [00:59,  1.00it/s]\n",
      "classifying and uploading postgres (63/928) /home/iain/Code/robotlabs/trialstreamer/data/pubmed18n0064.xml.gz: 60it [01:00,  1.01s/it]\n",
      "classifying and uploading postgres (64/928) /home/iain/Code/robotlabs/trialstreamer/data/pubmed18n0065.xml.gz: 60it [00:59,  1.00it/s]\n",
      "classifying and uploading postgres (65/928) /home/iain/Code/robotlabs/trialstreamer/data/pubmed18n0066.xml.gz: 60it [01:01,  1.03s/it]\n",
      "classifying and uploading postgres (66/928) /home/iain/Code/robotlabs/trialstreamer/data/pubmed18n0067.xml.gz: 60it [00:59,  1.01it/s]\n",
      "classifying and uploading postgres (67/928) /home/iain/Code/robotlabs/trialstreamer/data/pubmed18n0068.xml.gz: 60it [00:59,  1.02it/s]\n",
      "classifying and uploading postgres (68/928) /home/iain/Code/robotlabs/trialstreamer/data/pubmed18n0069.xml.gz: 60it [00:57,  1.05it/s]\n",
      "classifying and uploading postgres (69/928) /home/iain/Code/robotlabs/trialstreamer/data/pubmed18n0070.xml.gz: 60it [01:00,  1.00s/it]\n",
      "classifying and uploading postgres (70/928) /home/iain/Code/robotlabs/trialstreamer/data/pubmed18n0071.xml.gz: 60it [01:01,  1.03s/it]\n",
      "classifying and uploading postgres (71/928) /home/iain/Code/robotlabs/trialstreamer/data/pubmed18n0073.xml.gz: 60it [01:00,  1.01s/it]\n",
      "classifying and uploading postgres (72/928) /home/iain/Code/robotlabs/trialstreamer/data/pubmed18n0072.xml.gz: 60it [01:00,  1.01s/it]\n",
      "classifying and uploading postgres (73/928) /home/iain/Code/robotlabs/trialstreamer/data/pubmed18n0074.xml.gz: 60it [00:59,  1.01it/s]\n",
      "classifying and uploading postgres (74/928) /home/iain/Code/robotlabs/trialstreamer/data/pubmed18n0075.xml.gz: 60it [00:59,  1.01it/s]\n",
      "classifying and uploading postgres (75/928) /home/iain/Code/robotlabs/trialstreamer/data/pubmed18n0076.xml.gz: 60it [00:57,  1.03it/s]\n",
      "classifying and uploading postgres (76/928) /home/iain/Code/robotlabs/trialstreamer/data/pubmed18n0077.xml.gz: 60it [00:59,  1.00it/s]\n",
      "classifying and uploading postgres (77/928) /home/iain/Code/robotlabs/trialstreamer/data/pubmed18n0078.xml.gz: 60it [00:57,  1.05it/s]\n",
      "classifying and uploading postgres (78/928) /home/iain/Code/robotlabs/trialstreamer/data/pubmed18n0079.xml.gz: 60it [00:57,  1.05it/s]\n",
      "classifying and uploading postgres (79/928) /home/iain/Code/robotlabs/trialstreamer/data/pubmed18n0080.xml.gz: 60it [00:59,  1.01it/s]\n",
      "classifying and uploading postgres (80/928) /home/iain/Code/robotlabs/trialstreamer/data/pubmed18n0081.xml.gz: 60it [01:00,  1.01s/it]\n",
      "classifying and uploading postgres (81/928) /home/iain/Code/robotlabs/trialstreamer/data/pubmed18n0082.xml.gz: 60it [00:59,  1.01it/s]\n",
      "classifying and uploading postgres (82/928) /home/iain/Code/robotlabs/trialstreamer/data/pubmed18n0083.xml.gz: 60it [01:00,  1.01s/it]\n",
      "classifying and uploading postgres (83/928) /home/iain/Code/robotlabs/trialstreamer/data/pubmed18n0084.xml.gz: 60it [01:00,  1.01s/it]\n",
      "classifying and uploading postgres (84/928) /home/iain/Code/robotlabs/trialstreamer/data/pubmed18n0086.xml.gz: 60it [00:58,  1.03it/s]\n",
      "classifying and uploading postgres (85/928) /home/iain/Code/robotlabs/trialstreamer/data/pubmed18n0087.xml.gz: 60it [00:56,  1.06it/s]\n",
      "classifying and uploading postgres (86/928) /home/iain/Code/robotlabs/trialstreamer/data/pubmed18n0085.xml.gz: 60it [01:00,  1.01s/it]\n",
      "classifying and uploading postgres (87/928) /home/iain/Code/robotlabs/trialstreamer/data/pubmed18n0088.xml.gz: 60it [00:58,  1.03it/s]\n",
      "classifying and uploading postgres (88/928) /home/iain/Code/robotlabs/trialstreamer/data/pubmed18n0090.xml.gz: 60it [00:59,  1.02it/s]\n",
      "classifying and uploading postgres (89/928) /home/iain/Code/robotlabs/trialstreamer/data/pubmed18n0089.xml.gz: 60it [00:59,  1.00it/s]\n",
      "classifying and uploading postgres (90/928) /home/iain/Code/robotlabs/trialstreamer/data/pubmed18n0091.xml.gz: 60it [00:57,  1.05it/s]\n",
      "classifying and uploading postgres (91/928) /home/iain/Code/robotlabs/trialstreamer/data/pubmed18n0092.xml.gz: 60it [00:57,  1.04it/s]\n",
      "classifying and uploading postgres (92/928) /home/iain/Code/robotlabs/trialstreamer/data/pubmed18n0093.xml.gz: 60it [00:57,  1.04it/s]\n",
      "classifying and uploading postgres (93/928) /home/iain/Code/robotlabs/trialstreamer/data/pubmed18n0094.xml.gz: 60it [00:58,  1.03it/s]\n",
      "classifying and uploading postgres (94/928) /home/iain/Code/robotlabs/trialstreamer/data/pubmed18n0095.xml.gz: 60it [00:59,  1.00it/s]\n",
      "classifying and uploading postgres (95/928) /home/iain/Code/robotlabs/trialstreamer/data/pubmed18n0096.xml.gz: 60it [01:00,  1.00s/it]\n",
      "classifying and uploading postgres (96/928) /home/iain/Code/robotlabs/trialstreamer/data/pubmed18n0097.xml.gz: 60it [00:59,  1.00it/s]\n",
      "classifying and uploading postgres (97/928) /home/iain/Code/robotlabs/trialstreamer/data/pubmed18n0098.xml.gz: 60it [00:59,  1.01it/s]\n",
      "classifying and uploading postgres (98/928) /home/iain/Code/robotlabs/trialstreamer/data/pubmed18n0099.xml.gz: 60it [00:57,  1.04it/s]\n",
      "classifying and uploading postgres (99/928) /home/iain/Code/robotlabs/trialstreamer/data/pubmed18n0100.xml.gz: 60it [00:57,  1.05it/s]\n",
      "classifying and uploading postgres (100/928) /home/iain/Code/robotlabs/trialstreamer/data/pubmed18n0101.xml.gz: 60it [00:58,  1.03it/s]\n",
      "classifying and uploading postgres (101/928) /home/iain/Code/robotlabs/trialstreamer/data/pubmed18n0102.xml.gz: 60it [00:56,  1.05it/s]\n",
      "classifying and uploading postgres (102/928) /home/iain/Code/robotlabs/trialstreamer/data/pubmed18n0103.xml.gz: 60it [01:00,  1.01s/it]\n",
      "classifying and uploading postgres (103/928) /home/iain/Code/robotlabs/trialstreamer/data/pubmed18n0105.xml.gz: 60it [00:57,  1.04it/s]\n",
      "classifying and uploading postgres (104/928) /home/iain/Code/robotlabs/trialstreamer/data/pubmed18n0106.xml.gz: 60it [00:56,  1.06it/s]\n",
      "classifying and uploading postgres (105/928) /home/iain/Code/robotlabs/trialstreamer/data/pubmed18n0104.xml.gz: 60it [01:00,  1.00s/it]\n",
      "classifying and uploading postgres (106/928) /home/iain/Code/robotlabs/trialstreamer/data/pubmed18n0107.xml.gz: 60it [00:55,  1.08it/s]\n",
      "classifying and uploading postgres (107/928) /home/iain/Code/robotlabs/trialstreamer/data/pubmed18n0108.xml.gz: 60it [00:56,  1.06it/s]\n",
      "classifying and uploading postgres (108/928) /home/iain/Code/robotlabs/trialstreamer/data/pubmed18n0109.xml.gz: 60it [00:57,  1.05it/s]\n",
      "classifying and uploading postgres (109/928) /home/iain/Code/robotlabs/trialstreamer/data/pubmed18n0110.xml.gz: 60it [00:59,  1.01it/s]\n",
      "classifying and uploading postgres (110/928) /home/iain/Code/robotlabs/trialstreamer/data/pubmed18n0111.xml.gz: 60it [00:56,  1.07it/s]\n",
      "classifying and uploading postgres (111/928) /home/iain/Code/robotlabs/trialstreamer/data/pubmed18n0112.xml.gz: 60it [00:57,  1.04it/s]\n",
      "classifying and uploading postgres (112/928) /home/iain/Code/robotlabs/trialstreamer/data/pubmed18n0114.xml.gz: 60it [00:56,  1.05it/s]\n"
     ]
    },
    {
     "name": "stderr",
     "output_type": "stream",
     "text": [
      "classifying and uploading postgres (113/928) /home/iain/Code/robotlabs/trialstreamer/data/pubmed18n0113.xml.gz: 60it [00:56,  1.07it/s]\n",
      "classifying and uploading postgres (114/928) /home/iain/Code/robotlabs/trialstreamer/data/pubmed18n0115.xml.gz: 60it [00:53,  1.13it/s]\n",
      "classifying and uploading postgres (115/928) /home/iain/Code/robotlabs/trialstreamer/data/pubmed18n0116.xml.gz: 60it [00:56,  1.07it/s]\n",
      "classifying and uploading postgres (116/928) /home/iain/Code/robotlabs/trialstreamer/data/pubmed18n0119.xml.gz: 60it [00:56,  1.06it/s]\n",
      "classifying and uploading postgres (117/928) /home/iain/Code/robotlabs/trialstreamer/data/pubmed18n0117.xml.gz: 60it [00:59,  1.01it/s]\n",
      "classifying and uploading postgres (118/928) /home/iain/Code/robotlabs/trialstreamer/data/pubmed18n0118.xml.gz: 60it [00:58,  1.02it/s]\n",
      "classifying and uploading postgres (119/928) /home/iain/Code/robotlabs/trialstreamer/data/pubmed18n0120.xml.gz: 60it [00:55,  1.07it/s]\n",
      "classifying and uploading postgres (120/928) /home/iain/Code/robotlabs/trialstreamer/data/pubmed18n0121.xml.gz: 60it [00:51,  1.17it/s]\n",
      "classifying and uploading postgres (121/928) /home/iain/Code/robotlabs/trialstreamer/data/pubmed18n0122.xml.gz: 60it [00:56,  1.07it/s]\n",
      "classifying and uploading postgres (122/928) /home/iain/Code/robotlabs/trialstreamer/data/pubmed18n0123.xml.gz: 60it [00:56,  1.06it/s]\n",
      "classifying and uploading postgres (123/928) /home/iain/Code/robotlabs/trialstreamer/data/pubmed18n0124.xml.gz: 60it [00:56,  1.06it/s]\n",
      "classifying and uploading postgres (124/928) /home/iain/Code/robotlabs/trialstreamer/data/pubmed18n0125.xml.gz: 60it [00:56,  1.07it/s]\n",
      "classifying and uploading postgres (125/928) /home/iain/Code/robotlabs/trialstreamer/data/pubmed18n0126.xml.gz: 60it [00:57,  1.04it/s]\n",
      "classifying and uploading postgres (126/928) /home/iain/Code/robotlabs/trialstreamer/data/pubmed18n0127.xml.gz: 60it [00:56,  1.07it/s]\n",
      "classifying and uploading postgres (127/928) /home/iain/Code/robotlabs/trialstreamer/data/pubmed18n0128.xml.gz: 60it [00:53,  1.13it/s]\n",
      "classifying and uploading postgres (128/928) /home/iain/Code/robotlabs/trialstreamer/data/pubmed18n0129.xml.gz: 60it [00:57,  1.04it/s]\n",
      "classifying and uploading postgres (129/928) /home/iain/Code/robotlabs/trialstreamer/data/pubmed18n0131.xml.gz: 60it [00:58,  1.02it/s]\n",
      "classifying and uploading postgres (130/928) /home/iain/Code/robotlabs/trialstreamer/data/pubmed18n0130.xml.gz: 60it [00:59,  1.01it/s]\n",
      "classifying and uploading postgres (131/928) /home/iain/Code/robotlabs/trialstreamer/data/pubmed18n0132.xml.gz: 60it [00:56,  1.06it/s]\n",
      "classifying and uploading postgres (132/928) /home/iain/Code/robotlabs/trialstreamer/data/pubmed18n0133.xml.gz: 60it [00:56,  1.05it/s]\n",
      "classifying and uploading postgres (133/928) /home/iain/Code/robotlabs/trialstreamer/data/pubmed18n0134.xml.gz: 60it [00:57,  1.03it/s]\n",
      "classifying and uploading postgres (134/928) /home/iain/Code/robotlabs/trialstreamer/data/pubmed18n0135.xml.gz: 60it [00:56,  1.06it/s]\n",
      "classifying and uploading postgres (135/928) /home/iain/Code/robotlabs/trialstreamer/data/pubmed18n0136.xml.gz: 60it [00:54,  1.10it/s]\n",
      "classifying and uploading postgres (136/928) /home/iain/Code/robotlabs/trialstreamer/data/pubmed18n0137.xml.gz: 60it [00:53,  1.13it/s]\n",
      "classifying and uploading postgres (137/928) /home/iain/Code/robotlabs/trialstreamer/data/pubmed18n0139.xml.gz: 60it [00:50,  1.19it/s]\n",
      "classifying and uploading postgres (138/928) /home/iain/Code/robotlabs/trialstreamer/data/pubmed18n0138.xml.gz: 60it [00:53,  1.12it/s]\n",
      "classifying and uploading postgres (139/928) /home/iain/Code/robotlabs/trialstreamer/data/pubmed18n0140.xml.gz: 60it [00:51,  1.16it/s]\n",
      "classifying and uploading postgres (140/928) /home/iain/Code/robotlabs/trialstreamer/data/pubmed18n0141.xml.gz: 60it [00:49,  1.20it/s]\n",
      "classifying and uploading postgres (141/928) /home/iain/Code/robotlabs/trialstreamer/data/pubmed18n0142.xml.gz: 60it [00:52,  1.14it/s]\n",
      "classifying and uploading postgres (142/928) /home/iain/Code/robotlabs/trialstreamer/data/pubmed18n0143.xml.gz: 60it [00:52,  1.15it/s]\n",
      "classifying and uploading postgres (143/928) /home/iain/Code/robotlabs/trialstreamer/data/pubmed18n0144.xml.gz: 60it [00:53,  1.13it/s]\n",
      "classifying and uploading postgres (144/928) /home/iain/Code/robotlabs/trialstreamer/data/pubmed18n0145.xml.gz: 60it [00:52,  1.14it/s]\n",
      "classifying and uploading postgres (145/928) /home/iain/Code/robotlabs/trialstreamer/data/pubmed18n0146.xml.gz: 60it [00:54,  1.11it/s]\n",
      "classifying and uploading postgres (146/928) /home/iain/Code/robotlabs/trialstreamer/data/pubmed18n0148.xml.gz: 60it [00:51,  1.16it/s]\n",
      "classifying and uploading postgres (147/928) /home/iain/Code/robotlabs/trialstreamer/data/pubmed18n0147.xml.gz: 60it [00:51,  1.17it/s]\n",
      "classifying and uploading postgres (148/928) /home/iain/Code/robotlabs/trialstreamer/data/pubmed18n0149.xml.gz: 60it [00:48,  1.23it/s]\n",
      "classifying and uploading postgres (149/928) /home/iain/Code/robotlabs/trialstreamer/data/pubmed18n0150.xml.gz: 60it [00:46,  1.28it/s]\n",
      "classifying and uploading postgres (150/928) /home/iain/Code/robotlabs/trialstreamer/data/pubmed18n0151.xml.gz: 60it [00:51,  1.17it/s]\n",
      "classifying and uploading postgres (151/928) /home/iain/Code/robotlabs/trialstreamer/data/pubmed18n0152.xml.gz: 60it [00:51,  1.16it/s]\n",
      "classifying and uploading postgres (152/928) /home/iain/Code/robotlabs/trialstreamer/data/pubmed18n0153.xml.gz: 60it [00:53,  1.13it/s]\n",
      "classifying and uploading postgres (153/928) /home/iain/Code/robotlabs/trialstreamer/data/pubmed18n0154.xml.gz: 60it [00:52,  1.15it/s]\n",
      "classifying and uploading postgres (154/928) /home/iain/Code/robotlabs/trialstreamer/data/pubmed18n0155.xml.gz: 60it [00:52,  1.15it/s]\n",
      "classifying and uploading postgres (155/928) /home/iain/Code/robotlabs/trialstreamer/data/pubmed18n0156.xml.gz: 60it [00:51,  1.17it/s]\n",
      "classifying and uploading postgres (156/928) /home/iain/Code/robotlabs/trialstreamer/data/pubmed18n0157.xml.gz: 60it [00:51,  1.16it/s]\n",
      "classifying and uploading postgres (157/928) /home/iain/Code/robotlabs/trialstreamer/data/pubmed18n0158.xml.gz: 60it [00:52,  1.14it/s]\n",
      "classifying and uploading postgres (158/928) /home/iain/Code/robotlabs/trialstreamer/data/pubmed18n0159.xml.gz: 60it [00:51,  1.17it/s]\n",
      "classifying and uploading postgres (159/928) /home/iain/Code/robotlabs/trialstreamer/data/pubmed18n0160.xml.gz: 60it [00:51,  1.16it/s]\n",
      "classifying and uploading postgres (160/928) /home/iain/Code/robotlabs/trialstreamer/data/pubmed18n0161.xml.gz: 60it [00:51,  1.17it/s]\n",
      "classifying and uploading postgres (161/928) /home/iain/Code/robotlabs/trialstreamer/data/pubmed18n0162.xml.gz: 60it [00:49,  1.21it/s]\n",
      "classifying and uploading postgres (162/928) /home/iain/Code/robotlabs/trialstreamer/data/pubmed18n0163.xml.gz: 60it [00:51,  1.17it/s]\n",
      "classifying and uploading postgres (163/928) /home/iain/Code/robotlabs/trialstreamer/data/pubmed18n0164.xml.gz: 60it [00:52,  1.15it/s]\n",
      "classifying and uploading postgres (164/928) /home/iain/Code/robotlabs/trialstreamer/data/pubmed18n0165.xml.gz: 60it [00:50,  1.18it/s]\n",
      "classifying and uploading postgres (165/928) /home/iain/Code/robotlabs/trialstreamer/data/pubmed18n0167.xml.gz: 60it [00:51,  1.16it/s]\n",
      "classifying and uploading postgres (166/928) /home/iain/Code/robotlabs/trialstreamer/data/pubmed18n0166.xml.gz: 60it [00:51,  1.16it/s]\n",
      "classifying and uploading postgres (167/928) /home/iain/Code/robotlabs/trialstreamer/data/pubmed18n0168.xml.gz: 60it [00:53,  1.12it/s]\n",
      "classifying and uploading postgres (168/928) /home/iain/Code/robotlabs/trialstreamer/data/pubmed18n0169.xml.gz: 60it [00:51,  1.16it/s]\n",
      "classifying and uploading postgres (169/928) /home/iain/Code/robotlabs/trialstreamer/data/pubmed18n0170.xml.gz: 60it [00:50,  1.18it/s]\n",
      "classifying and uploading postgres (170/928) /home/iain/Code/robotlabs/trialstreamer/data/pubmed18n0172.xml.gz: 60it [00:49,  1.22it/s]\n",
      "classifying and uploading postgres (171/928) /home/iain/Code/robotlabs/trialstreamer/data/pubmed18n0171.xml.gz: 60it [00:51,  1.15it/s]\n",
      "classifying and uploading postgres (172/928) /home/iain/Code/robotlabs/trialstreamer/data/pubmed18n0173.xml.gz: 60it [00:47,  1.28it/s]\n",
      "classifying and uploading postgres (173/928) /home/iain/Code/robotlabs/trialstreamer/data/pubmed18n0174.xml.gz: 60it [00:47,  1.27it/s]\n",
      "classifying and uploading postgres (174/928) /home/iain/Code/robotlabs/trialstreamer/data/pubmed18n0175.xml.gz: 60it [00:46,  1.28it/s]\n",
      "classifying and uploading postgres (175/928) /home/iain/Code/robotlabs/trialstreamer/data/pubmed18n0177.xml.gz: 60it [00:50,  1.20it/s]\n",
      "classifying and uploading postgres (176/928) /home/iain/Code/robotlabs/trialstreamer/data/pubmed18n0176.xml.gz: 60it [00:49,  1.21it/s]\n",
      "classifying and uploading postgres (177/928) /home/iain/Code/robotlabs/trialstreamer/data/pubmed18n0178.xml.gz: 60it [00:50,  1.20it/s]\n",
      "classifying and uploading postgres (178/928) /home/iain/Code/robotlabs/trialstreamer/data/pubmed18n0179.xml.gz: 60it [00:50,  1.19it/s]\n",
      "classifying and uploading postgres (179/928) /home/iain/Code/robotlabs/trialstreamer/data/pubmed18n0181.xml.gz: 60it [00:51,  1.16it/s]\n",
      "classifying and uploading postgres (180/928) /home/iain/Code/robotlabs/trialstreamer/data/pubmed18n0180.xml.gz: 60it [00:50,  1.20it/s]\n",
      "classifying and uploading postgres (181/928) /home/iain/Code/robotlabs/trialstreamer/data/pubmed18n0182.xml.gz: 60it [00:51,  1.16it/s]\n",
      "classifying and uploading postgres (182/928) /home/iain/Code/robotlabs/trialstreamer/data/pubmed18n0183.xml.gz: 60it [00:50,  1.18it/s]\n",
      "classifying and uploading postgres (183/928) /home/iain/Code/robotlabs/trialstreamer/data/pubmed18n0184.xml.gz: 60it [00:50,  1.20it/s]\n",
      "classifying and uploading postgres (184/928) /home/iain/Code/robotlabs/trialstreamer/data/pubmed18n0185.xml.gz: 60it [00:50,  1.19it/s]\n",
      "classifying and uploading postgres (185/928) /home/iain/Code/robotlabs/trialstreamer/data/pubmed18n0187.xml.gz: 60it [00:50,  1.19it/s]\n",
      "classifying and uploading postgres (186/928) /home/iain/Code/robotlabs/trialstreamer/data/pubmed18n0186.xml.gz: 60it [00:51,  1.17it/s]\n",
      "classifying and uploading postgres (187/928) /home/iain/Code/robotlabs/trialstreamer/data/pubmed18n0188.xml.gz: 60it [00:50,  1.20it/s]\n",
      "classifying and uploading postgres (188/928) /home/iain/Code/robotlabs/trialstreamer/data/pubmed18n0189.xml.gz: 60it [00:50,  1.20it/s]\n",
      "classifying and uploading postgres (189/928) /home/iain/Code/robotlabs/trialstreamer/data/pubmed18n0191.xml.gz: 60it [00:50,  1.20it/s]\n",
      "classifying and uploading postgres (190/928) /home/iain/Code/robotlabs/trialstreamer/data/pubmed18n0190.xml.gz: 60it [00:50,  1.19it/s]\n",
      "classifying and uploading postgres (191/928) /home/iain/Code/robotlabs/trialstreamer/data/pubmed18n0193.xml.gz: 60it [00:50,  1.20it/s]\n",
      "classifying and uploading postgres (192/928) /home/iain/Code/robotlabs/trialstreamer/data/pubmed18n0192.xml.gz: 60it [00:50,  1.19it/s]\n",
      "classifying and uploading postgres (193/928) /home/iain/Code/robotlabs/trialstreamer/data/pubmed18n0194.xml.gz: 60it [00:49,  1.22it/s]\n",
      "classifying and uploading postgres (194/928) /home/iain/Code/robotlabs/trialstreamer/data/pubmed18n0195.xml.gz: 60it [00:48,  1.23it/s]\n",
      "classifying and uploading postgres (195/928) /home/iain/Code/robotlabs/trialstreamer/data/pubmed18n0196.xml.gz: 60it [00:49,  1.22it/s]\n",
      "classifying and uploading postgres (196/928) /home/iain/Code/robotlabs/trialstreamer/data/pubmed18n0197.xml.gz: 60it [00:50,  1.18it/s]\n",
      "classifying and uploading postgres (197/928) /home/iain/Code/robotlabs/trialstreamer/data/pubmed18n0198.xml.gz: 60it [00:50,  1.18it/s]\n",
      "classifying and uploading postgres (198/928) /home/iain/Code/robotlabs/trialstreamer/data/pubmed18n0199.xml.gz: 60it [00:48,  1.22it/s]\n",
      "classifying and uploading postgres (199/928) /home/iain/Code/robotlabs/trialstreamer/data/pubmed18n0200.xml.gz: 60it [00:49,  1.22it/s]\n",
      "classifying and uploading postgres (200/928) /home/iain/Code/robotlabs/trialstreamer/data/pubmed18n0201.xml.gz: 60it [00:51,  1.17it/s]\n",
      "classifying and uploading postgres (201/928) /home/iain/Code/robotlabs/trialstreamer/data/pubmed18n0202.xml.gz: 60it [00:52,  1.14it/s]\n",
      "classifying and uploading postgres (202/928) /home/iain/Code/robotlabs/trialstreamer/data/pubmed18n0203.xml.gz: 60it [00:58,  1.03it/s]\n",
      "classifying and uploading postgres (203/928) /home/iain/Code/robotlabs/trialstreamer/data/pubmed18n0205.xml.gz: 60it [00:57,  1.05it/s]\n",
      "classifying and uploading postgres (204/928) /home/iain/Code/robotlabs/trialstreamer/data/pubmed18n0204.xml.gz: 60it [00:59,  1.00it/s]\n",
      "classifying and uploading postgres (205/928) /home/iain/Code/robotlabs/trialstreamer/data/pubmed18n0206.xml.gz: 60it [00:56,  1.06it/s]\n",
      "classifying and uploading postgres (206/928) /home/iain/Code/robotlabs/trialstreamer/data/pubmed18n0207.xml.gz: 60it [00:55,  1.08it/s]\n",
      "classifying and uploading postgres (207/928) /home/iain/Code/robotlabs/trialstreamer/data/pubmed18n0208.xml.gz: 60it [00:56,  1.07it/s]\n",
      "classifying and uploading postgres (208/928) /home/iain/Code/robotlabs/trialstreamer/data/pubmed18n0209.xml.gz: 60it [00:56,  1.06it/s]\n",
      "classifying and uploading postgres (209/928) /home/iain/Code/robotlabs/trialstreamer/data/pubmed18n0211.xml.gz: 60it [00:58,  1.02it/s]\n",
      "classifying and uploading postgres (210/928) /home/iain/Code/robotlabs/trialstreamer/data/pubmed18n0210.xml.gz: 60it [00:57,  1.05it/s]\n",
      "classifying and uploading postgres (211/928) /home/iain/Code/robotlabs/trialstreamer/data/pubmed18n0212.xml.gz: 60it [00:59,  1.00it/s]\n",
      "classifying and uploading postgres (212/928) /home/iain/Code/robotlabs/trialstreamer/data/pubmed18n0213.xml.gz: 60it [00:58,  1.03it/s]\n",
      "classifying and uploading postgres (213/928) /home/iain/Code/robotlabs/trialstreamer/data/pubmed18n0214.xml.gz: 60it [00:58,  1.03it/s]\n",
      "classifying and uploading postgres (214/928) /home/iain/Code/robotlabs/trialstreamer/data/pubmed18n0215.xml.gz: 60it [00:55,  1.09it/s]\n",
      "classifying and uploading postgres (215/928) /home/iain/Code/robotlabs/trialstreamer/data/pubmed18n0216.xml.gz: 60it [00:58,  1.03it/s]\n",
      "classifying and uploading postgres (216/928) /home/iain/Code/robotlabs/trialstreamer/data/pubmed18n0217.xml.gz: 60it [00:55,  1.08it/s]\n",
      "classifying and uploading postgres (217/928) /home/iain/Code/robotlabs/trialstreamer/data/pubmed18n0218.xml.gz: 60it [00:51,  1.16it/s]\n",
      "classifying and uploading postgres (218/928) /home/iain/Code/robotlabs/trialstreamer/data/pubmed18n0219.xml.gz: 60it [00:52,  1.15it/s]\n",
      "classifying and uploading postgres (219/928) /home/iain/Code/robotlabs/trialstreamer/data/pubmed18n0220.xml.gz: 60it [00:56,  1.07it/s]\n",
      "classifying and uploading postgres (220/928) /home/iain/Code/robotlabs/trialstreamer/data/pubmed18n0221.xml.gz: 60it [00:55,  1.09it/s]\n",
      "classifying and uploading postgres (221/928) /home/iain/Code/robotlabs/trialstreamer/data/pubmed18n0222.xml.gz: 60it [00:56,  1.06it/s]\n",
      "classifying and uploading postgres (222/928) /home/iain/Code/robotlabs/trialstreamer/data/pubmed18n0223.xml.gz: 60it [00:55,  1.08it/s]\n",
      "classifying and uploading postgres (223/928) /home/iain/Code/robotlabs/trialstreamer/data/pubmed18n0224.xml.gz: 60it [00:57,  1.05it/s]\n",
      "classifying and uploading postgres (224/928) /home/iain/Code/robotlabs/trialstreamer/data/pubmed18n0225.xml.gz: 60it [00:56,  1.06it/s]\n",
      "classifying and uploading postgres (225/928) /home/iain/Code/robotlabs/trialstreamer/data/pubmed18n0226.xml.gz: 60it [00:57,  1.05it/s]\n",
      "classifying and uploading postgres (226/928) /home/iain/Code/robotlabs/trialstreamer/data/pubmed18n0227.xml.gz: 60it [00:57,  1.05it/s]\n",
      "classifying and uploading postgres (227/928) /home/iain/Code/robotlabs/trialstreamer/data/pubmed18n0228.xml.gz: 60it [00:57,  1.05it/s]\n",
      "classifying and uploading postgres (228/928) /home/iain/Code/robotlabs/trialstreamer/data/pubmed18n0229.xml.gz: 60it [00:54,  1.10it/s]\n",
      "classifying and uploading postgres (229/928) /home/iain/Code/robotlabs/trialstreamer/data/pubmed18n0230.xml.gz: 60it [00:48,  1.23it/s]\n",
      "classifying and uploading postgres (230/928) /home/iain/Code/robotlabs/trialstreamer/data/pubmed18n0231.xml.gz: 60it [00:50,  1.19it/s]\n",
      "classifying and uploading postgres (231/928) /home/iain/Code/robotlabs/trialstreamer/data/pubmed18n0232.xml.gz: 60it [00:54,  1.10it/s]\n",
      "classifying and uploading postgres (232/928) /home/iain/Code/robotlabs/trialstreamer/data/pubmed18n0233.xml.gz: 60it [00:58,  1.02it/s]\n"
     ]
    },
    {
     "name": "stderr",
     "output_type": "stream",
     "text": [
      "classifying and uploading postgres (233/928) /home/iain/Code/robotlabs/trialstreamer/data/pubmed18n0234.xml.gz: 60it [00:58,  1.03it/s]\n",
      "classifying and uploading postgres (234/928) /home/iain/Code/robotlabs/trialstreamer/data/pubmed18n0235.xml.gz: 60it [00:56,  1.06it/s]\n",
      "classifying and uploading postgres (235/928) /home/iain/Code/robotlabs/trialstreamer/data/pubmed18n0236.xml.gz: 60it [00:55,  1.08it/s]\n",
      "classifying and uploading postgres (236/928) /home/iain/Code/robotlabs/trialstreamer/data/pubmed18n0237.xml.gz: 60it [00:54,  1.10it/s]\n",
      "classifying and uploading postgres (237/928) /home/iain/Code/robotlabs/trialstreamer/data/pubmed18n0238.xml.gz: 60it [00:53,  1.12it/s]\n",
      "classifying and uploading postgres (238/928) /home/iain/Code/robotlabs/trialstreamer/data/pubmed18n0239.xml.gz: 60it [00:55,  1.09it/s]\n",
      "classifying and uploading postgres (239/928) /home/iain/Code/robotlabs/trialstreamer/data/pubmed18n0240.xml.gz: 60it [00:55,  1.09it/s]\n",
      "classifying and uploading postgres (240/928) /home/iain/Code/robotlabs/trialstreamer/data/pubmed18n0241.xml.gz: 60it [00:54,  1.10it/s]\n",
      "classifying and uploading postgres (241/928) /home/iain/Code/robotlabs/trialstreamer/data/pubmed18n0242.xml.gz: 60it [00:53,  1.12it/s]\n",
      "classifying and uploading postgres (242/928) /home/iain/Code/robotlabs/trialstreamer/data/pubmed18n0243.xml.gz: 60it [00:53,  1.12it/s]\n",
      "classifying and uploading postgres (243/928) /home/iain/Code/robotlabs/trialstreamer/data/pubmed18n0244.xml.gz: 60it [00:53,  1.11it/s]\n",
      "classifying and uploading postgres (244/928) /home/iain/Code/robotlabs/trialstreamer/data/pubmed18n0245.xml.gz: 60it [00:53,  1.11it/s]\n",
      "classifying and uploading postgres (245/928) /home/iain/Code/robotlabs/trialstreamer/data/pubmed18n0246.xml.gz: 60it [00:54,  1.10it/s]\n",
      "classifying and uploading postgres (246/928) /home/iain/Code/robotlabs/trialstreamer/data/pubmed18n0247.xml.gz: 60it [00:55,  1.08it/s]\n",
      "classifying and uploading postgres (247/928) /home/iain/Code/robotlabs/trialstreamer/data/pubmed18n0248.xml.gz: 60it [00:54,  1.10it/s]\n",
      "classifying and uploading postgres (248/928) /home/iain/Code/robotlabs/trialstreamer/data/pubmed18n0249.xml.gz: 60it [01:01,  1.02s/it]\n",
      "classifying and uploading postgres (249/928) /home/iain/Code/robotlabs/trialstreamer/data/pubmed18n0250.xml.gz: 60it [01:03,  1.06s/it]\n",
      "classifying and uploading postgres (250/928) /home/iain/Code/robotlabs/trialstreamer/data/pubmed18n0251.xml.gz: 60it [01:03,  1.06s/it]\n",
      "classifying and uploading postgres (251/928) /home/iain/Code/robotlabs/trialstreamer/data/pubmed18n0252.xml.gz: 60it [01:01,  1.03s/it]\n",
      "classifying and uploading postgres (252/928) /home/iain/Code/robotlabs/trialstreamer/data/pubmed18n0253.xml.gz: 60it [01:02,  1.04s/it]\n",
      "classifying and uploading postgres (253/928) /home/iain/Code/robotlabs/trialstreamer/data/pubmed18n0254.xml.gz: 60it [01:01,  1.03s/it]\n",
      "classifying and uploading postgres (254/928) /home/iain/Code/robotlabs/trialstreamer/data/pubmed18n0255.xml.gz: 60it [01:03,  1.06s/it]\n",
      "classifying and uploading postgres (255/928) /home/iain/Code/robotlabs/trialstreamer/data/pubmed18n0256.xml.gz: 60it [01:02,  1.05s/it]\n",
      "classifying and uploading postgres (256/928) /home/iain/Code/robotlabs/trialstreamer/data/pubmed18n0257.xml.gz: 60it [01:00,  1.01s/it]\n",
      "classifying and uploading postgres (257/928) /home/iain/Code/robotlabs/trialstreamer/data/pubmed18n0259.xml.gz: 60it [01:01,  1.03s/it]\n",
      "classifying and uploading postgres (258/928) /home/iain/Code/robotlabs/trialstreamer/data/pubmed18n0258.xml.gz: 60it [01:00,  1.00s/it]\n",
      "classifying and uploading postgres (259/928) /home/iain/Code/robotlabs/trialstreamer/data/pubmed18n0260.xml.gz: 60it [01:00,  1.01s/it]\n",
      "classifying and uploading postgres (260/928) /home/iain/Code/robotlabs/trialstreamer/data/pubmed18n0261.xml.gz: 60it [01:02,  1.04s/it]\n",
      "classifying and uploading postgres (261/928) /home/iain/Code/robotlabs/trialstreamer/data/pubmed18n0262.xml.gz: 60it [01:03,  1.05s/it]\n",
      "classifying and uploading postgres (262/928) /home/iain/Code/robotlabs/trialstreamer/data/pubmed18n0263.xml.gz: 60it [01:00,  1.01s/it]\n",
      "classifying and uploading postgres (263/928) /home/iain/Code/robotlabs/trialstreamer/data/pubmed18n0264.xml.gz: 60it [01:02,  1.04s/it]\n",
      "classifying and uploading postgres (264/928) /home/iain/Code/robotlabs/trialstreamer/data/pubmed18n0265.xml.gz: 60it [01:01,  1.03s/it]\n",
      "classifying and uploading postgres (265/928) /home/iain/Code/robotlabs/trialstreamer/data/pubmed18n0266.xml.gz: 60it [01:01,  1.03s/it]\n",
      "classifying and uploading postgres (266/928) /home/iain/Code/robotlabs/trialstreamer/data/pubmed18n0267.xml.gz: 60it [01:00,  1.01s/it]\n",
      "classifying and uploading postgres (267/928) /home/iain/Code/robotlabs/trialstreamer/data/pubmed18n0268.xml.gz: 60it [01:00,  1.00s/it]\n",
      "classifying and uploading postgres (268/928) /home/iain/Code/robotlabs/trialstreamer/data/pubmed18n0269.xml.gz: 60it [01:00,  1.01s/it]\n",
      "classifying and uploading postgres (269/928) /home/iain/Code/robotlabs/trialstreamer/data/pubmed18n0270.xml.gz: 60it [01:00,  1.02s/it]\n",
      "classifying and uploading postgres (270/928) /home/iain/Code/robotlabs/trialstreamer/data/pubmed18n0271.xml.gz: 60it [01:00,  1.01s/it]\n",
      "classifying and uploading postgres (271/928) /home/iain/Code/robotlabs/trialstreamer/data/pubmed18n0272.xml.gz: 60it [01:00,  1.00s/it]\n",
      "classifying and uploading postgres (272/928) /home/iain/Code/robotlabs/trialstreamer/data/pubmed18n0273.xml.gz: 60it [01:02,  1.04s/it]\n",
      "classifying and uploading postgres (273/928) /home/iain/Code/robotlabs/trialstreamer/data/pubmed18n0274.xml.gz: 60it [01:02,  1.05s/it]\n",
      "classifying and uploading postgres (274/928) /home/iain/Code/robotlabs/trialstreamer/data/pubmed18n0275.xml.gz: 60it [00:59,  1.00it/s]\n",
      "classifying and uploading postgres (275/928) /home/iain/Code/robotlabs/trialstreamer/data/pubmed18n0276.xml.gz: 60it [01:00,  1.01s/it]\n",
      "classifying and uploading postgres (276/928) /home/iain/Code/robotlabs/trialstreamer/data/pubmed18n0277.xml.gz: 60it [01:01,  1.02s/it]\n",
      "classifying and uploading postgres (277/928) /home/iain/Code/robotlabs/trialstreamer/data/pubmed18n0278.xml.gz: 60it [01:01,  1.02s/it]\n",
      "classifying and uploading postgres (278/928) /home/iain/Code/robotlabs/trialstreamer/data/pubmed18n0280.xml.gz: 60it [01:01,  1.03s/it]\n",
      "classifying and uploading postgres (279/928) /home/iain/Code/robotlabs/trialstreamer/data/pubmed18n0279.xml.gz: 60it [01:02,  1.04s/it]\n",
      "classifying and uploading postgres (280/928) /home/iain/Code/robotlabs/trialstreamer/data/pubmed18n0281.xml.gz: 60it [01:01,  1.03s/it]\n",
      "classifying and uploading postgres (281/928) /home/iain/Code/robotlabs/trialstreamer/data/pubmed18n0282.xml.gz: 60it [01:01,  1.03s/it]\n",
      "classifying and uploading postgres (282/928) /home/iain/Code/robotlabs/trialstreamer/data/pubmed18n0283.xml.gz: 60it [01:01,  1.03s/it]\n",
      "classifying and uploading postgres (283/928) /home/iain/Code/robotlabs/trialstreamer/data/pubmed18n0284.xml.gz: 60it [01:02,  1.05s/it]\n",
      "classifying and uploading postgres (284/928) /home/iain/Code/robotlabs/trialstreamer/data/pubmed18n0285.xml.gz: 60it [01:03,  1.05s/it]\n",
      "classifying and uploading postgres (285/928) /home/iain/Code/robotlabs/trialstreamer/data/pubmed18n0286.xml.gz: 60it [01:03,  1.06s/it]\n",
      "classifying and uploading postgres (286/928) /home/iain/Code/robotlabs/trialstreamer/data/pubmed18n0287.xml.gz: 60it [01:03,  1.06s/it]\n",
      "classifying and uploading postgres (287/928) /home/iain/Code/robotlabs/trialstreamer/data/pubmed18n0288.xml.gz: 60it [00:57,  1.04it/s]\n",
      "classifying and uploading postgres (288/928) /home/iain/Code/robotlabs/trialstreamer/data/pubmed18n0289.xml.gz: 60it [01:03,  1.05s/it]\n",
      "classifying and uploading postgres (289/928) /home/iain/Code/robotlabs/trialstreamer/data/pubmed18n0290.xml.gz: 60it [01:01,  1.02s/it]\n",
      "classifying and uploading postgres (290/928) /home/iain/Code/robotlabs/trialstreamer/data/pubmed18n0291.xml.gz: 60it [01:03,  1.06s/it]\n",
      "classifying and uploading postgres (291/928) /home/iain/Code/robotlabs/trialstreamer/data/pubmed18n0292.xml.gz: 60it [01:01,  1.03s/it]\n",
      "classifying and uploading postgres (292/928) /home/iain/Code/robotlabs/trialstreamer/data/pubmed18n0293.xml.gz: 60it [01:02,  1.04s/it]\n",
      "classifying and uploading postgres (293/928) /home/iain/Code/robotlabs/trialstreamer/data/pubmed18n0294.xml.gz: 60it [01:02,  1.05s/it]\n",
      "classifying and uploading postgres (294/928) /home/iain/Code/robotlabs/trialstreamer/data/pubmed18n0295.xml.gz: 60it [01:04,  1.07s/it]\n",
      "classifying and uploading postgres (295/928) /home/iain/Code/robotlabs/trialstreamer/data/pubmed18n0296.xml.gz: 60it [01:03,  1.05s/it]\n",
      "classifying and uploading postgres (296/928) /home/iain/Code/robotlabs/trialstreamer/data/pubmed18n0297.xml.gz: 60it [01:01,  1.02s/it]\n",
      "classifying and uploading postgres (297/928) /home/iain/Code/robotlabs/trialstreamer/data/pubmed18n0298.xml.gz: 60it [01:00,  1.00s/it]\n",
      "classifying and uploading postgres (298/928) /home/iain/Code/robotlabs/trialstreamer/data/pubmed18n0299.xml.gz: 60it [01:03,  1.06s/it]\n",
      "classifying and uploading postgres (299/928) /home/iain/Code/robotlabs/trialstreamer/data/pubmed18n0300.xml.gz: 60it [01:02,  1.04s/it]\n",
      "classifying and uploading postgres (300/928) /home/iain/Code/robotlabs/trialstreamer/data/pubmed18n0301.xml.gz: 60it [01:03,  1.05s/it]\n",
      "classifying and uploading postgres (301/928) /home/iain/Code/robotlabs/trialstreamer/data/pubmed18n0302.xml.gz: 60it [01:02,  1.04s/it]\n",
      "classifying and uploading postgres (302/928) /home/iain/Code/robotlabs/trialstreamer/data/pubmed18n0303.xml.gz: 60it [01:01,  1.03s/it]\n",
      "classifying and uploading postgres (303/928) /home/iain/Code/robotlabs/trialstreamer/data/pubmed18n0304.xml.gz: 60it [01:02,  1.05s/it]\n",
      "classifying and uploading postgres (304/928) /home/iain/Code/robotlabs/trialstreamer/data/pubmed18n0305.xml.gz: 60it [01:02,  1.04s/it]\n",
      "classifying and uploading postgres (305/928) /home/iain/Code/robotlabs/trialstreamer/data/pubmed18n0306.xml.gz: 60it [01:02,  1.05s/it]\n",
      "classifying and uploading postgres (306/928) /home/iain/Code/robotlabs/trialstreamer/data/pubmed18n0307.xml.gz: 60it [01:03,  1.05s/it]\n",
      "classifying and uploading postgres (307/928) /home/iain/Code/robotlabs/trialstreamer/data/pubmed18n0308.xml.gz: 60it [01:02,  1.04s/it]\n",
      "classifying and uploading postgres (308/928) /home/iain/Code/robotlabs/trialstreamer/data/pubmed18n0309.xml.gz: 60it [01:01,  1.03s/it]\n",
      "classifying and uploading postgres (309/928) /home/iain/Code/robotlabs/trialstreamer/data/pubmed18n0310.xml.gz: 60it [01:02,  1.04s/it]\n",
      "classifying and uploading postgres (310/928) /home/iain/Code/robotlabs/trialstreamer/data/pubmed18n0311.xml.gz: 60it [01:03,  1.06s/it]\n",
      "classifying and uploading postgres (311/928) /home/iain/Code/robotlabs/trialstreamer/data/pubmed18n0312.xml.gz: 60it [01:02,  1.04s/it]\n",
      "classifying and uploading postgres (312/928) /home/iain/Code/robotlabs/trialstreamer/data/pubmed18n0313.xml.gz: 60it [01:03,  1.06s/it]\n",
      "classifying and uploading postgres (313/928) /home/iain/Code/robotlabs/trialstreamer/data/pubmed18n0314.xml.gz: 60it [01:00,  1.01s/it]\n",
      "classifying and uploading postgres (314/928) /home/iain/Code/robotlabs/trialstreamer/data/pubmed18n0315.xml.gz: 60it [01:02,  1.05s/it]\n",
      "classifying and uploading postgres (315/928) /home/iain/Code/robotlabs/trialstreamer/data/pubmed18n0316.xml.gz: 60it [01:03,  1.05s/it]\n",
      "classifying and uploading postgres (316/928) /home/iain/Code/robotlabs/trialstreamer/data/pubmed18n0318.xml.gz: 60it [01:02,  1.03s/it]\n",
      "classifying and uploading postgres (317/928) /home/iain/Code/robotlabs/trialstreamer/data/pubmed18n0317.xml.gz: 60it [01:02,  1.04s/it]\n",
      "classifying and uploading postgres (318/928) /home/iain/Code/robotlabs/trialstreamer/data/pubmed18n0319.xml.gz: 60it [01:02,  1.04s/it]\n",
      "classifying and uploading postgres (319/928) /home/iain/Code/robotlabs/trialstreamer/data/pubmed18n0320.xml.gz: 60it [01:02,  1.04s/it]\n",
      "classifying and uploading postgres (320/928) /home/iain/Code/robotlabs/trialstreamer/data/pubmed18n0322.xml.gz: 60it [01:02,  1.05s/it]\n",
      "classifying and uploading postgres (321/928) /home/iain/Code/robotlabs/trialstreamer/data/pubmed18n0321.xml.gz: 60it [01:02,  1.05s/it]\n",
      "classifying and uploading postgres (322/928) /home/iain/Code/robotlabs/trialstreamer/data/pubmed18n0323.xml.gz: 60it [01:02,  1.05s/it]\n",
      "classifying and uploading postgres (323/928) /home/iain/Code/robotlabs/trialstreamer/data/pubmed18n0324.xml.gz: 60it [01:02,  1.03s/it]\n",
      "classifying and uploading postgres (324/928) /home/iain/Code/robotlabs/trialstreamer/data/pubmed18n0325.xml.gz: 60it [01:03,  1.05s/it]\n",
      "classifying and uploading postgres (325/928) /home/iain/Code/robotlabs/trialstreamer/data/pubmed18n0328.xml.gz: 60it [00:59,  1.01it/s]\n",
      "classifying and uploading postgres (326/928) /home/iain/Code/robotlabs/trialstreamer/data/pubmed18n0327.xml.gz: 60it [01:03,  1.06s/it]\n",
      "classifying and uploading postgres (327/928) /home/iain/Code/robotlabs/trialstreamer/data/pubmed18n0326.xml.gz: 60it [01:03,  1.06s/it]\n",
      "classifying and uploading postgres (328/928) /home/iain/Code/robotlabs/trialstreamer/data/pubmed18n0330.xml.gz: 60it [00:59,  1.02it/s]\n",
      "classifying and uploading postgres (329/928) /home/iain/Code/robotlabs/trialstreamer/data/pubmed18n0331.xml.gz: 60it [00:58,  1.03it/s]\n",
      "classifying and uploading postgres (330/928) /home/iain/Code/robotlabs/trialstreamer/data/pubmed18n0332.xml.gz: 60it [00:59,  1.00it/s]\n",
      "classifying and uploading postgres (331/928) /home/iain/Code/robotlabs/trialstreamer/data/pubmed18n0329.xml.gz: 60it [01:00,  1.00s/it]\n",
      "classifying and uploading postgres (332/928) /home/iain/Code/robotlabs/trialstreamer/data/pubmed18n0333.xml.gz: 60it [00:59,  1.00it/s]\n",
      "classifying and uploading postgres (333/928) /home/iain/Code/robotlabs/trialstreamer/data/pubmed18n0336.xml.gz: 60it [00:48,  1.25it/s]\n",
      "classifying and uploading postgres (334/928) /home/iain/Code/robotlabs/trialstreamer/data/pubmed18n0335.xml.gz: 60it [00:53,  1.12it/s]\n",
      "classifying and uploading postgres (335/928) /home/iain/Code/robotlabs/trialstreamer/data/pubmed18n0334.xml.gz: 60it [01:01,  1.03s/it]\n",
      "classifying and uploading postgres (336/928) /home/iain/Code/robotlabs/trialstreamer/data/pubmed18n0337.xml.gz: 60it [00:49,  1.22it/s]\n",
      "classifying and uploading postgres (337/928) /home/iain/Code/robotlabs/trialstreamer/data/pubmed18n0340.xml.gz: 60it [00:45,  1.31it/s]\n",
      "classifying and uploading postgres (338/928) /home/iain/Code/robotlabs/trialstreamer/data/pubmed18n0338.xml.gz: 60it [01:00,  1.01s/it]\n",
      "classifying and uploading postgres (339/928) /home/iain/Code/robotlabs/trialstreamer/data/pubmed18n0341.xml.gz: 60it [00:44,  1.34it/s]\n",
      "classifying and uploading postgres (340/928) /home/iain/Code/robotlabs/trialstreamer/data/pubmed18n0339.xml.gz: 60it [01:01,  1.02s/it]\n",
      "classifying and uploading postgres (341/928) /home/iain/Code/robotlabs/trialstreamer/data/pubmed18n0342.xml.gz: 60it [00:51,  1.15it/s]\n",
      "classifying and uploading postgres (342/928) /home/iain/Code/robotlabs/trialstreamer/data/pubmed18n0343.xml.gz: 60it [01:01,  1.02s/it]\n",
      "classifying and uploading postgres (343/928) /home/iain/Code/robotlabs/trialstreamer/data/pubmed18n0344.xml.gz: 60it [01:04,  1.07s/it]\n",
      "classifying and uploading postgres (344/928) /home/iain/Code/robotlabs/trialstreamer/data/pubmed18n0345.xml.gz: 60it [01:02,  1.03s/it]\n",
      "classifying and uploading postgres (345/928) /home/iain/Code/robotlabs/trialstreamer/data/pubmed18n0346.xml.gz: 60it [01:04,  1.07s/it]\n",
      "classifying and uploading postgres (346/928) /home/iain/Code/robotlabs/trialstreamer/data/pubmed18n0347.xml.gz: 60it [01:03,  1.06s/it]\n",
      "classifying and uploading postgres (347/928) /home/iain/Code/robotlabs/trialstreamer/data/pubmed18n0348.xml.gz: 60it [01:04,  1.07s/it]\n",
      "classifying and uploading postgres (348/928) /home/iain/Code/robotlabs/trialstreamer/data/pubmed18n0349.xml.gz: 60it [01:01,  1.03s/it]\n",
      "classifying and uploading postgres (349/928) /home/iain/Code/robotlabs/trialstreamer/data/pubmed18n0350.xml.gz: 60it [01:03,  1.05s/it]\n",
      "classifying and uploading postgres (350/928) /home/iain/Code/robotlabs/trialstreamer/data/pubmed18n0351.xml.gz: 60it [01:02,  1.05s/it]\n",
      "classifying and uploading postgres (351/928) /home/iain/Code/robotlabs/trialstreamer/data/pubmed18n0352.xml.gz: 60it [01:02,  1.03s/it]\n",
      "classifying and uploading postgres (352/928) /home/iain/Code/robotlabs/trialstreamer/data/pubmed18n0353.xml.gz: 60it [01:03,  1.05s/it]\n"
     ]
    },
    {
     "name": "stderr",
     "output_type": "stream",
     "text": [
      "classifying and uploading postgres (353/928) /home/iain/Code/robotlabs/trialstreamer/data/pubmed18n0354.xml.gz: 60it [01:03,  1.05s/it]\n",
      "classifying and uploading postgres (354/928) /home/iain/Code/robotlabs/trialstreamer/data/pubmed18n0355.xml.gz: 60it [01:04,  1.07s/it]\n",
      "classifying and uploading postgres (355/928) /home/iain/Code/robotlabs/trialstreamer/data/pubmed18n0356.xml.gz: 60it [01:03,  1.06s/it]\n",
      "classifying and uploading postgres (356/928) /home/iain/Code/robotlabs/trialstreamer/data/pubmed18n0357.xml.gz: 60it [01:02,  1.05s/it]\n",
      "classifying and uploading postgres (357/928) /home/iain/Code/robotlabs/trialstreamer/data/pubmed18n0358.xml.gz: 60it [01:02,  1.04s/it]\n",
      "classifying and uploading postgres (358/928) /home/iain/Code/robotlabs/trialstreamer/data/pubmed18n0359.xml.gz: 60it [01:02,  1.04s/it]\n",
      "classifying and uploading postgres (359/928) /home/iain/Code/robotlabs/trialstreamer/data/pubmed18n0360.xml.gz: 60it [01:02,  1.04s/it]\n",
      "classifying and uploading postgres (360/928) /home/iain/Code/robotlabs/trialstreamer/data/pubmed18n0361.xml.gz: 60it [01:02,  1.04s/it]\n",
      "classifying and uploading postgres (361/928) /home/iain/Code/robotlabs/trialstreamer/data/pubmed18n0362.xml.gz: 60it [01:02,  1.04s/it]\n",
      "classifying and uploading postgres (362/928) /home/iain/Code/robotlabs/trialstreamer/data/pubmed18n0363.xml.gz: 60it [01:02,  1.05s/it]\n",
      "classifying and uploading postgres (363/928) /home/iain/Code/robotlabs/trialstreamer/data/pubmed18n0364.xml.gz: 60it [01:01,  1.02s/it]\n",
      "classifying and uploading postgres (364/928) /home/iain/Code/robotlabs/trialstreamer/data/pubmed18n0365.xml.gz: 60it [01:02,  1.04s/it]\n",
      "classifying and uploading postgres (365/928) /home/iain/Code/robotlabs/trialstreamer/data/pubmed18n0366.xml.gz: 60it [01:02,  1.05s/it]\n",
      "classifying and uploading postgres (366/928) /home/iain/Code/robotlabs/trialstreamer/data/pubmed18n0367.xml.gz: 60it [01:02,  1.05s/it]\n",
      "classifying and uploading postgres (367/928) /home/iain/Code/robotlabs/trialstreamer/data/pubmed18n0368.xml.gz: 60it [01:04,  1.08s/it]\n",
      "classifying and uploading postgres (368/928) /home/iain/Code/robotlabs/trialstreamer/data/pubmed18n0369.xml.gz: 60it [01:03,  1.06s/it]\n",
      "classifying and uploading postgres (369/928) /home/iain/Code/robotlabs/trialstreamer/data/pubmed18n0370.xml.gz: 60it [01:01,  1.02s/it]\n",
      "classifying and uploading postgres (370/928) /home/iain/Code/robotlabs/trialstreamer/data/pubmed18n0371.xml.gz: 60it [01:00,  1.00s/it]\n",
      "classifying and uploading postgres (371/928) /home/iain/Code/robotlabs/trialstreamer/data/pubmed18n0372.xml.gz: 60it [01:05,  1.08s/it]\n",
      "classifying and uploading postgres (372/928) /home/iain/Code/robotlabs/trialstreamer/data/pubmed18n0373.xml.gz: 60it [01:01,  1.02s/it]\n",
      "classifying and uploading postgres (373/928) /home/iain/Code/robotlabs/trialstreamer/data/pubmed18n0374.xml.gz: 60it [01:02,  1.05s/it]\n",
      "classifying and uploading postgres (374/928) /home/iain/Code/robotlabs/trialstreamer/data/pubmed18n0375.xml.gz: 60it [01:05,  1.08s/it]\n",
      "classifying and uploading postgres (375/928) /home/iain/Code/robotlabs/trialstreamer/data/pubmed18n0376.xml.gz: 60it [01:01,  1.03s/it]\n",
      "classifying and uploading postgres (376/928) /home/iain/Code/robotlabs/trialstreamer/data/pubmed18n0377.xml.gz: 60it [01:02,  1.04s/it]\n",
      "classifying and uploading postgres (377/928) /home/iain/Code/robotlabs/trialstreamer/data/pubmed18n0378.xml.gz: 60it [01:02,  1.04s/it]\n",
      "classifying and uploading postgres (378/928) /home/iain/Code/robotlabs/trialstreamer/data/pubmed18n0379.xml.gz: 60it [01:02,  1.04s/it]\n",
      "classifying and uploading postgres (379/928) /home/iain/Code/robotlabs/trialstreamer/data/pubmed18n0380.xml.gz: 60it [01:02,  1.05s/it]\n",
      "classifying and uploading postgres (380/928) /home/iain/Code/robotlabs/trialstreamer/data/pubmed18n0381.xml.gz: 60it [01:03,  1.07s/it]\n",
      "classifying and uploading postgres (381/928) /home/iain/Code/robotlabs/trialstreamer/data/pubmed18n0382.xml.gz: 60it [01:01,  1.03s/it]\n",
      "classifying and uploading postgres (382/928) /home/iain/Code/robotlabs/trialstreamer/data/pubmed18n0384.xml.gz: 60it [00:47,  1.26it/s]\n",
      "classifying and uploading postgres (383/928) /home/iain/Code/robotlabs/trialstreamer/data/pubmed18n0383.xml.gz: 60it [01:04,  1.08s/it]\n",
      "classifying and uploading postgres (384/928) /home/iain/Code/robotlabs/trialstreamer/data/pubmed18n0385.xml.gz: 60it [00:50,  1.20it/s]\n",
      "classifying and uploading postgres (385/928) /home/iain/Code/robotlabs/trialstreamer/data/pubmed18n0386.xml.gz: 60it [00:58,  1.02it/s]\n",
      "classifying and uploading postgres (386/928) /home/iain/Code/robotlabs/trialstreamer/data/pubmed18n0388.xml.gz: 60it [01:03,  1.06s/it]\n",
      "classifying and uploading postgres (387/928) /home/iain/Code/robotlabs/trialstreamer/data/pubmed18n0387.xml.gz: 60it [01:02,  1.04s/it]\n",
      "classifying and uploading postgres (388/928) /home/iain/Code/robotlabs/trialstreamer/data/pubmed18n0389.xml.gz: 60it [01:03,  1.06s/it]\n",
      "classifying and uploading postgres (389/928) /home/iain/Code/robotlabs/trialstreamer/data/pubmed18n0390.xml.gz: 60it [01:03,  1.05s/it]\n",
      "classifying and uploading postgres (390/928) /home/iain/Code/robotlabs/trialstreamer/data/pubmed18n0391.xml.gz: 60it [01:02,  1.04s/it]\n",
      "classifying and uploading postgres (391/928) /home/iain/Code/robotlabs/trialstreamer/data/pubmed18n0392.xml.gz: 60it [01:03,  1.06s/it]\n",
      "classifying and uploading postgres (392/928) /home/iain/Code/robotlabs/trialstreamer/data/pubmed18n0393.xml.gz: 60it [01:01,  1.02s/it]\n",
      "classifying and uploading postgres (393/928) /home/iain/Code/robotlabs/trialstreamer/data/pubmed18n0394.xml.gz: 60it [01:01,  1.03s/it]\n",
      "classifying and uploading postgres (394/928) /home/iain/Code/robotlabs/trialstreamer/data/pubmed18n0395.xml.gz: 60it [01:02,  1.03s/it]\n",
      "classifying and uploading postgres (395/928) /home/iain/Code/robotlabs/trialstreamer/data/pubmed18n0396.xml.gz: 60it [01:01,  1.03s/it]\n",
      "classifying and uploading postgres (396/928) /home/iain/Code/robotlabs/trialstreamer/data/pubmed18n0397.xml.gz: 60it [01:01,  1.03s/it]\n",
      "classifying and uploading postgres (397/928) /home/iain/Code/robotlabs/trialstreamer/data/pubmed18n0398.xml.gz: 60it [01:01,  1.02s/it]\n",
      "classifying and uploading postgres (398/928) /home/iain/Code/robotlabs/trialstreamer/data/pubmed18n0399.xml.gz: 60it [01:04,  1.08s/it]\n",
      "classifying and uploading postgres (399/928) /home/iain/Code/robotlabs/trialstreamer/data/pubmed18n0400.xml.gz: 60it [01:02,  1.05s/it]\n",
      "classifying and uploading postgres (400/928) /home/iain/Code/robotlabs/trialstreamer/data/pubmed18n0401.xml.gz: 60it [01:01,  1.03s/it]\n",
      "classifying and uploading postgres (401/928) /home/iain/Code/robotlabs/trialstreamer/data/pubmed18n0402.xml.gz: 60it [01:03,  1.06s/it]\n",
      "classifying and uploading postgres (402/928) /home/iain/Code/robotlabs/trialstreamer/data/pubmed18n0404.xml.gz: 60it [00:53,  1.12it/s]\n",
      "classifying and uploading postgres (403/928) /home/iain/Code/robotlabs/trialstreamer/data/pubmed18n0403.xml.gz: 60it [01:02,  1.04s/it]\n",
      "classifying and uploading postgres (404/928) /home/iain/Code/robotlabs/trialstreamer/data/pubmed18n0405.xml.gz: 60it [00:57,  1.05it/s]\n",
      "classifying and uploading postgres (405/928) /home/iain/Code/robotlabs/trialstreamer/data/pubmed18n0406.xml.gz: 60it [01:03,  1.05s/it]\n",
      "classifying and uploading postgres (406/928) /home/iain/Code/robotlabs/trialstreamer/data/pubmed18n0408.xml.gz: 60it [01:02,  1.05s/it]\n",
      "classifying and uploading postgres (407/928) /home/iain/Code/robotlabs/trialstreamer/data/pubmed18n0407.xml.gz: 60it [01:03,  1.06s/it]\n",
      "classifying and uploading postgres (408/928) /home/iain/Code/robotlabs/trialstreamer/data/pubmed18n0409.xml.gz: 60it [01:02,  1.04s/it]\n",
      "classifying and uploading postgres (409/928) /home/iain/Code/robotlabs/trialstreamer/data/pubmed18n0410.xml.gz: 60it [01:02,  1.04s/it]\n",
      "classifying and uploading postgres (410/928) /home/iain/Code/robotlabs/trialstreamer/data/pubmed18n0411.xml.gz: 60it [01:04,  1.07s/it]\n",
      "classifying and uploading postgres (411/928) /home/iain/Code/robotlabs/trialstreamer/data/pubmed18n0412.xml.gz: 60it [01:04,  1.07s/it]\n",
      "classifying and uploading postgres (412/928) /home/iain/Code/robotlabs/trialstreamer/data/pubmed18n0413.xml.gz: 60it [01:04,  1.08s/it]\n",
      "classifying and uploading postgres (413/928) /home/iain/Code/robotlabs/trialstreamer/data/pubmed18n0414.xml.gz: 60it [01:03,  1.05s/it]\n",
      "classifying and uploading postgres (414/928) /home/iain/Code/robotlabs/trialstreamer/data/pubmed18n0415.xml.gz: 60it [01:03,  1.05s/it]\n",
      "classifying and uploading postgres (415/928) /home/iain/Code/robotlabs/trialstreamer/data/pubmed18n0416.xml.gz: 60it [01:03,  1.05s/it]\n",
      "classifying and uploading postgres (416/928) /home/iain/Code/robotlabs/trialstreamer/data/pubmed18n0417.xml.gz: 60it [01:02,  1.04s/it]\n",
      "classifying and uploading postgres (417/928) /home/iain/Code/robotlabs/trialstreamer/data/pubmed18n0418.xml.gz: 60it [01:05,  1.09s/it]\n",
      "classifying and uploading postgres (418/928) /home/iain/Code/robotlabs/trialstreamer/data/pubmed18n0419.xml.gz: 60it [01:04,  1.08s/it]\n",
      "classifying and uploading postgres (419/928) /home/iain/Code/robotlabs/trialstreamer/data/pubmed18n0420.xml.gz: 60it [01:03,  1.05s/it]\n",
      "classifying and uploading postgres (420/928) /home/iain/Code/robotlabs/trialstreamer/data/pubmed18n0421.xml.gz: 60it [01:02,  1.03s/it]\n",
      "classifying and uploading postgres (421/928) /home/iain/Code/robotlabs/trialstreamer/data/pubmed18n0422.xml.gz: 60it [01:04,  1.07s/it]\n",
      "classifying and uploading postgres (422/928) /home/iain/Code/robotlabs/trialstreamer/data/pubmed18n0425.xml.gz: 60it [00:48,  1.24it/s]\n",
      "classifying and uploading postgres (423/928) /home/iain/Code/robotlabs/trialstreamer/data/pubmed18n0423.xml.gz: 60it [01:03,  1.05s/it]\n",
      "classifying and uploading postgres (424/928) /home/iain/Code/robotlabs/trialstreamer/data/pubmed18n0424.xml.gz: 60it [00:59,  1.01it/s]\n",
      "classifying and uploading postgres (425/928) /home/iain/Code/robotlabs/trialstreamer/data/pubmed18n0426.xml.gz: 60it [00:47,  1.26it/s]\n",
      "classifying and uploading postgres (426/928) /home/iain/Code/robotlabs/trialstreamer/data/pubmed18n0427.xml.gz: 60it [00:46,  1.29it/s]\n",
      "classifying and uploading postgres (427/928) /home/iain/Code/robotlabs/trialstreamer/data/pubmed18n0428.xml.gz: 60it [00:47,  1.27it/s]\n",
      "classifying and uploading postgres (428/928) /home/iain/Code/robotlabs/trialstreamer/data/pubmed18n0429.xml.gz: 60it [00:48,  1.24it/s]\n",
      "classifying and uploading postgres (429/928) /home/iain/Code/robotlabs/trialstreamer/data/pubmed18n0430.xml.gz: 60it [00:48,  1.23it/s]\n",
      "classifying and uploading postgres (430/928) /home/iain/Code/robotlabs/trialstreamer/data/pubmed18n0431.xml.gz: 60it [00:48,  1.24it/s]\n",
      "classifying and uploading postgres (431/928) /home/iain/Code/robotlabs/trialstreamer/data/pubmed18n0432.xml.gz: 60it [00:48,  1.23it/s]\n",
      "classifying and uploading postgres (432/928) /home/iain/Code/robotlabs/trialstreamer/data/pubmed18n0433.xml.gz: 60it [00:48,  1.22it/s]\n",
      "classifying and uploading postgres (433/928) /home/iain/Code/robotlabs/trialstreamer/data/pubmed18n0434.xml.gz: 60it [00:49,  1.22it/s]\n",
      "classifying and uploading postgres (434/928) /home/iain/Code/robotlabs/trialstreamer/data/pubmed18n0435.xml.gz: 60it [00:48,  1.23it/s]\n",
      "classifying and uploading postgres (435/928) /home/iain/Code/robotlabs/trialstreamer/data/pubmed18n0436.xml.gz: 60it [00:50,  1.20it/s]\n",
      "classifying and uploading postgres (436/928) /home/iain/Code/robotlabs/trialstreamer/data/pubmed18n0437.xml.gz: 60it [00:48,  1.25it/s]\n",
      "classifying and uploading postgres (437/928) /home/iain/Code/robotlabs/trialstreamer/data/pubmed18n0438.xml.gz: 60it [00:49,  1.22it/s]\n",
      "classifying and uploading postgres (438/928) /home/iain/Code/robotlabs/trialstreamer/data/pubmed18n0439.xml.gz: 60it [00:48,  1.23it/s]\n",
      "classifying and uploading postgres (439/928) /home/iain/Code/robotlabs/trialstreamer/data/pubmed18n0440.xml.gz: 60it [00:47,  1.25it/s]\n",
      "classifying and uploading postgres (440/928) /home/iain/Code/robotlabs/trialstreamer/data/pubmed18n0442.xml.gz: 60it [00:49,  1.22it/s]\n",
      "classifying and uploading postgres (441/928) /home/iain/Code/robotlabs/trialstreamer/data/pubmed18n0441.xml.gz: 60it [00:48,  1.25it/s]\n",
      "classifying and uploading postgres (442/928) /home/iain/Code/robotlabs/trialstreamer/data/pubmed18n0443.xml.gz: 60it [00:48,  1.23it/s]\n",
      "classifying and uploading postgres (443/928) /home/iain/Code/robotlabs/trialstreamer/data/pubmed18n0444.xml.gz: 60it [00:48,  1.23it/s]\n",
      "classifying and uploading postgres (444/928) /home/iain/Code/robotlabs/trialstreamer/data/pubmed18n0445.xml.gz: 60it [00:48,  1.24it/s]\n",
      "classifying and uploading postgres (445/928) /home/iain/Code/robotlabs/trialstreamer/data/pubmed18n0446.xml.gz: 60it [00:49,  1.22it/s]\n",
      "classifying and uploading postgres (446/928) /home/iain/Code/robotlabs/trialstreamer/data/pubmed18n0447.xml.gz: 60it [00:49,  1.22it/s]\n",
      "classifying and uploading postgres (447/928) /home/iain/Code/robotlabs/trialstreamer/data/pubmed18n0448.xml.gz: 60it [00:50,  1.20it/s]\n",
      "classifying and uploading postgres (448/928) /home/iain/Code/robotlabs/trialstreamer/data/pubmed18n0449.xml.gz: 60it [00:48,  1.23it/s]\n",
      "classifying and uploading postgres (449/928) /home/iain/Code/robotlabs/trialstreamer/data/pubmed18n0450.xml.gz: 60it [00:49,  1.22it/s]\n",
      "classifying and uploading postgres (450/928) /home/iain/Code/robotlabs/trialstreamer/data/pubmed18n0451.xml.gz: 60it [00:47,  1.26it/s]\n",
      "classifying and uploading postgres (451/928) /home/iain/Code/robotlabs/trialstreamer/data/pubmed18n0452.xml.gz: 60it [00:49,  1.22it/s]\n",
      "classifying and uploading postgres (452/928) /home/iain/Code/robotlabs/trialstreamer/data/pubmed18n0453.xml.gz: 60it [00:49,  1.22it/s]\n",
      "classifying and uploading postgres (453/928) /home/iain/Code/robotlabs/trialstreamer/data/pubmed18n0454.xml.gz: 60it [00:46,  1.30it/s]\n",
      "classifying and uploading postgres (454/928) /home/iain/Code/robotlabs/trialstreamer/data/pubmed18n0455.xml.gz: 60it [00:47,  1.25it/s]\n",
      "classifying and uploading postgres (455/928) /home/iain/Code/robotlabs/trialstreamer/data/pubmed18n0456.xml.gz: 60it [00:49,  1.22it/s]\n",
      "classifying and uploading postgres (456/928) /home/iain/Code/robotlabs/trialstreamer/data/pubmed18n0457.xml.gz: 60it [00:48,  1.24it/s]\n",
      "classifying and uploading postgres (457/928) /home/iain/Code/robotlabs/trialstreamer/data/pubmed18n0458.xml.gz: 60it [00:49,  1.20it/s]\n",
      "classifying and uploading postgres (458/928) /home/iain/Code/robotlabs/trialstreamer/data/pubmed18n0459.xml.gz: 60it [00:48,  1.24it/s]\n",
      "classifying and uploading postgres (459/928) /home/iain/Code/robotlabs/trialstreamer/data/pubmed18n0460.xml.gz: 60it [00:48,  1.23it/s]\n",
      "classifying and uploading postgres (460/928) /home/iain/Code/robotlabs/trialstreamer/data/pubmed18n0462.xml.gz: 60it [00:52,  1.14it/s]\n",
      "classifying and uploading postgres (461/928) /home/iain/Code/robotlabs/trialstreamer/data/pubmed18n0461.xml.gz: 60it [00:50,  1.18it/s]\n",
      "classifying and uploading postgres (462/928) /home/iain/Code/robotlabs/trialstreamer/data/pubmed18n0463.xml.gz: 60it [00:50,  1.19it/s]\n",
      "classifying and uploading postgres (463/928) /home/iain/Code/robotlabs/trialstreamer/data/pubmed18n0464.xml.gz: 60it [00:51,  1.16it/s]\n",
      "classifying and uploading postgres (464/928) /home/iain/Code/robotlabs/trialstreamer/data/pubmed18n0466.xml.gz: 60it [00:50,  1.19it/s]\n",
      "classifying and uploading postgres (465/928) /home/iain/Code/robotlabs/trialstreamer/data/pubmed18n0465.xml.gz: 60it [00:51,  1.17it/s]\n",
      "classifying and uploading postgres (466/928) /home/iain/Code/robotlabs/trialstreamer/data/pubmed18n0467.xml.gz: 60it [00:49,  1.21it/s]\n",
      "classifying and uploading postgres (467/928) /home/iain/Code/robotlabs/trialstreamer/data/pubmed18n0468.xml.gz: 60it [00:50,  1.20it/s]\n",
      "classifying and uploading postgres (468/928) /home/iain/Code/robotlabs/trialstreamer/data/pubmed18n0470.xml.gz: 60it [00:48,  1.23it/s]\n",
      "classifying and uploading postgres (469/928) /home/iain/Code/robotlabs/trialstreamer/data/pubmed18n0469.xml.gz: 60it [00:49,  1.21it/s]\n",
      "classifying and uploading postgres (470/928) /home/iain/Code/robotlabs/trialstreamer/data/pubmed18n0471.xml.gz: 60it [00:47,  1.27it/s]\n",
      "classifying and uploading postgres (471/928) /home/iain/Code/robotlabs/trialstreamer/data/pubmed18n0472.xml.gz: 60it [00:49,  1.20it/s]\n",
      "classifying and uploading postgres (472/928) /home/iain/Code/robotlabs/trialstreamer/data/pubmed18n0473.xml.gz: 60it [00:48,  1.24it/s]\n"
     ]
    },
    {
     "name": "stderr",
     "output_type": "stream",
     "text": [
      "classifying and uploading postgres (473/928) /home/iain/Code/robotlabs/trialstreamer/data/pubmed18n0474.xml.gz: 60it [00:49,  1.21it/s]\n",
      "classifying and uploading postgres (474/928) /home/iain/Code/robotlabs/trialstreamer/data/pubmed18n0475.xml.gz: 60it [00:58,  1.02it/s]\n",
      "classifying and uploading postgres (475/928) /home/iain/Code/robotlabs/trialstreamer/data/pubmed18n0476.xml.gz: 60it [01:05,  1.09s/it]\n",
      "classifying and uploading postgres (476/928) /home/iain/Code/robotlabs/trialstreamer/data/pubmed18n0477.xml.gz: 60it [01:02,  1.04s/it]\n",
      "classifying and uploading postgres (477/928) /home/iain/Code/robotlabs/trialstreamer/data/pubmed18n0478.xml.gz: 60it [01:03,  1.06s/it]\n",
      "classifying and uploading postgres (478/928) /home/iain/Code/robotlabs/trialstreamer/data/pubmed18n0479.xml.gz: 60it [01:04,  1.07s/it]\n",
      "classifying and uploading postgres (479/928) /home/iain/Code/robotlabs/trialstreamer/data/pubmed18n0480.xml.gz: 60it [01:03,  1.06s/it]\n",
      "classifying and uploading postgres (480/928) /home/iain/Code/robotlabs/trialstreamer/data/pubmed18n0481.xml.gz: 60it [01:02,  1.04s/it]\n",
      "classifying and uploading postgres (481/928) /home/iain/Code/robotlabs/trialstreamer/data/pubmed18n0483.xml.gz: 60it [00:50,  1.18it/s]\n",
      "classifying and uploading postgres (482/928) /home/iain/Code/robotlabs/trialstreamer/data/pubmed18n0482.xml.gz: 60it [01:04,  1.08s/it]\n",
      "classifying and uploading postgres (483/928) /home/iain/Code/robotlabs/trialstreamer/data/pubmed18n0484.xml.gz: 60it [00:48,  1.25it/s]\n",
      "classifying and uploading postgres (484/928) /home/iain/Code/robotlabs/trialstreamer/data/pubmed18n0485.xml.gz: 60it [00:48,  1.24it/s]\n",
      "classifying and uploading postgres (485/928) /home/iain/Code/robotlabs/trialstreamer/data/pubmed18n0486.xml.gz: 60it [00:49,  1.21it/s]\n",
      "classifying and uploading postgres (486/928) /home/iain/Code/robotlabs/trialstreamer/data/pubmed18n0487.xml.gz: 60it [00:48,  1.24it/s]\n",
      "classifying and uploading postgres (487/928) /home/iain/Code/robotlabs/trialstreamer/data/pubmed18n0488.xml.gz: 60it [00:49,  1.22it/s]\n",
      "classifying and uploading postgres (488/928) /home/iain/Code/robotlabs/trialstreamer/data/pubmed18n0489.xml.gz: 60it [00:56,  1.05it/s]\n",
      "classifying and uploading postgres (489/928) /home/iain/Code/robotlabs/trialstreamer/data/pubmed18n0490.xml.gz: 60it [01:05,  1.10s/it]\n",
      "classifying and uploading postgres (490/928) /home/iain/Code/robotlabs/trialstreamer/data/pubmed18n0491.xml.gz: 60it [01:04,  1.07s/it]\n",
      "classifying and uploading postgres (491/928) /home/iain/Code/robotlabs/trialstreamer/data/pubmed18n0492.xml.gz: 60it [01:03,  1.05s/it]\n",
      "classifying and uploading postgres (492/928) /home/iain/Code/robotlabs/trialstreamer/data/pubmed18n0493.xml.gz: 60it [01:03,  1.06s/it]\n",
      "classifying and uploading postgres (493/928) /home/iain/Code/robotlabs/trialstreamer/data/pubmed18n0494.xml.gz: 60it [01:03,  1.07s/it]\n",
      "classifying and uploading postgres (494/928) /home/iain/Code/robotlabs/trialstreamer/data/pubmed18n0495.xml.gz: 60it [01:05,  1.10s/it]\n",
      "classifying and uploading postgres (495/928) /home/iain/Code/robotlabs/trialstreamer/data/pubmed18n0496.xml.gz: 60it [01:03,  1.06s/it]\n",
      "classifying and uploading postgres (496/928) /home/iain/Code/robotlabs/trialstreamer/data/pubmed18n0497.xml.gz: 60it [01:04,  1.07s/it]\n",
      "classifying and uploading postgres (497/928) /home/iain/Code/robotlabs/trialstreamer/data/pubmed18n0498.xml.gz: 60it [01:05,  1.09s/it]\n",
      "classifying and uploading postgres (498/928) /home/iain/Code/robotlabs/trialstreamer/data/pubmed18n0499.xml.gz: 60it [01:03,  1.06s/it]\n",
      "classifying and uploading postgres (499/928) /home/iain/Code/robotlabs/trialstreamer/data/pubmed18n0500.xml.gz: 60it [01:04,  1.08s/it]\n",
      "classifying and uploading postgres (500/928) /home/iain/Code/robotlabs/trialstreamer/data/pubmed18n0501.xml.gz: 60it [01:03,  1.06s/it]\n",
      "classifying and uploading postgres (501/928) /home/iain/Code/robotlabs/trialstreamer/data/pubmed18n0503.xml.gz: 60it [00:46,  1.28it/s]\n",
      "classifying and uploading postgres (502/928) /home/iain/Code/robotlabs/trialstreamer/data/pubmed18n0502.xml.gz: 60it [00:59,  1.01it/s]\n",
      "classifying and uploading postgres (503/928) /home/iain/Code/robotlabs/trialstreamer/data/pubmed18n0504.xml.gz: 60it [00:54,  1.09it/s]\n",
      "classifying and uploading postgres (504/928) /home/iain/Code/robotlabs/trialstreamer/data/pubmed18n0505.xml.gz: 60it [01:03,  1.06s/it]\n",
      "classifying and uploading postgres (505/928) /home/iain/Code/robotlabs/trialstreamer/data/pubmed18n0506.xml.gz: 60it [01:03,  1.06s/it]\n",
      "classifying and uploading postgres (506/928) /home/iain/Code/robotlabs/trialstreamer/data/pubmed18n0507.xml.gz: 60it [01:04,  1.07s/it]\n",
      "classifying and uploading postgres (507/928) /home/iain/Code/robotlabs/trialstreamer/data/pubmed18n0508.xml.gz: 60it [01:03,  1.06s/it]\n",
      "classifying and uploading postgres (508/928) /home/iain/Code/robotlabs/trialstreamer/data/pubmed18n0509.xml.gz: 60it [01:04,  1.08s/it]\n",
      "classifying and uploading postgres (509/928) /home/iain/Code/robotlabs/trialstreamer/data/pubmed18n0510.xml.gz: 60it [01:03,  1.06s/it]\n",
      "classifying and uploading postgres (510/928) /home/iain/Code/robotlabs/trialstreamer/data/pubmed18n0511.xml.gz: 60it [01:04,  1.07s/it]\n",
      "classifying and uploading postgres (511/928) /home/iain/Code/robotlabs/trialstreamer/data/pubmed18n0512.xml.gz: 60it [01:04,  1.08s/it]\n",
      "classifying and uploading postgres (512/928) /home/iain/Code/robotlabs/trialstreamer/data/pubmed18n0513.xml.gz: 60it [01:06,  1.11s/it]\n",
      "classifying and uploading postgres (513/928) /home/iain/Code/robotlabs/trialstreamer/data/pubmed18n0514.xml.gz: 60it [01:05,  1.09s/it]\n",
      "classifying and uploading postgres (514/928) /home/iain/Code/robotlabs/trialstreamer/data/pubmed18n0515.xml.gz: 60it [01:05,  1.10s/it]\n",
      "classifying and uploading postgres (515/928) /home/iain/Code/robotlabs/trialstreamer/data/pubmed18n0516.xml.gz: 60it [01:03,  1.05s/it]\n",
      "classifying and uploading postgres (516/928) /home/iain/Code/robotlabs/trialstreamer/data/pubmed18n0517.xml.gz: 60it [01:05,  1.09s/it]\n",
      "classifying and uploading postgres (517/928) /home/iain/Code/robotlabs/trialstreamer/data/pubmed18n0518.xml.gz: 60it [01:04,  1.08s/it]\n",
      "classifying and uploading postgres (518/928) /home/iain/Code/robotlabs/trialstreamer/data/pubmed18n0519.xml.gz: 60it [01:03,  1.05s/it]\n",
      "classifying and uploading postgres (519/928) /home/iain/Code/robotlabs/trialstreamer/data/pubmed18n0520.xml.gz: 60it [01:05,  1.09s/it]\n",
      "classifying and uploading postgres (520/928) /home/iain/Code/robotlabs/trialstreamer/data/pubmed18n0521.xml.gz: 60it [01:05,  1.10s/it]\n",
      "classifying and uploading postgres (521/928) /home/iain/Code/robotlabs/trialstreamer/data/pubmed18n0522.xml.gz: 60it [01:05,  1.08s/it]\n",
      "classifying and uploading postgres (522/928) /home/iain/Code/robotlabs/trialstreamer/data/pubmed18n0523.xml.gz: 60it [01:04,  1.08s/it]\n",
      "classifying and uploading postgres (523/928) /home/iain/Code/robotlabs/trialstreamer/data/pubmed18n0524.xml.gz: 60it [01:04,  1.07s/it]\n",
      "classifying and uploading postgres (524/928) /home/iain/Code/robotlabs/trialstreamer/data/pubmed18n0525.xml.gz: 60it [01:04,  1.08s/it]\n",
      "classifying and uploading postgres (525/928) /home/iain/Code/robotlabs/trialstreamer/data/pubmed18n0526.xml.gz: 60it [01:05,  1.09s/it]\n",
      "classifying and uploading postgres (526/928) /home/iain/Code/robotlabs/trialstreamer/data/pubmed18n0527.xml.gz: 60it [01:06,  1.10s/it]\n",
      "classifying and uploading postgres (527/928) /home/iain/Code/robotlabs/trialstreamer/data/pubmed18n0528.xml.gz: 60it [01:03,  1.06s/it]\n",
      "classifying and uploading postgres (528/928) /home/iain/Code/robotlabs/trialstreamer/data/pubmed18n0529.xml.gz: 60it [01:03,  1.06s/it]\n",
      "classifying and uploading postgres (529/928) /home/iain/Code/robotlabs/trialstreamer/data/pubmed18n0530.xml.gz: 60it [01:04,  1.08s/it]\n",
      "classifying and uploading postgres (530/928) /home/iain/Code/robotlabs/trialstreamer/data/pubmed18n0532.xml.gz: 60it [01:02,  1.04s/it]\n",
      "classifying and uploading postgres (531/928) /home/iain/Code/robotlabs/trialstreamer/data/pubmed18n0531.xml.gz: 60it [01:04,  1.07s/it]\n",
      "classifying and uploading postgres (532/928) /home/iain/Code/robotlabs/trialstreamer/data/pubmed18n0533.xml.gz: 60it [01:04,  1.08s/it]\n",
      "classifying and uploading postgres (533/928) /home/iain/Code/robotlabs/trialstreamer/data/pubmed18n0534.xml.gz: 60it [01:03,  1.06s/it]\n",
      "classifying and uploading postgres (534/928) /home/iain/Code/robotlabs/trialstreamer/data/pubmed18n0535.xml.gz: 60it [01:04,  1.07s/it]\n",
      "classifying and uploading postgres (535/928) /home/iain/Code/robotlabs/trialstreamer/data/pubmed18n0536.xml.gz: 60it [01:02,  1.05s/it]\n",
      "classifying and uploading postgres (536/928) /home/iain/Code/robotlabs/trialstreamer/data/pubmed18n0537.xml.gz: 60it [01:05,  1.08s/it]\n",
      "classifying and uploading postgres (537/928) /home/iain/Code/robotlabs/trialstreamer/data/pubmed18n0538.xml.gz: 60it [01:04,  1.08s/it]\n",
      "classifying and uploading postgres (538/928) /home/iain/Code/robotlabs/trialstreamer/data/pubmed18n0539.xml.gz: 60it [01:02,  1.04s/it]\n",
      "classifying and uploading postgres (539/928) /home/iain/Code/robotlabs/trialstreamer/data/pubmed18n0540.xml.gz: 60it [01:03,  1.06s/it]\n",
      "classifying and uploading postgres (540/928) /home/iain/Code/robotlabs/trialstreamer/data/pubmed18n0541.xml.gz: 60it [01:05,  1.09s/it]\n",
      "classifying and uploading postgres (541/928) /home/iain/Code/robotlabs/trialstreamer/data/pubmed18n0542.xml.gz: 60it [01:00,  1.01s/it]\n",
      "classifying and uploading postgres (542/928) /home/iain/Code/robotlabs/trialstreamer/data/pubmed18n0543.xml.gz: 60it [01:04,  1.07s/it]\n",
      "classifying and uploading postgres (543/928) /home/iain/Code/robotlabs/trialstreamer/data/pubmed18n0544.xml.gz: 60it [01:04,  1.07s/it]\n",
      "classifying and uploading postgres (544/928) /home/iain/Code/robotlabs/trialstreamer/data/pubmed18n0545.xml.gz: 60it [01:05,  1.08s/it]\n",
      "classifying and uploading postgres (545/928) /home/iain/Code/robotlabs/trialstreamer/data/pubmed18n0546.xml.gz: 60it [01:06,  1.10s/it]\n",
      "classifying and uploading postgres (546/928) /home/iain/Code/robotlabs/trialstreamer/data/pubmed18n0547.xml.gz: 60it [01:04,  1.07s/it]\n",
      "classifying and uploading postgres (547/928) /home/iain/Code/robotlabs/trialstreamer/data/pubmed18n0548.xml.gz: 60it [01:05,  1.09s/it]\n",
      "classifying and uploading postgres (548/928) /home/iain/Code/robotlabs/trialstreamer/data/pubmed18n0549.xml.gz: 60it [01:04,  1.07s/it]\n",
      "classifying and uploading postgres (549/928) /home/iain/Code/robotlabs/trialstreamer/data/pubmed18n0550.xml.gz: 60it [01:04,  1.08s/it]\n",
      "classifying and uploading postgres (550/928) /home/iain/Code/robotlabs/trialstreamer/data/pubmed18n0551.xml.gz: 60it [01:04,  1.07s/it]\n",
      "classifying and uploading postgres (551/928) /home/iain/Code/robotlabs/trialstreamer/data/pubmed18n0552.xml.gz: 60it [01:05,  1.10s/it]\n",
      "classifying and uploading postgres (552/928) /home/iain/Code/robotlabs/trialstreamer/data/pubmed18n0553.xml.gz: 60it [01:05,  1.08s/it]\n",
      "classifying and uploading postgres (553/928) /home/iain/Code/robotlabs/trialstreamer/data/pubmed18n0554.xml.gz: 60it [01:05,  1.09s/it]\n",
      "classifying and uploading postgres (554/928) /home/iain/Code/robotlabs/trialstreamer/data/pubmed18n0555.xml.gz: 60it [01:03,  1.05s/it]\n",
      "classifying and uploading postgres (555/928) /home/iain/Code/robotlabs/trialstreamer/data/pubmed18n0556.xml.gz: 60it [01:05,  1.08s/it]\n",
      "classifying and uploading postgres (556/928) /home/iain/Code/robotlabs/trialstreamer/data/pubmed18n0557.xml.gz: 60it [01:04,  1.07s/it]\n",
      "classifying and uploading postgres (557/928) /home/iain/Code/robotlabs/trialstreamer/data/pubmed18n0558.xml.gz: 60it [01:06,  1.10s/it]\n",
      "classifying and uploading postgres (558/928) /home/iain/Code/robotlabs/trialstreamer/data/pubmed18n0559.xml.gz: 60it [01:04,  1.08s/it]\n",
      "classifying and uploading postgres (559/928) /home/iain/Code/robotlabs/trialstreamer/data/pubmed18n0560.xml.gz: 60it [01:04,  1.08s/it]\n",
      "classifying and uploading postgres (560/928) /home/iain/Code/robotlabs/trialstreamer/data/pubmed18n0561.xml.gz: 60it [01:03,  1.06s/it]\n",
      "classifying and uploading postgres (561/928) /home/iain/Code/robotlabs/trialstreamer/data/pubmed18n0562.xml.gz: 60it [01:06,  1.11s/it]\n",
      "classifying and uploading postgres (562/928) /home/iain/Code/robotlabs/trialstreamer/data/pubmed18n0563.xml.gz: 60it [01:05,  1.09s/it]\n",
      "classifying and uploading postgres (563/928) /home/iain/Code/robotlabs/trialstreamer/data/pubmed18n0564.xml.gz: 60it [01:06,  1.10s/it]\n",
      "classifying and uploading postgres (564/928) /home/iain/Code/robotlabs/trialstreamer/data/pubmed18n0565.xml.gz: 60it [01:05,  1.10s/it]\n",
      "classifying and uploading postgres (565/928) /home/iain/Code/robotlabs/trialstreamer/data/pubmed18n0566.xml.gz: 60it [01:05,  1.09s/it]\n",
      "classifying and uploading postgres (566/928) /home/iain/Code/robotlabs/trialstreamer/data/pubmed18n0567.xml.gz: 60it [01:04,  1.08s/it]\n",
      "classifying and uploading postgres (567/928) /home/iain/Code/robotlabs/trialstreamer/data/pubmed18n0568.xml.gz: 60it [01:05,  1.09s/it]\n",
      "classifying and uploading postgres (568/928) /home/iain/Code/robotlabs/trialstreamer/data/pubmed18n0569.xml.gz: 60it [01:05,  1.10s/it]\n",
      "classifying and uploading postgres (569/928) /home/iain/Code/robotlabs/trialstreamer/data/pubmed18n0570.xml.gz: 60it [01:06,  1.10s/it]\n",
      "classifying and uploading postgres (570/928) /home/iain/Code/robotlabs/trialstreamer/data/pubmed18n0571.xml.gz: 60it [01:06,  1.11s/it]\n",
      "classifying and uploading postgres (571/928) /home/iain/Code/robotlabs/trialstreamer/data/pubmed18n0572.xml.gz: 60it [01:04,  1.08s/it]\n",
      "classifying and uploading postgres (572/928) /home/iain/Code/robotlabs/trialstreamer/data/pubmed18n0573.xml.gz: 60it [01:05,  1.09s/it]\n",
      "classifying and uploading postgres (573/928) /home/iain/Code/robotlabs/trialstreamer/data/pubmed18n0575.xml.gz: 60it [01:03,  1.06s/it]\n",
      "classifying and uploading postgres (574/928) /home/iain/Code/robotlabs/trialstreamer/data/pubmed18n0576.xml.gz: 60it [01:03,  1.06s/it]\n",
      "classifying and uploading postgres (575/928) /home/iain/Code/robotlabs/trialstreamer/data/pubmed18n0574.xml.gz: 60it [01:06,  1.11s/it]\n",
      "classifying and uploading postgres (576/928) /home/iain/Code/robotlabs/trialstreamer/data/pubmed18n0577.xml.gz: 60it [01:02,  1.04s/it]\n",
      "classifying and uploading postgres (577/928) /home/iain/Code/robotlabs/trialstreamer/data/pubmed18n0578.xml.gz: 60it [01:02,  1.05s/it]\n",
      "classifying and uploading postgres (578/928) /home/iain/Code/robotlabs/trialstreamer/data/pubmed18n0579.xml.gz: 60it [01:05,  1.09s/it]\n",
      "classifying and uploading postgres (579/928) /home/iain/Code/robotlabs/trialstreamer/data/pubmed18n0580.xml.gz: 60it [01:05,  1.10s/it]\n",
      "classifying and uploading postgres (580/928) /home/iain/Code/robotlabs/trialstreamer/data/pubmed18n0581.xml.gz: 60it [01:05,  1.09s/it]\n",
      "classifying and uploading postgres (581/928) /home/iain/Code/robotlabs/trialstreamer/data/pubmed18n0582.xml.gz: 60it [01:04,  1.07s/it]\n",
      "classifying and uploading postgres (582/928) /home/iain/Code/robotlabs/trialstreamer/data/pubmed18n0583.xml.gz: 60it [01:04,  1.07s/it]\n",
      "classifying and uploading postgres (583/928) /home/iain/Code/robotlabs/trialstreamer/data/pubmed18n0584.xml.gz: 60it [01:03,  1.05s/it]\n",
      "classifying and uploading postgres (584/928) /home/iain/Code/robotlabs/trialstreamer/data/pubmed18n0587.xml.gz: 60it [00:45,  1.31it/s]\n",
      "classifying and uploading postgres (585/928) /home/iain/Code/robotlabs/trialstreamer/data/pubmed18n0585.xml.gz: 60it [01:05,  1.10s/it]\n",
      "classifying and uploading postgres (586/928) /home/iain/Code/robotlabs/trialstreamer/data/pubmed18n0588.xml.gz: 60it [00:48,  1.23it/s]\n",
      "classifying and uploading postgres (587/928) /home/iain/Code/robotlabs/trialstreamer/data/pubmed18n0586.xml.gz: 60it [01:05,  1.09s/it]\n",
      "classifying and uploading postgres (588/928) /home/iain/Code/robotlabs/trialstreamer/data/pubmed18n0589.xml.gz: 60it [01:05,  1.09s/it]\n",
      "classifying and uploading postgres (589/928) /home/iain/Code/robotlabs/trialstreamer/data/pubmed18n0591.xml.gz: 60it [01:00,  1.01s/it]\n",
      "classifying and uploading postgres (590/928) /home/iain/Code/robotlabs/trialstreamer/data/pubmed18n0590.xml.gz: 60it [01:04,  1.08s/it]\n",
      "classifying and uploading postgres (591/928) /home/iain/Code/robotlabs/trialstreamer/data/pubmed18n0592.xml.gz: 60it [01:03,  1.06s/it]\n",
      "classifying and uploading postgres (592/928) /home/iain/Code/robotlabs/trialstreamer/data/pubmed18n0593.xml.gz: 60it [01:06,  1.11s/it]\n"
     ]
    },
    {
     "name": "stderr",
     "output_type": "stream",
     "text": [
      "classifying and uploading postgres (593/928) /home/iain/Code/robotlabs/trialstreamer/data/pubmed18n0595.xml.gz: 60it [01:04,  1.08s/it]\n",
      "classifying and uploading postgres (594/928) /home/iain/Code/robotlabs/trialstreamer/data/pubmed18n0594.xml.gz: 60it [01:05,  1.09s/it]\n",
      "classifying and uploading postgres (595/928) /home/iain/Code/robotlabs/trialstreamer/data/pubmed18n0596.xml.gz: 60it [01:04,  1.07s/it]\n",
      "classifying and uploading postgres (596/928) /home/iain/Code/robotlabs/trialstreamer/data/pubmed18n0597.xml.gz: 60it [01:05,  1.09s/it]\n",
      "classifying and uploading postgres (597/928) /home/iain/Code/robotlabs/trialstreamer/data/pubmed18n0598.xml.gz: 60it [01:05,  1.09s/it]\n",
      "classifying and uploading postgres (598/928) /home/iain/Code/robotlabs/trialstreamer/data/pubmed18n0599.xml.gz: 60it [01:06,  1.11s/it]\n",
      "classifying and uploading postgres (599/928) /home/iain/Code/robotlabs/trialstreamer/data/pubmed18n0600.xml.gz: 60it [01:05,  1.10s/it]\n",
      "classifying and uploading postgres (600/928) /home/iain/Code/robotlabs/trialstreamer/data/pubmed18n0601.xml.gz: 60it [01:05,  1.09s/it]\n",
      "classifying and uploading postgres (601/928) /home/iain/Code/robotlabs/trialstreamer/data/pubmed18n0602.xml.gz: 60it [01:04,  1.07s/it]\n",
      "classifying and uploading postgres (602/928) /home/iain/Code/robotlabs/trialstreamer/data/pubmed18n0603.xml.gz: 60it [01:05,  1.10s/it]\n",
      "classifying and uploading postgres (603/928) /home/iain/Code/robotlabs/trialstreamer/data/pubmed18n0604.xml.gz: 60it [01:05,  1.09s/it]\n",
      "classifying and uploading postgres (604/928) /home/iain/Code/robotlabs/trialstreamer/data/pubmed18n0605.xml.gz: 60it [01:04,  1.08s/it]\n",
      "classifying and uploading postgres (605/928) /home/iain/Code/robotlabs/trialstreamer/data/pubmed18n0606.xml.gz: 60it [01:05,  1.09s/it]\n",
      "classifying and uploading postgres (606/928) /home/iain/Code/robotlabs/trialstreamer/data/pubmed18n0607.xml.gz: 60it [01:05,  1.09s/it]\n",
      "classifying and uploading postgres (607/928) /home/iain/Code/robotlabs/trialstreamer/data/pubmed18n0608.xml.gz: 60it [01:05,  1.09s/it]\n",
      "classifying and uploading postgres (608/928) /home/iain/Code/robotlabs/trialstreamer/data/pubmed18n0611.xml.gz: 60it [00:45,  1.33it/s]\n",
      "classifying and uploading postgres (609/928) /home/iain/Code/robotlabs/trialstreamer/data/pubmed18n0609.xml.gz: 60it [01:07,  1.13s/it]\n",
      "classifying and uploading postgres (610/928) /home/iain/Code/robotlabs/trialstreamer/data/pubmed18n0610.xml.gz: 60it [00:59,  1.00it/s]\n",
      "classifying and uploading postgres (611/928) /home/iain/Code/robotlabs/trialstreamer/data/pubmed18n0612.xml.gz: 60it [00:48,  1.23it/s]\n",
      "classifying and uploading postgres (612/928) /home/iain/Code/robotlabs/trialstreamer/data/pubmed18n0613.xml.gz: 60it [01:03,  1.05s/it]\n",
      "classifying and uploading postgres (613/928) /home/iain/Code/robotlabs/trialstreamer/data/pubmed18n0614.xml.gz: 60it [01:00,  1.01s/it]\n",
      "classifying and uploading postgres (614/928) /home/iain/Code/robotlabs/trialstreamer/data/pubmed18n0615.xml.gz: 60it [01:06,  1.11s/it]\n",
      "classifying and uploading postgres (615/928) /home/iain/Code/robotlabs/trialstreamer/data/pubmed18n0616.xml.gz: 60it [01:06,  1.11s/it]\n",
      "classifying and uploading postgres (616/928) /home/iain/Code/robotlabs/trialstreamer/data/pubmed18n0617.xml.gz: 60it [01:05,  1.09s/it]\n",
      "classifying and uploading postgres (617/928) /home/iain/Code/robotlabs/trialstreamer/data/pubmed18n0618.xml.gz: 60it [01:07,  1.12s/it]\n",
      "classifying and uploading postgres (618/928) /home/iain/Code/robotlabs/trialstreamer/data/pubmed18n0619.xml.gz: 60it [01:06,  1.11s/it]\n",
      "classifying and uploading postgres (619/928) /home/iain/Code/robotlabs/trialstreamer/data/pubmed18n0620.xml.gz: 60it [01:06,  1.11s/it]\n",
      "classifying and uploading postgres (620/928) /home/iain/Code/robotlabs/trialstreamer/data/pubmed18n0621.xml.gz: 60it [01:06,  1.11s/it]\n",
      "classifying and uploading postgres (621/928) /home/iain/Code/robotlabs/trialstreamer/data/pubmed18n0622.xml.gz: 60it [01:08,  1.14s/it]\n",
      "classifying and uploading postgres (622/928) /home/iain/Code/robotlabs/trialstreamer/data/pubmed18n0623.xml.gz: 60it [01:04,  1.08s/it]\n",
      "classifying and uploading postgres (623/928) /home/iain/Code/robotlabs/trialstreamer/data/pubmed18n0624.xml.gz: 60it [01:06,  1.10s/it]\n",
      "classifying and uploading postgres (624/928) /home/iain/Code/robotlabs/trialstreamer/data/pubmed18n0625.xml.gz: 60it [01:02,  1.05s/it]\n",
      "classifying and uploading postgres (625/928) /home/iain/Code/robotlabs/trialstreamer/data/pubmed18n0626.xml.gz: 60it [01:05,  1.10s/it]\n",
      "classifying and uploading postgres (626/928) /home/iain/Code/robotlabs/trialstreamer/data/pubmed18n0627.xml.gz: 60it [01:06,  1.11s/it]\n",
      "classifying and uploading postgres (627/928) /home/iain/Code/robotlabs/trialstreamer/data/pubmed18n0628.xml.gz: 60it [01:07,  1.13s/it]\n",
      "classifying and uploading postgres (628/928) /home/iain/Code/robotlabs/trialstreamer/data/pubmed18n0629.xml.gz: 60it [01:07,  1.13s/it]\n",
      "classifying and uploading postgres (629/928) /home/iain/Code/robotlabs/trialstreamer/data/pubmed18n0630.xml.gz: 60it [01:05,  1.10s/it]\n",
      "classifying and uploading postgres (630/928) /home/iain/Code/robotlabs/trialstreamer/data/pubmed18n0631.xml.gz: 60it [01:04,  1.08s/it]\n",
      "classifying and uploading postgres (631/928) /home/iain/Code/robotlabs/trialstreamer/data/pubmed18n0632.xml.gz: 60it [01:07,  1.13s/it]\n",
      "classifying and uploading postgres (632/928) /home/iain/Code/robotlabs/trialstreamer/data/pubmed18n0633.xml.gz: 60it [01:06,  1.10s/it]\n",
      "classifying and uploading postgres (633/928) /home/iain/Code/robotlabs/trialstreamer/data/pubmed18n0634.xml.gz: 60it [01:06,  1.12s/it]\n",
      "classifying and uploading postgres (634/928) /home/iain/Code/robotlabs/trialstreamer/data/pubmed18n0635.xml.gz: 60it [01:06,  1.11s/it]\n",
      "classifying and uploading postgres (635/928) /home/iain/Code/robotlabs/trialstreamer/data/pubmed18n0636.xml.gz: 60it [01:07,  1.12s/it]\n",
      "classifying and uploading postgres (636/928) /home/iain/Code/robotlabs/trialstreamer/data/pubmed18n0637.xml.gz: 60it [01:05,  1.09s/it]\n",
      "classifying and uploading postgres (637/928) /home/iain/Code/robotlabs/trialstreamer/data/pubmed18n0638.xml.gz: 60it [01:08,  1.14s/it]\n",
      "classifying and uploading postgres (638/928) /home/iain/Code/robotlabs/trialstreamer/data/pubmed18n0639.xml.gz: 60it [01:06,  1.10s/it]\n",
      "classifying and uploading postgres (639/928) /home/iain/Code/robotlabs/trialstreamer/data/pubmed18n0640.xml.gz: 60it [01:05,  1.09s/it]\n",
      "classifying and uploading postgres (640/928) /home/iain/Code/robotlabs/trialstreamer/data/pubmed18n0641.xml.gz: 60it [01:06,  1.11s/it]\n",
      "classifying and uploading postgres (641/928) /home/iain/Code/robotlabs/trialstreamer/data/pubmed18n0642.xml.gz: 60it [01:04,  1.08s/it]\n",
      "classifying and uploading postgres (642/928) /home/iain/Code/robotlabs/trialstreamer/data/pubmed18n0645.xml.gz: 60it [01:01,  1.02s/it]\n",
      "classifying and uploading postgres (643/928) /home/iain/Code/robotlabs/trialstreamer/data/pubmed18n0643.xml.gz: 60it [01:06,  1.10s/it]\n",
      "classifying and uploading postgres (644/928) /home/iain/Code/robotlabs/trialstreamer/data/pubmed18n0644.xml.gz: 60it [01:06,  1.12s/it]\n",
      "classifying and uploading postgres (645/928) /home/iain/Code/robotlabs/trialstreamer/data/pubmed18n0646.xml.gz: 60it [01:08,  1.14s/it]\n",
      "classifying and uploading postgres (646/928) /home/iain/Code/robotlabs/trialstreamer/data/pubmed18n0647.xml.gz: 60it [01:06,  1.11s/it]\n",
      "classifying and uploading postgres (647/928) /home/iain/Code/robotlabs/trialstreamer/data/pubmed18n0648.xml.gz: 60it [01:05,  1.09s/it]\n",
      "classifying and uploading postgres (648/928) /home/iain/Code/robotlabs/trialstreamer/data/pubmed18n0649.xml.gz: 60it [01:06,  1.10s/it]\n",
      "classifying and uploading postgres (649/928) /home/iain/Code/robotlabs/trialstreamer/data/pubmed18n0650.xml.gz: 60it [01:07,  1.12s/it]\n",
      "classifying and uploading postgres (650/928) /home/iain/Code/robotlabs/trialstreamer/data/pubmed18n0651.xml.gz: 60it [01:05,  1.09s/it]\n",
      "classifying and uploading postgres (651/928) /home/iain/Code/robotlabs/trialstreamer/data/pubmed18n0652.xml.gz: 60it [01:07,  1.12s/it]\n",
      "classifying and uploading postgres (652/928) /home/iain/Code/robotlabs/trialstreamer/data/pubmed18n0653.xml.gz: 60it [00:56,  1.06it/s]\n",
      "classifying and uploading postgres (653/928) /home/iain/Code/robotlabs/trialstreamer/data/pubmed18n0654.xml.gz: 60it [00:47,  1.27it/s]\n",
      "classifying and uploading postgres (654/928) /home/iain/Code/robotlabs/trialstreamer/data/pubmed18n0655.xml.gz: 60it [00:59,  1.01it/s]\n",
      "classifying and uploading postgres (655/928) /home/iain/Code/robotlabs/trialstreamer/data/pubmed18n0656.xml.gz: 60it [01:06,  1.10s/it]\n",
      "classifying and uploading postgres (656/928) /home/iain/Code/robotlabs/trialstreamer/data/pubmed18n0657.xml.gz: 60it [01:05,  1.09s/it]\n",
      "classifying and uploading postgres (657/928) /home/iain/Code/robotlabs/trialstreamer/data/pubmed18n0658.xml.gz: 60it [01:07,  1.12s/it]\n",
      "classifying and uploading postgres (658/928) /home/iain/Code/robotlabs/trialstreamer/data/pubmed18n0660.xml.gz: 60it [01:07,  1.12s/it]\n",
      "classifying and uploading postgres (659/928) /home/iain/Code/robotlabs/trialstreamer/data/pubmed18n0659.xml.gz: 60it [01:07,  1.13s/it]\n",
      "classifying and uploading postgres (660/928) /home/iain/Code/robotlabs/trialstreamer/data/pubmed18n0661.xml.gz: 60it [01:05,  1.09s/it]\n",
      "classifying and uploading postgres (661/928) /home/iain/Code/robotlabs/trialstreamer/data/pubmed18n0662.xml.gz: 60it [01:07,  1.13s/it]\n",
      "classifying and uploading postgres (662/928) /home/iain/Code/robotlabs/trialstreamer/data/pubmed18n0663.xml.gz: 60it [01:06,  1.11s/it]\n",
      "classifying and uploading postgres (663/928) /home/iain/Code/robotlabs/trialstreamer/data/pubmed18n0664.xml.gz: 60it [01:09,  1.15s/it]\n",
      "classifying and uploading postgres (664/928) /home/iain/Code/robotlabs/trialstreamer/data/pubmed18n0665.xml.gz: 60it [01:07,  1.12s/it]\n",
      "classifying and uploading postgres (665/928) /home/iain/Code/robotlabs/trialstreamer/data/pubmed18n0666.xml.gz: 60it [01:07,  1.12s/it]\n",
      "classifying and uploading postgres (666/928) /home/iain/Code/robotlabs/trialstreamer/data/pubmed18n0669.xml.gz: 60it [01:01,  1.03s/it]\n",
      "classifying and uploading postgres (667/928) /home/iain/Code/robotlabs/trialstreamer/data/pubmed18n0670.xml.gz: 60it [01:13,  1.23s/it]\n",
      "classifying and uploading postgres (668/928) /home/iain/Code/robotlabs/trialstreamer/data/pubmed18n0667.xml.gz: 60it [01:06,  1.11s/it]\n",
      "classifying and uploading postgres (669/928) /home/iain/Code/robotlabs/trialstreamer/data/pubmed18n0668.xml.gz: 60it [01:06,  1.11s/it]\n",
      "classifying and uploading postgres (670/928) /home/iain/Code/robotlabs/trialstreamer/data/pubmed18n0671.xml.gz: 60it [01:06,  1.11s/it]\n",
      "classifying and uploading postgres (671/928) /home/iain/Code/robotlabs/trialstreamer/data/pubmed18n0672.xml.gz: 60it [01:09,  1.15s/it]\n",
      "classifying and uploading postgres (672/928) /home/iain/Code/robotlabs/trialstreamer/data/pubmed18n0674.xml.gz: 60it [01:06,  1.10s/it]\n",
      "classifying and uploading postgres (673/928) /home/iain/Code/robotlabs/trialstreamer/data/pubmed18n0673.xml.gz: 60it [01:06,  1.10s/it]\n",
      "classifying and uploading postgres (674/928) /home/iain/Code/robotlabs/trialstreamer/data/pubmed18n0676.xml.gz: 60it [00:50,  1.19it/s]\n",
      "classifying and uploading postgres (675/928) /home/iain/Code/robotlabs/trialstreamer/data/pubmed18n0677.xml.gz: 60it [00:50,  1.18it/s]\n",
      "classifying and uploading postgres (676/928) /home/iain/Code/robotlabs/trialstreamer/data/pubmed18n0675.xml.gz: 60it [01:06,  1.11s/it]\n",
      "classifying and uploading postgres (677/928) /home/iain/Code/robotlabs/trialstreamer/data/pubmed18n0678.xml.gz: 60it [01:05,  1.09s/it]\n",
      "classifying and uploading postgres (678/928) /home/iain/Code/robotlabs/trialstreamer/data/pubmed18n0679.xml.gz: 60it [01:06,  1.10s/it]\n",
      "classifying and uploading postgres (679/928) /home/iain/Code/robotlabs/trialstreamer/data/pubmed18n0680.xml.gz: 60it [01:09,  1.15s/it]\n",
      "classifying and uploading postgres (680/928) /home/iain/Code/robotlabs/trialstreamer/data/pubmed18n0681.xml.gz: 60it [01:06,  1.11s/it]\n",
      "classifying and uploading postgres (681/928) /home/iain/Code/robotlabs/trialstreamer/data/pubmed18n0682.xml.gz: 60it [01:10,  1.17s/it]\n",
      "classifying and uploading postgres (682/928) /home/iain/Code/robotlabs/trialstreamer/data/pubmed18n0683.xml.gz: 60it [01:05,  1.09s/it]\n",
      "classifying and uploading postgres (683/928) /home/iain/Code/robotlabs/trialstreamer/data/pubmed18n0684.xml.gz: 60it [01:07,  1.13s/it]\n",
      "classifying and uploading postgres (684/928) /home/iain/Code/robotlabs/trialstreamer/data/pubmed18n0685.xml.gz: 60it [01:07,  1.13s/it]\n",
      "classifying and uploading postgres (685/928) /home/iain/Code/robotlabs/trialstreamer/data/pubmed18n0686.xml.gz: 60it [01:09,  1.16s/it]\n",
      "classifying and uploading postgres (686/928) /home/iain/Code/robotlabs/trialstreamer/data/pubmed18n0687.xml.gz: 60it [01:07,  1.12s/it]\n",
      "classifying and uploading postgres (687/928) /home/iain/Code/robotlabs/trialstreamer/data/pubmed18n0688.xml.gz: 60it [01:05,  1.09s/it]\n",
      "classifying and uploading postgres (688/928) /home/iain/Code/robotlabs/trialstreamer/data/pubmed18n0689.xml.gz: 60it [01:08,  1.15s/it]\n",
      "classifying and uploading postgres (689/928) /home/iain/Code/robotlabs/trialstreamer/data/pubmed18n0690.xml.gz: 60it [01:06,  1.12s/it]\n",
      "classifying and uploading postgres (690/928) /home/iain/Code/robotlabs/trialstreamer/data/pubmed18n0691.xml.gz: 60it [01:09,  1.15s/it]\n",
      "classifying and uploading postgres (691/928) /home/iain/Code/robotlabs/trialstreamer/data/pubmed18n0692.xml.gz: 60it [01:07,  1.12s/it]\n",
      "classifying and uploading postgres (692/928) /home/iain/Code/robotlabs/trialstreamer/data/pubmed18n0693.xml.gz: 60it [01:06,  1.11s/it]\n",
      "classifying and uploading postgres (693/928) /home/iain/Code/robotlabs/trialstreamer/data/pubmed18n0694.xml.gz: 60it [01:03,  1.07s/it]\n",
      "classifying and uploading postgres (694/928) /home/iain/Code/robotlabs/trialstreamer/data/pubmed18n0695.xml.gz: 60it [01:05,  1.09s/it]\n",
      "classifying and uploading postgres (695/928) /home/iain/Code/robotlabs/trialstreamer/data/pubmed18n0696.xml.gz: 60it [01:09,  1.15s/it]\n",
      "classifying and uploading postgres (696/928) /home/iain/Code/robotlabs/trialstreamer/data/pubmed18n0697.xml.gz: 60it [01:06,  1.10s/it]\n",
      "classifying and uploading postgres (697/928) /home/iain/Code/robotlabs/trialstreamer/data/pubmed18n0698.xml.gz: 60it [01:07,  1.13s/it]\n",
      "classifying and uploading postgres (698/928) /home/iain/Code/robotlabs/trialstreamer/data/pubmed18n0699.xml.gz: 60it [01:07,  1.12s/it]\n",
      "classifying and uploading postgres (699/928) /home/iain/Code/robotlabs/trialstreamer/data/pubmed18n0700.xml.gz: 60it [01:11,  1.18s/it]\n",
      "classifying and uploading postgres (700/928) /home/iain/Code/robotlabs/trialstreamer/data/pubmed18n0701.xml.gz: 60it [01:07,  1.13s/it]\n",
      "classifying and uploading postgres (701/928) /home/iain/Code/robotlabs/trialstreamer/data/pubmed18n0702.xml.gz: 60it [01:06,  1.11s/it]\n",
      "classifying and uploading postgres (702/928) /home/iain/Code/robotlabs/trialstreamer/data/pubmed18n0703.xml.gz: 60it [01:07,  1.13s/it]\n",
      "classifying and uploading postgres (703/928) /home/iain/Code/robotlabs/trialstreamer/data/pubmed18n0704.xml.gz: 60it [01:07,  1.13s/it]\n",
      "classifying and uploading postgres (704/928) /home/iain/Code/robotlabs/trialstreamer/data/pubmed18n0705.xml.gz: 60it [01:09,  1.15s/it]\n",
      "classifying and uploading postgres (705/928) /home/iain/Code/robotlabs/trialstreamer/data/pubmed18n0706.xml.gz: 60it [01:07,  1.13s/it]\n",
      "classifying and uploading postgres (706/928) /home/iain/Code/robotlabs/trialstreamer/data/pubmed18n0707.xml.gz: 60it [01:08,  1.14s/it]\n",
      "classifying and uploading postgres (707/928) /home/iain/Code/robotlabs/trialstreamer/data/pubmed18n0708.xml.gz: 60it [01:08,  1.14s/it]\n",
      "classifying and uploading postgres (708/928) /home/iain/Code/robotlabs/trialstreamer/data/pubmed18n0709.xml.gz: 60it [01:07,  1.13s/it]\n",
      "classifying and uploading postgres (709/928) /home/iain/Code/robotlabs/trialstreamer/data/pubmed18n0710.xml.gz: 60it [01:10,  1.18s/it]\n",
      "classifying and uploading postgres (710/928) /home/iain/Code/robotlabs/trialstreamer/data/pubmed18n0711.xml.gz: 60it [01:07,  1.13s/it]\n",
      "classifying and uploading postgres (711/928) /home/iain/Code/robotlabs/trialstreamer/data/pubmed18n0712.xml.gz: 60it [01:10,  1.18s/it]\n",
      "classifying and uploading postgres (712/928) /home/iain/Code/robotlabs/trialstreamer/data/pubmed18n0713.xml.gz: 60it [01:09,  1.16s/it]\n"
     ]
    },
    {
     "name": "stderr",
     "output_type": "stream",
     "text": [
      "classifying and uploading postgres (713/928) /home/iain/Code/robotlabs/trialstreamer/data/pubmed18n0714.xml.gz: 60it [01:06,  1.11s/it]\n",
      "classifying and uploading postgres (714/928) /home/iain/Code/robotlabs/trialstreamer/data/pubmed18n0715.xml.gz: 60it [01:07,  1.12s/it]\n",
      "classifying and uploading postgres (715/928) /home/iain/Code/robotlabs/trialstreamer/data/pubmed18n0716.xml.gz: 60it [01:07,  1.13s/it]\n",
      "classifying and uploading postgres (716/928) /home/iain/Code/robotlabs/trialstreamer/data/pubmed18n0717.xml.gz: 60it [01:08,  1.14s/it]\n",
      "classifying and uploading postgres (717/928) /home/iain/Code/robotlabs/trialstreamer/data/pubmed18n0718.xml.gz: 60it [01:09,  1.16s/it]\n",
      "classifying and uploading postgres (718/928) /home/iain/Code/robotlabs/trialstreamer/data/pubmed18n0719.xml.gz: 60it [01:06,  1.11s/it]\n",
      "classifying and uploading postgres (719/928) /home/iain/Code/robotlabs/trialstreamer/data/pubmed18n0720.xml.gz: 60it [01:09,  1.16s/it]\n",
      "classifying and uploading postgres (720/928) /home/iain/Code/robotlabs/trialstreamer/data/pubmed18n0721.xml.gz: 60it [01:10,  1.17s/it]\n",
      "classifying and uploading postgres (721/928) /home/iain/Code/robotlabs/trialstreamer/data/pubmed18n0722.xml.gz: 60it [01:09,  1.16s/it]\n",
      "classifying and uploading postgres (722/928) /home/iain/Code/robotlabs/trialstreamer/data/pubmed18n0723.xml.gz: 60it [01:08,  1.14s/it]\n",
      "classifying and uploading postgres (723/928) /home/iain/Code/robotlabs/trialstreamer/data/pubmed18n0724.xml.gz: 60it [01:10,  1.17s/it]\n",
      "classifying and uploading postgres (724/928) /home/iain/Code/robotlabs/trialstreamer/data/pubmed18n0725.xml.gz: 60it [01:07,  1.13s/it]\n",
      "classifying and uploading postgres (725/928) /home/iain/Code/robotlabs/trialstreamer/data/pubmed18n0726.xml.gz: 60it [01:07,  1.12s/it]\n",
      "classifying and uploading postgres (726/928) /home/iain/Code/robotlabs/trialstreamer/data/pubmed18n0727.xml.gz: 60it [01:08,  1.14s/it]\n",
      "classifying and uploading postgres (727/928) /home/iain/Code/robotlabs/trialstreamer/data/pubmed18n0728.xml.gz: 60it [01:09,  1.16s/it]\n",
      "classifying and uploading postgres (728/928) /home/iain/Code/robotlabs/trialstreamer/data/pubmed18n0729.xml.gz: 60it [01:08,  1.15s/it]\n",
      "classifying and uploading postgres (729/928) /home/iain/Code/robotlabs/trialstreamer/data/pubmed18n0730.xml.gz: 60it [01:09,  1.16s/it]\n",
      "classifying and uploading postgres (730/928) /home/iain/Code/robotlabs/trialstreamer/data/pubmed18n0731.xml.gz: 60it [01:08,  1.14s/it]\n",
      "classifying and uploading postgres (731/928) /home/iain/Code/robotlabs/trialstreamer/data/pubmed18n0732.xml.gz: 60it [01:09,  1.16s/it]\n",
      "classifying and uploading postgres (732/928) /home/iain/Code/robotlabs/trialstreamer/data/pubmed18n0733.xml.gz: 60it [01:10,  1.17s/it]\n",
      "classifying and uploading postgres (733/928) /home/iain/Code/robotlabs/trialstreamer/data/pubmed18n0734.xml.gz: 60it [01:08,  1.15s/it]\n",
      "classifying and uploading postgres (734/928) /home/iain/Code/robotlabs/trialstreamer/data/pubmed18n0735.xml.gz: 60it [01:07,  1.13s/it]\n",
      "classifying and uploading postgres (735/928) /home/iain/Code/robotlabs/trialstreamer/data/pubmed18n0736.xml.gz: 60it [01:10,  1.17s/it]\n",
      "classifying and uploading postgres (736/928) /home/iain/Code/robotlabs/trialstreamer/data/pubmed18n0737.xml.gz: 60it [01:09,  1.17s/it]\n",
      "classifying and uploading postgres (737/928) /home/iain/Code/robotlabs/trialstreamer/data/pubmed18n0738.xml.gz: 60it [01:07,  1.12s/it]\n",
      "classifying and uploading postgres (738/928) /home/iain/Code/robotlabs/trialstreamer/data/pubmed18n0739.xml.gz: 60it [01:11,  1.19s/it]\n",
      "classifying and uploading postgres (739/928) /home/iain/Code/robotlabs/trialstreamer/data/pubmed18n0740.xml.gz: 60it [01:08,  1.14s/it]\n",
      "classifying and uploading postgres (740/928) /home/iain/Code/robotlabs/trialstreamer/data/pubmed18n0741.xml.gz: 60it [01:07,  1.13s/it]\n",
      "classifying and uploading postgres (741/928) /home/iain/Code/robotlabs/trialstreamer/data/pubmed18n0742.xml.gz: 60it [01:07,  1.13s/it]\n",
      "classifying and uploading postgres (742/928) /home/iain/Code/robotlabs/trialstreamer/data/pubmed18n0743.xml.gz: 60it [01:08,  1.14s/it]\n",
      "classifying and uploading postgres (743/928) /home/iain/Code/robotlabs/trialstreamer/data/pubmed18n0744.xml.gz: 60it [01:09,  1.15s/it]\n",
      "classifying and uploading postgres (744/928) /home/iain/Code/robotlabs/trialstreamer/data/pubmed18n0745.xml.gz: 60it [01:07,  1.12s/it]\n",
      "classifying and uploading postgres (745/928) /home/iain/Code/robotlabs/trialstreamer/data/pubmed18n0746.xml.gz: 60it [01:09,  1.16s/it]\n",
      "classifying and uploading postgres (746/928) /home/iain/Code/robotlabs/trialstreamer/data/pubmed18n0747.xml.gz: 60it [01:10,  1.18s/it]\n",
      "classifying and uploading postgres (747/928) /home/iain/Code/robotlabs/trialstreamer/data/pubmed18n0748.xml.gz: 60it [01:09,  1.15s/it]\n",
      "classifying and uploading postgres (748/928) /home/iain/Code/robotlabs/trialstreamer/data/pubmed18n0749.xml.gz: 60it [01:08,  1.15s/it]\n",
      "classifying and uploading postgres (749/928) /home/iain/Code/robotlabs/trialstreamer/data/pubmed18n0750.xml.gz: 60it [01:08,  1.13s/it]\n",
      "classifying and uploading postgres (750/928) /home/iain/Code/robotlabs/trialstreamer/data/pubmed18n0751.xml.gz: 60it [01:08,  1.14s/it]\n",
      "classifying and uploading postgres (751/928) /home/iain/Code/robotlabs/trialstreamer/data/pubmed18n0752.xml.gz: 60it [01:08,  1.14s/it]\n",
      "classifying and uploading postgres (752/928) /home/iain/Code/robotlabs/trialstreamer/data/pubmed18n0753.xml.gz: 60it [01:10,  1.18s/it]\n",
      "classifying and uploading postgres (753/928) /home/iain/Code/robotlabs/trialstreamer/data/pubmed18n0754.xml.gz: 60it [01:10,  1.17s/it]\n",
      "classifying and uploading postgres (754/928) /home/iain/Code/robotlabs/trialstreamer/data/pubmed18n0755.xml.gz: 60it [01:08,  1.14s/it]\n",
      "classifying and uploading postgres (755/928) /home/iain/Code/robotlabs/trialstreamer/data/pubmed18n0756.xml.gz: 60it [01:08,  1.14s/it]\n",
      "classifying and uploading postgres (756/928) /home/iain/Code/robotlabs/trialstreamer/data/pubmed18n0757.xml.gz: 60it [01:09,  1.15s/it]\n",
      "classifying and uploading postgres (757/928) /home/iain/Code/robotlabs/trialstreamer/data/pubmed18n0758.xml.gz: 60it [01:10,  1.17s/it]\n",
      "classifying and uploading postgres (758/928) /home/iain/Code/robotlabs/trialstreamer/data/pubmed18n0759.xml.gz: 60it [01:08,  1.15s/it]\n",
      "classifying and uploading postgres (759/928) /home/iain/Code/robotlabs/trialstreamer/data/pubmed18n0760.xml.gz: 60it [01:11,  1.19s/it]\n",
      "classifying and uploading postgres (760/928) /home/iain/Code/robotlabs/trialstreamer/data/pubmed18n0761.xml.gz: 60it [01:09,  1.16s/it]\n",
      "classifying and uploading postgres (761/928) /home/iain/Code/robotlabs/trialstreamer/data/pubmed18n0762.xml.gz: 60it [01:08,  1.14s/it]\n",
      "classifying and uploading postgres (762/928) /home/iain/Code/robotlabs/trialstreamer/data/pubmed18n0763.xml.gz: 60it [01:11,  1.19s/it]\n",
      "classifying and uploading postgres (763/928) /home/iain/Code/robotlabs/trialstreamer/data/pubmed18n0764.xml.gz: 60it [01:08,  1.15s/it]\n",
      "classifying and uploading postgres (764/928) /home/iain/Code/robotlabs/trialstreamer/data/pubmed18n0765.xml.gz: 60it [01:10,  1.18s/it]\n",
      "classifying and uploading postgres (765/928) /home/iain/Code/robotlabs/trialstreamer/data/pubmed18n0766.xml.gz: 60it [01:08,  1.15s/it]\n",
      "classifying and uploading postgres (766/928) /home/iain/Code/robotlabs/trialstreamer/data/pubmed18n0767.xml.gz: 60it [01:08,  1.15s/it]\n",
      "classifying and uploading postgres (767/928) /home/iain/Code/robotlabs/trialstreamer/data/pubmed18n0768.xml.gz: 60it [01:10,  1.17s/it]\n",
      "classifying and uploading postgres (768/928) /home/iain/Code/robotlabs/trialstreamer/data/pubmed18n0769.xml.gz: 60it [01:08,  1.14s/it]\n",
      "classifying and uploading postgres (769/928) /home/iain/Code/robotlabs/trialstreamer/data/pubmed18n0770.xml.gz: 60it [01:08,  1.14s/it]\n",
      "classifying and uploading postgres (770/928) /home/iain/Code/robotlabs/trialstreamer/data/pubmed18n0771.xml.gz: 60it [01:09,  1.16s/it]\n",
      "classifying and uploading postgres (771/928) /home/iain/Code/robotlabs/trialstreamer/data/pubmed18n0772.xml.gz: 60it [01:10,  1.18s/it]\n",
      "classifying and uploading postgres (772/928) /home/iain/Code/robotlabs/trialstreamer/data/pubmed18n0773.xml.gz: 60it [01:11,  1.18s/it]\n",
      "classifying and uploading postgres (773/928) /home/iain/Code/robotlabs/trialstreamer/data/pubmed18n0774.xml.gz: 60it [01:08,  1.14s/it]\n",
      "classifying and uploading postgres (774/928) /home/iain/Code/robotlabs/trialstreamer/data/pubmed18n0775.xml.gz: 60it [01:08,  1.15s/it]\n",
      "classifying and uploading postgres (775/928) /home/iain/Code/robotlabs/trialstreamer/data/pubmed18n0776.xml.gz: 60it [01:08,  1.14s/it]\n",
      "classifying and uploading postgres (776/928) /home/iain/Code/robotlabs/trialstreamer/data/pubmed18n0777.xml.gz: 60it [01:11,  1.19s/it]\n",
      "classifying and uploading postgres (777/928) /home/iain/Code/robotlabs/trialstreamer/data/pubmed18n0778.xml.gz: 60it [01:12,  1.20s/it]\n",
      "classifying and uploading postgres (778/928) /home/iain/Code/robotlabs/trialstreamer/data/pubmed18n0779.xml.gz: 60it [01:10,  1.17s/it]\n",
      "classifying and uploading postgres (779/928) /home/iain/Code/robotlabs/trialstreamer/data/pubmed18n0780.xml.gz: 60it [01:11,  1.19s/it]\n",
      "classifying and uploading postgres (780/928) /home/iain/Code/robotlabs/trialstreamer/data/pubmed18n0781.xml.gz: 60it [01:11,  1.18s/it]\n",
      "classifying and uploading postgres (781/928) /home/iain/Code/robotlabs/trialstreamer/data/pubmed18n0782.xml.gz: 60it [01:08,  1.15s/it]\n",
      "classifying and uploading postgres (782/928) /home/iain/Code/robotlabs/trialstreamer/data/pubmed18n0783.xml.gz: 60it [01:11,  1.20s/it]\n",
      "classifying and uploading postgres (783/928) /home/iain/Code/robotlabs/trialstreamer/data/pubmed18n0784.xml.gz: 60it [01:09,  1.16s/it]\n",
      "classifying and uploading postgres (784/928) /home/iain/Code/robotlabs/trialstreamer/data/pubmed18n0785.xml.gz: 60it [01:02,  1.05s/it]\n",
      "classifying and uploading postgres (785/928) /home/iain/Code/robotlabs/trialstreamer/data/pubmed18n0786.xml.gz: 60it [01:11,  1.19s/it]\n",
      "classifying and uploading postgres (786/928) /home/iain/Code/robotlabs/trialstreamer/data/pubmed18n0787.xml.gz: 60it [01:10,  1.17s/it]\n",
      "classifying and uploading postgres (787/928) /home/iain/Code/robotlabs/trialstreamer/data/pubmed18n0788.xml.gz: 60it [01:12,  1.20s/it]\n",
      "classifying and uploading postgres (788/928) /home/iain/Code/robotlabs/trialstreamer/data/pubmed18n0789.xml.gz: 60it [01:10,  1.18s/it]\n",
      "classifying and uploading postgres (789/928) /home/iain/Code/robotlabs/trialstreamer/data/pubmed18n0790.xml.gz: 60it [01:10,  1.17s/it]\n",
      "classifying and uploading postgres (790/928) /home/iain/Code/robotlabs/trialstreamer/data/pubmed18n0791.xml.gz: 60it [01:10,  1.18s/it]\n",
      "classifying and uploading postgres (791/928) /home/iain/Code/robotlabs/trialstreamer/data/pubmed18n0792.xml.gz: 60it [01:09,  1.16s/it]\n",
      "classifying and uploading postgres (792/928) /home/iain/Code/robotlabs/trialstreamer/data/pubmed18n0793.xml.gz: 60it [01:12,  1.20s/it]\n",
      "classifying and uploading postgres (793/928) /home/iain/Code/robotlabs/trialstreamer/data/pubmed18n0794.xml.gz: 60it [01:10,  1.17s/it]\n",
      "classifying and uploading postgres (794/928) /home/iain/Code/robotlabs/trialstreamer/data/pubmed18n0795.xml.gz: 60it [01:09,  1.15s/it]\n",
      "classifying and uploading postgres (795/928) /home/iain/Code/robotlabs/trialstreamer/data/pubmed18n0796.xml.gz: 60it [01:10,  1.18s/it]\n",
      "classifying and uploading postgres (796/928) /home/iain/Code/robotlabs/trialstreamer/data/pubmed18n0797.xml.gz: 60it [01:11,  1.19s/it]\n",
      "classifying and uploading postgres (797/928) /home/iain/Code/robotlabs/trialstreamer/data/pubmed18n0798.xml.gz: 60it [01:12,  1.21s/it]\n",
      "classifying and uploading postgres (798/928) /home/iain/Code/robotlabs/trialstreamer/data/pubmed18n0799.xml.gz: 60it [01:09,  1.16s/it]\n",
      "classifying and uploading postgres (799/928) /home/iain/Code/robotlabs/trialstreamer/data/pubmed18n0800.xml.gz: 60it [01:10,  1.18s/it]\n",
      "classifying and uploading postgres (800/928) /home/iain/Code/robotlabs/trialstreamer/data/pubmed18n0801.xml.gz: 60it [01:12,  1.20s/it]\n",
      "classifying and uploading postgres (801/928) /home/iain/Code/robotlabs/trialstreamer/data/pubmed18n0802.xml.gz: 60it [01:10,  1.17s/it]\n",
      "classifying and uploading postgres (802/928) /home/iain/Code/robotlabs/trialstreamer/data/pubmed18n0803.xml.gz: 60it [01:09,  1.16s/it]\n",
      "classifying and uploading postgres (803/928) /home/iain/Code/robotlabs/trialstreamer/data/pubmed18n0804.xml.gz: 60it [01:12,  1.20s/it]\n",
      "classifying and uploading postgres (804/928) /home/iain/Code/robotlabs/trialstreamer/data/pubmed18n0805.xml.gz: 60it [01:09,  1.17s/it]\n",
      "classifying and uploading postgres (805/928) /home/iain/Code/robotlabs/trialstreamer/data/pubmed18n0806.xml.gz: 60it [01:13,  1.22s/it]\n",
      "classifying and uploading postgres (806/928) /home/iain/Code/robotlabs/trialstreamer/data/pubmed18n0807.xml.gz: 60it [01:10,  1.17s/it]\n",
      "classifying and uploading postgres (807/928) /home/iain/Code/robotlabs/trialstreamer/data/pubmed18n0808.xml.gz: 60it [01:12,  1.20s/it]\n",
      "classifying and uploading postgres (808/928) /home/iain/Code/robotlabs/trialstreamer/data/pubmed18n0809.xml.gz: 60it [01:09,  1.15s/it]\n",
      "classifying and uploading postgres (809/928) /home/iain/Code/robotlabs/trialstreamer/data/pubmed18n0810.xml.gz: 60it [01:10,  1.18s/it]\n",
      "classifying and uploading postgres (810/928) /home/iain/Code/robotlabs/trialstreamer/data/pubmed18n0811.xml.gz: 60it [01:12,  1.21s/it]\n",
      "classifying and uploading postgres (811/928) /home/iain/Code/robotlabs/trialstreamer/data/pubmed18n0812.xml.gz: 60it [01:12,  1.21s/it]\n",
      "classifying and uploading postgres (812/928) /home/iain/Code/robotlabs/trialstreamer/data/pubmed18n0813.xml.gz: 60it [01:10,  1.17s/it]\n",
      "classifying and uploading postgres (813/928) /home/iain/Code/robotlabs/trialstreamer/data/pubmed18n0814.xml.gz: 60it [01:09,  1.15s/it]\n",
      "classifying and uploading postgres (814/928) /home/iain/Code/robotlabs/trialstreamer/data/pubmed18n0815.xml.gz: 60it [01:11,  1.19s/it]\n",
      "classifying and uploading postgres (815/928) /home/iain/Code/robotlabs/trialstreamer/data/pubmed18n0816.xml.gz: 60it [01:10,  1.18s/it]\n",
      "classifying and uploading postgres (816/928) /home/iain/Code/robotlabs/trialstreamer/data/pubmed18n0817.xml.gz: 60it [01:12,  1.20s/it]\n",
      "classifying and uploading postgres (817/928) /home/iain/Code/robotlabs/trialstreamer/data/pubmed18n0818.xml.gz: 60it [01:12,  1.21s/it]\n",
      "classifying and uploading postgres (818/928) /home/iain/Code/robotlabs/trialstreamer/data/pubmed18n0819.xml.gz: 60it [01:10,  1.17s/it]\n",
      "classifying and uploading postgres (819/928) /home/iain/Code/robotlabs/trialstreamer/data/pubmed18n0820.xml.gz: 60it [01:12,  1.20s/it]\n",
      "classifying and uploading postgres (820/928) /home/iain/Code/robotlabs/trialstreamer/data/pubmed18n0821.xml.gz: 60it [01:10,  1.18s/it]\n",
      "classifying and uploading postgres (821/928) /home/iain/Code/robotlabs/trialstreamer/data/pubmed18n0822.xml.gz: 60it [01:12,  1.21s/it]\n",
      "classifying and uploading postgres (822/928) /home/iain/Code/robotlabs/trialstreamer/data/pubmed18n0823.xml.gz: 60it [01:10,  1.18s/it]\n",
      "classifying and uploading postgres (823/928) /home/iain/Code/robotlabs/trialstreamer/data/pubmed18n0824.xml.gz: 60it [01:13,  1.22s/it]\n",
      "classifying and uploading postgres (824/928) /home/iain/Code/robotlabs/trialstreamer/data/pubmed18n0825.xml.gz: 60it [01:17,  1.29s/it]\n",
      "classifying and uploading postgres (825/928) /home/iain/Code/robotlabs/trialstreamer/data/pubmed18n0826.xml.gz: 60it [01:13,  1.22s/it]\n",
      "classifying and uploading postgres (826/928) /home/iain/Code/robotlabs/trialstreamer/data/pubmed18n0827.xml.gz: 60it [01:13,  1.23s/it]\n",
      "classifying and uploading postgres (827/928) /home/iain/Code/robotlabs/trialstreamer/data/pubmed18n0828.xml.gz: 60it [01:12,  1.20s/it]\n",
      "classifying and uploading postgres (828/928) /home/iain/Code/robotlabs/trialstreamer/data/pubmed18n0829.xml.gz: 60it [01:12,  1.20s/it]\n",
      "classifying and uploading postgres (829/928) /home/iain/Code/robotlabs/trialstreamer/data/pubmed18n0830.xml.gz: 60it [01:13,  1.22s/it]\n",
      "classifying and uploading postgres (830/928) /home/iain/Code/robotlabs/trialstreamer/data/pubmed18n0831.xml.gz: 60it [01:13,  1.23s/it]\n",
      "classifying and uploading postgres (831/928) /home/iain/Code/robotlabs/trialstreamer/data/pubmed18n0832.xml.gz: 60it [01:10,  1.17s/it]\n",
      "classifying and uploading postgres (832/928) /home/iain/Code/robotlabs/trialstreamer/data/pubmed18n0833.xml.gz: 60it [01:11,  1.19s/it]\n"
     ]
    },
    {
     "name": "stderr",
     "output_type": "stream",
     "text": [
      "classifying and uploading postgres (833/928) /home/iain/Code/robotlabs/trialstreamer/data/pubmed18n0834.xml.gz: 60it [01:14,  1.24s/it]\n",
      "classifying and uploading postgres (834/928) /home/iain/Code/robotlabs/trialstreamer/data/pubmed18n0835.xml.gz: 60it [01:12,  1.20s/it]\n",
      "classifying and uploading postgres (835/928) /home/iain/Code/robotlabs/trialstreamer/data/pubmed18n0836.xml.gz: 60it [01:12,  1.21s/it]\n",
      "classifying and uploading postgres (836/928) /home/iain/Code/robotlabs/trialstreamer/data/pubmed18n0837.xml.gz: 60it [01:11,  1.20s/it]\n",
      "classifying and uploading postgres (837/928) /home/iain/Code/robotlabs/trialstreamer/data/pubmed18n0838.xml.gz: 60it [01:13,  1.22s/it]\n",
      "classifying and uploading postgres (838/928) /home/iain/Code/robotlabs/trialstreamer/data/pubmed18n0839.xml.gz: 60it [01:10,  1.17s/it]\n",
      "classifying and uploading postgres (839/928) /home/iain/Code/robotlabs/trialstreamer/data/pubmed18n0840.xml.gz: 60it [01:12,  1.20s/it]\n",
      "classifying and uploading postgres (840/928) /home/iain/Code/robotlabs/trialstreamer/data/pubmed18n0841.xml.gz: 60it [01:15,  1.25s/it]\n",
      "classifying and uploading postgres (841/928) /home/iain/Code/robotlabs/trialstreamer/data/pubmed18n0842.xml.gz: 60it [01:11,  1.20s/it]\n",
      "classifying and uploading postgres (842/928) /home/iain/Code/robotlabs/trialstreamer/data/pubmed18n0843.xml.gz: 60it [01:11,  1.19s/it]\n",
      "classifying and uploading postgres (843/928) /home/iain/Code/robotlabs/trialstreamer/data/pubmed18n0844.xml.gz: 60it [01:13,  1.23s/it]\n",
      "classifying and uploading postgres (844/928) /home/iain/Code/robotlabs/trialstreamer/data/pubmed18n0845.xml.gz: 60it [01:14,  1.24s/it]\n",
      "classifying and uploading postgres (845/928) /home/iain/Code/robotlabs/trialstreamer/data/pubmed18n0846.xml.gz: 60it [01:10,  1.18s/it]\n",
      "classifying and uploading postgres (846/928) /home/iain/Code/robotlabs/trialstreamer/data/pubmed18n0847.xml.gz: 60it [01:12,  1.20s/it]\n",
      "classifying and uploading postgres (847/928) /home/iain/Code/robotlabs/trialstreamer/data/pubmed18n0848.xml.gz: 60it [01:12,  1.20s/it]\n",
      "classifying and uploading postgres (848/928) /home/iain/Code/robotlabs/trialstreamer/data/pubmed18n0849.xml.gz: 60it [01:09,  1.16s/it]\n",
      "classifying and uploading postgres (849/928) /home/iain/Code/robotlabs/trialstreamer/data/pubmed18n0850.xml.gz: 60it [01:10,  1.17s/it]\n",
      "classifying and uploading postgres (850/928) /home/iain/Code/robotlabs/trialstreamer/data/pubmed18n0851.xml.gz: 60it [01:13,  1.23s/it]\n",
      "classifying and uploading postgres (851/928) /home/iain/Code/robotlabs/trialstreamer/data/pubmed18n0852.xml.gz: 60it [01:10,  1.18s/it]\n",
      "classifying and uploading postgres (852/928) /home/iain/Code/robotlabs/trialstreamer/data/pubmed18n0853.xml.gz: 60it [01:11,  1.20s/it]\n",
      "classifying and uploading postgres (853/928) /home/iain/Code/robotlabs/trialstreamer/data/pubmed18n0854.xml.gz: 60it [01:11,  1.20s/it]\n",
      "classifying and uploading postgres (854/928) /home/iain/Code/robotlabs/trialstreamer/data/pubmed18n0855.xml.gz: 60it [01:12,  1.21s/it]\n",
      "classifying and uploading postgres (855/928) /home/iain/Code/robotlabs/trialstreamer/data/pubmed18n0856.xml.gz: 60it [01:11,  1.20s/it]\n",
      "classifying and uploading postgres (856/928) /home/iain/Code/robotlabs/trialstreamer/data/pubmed18n0857.xml.gz: 60it [01:14,  1.24s/it]\n",
      "classifying and uploading postgres (857/928) /home/iain/Code/robotlabs/trialstreamer/data/pubmed18n0858.xml.gz: 60it [01:12,  1.21s/it]\n",
      "classifying and uploading postgres (858/928) /home/iain/Code/robotlabs/trialstreamer/data/pubmed18n0859.xml.gz: 60it [01:11,  1.19s/it]\n",
      "classifying and uploading postgres (859/928) /home/iain/Code/robotlabs/trialstreamer/data/pubmed18n0860.xml.gz: 60it [01:15,  1.26s/it]\n",
      "classifying and uploading postgres (860/928) /home/iain/Code/robotlabs/trialstreamer/data/pubmed18n0861.xml.gz: 60it [01:14,  1.24s/it]\n",
      "classifying and uploading postgres (861/928) /home/iain/Code/robotlabs/trialstreamer/data/pubmed18n0862.xml.gz: 60it [01:11,  1.20s/it]\n",
      "classifying and uploading postgres (862/928) /home/iain/Code/robotlabs/trialstreamer/data/pubmed18n0863.xml.gz: 60it [01:12,  1.20s/it]\n",
      "classifying and uploading postgres (863/928) /home/iain/Code/robotlabs/trialstreamer/data/pubmed18n0864.xml.gz: 60it [01:13,  1.23s/it]\n",
      "classifying and uploading postgres (864/928) /home/iain/Code/robotlabs/trialstreamer/data/pubmed18n0865.xml.gz: 60it [01:12,  1.21s/it]\n",
      "classifying and uploading postgres (865/928) /home/iain/Code/robotlabs/trialstreamer/data/pubmed18n0866.xml.gz: 60it [01:14,  1.24s/it]\n",
      "classifying and uploading postgres (866/928) /home/iain/Code/robotlabs/trialstreamer/data/pubmed18n0867.xml.gz: 60it [01:12,  1.21s/it]\n",
      "classifying and uploading postgres (867/928) /home/iain/Code/robotlabs/trialstreamer/data/pubmed18n0868.xml.gz: 60it [01:14,  1.25s/it]\n",
      "classifying and uploading postgres (868/928) /home/iain/Code/robotlabs/trialstreamer/data/pubmed18n0869.xml.gz: 60it [01:12,  1.22s/it]\n",
      "classifying and uploading postgres (869/928) /home/iain/Code/robotlabs/trialstreamer/data/pubmed18n0870.xml.gz: 60it [01:12,  1.21s/it]\n",
      "classifying and uploading postgres (870/928) /home/iain/Code/robotlabs/trialstreamer/data/pubmed18n0871.xml.gz: 60it [01:11,  1.19s/it]\n",
      "classifying and uploading postgres (871/928) /home/iain/Code/robotlabs/trialstreamer/data/pubmed18n0872.xml.gz: 60it [01:14,  1.24s/it]\n",
      "classifying and uploading postgres (872/928) /home/iain/Code/robotlabs/trialstreamer/data/pubmed18n0873.xml.gz: 60it [01:16,  1.27s/it]\n",
      "classifying and uploading postgres (873/928) /home/iain/Code/robotlabs/trialstreamer/data/pubmed18n0874.xml.gz: 60it [01:13,  1.22s/it]\n",
      "classifying and uploading postgres (874/928) /home/iain/Code/robotlabs/trialstreamer/data/pubmed18n0875.xml.gz: 60it [01:12,  1.21s/it]\n",
      "classifying and uploading postgres (875/928) /home/iain/Code/robotlabs/trialstreamer/data/pubmed18n0876.xml.gz: 60it [01:12,  1.22s/it]\n",
      "classifying and uploading postgres (876/928) /home/iain/Code/robotlabs/trialstreamer/data/pubmed18n0877.xml.gz: 60it [01:13,  1.23s/it]\n",
      "classifying and uploading postgres (877/928) /home/iain/Code/robotlabs/trialstreamer/data/pubmed18n0878.xml.gz: 60it [01:13,  1.23s/it]\n",
      "classifying and uploading postgres (878/928) /home/iain/Code/robotlabs/trialstreamer/data/pubmed18n0879.xml.gz: 60it [01:14,  1.24s/it]\n",
      "classifying and uploading postgres (879/928) /home/iain/Code/robotlabs/trialstreamer/data/pubmed18n0880.xml.gz: 60it [01:13,  1.22s/it]\n",
      "classifying and uploading postgres (880/928) /home/iain/Code/robotlabs/trialstreamer/data/pubmed18n0881.xml.gz: 60it [01:13,  1.22s/it]\n",
      "classifying and uploading postgres (881/928) /home/iain/Code/robotlabs/trialstreamer/data/pubmed18n0882.xml.gz: 60it [01:11,  1.19s/it]\n",
      "classifying and uploading postgres (882/928) /home/iain/Code/robotlabs/trialstreamer/data/pubmed18n0883.xml.gz: 60it [01:14,  1.24s/it]\n",
      "classifying and uploading postgres (883/928) /home/iain/Code/robotlabs/trialstreamer/data/pubmed18n0884.xml.gz: 60it [01:09,  1.16s/it]\n",
      "classifying and uploading postgres (884/928) /home/iain/Code/robotlabs/trialstreamer/data/pubmed18n0885.xml.gz: 60it [01:13,  1.22s/it]\n",
      "classifying and uploading postgres (885/928) /home/iain/Code/robotlabs/trialstreamer/data/pubmed18n0886.xml.gz: 60it [01:13,  1.23s/it]\n",
      "classifying and uploading postgres (886/928) /home/iain/Code/robotlabs/trialstreamer/data/pubmed18n0887.xml.gz: 60it [01:14,  1.24s/it]\n",
      "classifying and uploading postgres (887/928) /home/iain/Code/robotlabs/trialstreamer/data/pubmed18n0888.xml.gz: 60it [01:14,  1.24s/it]\n",
      "classifying and uploading postgres (888/928) /home/iain/Code/robotlabs/trialstreamer/data/pubmed18n0889.xml.gz: 60it [01:12,  1.21s/it]\n",
      "classifying and uploading postgres (889/928) /home/iain/Code/robotlabs/trialstreamer/data/pubmed18n0890.xml.gz: 60it [01:16,  1.27s/it]\n",
      "classifying and uploading postgres (890/928) /home/iain/Code/robotlabs/trialstreamer/data/pubmed18n0891.xml.gz: 60it [01:12,  1.22s/it]\n",
      "classifying and uploading postgres (891/928) /home/iain/Code/robotlabs/trialstreamer/data/pubmed18n0892.xml.gz: 60it [01:12,  1.21s/it]\n",
      "classifying and uploading postgres (892/928) /home/iain/Code/robotlabs/trialstreamer/data/pubmed18n0893.xml.gz: 60it [01:14,  1.24s/it]\n",
      "classifying and uploading postgres (893/928) /home/iain/Code/robotlabs/trialstreamer/data/pubmed18n0894.xml.gz: 60it [01:13,  1.23s/it]\n",
      "classifying and uploading postgres (894/928) /home/iain/Code/robotlabs/trialstreamer/data/pubmed18n0895.xml.gz: 60it [01:14,  1.24s/it]\n",
      "classifying and uploading postgres (895/928) /home/iain/Code/robotlabs/trialstreamer/data/pubmed18n0896.xml.gz: 60it [01:15,  1.26s/it]\n",
      "classifying and uploading postgres (896/928) /home/iain/Code/robotlabs/trialstreamer/data/pubmed18n0897.xml.gz: 60it [01:14,  1.24s/it]\n",
      "classifying and uploading postgres (897/928) /home/iain/Code/robotlabs/trialstreamer/data/pubmed18n0898.xml.gz: 60it [01:13,  1.22s/it]\n",
      "classifying and uploading postgres (898/928) /home/iain/Code/robotlabs/trialstreamer/data/pubmed18n0899.xml.gz: 60it [01:16,  1.27s/it]\n",
      "classifying and uploading postgres (899/928) /home/iain/Code/robotlabs/trialstreamer/data/pubmed18n0900.xml.gz: 60it [01:10,  1.17s/it]\n",
      "classifying and uploading postgres (900/928) /home/iain/Code/robotlabs/trialstreamer/data/pubmed18n0901.xml.gz: 60it [01:16,  1.27s/it]\n",
      "classifying and uploading postgres (901/928) /home/iain/Code/robotlabs/trialstreamer/data/pubmed18n0902.xml.gz: 60it [01:15,  1.25s/it]\n",
      "classifying and uploading postgres (902/928) /home/iain/Code/robotlabs/trialstreamer/data/pubmed18n0903.xml.gz: 60it [01:14,  1.24s/it]\n",
      "classifying and uploading postgres (903/928) /home/iain/Code/robotlabs/trialstreamer/data/pubmed18n0904.xml.gz: 60it [01:14,  1.24s/it]\n",
      "classifying and uploading postgres (904/928) /home/iain/Code/robotlabs/trialstreamer/data/pubmed18n0905.xml.gz: 60it [01:14,  1.24s/it]\n",
      "classifying and uploading postgres (905/928) /home/iain/Code/robotlabs/trialstreamer/data/pubmed18n0906.xml.gz: 60it [01:15,  1.25s/it]\n",
      "classifying and uploading postgres (906/928) /home/iain/Code/robotlabs/trialstreamer/data/pubmed18n0907.xml.gz: 60it [01:16,  1.28s/it]\n",
      "classifying and uploading postgres (907/928) /home/iain/Code/robotlabs/trialstreamer/data/pubmed18n0908.xml.gz: 60it [01:11,  1.19s/it]\n",
      "classifying and uploading postgres (908/928) /home/iain/Code/robotlabs/trialstreamer/data/pubmed18n0909.xml.gz: 60it [01:15,  1.26s/it]\n",
      "classifying and uploading postgres (909/928) /home/iain/Code/robotlabs/trialstreamer/data/pubmed18n0910.xml.gz: 60it [01:13,  1.23s/it]\n",
      "classifying and uploading postgres (910/928) /home/iain/Code/robotlabs/trialstreamer/data/pubmed18n0911.xml.gz: 60it [01:13,  1.23s/it]\n",
      "classifying and uploading postgres (911/928) /home/iain/Code/robotlabs/trialstreamer/data/pubmed18n0912.xml.gz: 60it [01:14,  1.24s/it]\n",
      "classifying and uploading postgres (912/928) /home/iain/Code/robotlabs/trialstreamer/data/pubmed18n0913.xml.gz: 60it [01:17,  1.29s/it]\n",
      "classifying and uploading postgres (913/928) /home/iain/Code/robotlabs/trialstreamer/data/pubmed18n0914.xml.gz: 60it [01:14,  1.25s/it]\n",
      "classifying and uploading postgres (914/928) /home/iain/Code/robotlabs/trialstreamer/data/pubmed18n0915.xml.gz: 60it [01:12,  1.22s/it]\n",
      "classifying and uploading postgres (915/928) /home/iain/Code/robotlabs/trialstreamer/data/pubmed18n0916.xml.gz: 60it [01:11,  1.19s/it]\n",
      "classifying and uploading postgres (916/928) /home/iain/Code/robotlabs/trialstreamer/data/pubmed18n0917.xml.gz: 60it [01:14,  1.24s/it]\n",
      "classifying and uploading postgres (917/928) /home/iain/Code/robotlabs/trialstreamer/data/pubmed18n0918.xml.gz: 60it [01:14,  1.24s/it]\n",
      "classifying and uploading postgres (918/928) /home/iain/Code/robotlabs/trialstreamer/data/pubmed18n0919.xml.gz: 60it [01:11,  1.19s/it]\n",
      "classifying and uploading postgres (919/928) /home/iain/Code/robotlabs/trialstreamer/data/pubmed18n0920.xml.gz: 60it [01:14,  1.25s/it]\n",
      "classifying and uploading postgres (920/928) /home/iain/Code/robotlabs/trialstreamer/data/pubmed18n0923.xml.gz: 60it [01:08,  1.15s/it]\n",
      "classifying and uploading postgres (921/928) /home/iain/Code/robotlabs/trialstreamer/data/pubmed18n0921.xml.gz: 60it [01:14,  1.24s/it]\n",
      "classifying and uploading postgres (922/928) /home/iain/Code/robotlabs/trialstreamer/data/pubmed18n0922.xml.gz: 60it [01:13,  1.22s/it]\n",
      "classifying and uploading postgres (923/928) /home/iain/Code/robotlabs/trialstreamer/data/pubmed18n0924.xml.gz: 60it [01:14,  1.24s/it]\n",
      "classifying and uploading postgres (924/928) /home/iain/Code/robotlabs/trialstreamer/data/pubmed18n0925.xml.gz: 60it [01:13,  1.23s/it]\n",
      "classifying and uploading postgres (925/928) /home/iain/Code/robotlabs/trialstreamer/data/pubmed18n0926.xml.gz: 60it [01:12,  1.21s/it]\n",
      "classifying and uploading postgres (926/928) /home/iain/Code/robotlabs/trialstreamer/data/pubmed18n0927.xml.gz: 60it [01:13,  1.22s/it]\n",
      "classifying and uploading postgres (927/928) /home/iain/Code/robotlabs/trialstreamer/data/pubmed18n0928.xml.gz: 56it [01:05,  1.17s/it]\n",
      "[INFO] trialstreamer.pubmed 2018-09-26 07:00:59,339: Counter({'articles excluded': 25355595, 'articles included': 2480928, 'batches classified': 55676})\n",
      "[INFO] trialstreamer.pubmed 2018-09-26 07:00:59,344: Uploaded!\n",
      "[INFO] trialstreamer.pubmed 2018-09-26 07:00:59,351: Retrieving ptyp info\n"
     ]
    },
    {
     "ename": "ProgrammingError",
     "evalue": "column \"ptyp_rct\" is of type smallint but expression is of type boolean\nLINE 1: update pubmed set ptyp_rct=(pm_data @> '{\"ptyp\": [\"Randomize...\n                                    ^\nHINT:  You will need to rewrite or cast the expression.\n",
     "output_type": "error",
     "traceback": [
      "\u001b[0;31m-----------------------------------------\u001b[0m",
      "\u001b[0;31mProgrammingError\u001b[0mTraceback (most recent call last)",
      "\u001b[0;32m<ipython-input-2-997d64bebb26>\u001b[0m in \u001b[0;36m<module>\u001b[0;34m()\u001b[0m\n\u001b[0;32m----> 1\u001b[0;31m \u001b[0mpubmed\u001b[0m\u001b[0;34m.\u001b[0m\u001b[0mdownload_ftp_baseline\u001b[0m\u001b[0;34m(\u001b[0m\u001b[0;34m)\u001b[0m\u001b[0;34m\u001b[0m\u001b[0m\n\u001b[0m",
      "\u001b[0;32m/mnt/md0/Code/trialstreamer/trialstreamer/pubmed.py\u001b[0m in \u001b[0;36mdownload_ftp_baseline\u001b[0;34m()\u001b[0m\n\u001b[1;32m    101\u001b[0m     \u001b[0mdbutil\u001b[0m\u001b[0;34m.\u001b[0m\u001b[0mlog_update\u001b[0m\u001b[0;34m(\u001b[0m\u001b[0mupdate_type\u001b[0m\u001b[0;34m=\u001b[0m\u001b[0;34m'pubmed_baseline'\u001b[0m\u001b[0;34m,\u001b[0m \u001b[0msource_filename\u001b[0m\u001b[0;34m=\u001b[0m\u001b[0mos\u001b[0m\u001b[0;34m.\u001b[0m\u001b[0mpath\u001b[0m\u001b[0;34m.\u001b[0m\u001b[0mbasename\u001b[0m\u001b[0;34m(\u001b[0m\u001b[0mbaseline_ftp_fns\u001b[0m\u001b[0;34m[\u001b[0m\u001b[0;36m0\u001b[0m\u001b[0;34m]\u001b[0m\u001b[0;34m)\u001b[0m\u001b[0;34m[\u001b[0m\u001b[0;34m:\u001b[0m\u001b[0;36m8\u001b[0m\u001b[0;34m]\u001b[0m\u001b[0;34m,\u001b[0m \u001b[0msource_date\u001b[0m\u001b[0;34m=\u001b[0m\u001b[0mget_date_from_fn\u001b[0m\u001b[0;34m(\u001b[0m\u001b[0mbaseline_ftp_fns\u001b[0m\u001b[0;34m[\u001b[0m\u001b[0;36m0\u001b[0m\u001b[0;34m]\u001b[0m\u001b[0;34m)\u001b[0m\u001b[0;34m,\u001b[0m \u001b[0mdownload_date\u001b[0m\u001b[0;34m=\u001b[0m\u001b[0mdownload_date\u001b[0m\u001b[0;34m)\u001b[0m\u001b[0;34m\u001b[0m\u001b[0m\n\u001b[1;32m    102\u001b[0m     \u001b[0mlog\u001b[0m\u001b[0;34m.\u001b[0m\u001b[0minfo\u001b[0m\u001b[0;34m(\u001b[0m\u001b[0;34m\"Retrieving ptyp info\"\u001b[0m\u001b[0;34m)\u001b[0m\u001b[0;34m\u001b[0m\u001b[0m\n\u001b[0;32m--> 103\u001b[0;31m     \u001b[0madd_ptyp\u001b[0m\u001b[0;34m(\u001b[0m\u001b[0;34m)\u001b[0m\u001b[0;34m\u001b[0m\u001b[0m\n\u001b[0m\u001b[1;32m    104\u001b[0m \u001b[0;34m\u001b[0m\u001b[0m\n\u001b[1;32m    105\u001b[0m \u001b[0;32mdef\u001b[0m \u001b[0mdownload_md5s\u001b[0m\u001b[0;34m(\u001b[0m\u001b[0mgz_fns\u001b[0m\u001b[0;34m)\u001b[0m\u001b[0;34m:\u001b[0m\u001b[0;34m\u001b[0m\u001b[0m\n",
      "\u001b[0;32m/mnt/md0/Code/trialstreamer/trialstreamer/pubmed.py\u001b[0m in \u001b[0;36madd_ptyp\u001b[0;34m()\u001b[0m\n\u001b[1;32m    298\u001b[0m \u001b[0;32mdef\u001b[0m \u001b[0madd_ptyp\u001b[0m\u001b[0;34m(\u001b[0m\u001b[0;34m)\u001b[0m\u001b[0;34m:\u001b[0m\u001b[0;34m\u001b[0m\u001b[0m\n\u001b[1;32m    299\u001b[0m     \u001b[0mcur\u001b[0m \u001b[0;34m=\u001b[0m \u001b[0mdbutil\u001b[0m\u001b[0;34m.\u001b[0m \u001b[0mdb\u001b[0m\u001b[0;34m.\u001b[0m\u001b[0mcursor\u001b[0m\u001b[0;34m(\u001b[0m\u001b[0;34m)\u001b[0m\u001b[0;34m\u001b[0m\u001b[0m\n\u001b[0;32m--> 300\u001b[0;31m     \u001b[0mcur\u001b[0m\u001b[0;34m.\u001b[0m\u001b[0mexecute\u001b[0m\u001b[0;34m(\u001b[0m\u001b[0;34m\"update pubmed set ptyp_rct=(pm_data @> '{\\\"ptyp\\\": [\\\"Randomized Controlled Trial\\\"]}');\"\u001b[0m\u001b[0;34m)\u001b[0m\u001b[0;34m\u001b[0m\u001b[0m\n\u001b[0m\u001b[1;32m    301\u001b[0m     \u001b[0mcur\u001b[0m\u001b[0;34m.\u001b[0m\u001b[0mclose\u001b[0m\u001b[0;34m(\u001b[0m\u001b[0;34m)\u001b[0m\u001b[0;34m\u001b[0m\u001b[0m\n\u001b[1;32m    302\u001b[0m     \u001b[0mdbutil\u001b[0m\u001b[0;34m.\u001b[0m\u001b[0mdb\u001b[0m\u001b[0;34m.\u001b[0m\u001b[0mcommit\u001b[0m\u001b[0;34m(\u001b[0m\u001b[0;34m)\u001b[0m\u001b[0;34m\u001b[0m\u001b[0m\n",
      "\u001b[0;31mProgrammingError\u001b[0m: column \"ptyp_rct\" is of type smallint but expression is of type boolean\nLINE 1: update pubmed set ptyp_rct=(pm_data @> '{\"ptyp\": [\"Randomize...\n                                    ^\nHINT:  You will need to rewrite or cast the expression.\n"
     ]
    }
   ],
   "source": [
    "pubmed.download_ftp_baseline()"
   ]
  },
  {
   "cell_type": "code",
   "execution_count": 9,
   "metadata": {},
   "outputs": [
    {
     "name": "stderr",
     "output_type": "stream",
     "text": [
      "[INFO] trialstreamer.pubmed 2019-02-08 12:48:41,870: 72 PubMed title/abstract update files on FTP server\n",
      "[INFO] trialstreamer.pubmed 2019-02-08 12:48:41,871: Checking hashfiles, and downloading any missing\n",
      "[INFO] trialstreamer.pubmed 2019-02-08 12:48:41,907: Verifying local gzipped data files\n",
      "Validating local files: 100%|██████████| 71/71 [00:16<00:00,  4.37it/s]\n",
      "[INFO] trialstreamer.pubmed 2019-02-08 12:48:58,141: Data validated\n",
      "[INFO] trialstreamer.pubmed 2019-02-08 12:48:58,141: Checking hashfiles, and downloading any missing\n",
      "md5 hashes downloaded from PubMed FTP server: 100%|██████████| 72/72 [00:00<00:00, 152.62it/s]\n",
      "data files downloaded from PubMed FTP server: 100%|██████████| 72/72 [00:05<00:00, 13.76it/s]\n",
      "[INFO] trialstreamer.pubmed 2019-02-08 12:49:04,281: Uploading to postgres\n",
      "classifying and uploading postgres (71/72) /home/iain/Code/robotlabs/trialstreamer/data/updates/pubmed19n1044.xml.gz: 6it [01:34, 15.78s/it]\n",
      "[INFO] trialstreamer.pubmed 2019-02-08 12:50:39,088: Counter({'batches classified': 6})\n",
      "[INFO] trialstreamer.pubmed 2019-02-08 12:50:39,150: Uploaded!\n"
     ]
    }
   ],
   "source": [
    "pubmed.download_ftp_updates(safety_test_parse=False)"
   ]
  },
  {
   "cell_type": "code",
   "execution_count": 27,
   "metadata": {},
   "outputs": [
    {
     "data": {
      "text/plain": [
       "b'\\xc2\\xb2'"
      ]
     },
     "execution_count": 27,
     "metadata": {},
     "output_type": "execute_result"
    }
   ],
   "source": [
    "k.encode('utf-8')"
   ]
  },
  {
   "cell_type": "code",
   "execution_count": 6,
   "metadata": {},
   "outputs": [],
   "source": [
    "from itertools import zip_longest\n"
   ]
  },
  {
   "cell_type": "code",
   "execution_count": 9,
   "metadata": {},
   "outputs": [],
   "source": [
    "def grouper(iterable, n, fillvalue=None):\n",
    "    \"Collect data into fixed-length chunks or blocks\"\n",
    "    # grouper('ABCDEFG', 3, 'x') --> ABC DEF Gxx\"\n",
    "    args = [iter(iterable)] * n\n",
    "    return zip_longest(*args, fillvalue=fillvalue)"
   ]
  },
  {
   "cell_type": "code",
   "execution_count": null,
   "metadata": {},
   "outputs": [],
   "source": [
    "def grouper(iterable, n, fillvalue=None):\n",
    "    \"Collect data into fixed-length chunks or blocks - from itertools recipes adapted a bit\"\n",
    "    # grouper('ABCDEFG', 3, 'x') --> ABC DEF Gxx\"\n",
    "    args = [iter(iterable)] * n\n",
    "    return zip_longest(*args, fillvalue=fillvalue)"
   ]
  },
  {
   "cell_type": "code",
   "execution_count": 19,
   "metadata": {},
   "outputs": [
    {
     "data": {
      "text/plain": [
       "[]"
      ]
     },
     "execution_count": 19,
     "metadata": {},
     "output_type": "execute_result"
    }
   ],
   "source": [
    "None or []"
   ]
  },
  {
   "cell_type": "code",
   "execution_count": 21,
   "metadata": {},
   "outputs": [],
   "source": [
    "for i in grouper([], 10):\n",
    "    print(i is None)\n",
    "    print(list(filter(None.__ne__, i)))"
   ]
  },
  {
   "cell_type": "code",
   "execution_count": 29,
   "metadata": {},
   "outputs": [
    {
     "data": {
      "text/plain": [
       "[50, 51, 52, 53, 54]"
      ]
     },
     "execution_count": 29,
     "metadata": {},
     "output_type": "execute_result"
    }
   ],
   "source": [
    "list(filter(None.__ne__, i))"
   ]
  },
  {
   "cell_type": "code",
   "execution_count": 28,
   "metadata": {
    "scrolled": true
   },
   "outputs": [
    {
     "ename": "AttributeError",
     "evalue": "'filter' object has no attribute 'results'",
     "output_type": "error",
     "traceback": [
      "\u001b[0;31m---------------------------------------------------------------------------\u001b[0m",
      "\u001b[0;31mAttributeError\u001b[0m                            Traceback (most recent call last)",
      "\u001b[0;32m<ipython-input-28-1e67feefe22b>\u001b[0m in \u001b[0;36m<module>\u001b[0;34m()\u001b[0m\n\u001b[0;32m----> 1\u001b[0;31m \u001b[0mfilter\u001b[0m\u001b[0;34m(\u001b[0m\u001b[0mbool\u001b[0m\u001b[0;34m,\u001b[0m \u001b[0mlist\u001b[0m\u001b[0;34m(\u001b[0m\u001b[0mi\u001b[0m\u001b[0;34m)\u001b[0m\u001b[0;34m)\u001b[0m\u001b[0;34m.\u001b[0m\u001b[0mresults\u001b[0m\u001b[0;34m\u001b[0m\u001b[0m\n\u001b[0m",
      "\u001b[0;31mAttributeError\u001b[0m: 'filter' object has no attribute 'results'"
     ]
    }
   ],
   "source": [
    "filter(bool, list(i)).results"
   ]
  },
  {
   "cell_type": "code",
   "execution_count": 2,
   "metadata": {},
   "outputs": [
    {
     "name": "stderr",
     "output_type": "stream",
     "text": [
      "[INFO] robotdata 2018-09-20 13:52:12,916: Welcome to RobotData :)\n"
     ]
    }
   ],
   "source": [
    "import tqdm\n",
    "from robotdata.readers import pmreader\n",
    "import gzip\n",
    "import xml.etree.cElementTree as ET\n",
    "def iter_abstracts(filename):\n",
    "    with open(filename, 'rb') as f:\n",
    "        decompressedFile = gzip.GzipFile(fileobj=f, mode='r')\n",
    "        for event, elem in ET.iterparse(decompressedFile, events=(\"start\", \"end\")):\n",
    "            if elem.tag == \"MedlineCitation\" and event==\"end\":\n",
    "                p_article = pmreader.PubmedCorpusReader(xml_ET=elem)\n",
    "                yield p_article.to_dict()"
   ]
  },
  {
   "cell_type": "code",
   "execution_count": 5,
   "metadata": {},
   "outputs": [
    {
     "ename": "NameError",
     "evalue": "name 'tqdm' is not defined",
     "output_type": "error",
     "traceback": [
      "\u001b[0;31m---------------------------------------------------------------------------\u001b[0m",
      "\u001b[0;31mNameError\u001b[0m                                 Traceback (most recent call last)",
      "\u001b[0;32m<ipython-input-5-761d068d6137>\u001b[0m in \u001b[0;36m<module>\u001b[0;34m()\u001b[0m\n\u001b[1;32m      1\u001b[0m \u001b[0mfn\u001b[0m \u001b[0;34m=\u001b[0m \u001b[0;34m'/home/iain/Code/robotlabs/trialstreamer/data/pubmed18n0001.xml.gz'\u001b[0m\u001b[0;34m\u001b[0m\u001b[0m\n\u001b[1;32m      2\u001b[0m \u001b[0;34m\u001b[0m\u001b[0m\n\u001b[0;32m----> 3\u001b[0;31m \u001b[0;32mfor\u001b[0m \u001b[0ma\u001b[0m \u001b[0;32min\u001b[0m \u001b[0mtqdm\u001b[0m\u001b[0;34m.\u001b[0m\u001b[0mtqdm\u001b[0m\u001b[0;34m(\u001b[0m\u001b[0miter_abstracts\u001b[0m\u001b[0;34m(\u001b[0m\u001b[0mfn\u001b[0m\u001b[0;34m)\u001b[0m\u001b[0;34m)\u001b[0m\u001b[0;34m:\u001b[0m\u001b[0;34m\u001b[0m\u001b[0m\n\u001b[0m\u001b[1;32m      4\u001b[0m     \u001b[0mprint\u001b[0m\u001b[0;34m(\u001b[0m\u001b[0ma\u001b[0m\u001b[0;34m)\u001b[0m\u001b[0;34m\u001b[0m\u001b[0m\n\u001b[1;32m      5\u001b[0m     \u001b[0;32mbreak\u001b[0m\u001b[0;34m\u001b[0m\u001b[0m\n",
      "\u001b[0;31mNameError\u001b[0m: name 'tqdm' is not defined"
     ]
    }
   ],
   "source": [
    "fn = '/home/iain/Code/robotlabs/trialstreamer/data/pubmed18n0001.xml.gz'\n",
    "\n",
    "for a in tqdm.tqdm(iter_abstracts(fn)):\n",
    "    print(a)\n",
    "    break"
   ]
  },
  {
   "cell_type": "code",
   "execution_count": 7,
   "metadata": {
    "scrolled": true
   },
   "outputs": [
    {
     "data": {
      "text/plain": [
       "'pubmed18'"
      ]
     },
     "execution_count": 7,
     "metadata": {},
     "output_type": "execute_result"
    }
   ],
   "source": [
    "import os\n"
   ]
  },
  {
   "cell_type": "code",
   "execution_count": 11,
   "metadata": {},
   "outputs": [],
   "source": [
    "from trialstreamer import dbutil, config\n",
    "import datetime"
   ]
  },
  {
   "cell_type": "code",
   "execution_count": 12,
   "metadata": {},
   "outputs": [],
   "source": [
    "dbutil.log_update(update_type='pubmed_baseline', source_filename=os.path.basename(fn)[:8], download_date=datetime.datetime.now())\n"
   ]
  },
  {
   "cell_type": "code",
   "execution_count": 20,
   "metadata": {},
   "outputs": [],
   "source": [
    "dbutil.log_update(update_type='pubmed_baseline', source_filename=os.path.basename(fn)[:8], source_date=get_date_from_fn(fn), download_date=datetime.datetime.now())"
   ]
  },
  {
   "cell_type": "code",
   "execution_count": 18,
   "metadata": {},
   "outputs": [],
   "source": [
    "def get_date_from_fn(ftp_fn):\n",
    "    \"\"\"\n",
    "    The 2018 baseline runs until 31st December 2017\n",
    "    \"\"\"\n",
    "    bn = os.path.basename(ftp_fn)\n",
    "    return datetime.datetime(int(\"20\" + bn[6:8])-1, 12, 31)"
   ]
  },
  {
   "cell_type": "code",
   "execution_count": 19,
   "metadata": {},
   "outputs": [
    {
     "data": {
      "text/plain": [
       "datetime.datetime(2017, 12, 31, 0, 0)"
      ]
     },
     "execution_count": 19,
     "metadata": {},
     "output_type": "execute_result"
    }
   ],
   "source": [
    "get_date_from_fn(fn)"
   ]
  },
  {
   "cell_type": "code",
   "execution_count": 17,
   "metadata": {},
   "outputs": [
    {
     "data": {
      "text/plain": [
       "datetime.datetime(2018, 1, 1, 0, 0)"
      ]
     },
     "execution_count": 17,
     "metadata": {},
     "output_type": "execute_result"
    }
   ],
   "source": [
    "datetime.datetime(2018, 1, 1)"
   ]
  },
  {
   "cell_type": "code",
   "execution_count": 1,
   "metadata": {},
   "outputs": [
    {
     "name": "stderr",
     "output_type": "stream",
     "text": [
      "Using TensorFlow backend.\n",
      "[DEBUG] matplotlib 2018-09-20 13:52:04,357: $HOME=/home/iain\n",
      "[DEBUG] matplotlib 2018-09-20 13:52:04,358: matplotlib data path /home/iain/anaconda3/envs/rr3/lib/python3.6/site-packages/matplotlib/mpl-data\n",
      "[DEBUG] matplotlib 2018-09-20 13:52:04,361: loaded rc file /home/iain/anaconda3/envs/rr3/lib/python3.6/site-packages/matplotlib/mpl-data/matplotlibrc\n",
      "[DEBUG] matplotlib 2018-09-20 13:52:04,362: matplotlib version 2.2.3\n",
      "[DEBUG] matplotlib 2018-09-20 13:52:04,362: interactive is False\n",
      "[DEBUG] matplotlib 2018-09-20 13:52:04,362: platform is linux\n",
      "[DEBUG] matplotlib 2018-09-20 13:52:04,363: loaded modules: ['builtins', 'sys', '_frozen_importlib', '_imp', '_warnings', '_thread', '_weakref', '_frozen_importlib_external', '_io', 'marshal', 'posix', 'zipimport', 'encodings', 'codecs', '_codecs', 'encodings.aliases', 'encodings.utf_8', '_signal', '__main__', 'encodings.latin_1', 'io', 'abc', '_weakrefset', '_bootlocale', '_locale', 'site', 'os', 'errno', 'stat', '_stat', 'posixpath', 'genericpath', 'os.path', '_collections_abc', '_sitebuiltins', 'sysconfig', '_sysconfigdata_m_linux_x86_64-linux-gnu', 'types', 'functools', '_functools', 'collections', 'operator', '_operator', 'keyword', 'heapq', '_heapq', 'itertools', 'reprlib', '_collections', 'weakref', 'collections.abc', 'importlib', 'importlib._bootstrap', 'importlib._bootstrap_external', 'warnings', 'importlib.util', 'importlib.abc', 'importlib.machinery', 'contextlib', 'mpl_toolkits', 'google', 'zope', 'runpy', 'pkgutil', 'ipykernel', 'ipykernel._version', 'ipykernel.connect', '__future__', 'json', 'json.decoder', 're', 'enum', 'sre_compile', '_sre', 'sre_parse', 'sre_constants', 'copyreg', 'json.scanner', '_json', 'json.encoder', 'subprocess', 'time', 'signal', '_posixsubprocess', 'select', 'selectors', 'math', 'threading', 'traceback', 'linecache', 'tokenize', 'token', 'IPython', 'IPython.core', 'IPython.core.getipython', 'IPython.core.release', 'IPython.core.application', 'atexit', 'copy', 'glob', 'fnmatch', 'logging', 'string', '_string', 'shutil', 'zlib', 'bz2', '_compression', '_bz2', 'lzma', '_lzma', 'pwd', 'grp', 'traitlets', 'traitlets.traitlets', 'inspect', 'ast', '_ast', 'dis', 'opcode', '_opcode', 'six', 'struct', '_struct', 'traitlets.utils', 'traitlets.utils.getargspec', 'traitlets.utils.importstring', 'ipython_genutils', 'ipython_genutils._version', 'ipython_genutils.py3compat', 'ipython_genutils.encoding', 'locale', 'platform', 'traitlets.utils.sentinel', 'traitlets.utils.bunch', 'traitlets._version', 'traitlets.config', 'traitlets.config.application', 'decorator', 'traitlets.config.configurable', 'traitlets.config.loader', 'argparse', 'textwrap', 'gettext', 'ipython_genutils.path', 'random', 'hashlib', '_hashlib', '_blake2', '_sha3', 'bisect', '_bisect', '_random', 'ipython_genutils.text', 'ipython_genutils.importstring', 'IPython.core.crashhandler', 'pprint', 'IPython.core.ultratb', 'pydoc', 'urllib', 'urllib.parse', 'IPython.core.debugger', 'bdb', 'IPython.utils', 'IPython.utils.PyColorize', 'IPython.utils.coloransi', 'IPython.utils.ipstruct', 'IPython.utils.colorable', 'pygments', 'pygments.util', 'IPython.utils.py3compat', 'IPython.utils.encoding', 'IPython.core.excolors', 'IPython.testing', 'IPython.testing.skipdoctest', 'pdb', 'cmd', 'code', 'codeop', 'IPython.core.display_trap', 'IPython.utils.openpy', 'IPython.utils.path', 'IPython.utils.process', 'IPython.utils._process_posix', 'pexpect', 'pexpect.exceptions', 'pexpect.utils', 'pexpect.expect', 'pexpect.pty_spawn', 'pty', 'tty', 'termios', 'ptyprocess', 'ptyprocess.ptyprocess', 'fcntl', 'resource', 'ptyprocess.util', 'pexpect.spawnbase', 'pexpect.run', 'IPython.utils._process_common', 'shlex', 'IPython.utils.decorators', 'IPython.utils.data', 'IPython.utils.terminal', 'IPython.utils.sysinfo', 'IPython.utils._sysinfo', 'IPython.core.profiledir', 'IPython.paths', 'tempfile', 'IPython.utils.importstring', 'IPython.terminal', 'IPython.terminal.embed', 'IPython.core.compilerop', 'IPython.core.magic_arguments', 'IPython.core.error', 'IPython.utils.text', 'pathlib', 'ntpath', 'IPython.core.magic', 'getopt', 'IPython.core.oinspect', 'IPython.core.page', 'IPython.core.display', 'binascii', 'mimetypes', 'IPython.lib', 'IPython.lib.security', 'getpass', 'IPython.lib.pretty', 'datetime', '_datetime', 'IPython.utils.signatures', 'IPython.utils.dir2', 'IPython.utils.wildcard', 'pygments.lexers', 'pygments.lexers._mapping', 'pygments.modeline', 'pygments.plugin', 'pygments.lexers.python', 'pygments.lexer', 'pygments.filter', 'pygments.filters', 'pygments.token', 'pygments.regexopt', 'pygments.unistring', 'pygments.formatters', 'pygments.formatters._mapping', 'pygments.formatters.html', 'pygments.formatter', 'pygments.styles', 'IPython.core.inputsplitter', 'IPython.core.inputtransformer', 'IPython.core.splitinput', 'IPython.utils.tokenize2', 'IPython.core.interactiveshell', 'pickleshare', 'pickle', '_compat_pickle', '_pickle', 'IPython.core.prefilter', 'IPython.core.autocall', 'IPython.core.macro', 'IPython.core.alias', 'IPython.core.builtin_trap', 'IPython.core.events', 'backcall', 'backcall.backcall', 'IPython.core.displayhook', 'IPython.core.displaypub', 'IPython.core.extensions', 'IPython.core.formatters', 'IPython.utils.sentinel', 'IPython.core.history', 'sqlite3', 'sqlite3.dbapi2', '_sqlite3', 'IPython.core.logger', 'IPython.core.payload', 'IPython.core.usage', 'IPython.display', 'IPython.lib.display', 'html', 'html.entities', 'IPython.utils.io', 'IPython.utils.capture', 'IPython.utils.strdispatch', 'IPython.core.hooks', 'IPython.utils.syspathcontext', 'IPython.utils.tempdir', 'typing', 'typing.io', 'typing.re', 'IPython.utils.contexts', 'IPython.terminal.interactiveshell', 'prompt_toolkit', 'prompt_toolkit.interface', 'prompt_toolkit.application', 'prompt_toolkit.buffer', 'prompt_toolkit.auto_suggest', 'prompt_toolkit.filters', 'prompt_toolkit.filters.base', 'prompt_toolkit.utils', 'wcwidth', 'wcwidth.wcwidth', 'wcwidth.table_wide', 'wcwidth.table_zero', 'six.moves', 'prompt_toolkit.filters.cli', 'prompt_toolkit.enums', 'prompt_toolkit.key_binding', 'prompt_toolkit.key_binding.vi_state', 'prompt_toolkit.cache', 'prompt_toolkit.filters.types', 'prompt_toolkit.filters.utils', 'prompt_toolkit.clipboard', 'prompt_toolkit.clipboard.base', 'prompt_toolkit.selection', 'prompt_toolkit.clipboard.in_memory', 'prompt_toolkit.completion', 'prompt_toolkit.document', 'prompt_toolkit.history', 'prompt_toolkit.search_state', 'prompt_toolkit.validation', 'prompt_toolkit.buffer_mapping', 'prompt_toolkit.key_binding.bindings', 'prompt_toolkit.key_binding.bindings.basic', 'prompt_toolkit.keys', 'prompt_toolkit.layout', 'prompt_toolkit.layout.containers', 'prompt_toolkit.layout.controls', 'prompt_toolkit.mouse_events', 'prompt_toolkit.token', 'prompt_toolkit.layout.lexers', 'prompt_toolkit.layout.utils', 'prompt_toolkit.layout.processors', 'prompt_toolkit.reactive', 'prompt_toolkit.layout.screen', 'prompt_toolkit.layout.dimension', 'prompt_toolkit.layout.margins', 'prompt_toolkit.renderer', 'prompt_toolkit.layout.mouse_handlers', 'prompt_toolkit.output', 'prompt_toolkit.styles', 'prompt_toolkit.styles.base', 'prompt_toolkit.styles.defaults', 'prompt_toolkit.styles.from_dict', 'prompt_toolkit.styles.utils', 'prompt_toolkit.styles.from_pygments', 'pygments.style', 'pygments.styles.default', 'prompt_toolkit.key_binding.bindings.named_commands', 'prompt_toolkit.key_binding.bindings.completion', 'prompt_toolkit.key_binding.registry', 'prompt_toolkit.key_binding.input_processor', 'prompt_toolkit.key_binding.bindings.emacs', 'prompt_toolkit.key_binding.bindings.scroll', 'prompt_toolkit.key_binding.bindings.vi', 'prompt_toolkit.key_binding.digraphs', 'prompt_toolkit.key_binding.defaults', 'prompt_toolkit.eventloop', 'prompt_toolkit.eventloop.base', 'prompt_toolkit.eventloop.callbacks', 'prompt_toolkit.input', 'prompt_toolkit.terminal', 'prompt_toolkit.terminal.vt100_input', 'prompt_toolkit.shortcuts', 'prompt_toolkit.layout.menus', 'prompt_toolkit.layout.prompt', 'prompt_toolkit.layout.toolbars', 'prompt_toolkit.terminal.vt100_output', 'array', 'prompt_toolkit.key_binding.manager', 'IPython.terminal.debugger', 'IPython.core.completer', 'unicodedata', 'IPython.core.latex_symbols', 'IPython.utils.generics', 'simplegeneric', 'jedi', 'jedi.api', 'parso', 'parso.parser', 'parso.tree', 'parso._compatibility', 'parso.pgen2', 'parso.pgen2.generator', 'parso.pgen2.grammar_parser', 'parso.python', 'parso.python.tokenize', 'parso.python.token', 'parso.utils', 'parso.grammar', 'parso.python.diff', 'difflib', 'parso.python.parser', 'parso.python.tree', 'parso.python.prefix', 'parso.cache', 'gc', 'parso.python.errors', 'parso.normalizer', 'parso.python.pep8', 'jedi._compatibility', 'queue', 'jedi.parser_utils', 'jedi.debug', 'jedi.settings', 'jedi.cache', 'jedi.api.classes', 'jedi.evaluate', 'jedi.evaluate.utils', 'jedi.evaluate.imports', 'jedi.evaluate.sys_path', 'jedi.evaluate.cache', 'jedi.evaluate.base_context', 'jedi.common', 'jedi.common.context', 'jedi.evaluate.helpers', 'jedi.common.utils', 'jedi.evaluate.compiled', 'jedi.evaluate.compiled.context', 'jedi.evaluate.filters', 'jedi.evaluate.flow_analysis', 'jedi.evaluate.recursion', 'jedi.evaluate.lazy_context', 'jedi.evaluate.compiled.access', 'jedi.evaluate.compiled.getattr_static', 'jedi.evaluate.compiled.fake', 'jedi.evaluate.analysis', 'jedi.evaluate.context', 'jedi.evaluate.context.module', 'jedi.evaluate.context.klass', 'jedi.evaluate.context.function', 'jedi.evaluate.docstrings', 'jedi.evaluate.pep0484', 'jedi.evaluate.arguments', 'jedi.evaluate.context.iterable', 'jedi.evaluate.param', 'jedi.evaluate.context.asynchronous', 'jedi.evaluate.parser_cache', 'jedi.evaluate.context.instance', 'jedi.evaluate.syntax_tree', 'jedi.evaluate.finder', 'jedi.api.keywords', 'pydoc_data', 'pydoc_data.topics', 'jedi.api.interpreter', 'jedi.evaluate.compiled.mixed', 'jedi.api.helpers', 'jedi.api.completion', 'jedi.api.environment', 'filecmp', 'jedi.evaluate.compiled.subprocess', 'socket', '_socket', 'jedi.evaluate.compiled.subprocess.functions', 'jedi.api.exceptions', 'jedi.api.project', 'jedi.evaluate.usages', 'IPython.terminal.ptutils', 'IPython.terminal.shortcuts', 'IPython.terminal.magics', 'IPython.lib.clipboard', 'IPython.terminal.pt_inputhooks', 'IPython.terminal.prompts', 'IPython.terminal.ipapp', 'IPython.core.magics', 'IPython.core.magics.auto', 'IPython.core.magics.basic', 'IPython.core.magics.code', 'urllib.request', 'base64', 'email', 'http', 'http.client', 'email.parser', 'email.feedparser', 'email.errors', 'email._policybase', 'email.header', 'email.quoprimime', 'email.base64mime', 'email.charset', 'email.encoders', 'quopri', 'email.utils', 'email._parseaddr', 'calendar', 'email.message', 'uu', 'email._encoded_words', 'email.iterators', 'ssl', 'ipaddress', '_ssl', 'urllib.error', 'urllib.response', 'IPython.core.magics.config', 'IPython.core.magics.display', 'IPython.core.magics.execution', 'timeit', 'cProfile', '_lsprof', 'profile', 'optparse', 'pstats', 'IPython.utils.module_paths', 'imp', 'IPython.utils.timing', 'IPython.core.magics.extension', 'IPython.core.magics.history', 'IPython.core.magics.logging', 'IPython.core.magics.namespace', 'IPython.core.magics.osm', 'IPython.core.magics.pylab', 'IPython.core.pylabtools', 'IPython.core.magics.script', 'IPython.lib.backgroundjobs', 'IPython.core.shellapp', 'IPython.extensions', 'IPython.extensions.storemagic', 'IPython.utils.frame', 'jupyter_client', 'jupyter_client._version', 'jupyter_client.connect', 'zmq', 'ctypes', '_ctypes', 'ctypes._endian', 'zmq.backend', 'zmq.backend.select', 'zmq.backend.cython', 'cython_runtime', 'zmq.backend.cython.constants', '_cython_0_28_5', 'zmq.backend.cython.error', 'zmq.backend.cython.message', 'zmq.error', 'zmq.backend.cython.context', 'zmq.backend.cython.socket', 'zmq.backend.cython.utils', 'zmq.backend.cython._poll', 'zmq.backend.cython._version', 'zmq.backend.cython._device', 'zmq.sugar', 'zmq.sugar.constants', 'zmq.utils', 'zmq.utils.constant_names', 'zmq.sugar.context', 'zmq.sugar.attrsettr', 'zmq.sugar.socket', 'zmq.sugar.poll', 'zmq.utils.jsonapi', 'zmq.utils.strtypes', 'zmq.sugar.frame', 'zmq.sugar.tracker', 'zmq.sugar.version', 'zmq.sugar.stopwatch', 'jupyter_client.localinterfaces', 'jupyter_core', 'jupyter_core.version', 'jupyter_core.paths', 'jupyter_client.launcher', 'traitlets.log', 'jupyter_client.client', 'jupyter_client.channels', 'jupyter_client.channelsabc', 'jupyter_client.clientabc', 'jupyter_client.manager', 'jupyter_client.kernelspec', 'jupyter_client.managerabc', 'jupyter_client.blocking', 'jupyter_client.blocking.client', 'jupyter_client.blocking.channels', 'jupyter_client.multikernelmanager', 'uuid', 'ctypes.util', 'ipykernel.kernelapp', 'tornado', 'tornado.ioloop', 'numbers', 'tornado.concurrent', 'tornado.log', 'logging.handlers', 'tornado.escape', 'tornado.util', 'tornado.speedups', 'curses', '_curses', 'tornado.stack_context', 'concurrent', 'concurrent.futures', 'concurrent.futures._base', 'concurrent.futures.process', 'multiprocessing', 'multiprocessing.context', 'multiprocessing.process', 'multiprocessing.reduction', '__mp_main__', 'multiprocessing.connection', '_multiprocessing', 'multiprocessing.util', 'concurrent.futures.thread', 'asyncio', 'asyncio.base_events', 'asyncio.compat', 'asyncio.coroutines', 'asyncio.constants', 'asyncio.events', 'asyncio.base_futures', 'asyncio.log', 'asyncio.futures', 'asyncio.base_tasks', '_asyncio', 'asyncio.tasks', 'asyncio.locks', 'asyncio.protocols', 'asyncio.queues', 'asyncio.streams', 'asyncio.subprocess', 'asyncio.transports', 'asyncio.unix_events', 'asyncio.base_subprocess', 'asyncio.selector_events', 'asyncio.sslproto', 'tornado.platform', 'tornado.platform.auto', 'tornado.platform.posix', 'tornado.platform.common', 'tornado.platform.interface', 'zmq.eventloop', 'zmq.eventloop.ioloop', 'tornado.platform.asyncio', 'tornado.gen', 'zmq.eventloop.zmqstream', 'ipykernel.iostream', 'jupyter_client.session', 'hmac', 'jupyter_client.jsonutil', 'dateutil', 'dateutil._version', 'dateutil.parser', 'dateutil.parser._parser', 'decimal', '_decimal', 'dateutil.relativedelta', 'dateutil._common', 'dateutil.tz', 'dateutil.tz.tz', 'dateutil.tz._common', 'dateutil.tz._factories', 'dateutil.parser.isoparser', '_strptime', 'jupyter_client.adapter', 'ipykernel.heartbeat', 'ipykernel.ipkernel', 'IPython.utils.tokenutil', 'ipykernel.comm', 'ipykernel.comm.manager', 'ipykernel.comm.comm', 'ipykernel.kernelbase', 'ipykernel.jsonutil', 'ipykernel.zmqshell', 'IPython.core.payloadpage', 'ipykernel.displayhook', 'ipykernel.parentpoller', 'faulthandler', 'ipykernel.datapub', 'ipykernel.serialize', 'ipykernel.pickleutil', 'ipykernel.codeutil', 'IPython.core.completerlib', 'storemagic', 'ipywidgets', 'ipywidgets._version', 'ipywidgets.widgets', 'ipywidgets.widgets.widget', 'ipywidgets.widgets.domwidget', 'ipywidgets.widgets.trait_types', 'ipywidgets.widgets.widget_layout', 'ipywidgets.widgets.widget_style', 'ipywidgets.widgets.valuewidget', 'ipywidgets.widgets.widget_core', 'ipywidgets.widgets.widget_bool', 'ipywidgets.widgets.widget_description', 'ipywidgets.widgets.widget_button', 'ipywidgets.widgets.widget_box', 'ipywidgets.widgets.docutils', 'ipywidgets.widgets.widget_float', 'ipywidgets.widgets.widget_int', 'ipywidgets.widgets.widget_color', 'ipywidgets.widgets.widget_date', 'ipywidgets.widgets.widget_output', 'ipywidgets.widgets.widget_selection', 'ipywidgets.widgets.widget_selectioncontainer', 'ipywidgets.widgets.widget_string', 'ipywidgets.widgets.widget_controller', 'ipywidgets.widgets.interaction', 'ipywidgets.widgets.widget_link', 'ipywidgets.widgets.widget_media', 'robotsearch', 'robotsearch.robots', 'robotsearch.robots.rct_robot', 'robotsearch.ml', 'robotsearch.ml.classifier', 'scipy', 'numpy', 'numpy._globals', 'numpy.__config__', 'numpy.version', 'numpy._import_tools', 'numpy.add_newdocs', 'numpy.lib', 'numpy.lib.info', 'numpy.lib.type_check', 'numpy.core', 'numpy.core.info', 'numpy.core.multiarray', 'numpy.core.umath', 'numpy.core._internal', 'numpy.compat', 'numpy.compat._inspect', 'numpy.compat.py3k', 'numpy.core.numerictypes', 'numpy.core.numeric', 'numpy.core.fromnumeric', 'numpy.core._methods', 'numpy.core.arrayprint', 'numpy.core.defchararray', 'numpy.core.records', 'numpy.core.memmap', 'numpy.core.function_base', 'numpy.core.machar', 'numpy.core.getlimits', 'numpy.core.shape_base', 'numpy.core.einsumfunc', 'numpy.testing', 'unittest', 'unittest.result', 'unittest.util', 'unittest.case', 'unittest.suite', 'unittest.loader', 'unittest.main', 'unittest.runner', 'unittest.signals', 'numpy.testing.decorators', 'numpy.testing.nose_tools', 'numpy.testing.nose_tools.decorators', 'numpy.testing.nose_tools.utils', 'numpy.lib.utils', 'numpy.testing.nosetester', 'numpy.testing.nose_tools.nosetester', 'numpy.testing.utils', 'numpy.lib.ufunclike', 'numpy.lib.index_tricks', 'numpy.lib.function_base', 'numpy.lib.twodim_base', 'numpy.matrixlib', 'numpy.matrixlib.defmatrix', 'numpy.lib.stride_tricks', 'numpy.lib.mixins', 'numpy.lib.nanfunctions', 'numpy.lib.shape_base', 'numpy.lib.scimath', 'numpy.lib.polynomial', 'numpy.linalg', 'numpy.linalg.info', 'numpy.linalg.linalg', 'numpy.linalg.lapack_lite', 'numpy.linalg._umath_linalg', 'numpy.lib.arraysetops', 'numpy.lib.npyio', 'numpy.lib.format', 'numpy.lib._datasource', 'numpy.lib._iotools', 'numpy.lib.financial', 'numpy.lib.arrayterator', 'numpy.lib.arraypad', 'numpy.lib._version', 'numpy._distributor_init', 'numpy.fft', 'numpy.fft.info', 'numpy.fft.fftpack', 'numpy.fft.fftpack_lite', 'numpy.fft.helper', 'numpy.polynomial', 'numpy.polynomial.polynomial', 'numpy.polynomial.polyutils', 'numpy.polynomial._polybase', 'numpy.polynomial.chebyshev', 'numpy.polynomial.legendre', 'numpy.polynomial.hermite', 'numpy.polynomial.hermite_e', 'numpy.polynomial.laguerre', 'numpy.random', 'numpy.random.info', 'mtrand', 'numpy.random.mtrand', 'numpy.ctypeslib', 'numpy.ma', 'numpy.ma.core', 'numpy.ma.extras', 'scipy._distributor_init', 'scipy.__config__', 'scipy.version', 'scipy._lib', 'scipy._lib._testutils', 'scipy._lib._version', 'scipy._lib.six', 'scipy._lib._ccallback', 'scipy._lib._ccallback_c', 'scipy.sparse', 'scipy.sparse.base', 'scipy._lib._numpy_compat', 'scipy.sparse.sputils', 'scipy.sparse.csr', 'scipy.sparse._sparsetools', 'scipy.sparse.compressed', 'scipy._lib._util', 'scipy.sparse.data', 'scipy.sparse.dia', 'scipy.sparse.csc', 'scipy.sparse.lil', 'scipy.sparse._csparsetools', 'scipy.sparse.dok', 'scipy.sparse.coo', 'scipy.sparse.bsr', 'scipy.sparse.construct', 'scipy.sparse.extract', 'scipy.sparse._matrix_io', 'scipy.sparse.csgraph', 'scipy.sparse.csgraph._laplacian', '_cython_0_28_3', 'scipy.sparse.csgraph._shortest_path', 'scipy.sparse.csgraph._validation', 'scipy.sparse.csgraph._tools', 'scipy.sparse.csgraph._traversal', 'scipy.sparse.csgraph._min_spanning_tree', 'scipy.sparse.csgraph._reordering', 'sklearn', 'sklearn.__check_build', 'sklearn.__check_build._check_build', 'sklearn.base', 'sklearn.externals', 'sklearn.externals.six', 'sklearn.externals.six.moves', 'sklearn.externals.six.moves.urllib_parse', 'sklearn.externals.six.moves.urllib.parse', 'sklearn.externals.six.moves.urllib_error', 'sklearn.externals.six.moves.urllib.error', 'sklearn.externals.six.moves.urllib_request', 'sklearn.externals.six.moves.urllib.request', 'sklearn.externals.six.moves.urllib_response', 'sklearn.externals.six.moves.urllib.response', 'sklearn.externals.six.moves.urllib_robotparser', 'sklearn.externals.six.moves.urllib.robotparser', 'sklearn.externals.six.moves.urllib', 'sklearn.utils', 'sklearn.utils.murmurhash', 'sklearn.utils.validation', 'sklearn.utils.fixes', 'scipy.sparse.linalg', 'scipy.sparse.linalg.isolve', 'scipy.sparse.linalg.isolve.iterative', 'scipy.sparse.linalg.isolve._iterative', 'scipy.sparse.linalg.interface', 'scipy._lib.decorator', 'scipy.sparse.linalg.isolve.utils', 'scipy._lib._threadsafety', 'scipy.sparse.linalg.isolve.minres', 'scipy.sparse.linalg.isolve.lgmres', 'scipy.linalg', 'scipy.linalg.linalg_version', 'scipy.linalg.misc', 'scipy.linalg.blas', 'scipy.linalg._fblas', 'scipy.linalg.lapack', 'scipy.linalg._flapack', 'scipy.linalg.basic', 'scipy.linalg.flinalg', 'scipy.linalg._flinalg', 'scipy.linalg.decomp', 'scipy.linalg.decomp_svd', 'scipy.linalg._solve_toeplitz', 'scipy.linalg.decomp_lu', 'scipy.linalg._decomp_ldl', 'scipy.linalg.decomp_cholesky', 'scipy.linalg.decomp_qr', 'scipy.linalg._decomp_qz', 'scipy.linalg.decomp_schur', 'scipy.linalg._decomp_polar', 'scipy.linalg.matfuncs', 'scipy.linalg.special_matrices', 'scipy.linalg._expm_frechet', 'scipy.linalg._matfuncs_sqrtm', 'scipy.linalg._solvers', 'scipy.linalg._procrustes', 'scipy.linalg._decomp_update', 'scipy.linalg.cython_blas', 'scipy.linalg.cython_lapack', 'scipy.linalg._sketches', 'numpy.dual', 'scipy.sparse.linalg.isolve._gcrotmk', 'scipy.sparse.linalg.isolve.lsqr', 'scipy.sparse.linalg.isolve.lsmr', 'scipy.sparse.linalg.dsolve', 'scipy.sparse.linalg.dsolve.linsolve', 'scipy.sparse.linalg.dsolve._superlu', 'scipy.sparse.linalg.dsolve._add_newdocs', 'scipy.sparse.linalg.eigen', 'scipy.sparse.linalg.eigen.arpack', 'scipy.sparse.linalg.eigen.arpack.arpack', 'scipy.sparse.linalg.eigen.arpack._arpack', 'scipy.sparse.linalg.eigen.lobpcg', 'scipy.sparse.linalg.eigen.lobpcg.lobpcg', 'scipy.sparse.linalg.matfuncs', 'scipy.special', 'scipy.special.sf_error', 'scipy.special._ufuncs', 'scipy.special._ufuncs_cxx', 'scipy.special.basic', 'scipy.special.specfun', 'scipy.special.orthogonal', 'scipy.special._comb', 'scipy.special._logsumexp', 'scipy.special.spfun_stats', 'scipy.special._ellip_harm', 'scipy.special._ellip_harm_2', 'scipy.special.lambertw', 'scipy.special._spherical_bessel', 'scipy.sparse.linalg._onenormest', 'scipy.sparse.linalg._norm', 'scipy.sparse.linalg._expm_multiply', 'sklearn.exceptions', 'sklearn.externals.joblib', 'sklearn.externals.joblib.memory', 'sklearn.externals.joblib.hashing', 'sklearn.externals.joblib._compat', 'sklearn.externals.joblib.func_inspect', 'sklearn.externals.joblib.logger', 'sklearn.externals.joblib.disk', 'sklearn.externals.joblib._memory_helpers', 'sklearn.externals.joblib.numpy_pickle', 'sklearn.externals.joblib.numpy_pickle_utils', 'gzip', 'sklearn.externals.joblib.numpy_pickle_compat', 'sklearn.externals.joblib.backports', 'distutils', 'distutils.version', 'sklearn.externals.joblib.parallel', 'sklearn.externals.joblib._multiprocessing_helpers', 'multiprocessing.synchronize', 'sklearn.externals.joblib.format_stack', 'sklearn.externals.joblib.my_exceptions', 'sklearn.externals.joblib._parallel_backends', 'sklearn.externals.joblib.pool', 'mmap', 'multiprocessing.pool', 'sklearn.utils.class_weight', 'sklearn.utils.deprecation', 'sklearn.feature_extraction', 'sklearn.feature_extraction.dict_vectorizer', 'sklearn.feature_extraction.hashing', 'sklearn.feature_extraction._hashing', 'sklearn.feature_extraction.image', 'sklearn.feature_extraction.text', 'sklearn.preprocessing', 'sklearn.preprocessing._function_transformer', 'sklearn.preprocessing.data', 'scipy.stats', 'scipy.stats.stats', 'scipy.stats.distributions', 'scipy.stats._distn_infrastructure', 'scipy.misc', 'scipy.misc.doccer', 'scipy.misc.common', 'scipy.interpolate', 'scipy.interpolate.interpolate', 'scipy.interpolate.fitpack', 'scipy.interpolate._fitpack_impl', 'scipy.interpolate._fitpack', 'scipy.interpolate.dfitpack', 'scipy.interpolate._bsplines', 'scipy.interpolate._bspl', 'scipy.interpolate.polyint', 'scipy.interpolate._ppoly', 'scipy.interpolate.fitpack2', 'scipy.interpolate.interpnd', 'scipy.spatial', 'scipy.spatial.kdtree', 'scipy.spatial.ckdtree', 'scipy.spatial.qhull', 'scipy._lib.messagestream', 'scipy.spatial._spherical_voronoi', 'numpy.matlib', 'scipy.spatial._voronoi', 'scipy.spatial.distance', 'scipy.spatial._distance_wrap', 'scipy.spatial._hausdorff', 'scipy.spatial._plotutils', 'scipy.spatial._procrustes', 'scipy.interpolate.rbf', 'scipy.interpolate._cubic', 'scipy.interpolate.ndgriddata', 'scipy.interpolate._pade', 'scipy.stats._distr_params', 'scipy.optimize', 'scipy.optimize.optimize', 'scipy.optimize.linesearch', 'scipy.optimize.minpack2', 'scipy.optimize._minimize', 'scipy.optimize._trustregion_dogleg', 'scipy.optimize._trustregion', 'scipy.optimize._trustregion_ncg', 'scipy.optimize._trustregion_krylov', 'scipy.optimize._trlib', 'scipy.optimize._trlib._trlib', 'scipy.optimize._trustregion_exact', 'scipy.optimize._trustregion_constr', 'scipy.optimize._trustregion_constr.minimize_trustregion_constr', 'scipy.optimize._differentiable_functions', 'scipy.optimize._numdiff', 'scipy.optimize._group_columns', 'scipy.optimize._hessian_update_strategy', 'scipy.optimize._constraints', 'scipy.optimize._trustregion_constr.equality_constrained_sqp', 'scipy.optimize._trustregion_constr.projections', 'scipy.optimize._trustregion_constr.qp_subproblem', 'scipy.optimize._trustregion_constr.canonical_constraint', 'scipy.optimize._trustregion_constr.tr_interior_point', 'scipy.optimize._trustregion_constr.report', 'scipy.optimize.lbfgsb', 'scipy.optimize._lbfgsb', 'scipy.optimize.tnc', 'scipy.optimize.moduleTNC', 'scipy.optimize.cobyla', 'scipy.optimize._cobyla', 'scipy.optimize.slsqp', 'scipy.optimize._slsqp', 'scipy.optimize._root', 'scipy.optimize.minpack', 'scipy.optimize._minpack', 'scipy.optimize._lsq', 'scipy.optimize._lsq.least_squares', 'scipy.optimize._lsq.trf', 'scipy.optimize._lsq.common', 'scipy.optimize._lsq.dogbox', 'scipy.optimize._lsq.lsq_linear', 'scipy.optimize._lsq.trf_linear', 'scipy.optimize._lsq.givens_elimination', 'scipy.optimize._lsq.bvls', 'scipy.optimize._spectral', 'scipy.optimize.nonlin', 'scipy.optimize.zeros', 'scipy.optimize._zeros', 'scipy.optimize.nnls', 'scipy.optimize._nnls', 'scipy.optimize._basinhopping', 'scipy.optimize._linprog', 'scipy.optimize._linprog_ip', 'scipy.optimize._remove_redundancy', 'scipy.optimize._hungarian', 'scipy.optimize._differentialevolution', 'scipy.integrate', 'scipy.integrate.quadrature', 'scipy.integrate.odepack', 'scipy.integrate._odepack', 'scipy.integrate.quadpack', 'scipy.integrate._quadpack', 'scipy.integrate._ode', 'scipy.integrate.vode', 'scipy.integrate._dop', 'scipy.integrate.lsoda', 'scipy.integrate._bvp', 'scipy.integrate._ivp', 'scipy.integrate._ivp.ivp', 'scipy.integrate._ivp.bdf', 'scipy.integrate._ivp.common', 'scipy.integrate._ivp.base', 'scipy.integrate._ivp.radau', 'scipy.integrate._ivp.rk', 'scipy.integrate._ivp.lsoda', 'scipy.stats._constants', 'scipy.stats._continuous_distns', 'scipy.stats._stats', 'scipy.stats._tukeylambda_stats', 'scipy.stats._discrete_distns', 'scipy.stats.mstats_basic', 'scipy.stats._stats_mstats_common', 'scipy.stats.morestats', 'scipy.stats.statlib', 'scipy.stats.contingency', 'scipy.stats._binned_statistic', 'scipy.stats.kde', 'scipy.stats.mvn', 'scipy.stats.mstats', 'scipy.stats.mstats_extras', 'scipy.stats._multivariate', 'sklearn.utils.extmath', 'sklearn.utils._logistic_sigmoid', 'sklearn.utils.sparsefuncs_fast', 'sklearn.utils.sparsefuncs', 'sklearn.preprocessing.label', 'sklearn.utils.multiclass', 'sklearn.preprocessing.imputation', 'sklearn.feature_extraction.stop_words', 'robotsearch.parsers', 'robotsearch.parsers.ris', 'keras', 'keras.utils', 'keras.utils.np_utils', 'keras.utils.generic_utils', 'keras.utils.data_utils', 'tarfile', 'zipfile', 'six.moves.urllib', 'six.moves.urllib.error', 'six.moves.urllib.request', 'keras.utils.io_utils', 'h5py', 'h5py._errors', 'h5py._hl', 'h5py._hl.compat', 'h5py._conv', 'h5py.h5r', 'h5py._objects', 'h5py.defs', 'h5py.h5t', 'h5py.utils', 'h5py.h5', 'h5py.h5py_warnings', 'h5py.h5z', 'h5py.h5a', 'h5py.h5s', 'h5py.h5p', 'h5py.h5ac', 'h5py._proxy', 'h5py.h5d', 'h5py.h5ds', 'h5py.h5f', 'h5py.h5g', 'h5py.h5i', 'h5py.h5fd', 'h5py._hl.filters', 'h5py._hl.base', 'h5py._hl.files', 'h5py._hl.group', 'h5py.h5o', 'h5py.h5l', 'h5py._hl.dataset', 'h5py._hl.selections', 'h5py._hl.selections2', 'h5py._hl.datatype', 'h5py.version', 'h5py._hl.attrs', 'keras.utils.conv_utils', 'keras.backend', 'keras.backend.common', 'keras.backend.tensorflow_backend', 'tensorflow', 'tensorflow.python', 'tensorflow.python.pywrap_tensorflow', 'tensorflow.python.platform', 'tensorflow.python.platform.self_check', 'tensorflow.python.platform.build_info', 'tensorflow.python.pywrap_tensorflow_internal', 'swig_runtime_data4', '_pywrap_tensorflow_internal', 'tensorflow.core', 'tensorflow.core.framework', 'tensorflow.core.framework.graph_pb2', 'google.protobuf', 'pkg_resources', 'plistlib', 'xml', 'xml.parsers', 'xml.parsers.expat', 'pyexpat.errors', 'pyexpat.model', 'pyexpat', 'xml.parsers.expat.model', 'xml.parsers.expat.errors', 'pkg_resources.extern', 'pkg_resources._vendor', 'pkg_resources.extern.six', 'pkg_resources._vendor.six', 'pkg_resources.extern.six.moves', 'pkg_resources._vendor.six.moves', 'pkg_resources.py31compat', 'pkg_resources.extern.appdirs', 'pkg_resources._vendor.packaging.__about__', 'pkg_resources.extern.packaging', 'pkg_resources.extern.packaging.version', 'pkg_resources.extern.packaging._structures', 'pkg_resources.extern.packaging.specifiers', 'pkg_resources.extern.packaging._compat', 'pkg_resources.extern.packaging.requirements', 'pkg_resources.extern.pyparsing', 'pkg_resources.extern.six.moves.urllib', 'pkg_resources.extern.packaging.markers', 'google.protobuf.descriptor', 'google.protobuf.internal', 'google.protobuf.internal.api_implementation', 'google.protobuf.internal._api_implementation', 'google.protobuf.pyext', 'google.protobuf.internal.containers', 'google.protobuf.internal.enum_type_wrapper', 'google.protobuf.message', 'google.protobuf.pyext._message', 'google.protobuf.reflection', 'google.protobuf.pyext.cpp_message', 'google.protobuf.symbol_database', 'google.protobuf.descriptor_pool', 'google.protobuf.descriptor_database', 'google.protobuf.text_encoding', 'google.protobuf.message_factory', 'tensorflow.core.framework.node_def_pb2', 'tensorflow.core.framework.attr_value_pb2', 'tensorflow.core.framework.tensor_pb2', 'tensorflow.core.framework.resource_handle_pb2', 'google.protobuf.internal.well_known_types', 'tensorflow.core.framework.tensor_shape_pb2', 'tensorflow.core.framework.types_pb2', 'tensorflow.core.framework.function_pb2', 'tensorflow.core.framework.op_def_pb2', 'tensorflow.core.framework.versions_pb2', 'tensorflow.core.framework.summary_pb2', 'tensorflow.core.protobuf', 'tensorflow.core.protobuf.meta_graph_pb2', 'google.protobuf.any_pb2', 'tensorflow.core.protobuf.saver_pb2', 'tensorflow.core.protobuf.config_pb2', 'tensorflow.core.framework.cost_graph_pb2', 'tensorflow.core.framework.step_stats_pb2', 'tensorflow.core.framework.allocation_description_pb2', 'tensorflow.core.framework.tensor_description_pb2', 'tensorflow.core.protobuf.debug_pb2', 'tensorflow.core.protobuf.cluster_pb2', 'tensorflow.core.protobuf.rewriter_config_pb2', 'tensorflow.core.protobuf.tensorflow_server_pb2', 'tensorflow.core.util', 'tensorflow.core.util.event_pb2', 'tensorflow.python.framework', 'tensorflow.python.framework.framework_lib', 'tensorflow.python.framework.device', 'tensorflow.python.util', 'tensorflow.python.util.tf_export', 'tensorflow.python.util.tf_decorator', 'tensorflow.python.framework.ops', 'tensorflow.python.eager', 'tensorflow.python.eager.context', 'tensorflow.python.framework.c_api_util', 'tensorflow.core.framework.api_def_pb2', 'tensorflow.python.util.compat', 'tensorflow.python.util.tf_contextlib', 'tensorflow.python.util.is_in_graph_mode', 'tensorflow.python.eager.core', 'tensorflow.python.framework.errors', 'tensorflow.python.framework.errors_impl', 'tensorflow.core.lib', 'tensorflow.core.lib.core', 'tensorflow.core.lib.core.error_codes_pb2', 'tensorflow.python.eager.tape', 'tensorflow.python.framework.cpp_shape_inference_pb2', 'tensorflow.python.framework.dtypes', 'tensorflow.python.framework.op_def_registry', 'tensorflow.python.framework.registry', 'tensorflow.python.platform.tf_logging', 'tensorflow.python.util.tf_stack', 'tensorflow.python.framework.tensor_shape', 'tensorflow.python.framework.traceable_stack', 'tensorflow.python.framework.versions', 'tensorflow.python.ops', 'tensorflow.python.ops.control_flow_util', 'tensorflow.python.platform.app', 'tensorflow.python.platform.flags', 'absl', 'absl.flags', 'absl.flags._argument_parser', 'csv', '_csv', 'absl.flags._helpers', 'absl.flags._defines', 'absl.flags._exceptions', 'absl.flags._flag', 'absl.flags._flagvalues', 'xml.dom', 'xml.dom.domreg', 'xml.dom.minidom', 'xml.dom.minicompat', 'xml.dom.xmlbuilder', 'xml.dom.NodeFilter', 'absl.flags._validators', 'tensorflow.python.util.decorator_utils', 'tensorflow.python.util.lock_util', 'tensorflow.python.util.deprecation', 'tensorflow.python.util.tf_inspect', 'tensorflow.python.framework.sparse_tensor', 'tensorflow.python.framework.tensor_util', 'tensorflow.python.framework.fast_tensor_util', 'tensorflow.python.framework.random_seed', 'tensorflow.python.framework.importer', 'tensorflow.python.framework.function', 'tensorflow.python.framework.graph_to_function_def', 'tensorflow.python.ops.array_ops', 'tensorflow.python.framework.common_shapes', 'tensorflow.python.framework.constant_op', 'tensorflow.python.eager.execute', 'google.protobuf.text_format', 'google.protobuf.internal.type_checkers', 'google.protobuf.internal.decoder', 'google.protobuf.internal.encoder', 'google.protobuf.internal.wire_format', 'tensorflow.python.ops.gen_array_ops', 'tensorflow.python.framework.op_def_library', 'tensorflow.python.ops.gen_math_ops', 'tensorflow.python.ops.cond_v2_impl', 'tensorflow.python.ops.gen_functional_ops', 'tensorflow.python.ops.resource_variable_ops', 'tensorflow.core.framework.variable_pb2', 'tensorflow.python.ops.gen_resource_variable_ops', 'tensorflow.python.ops.gen_state_ops', 'tensorflow.python.ops.math_ops', 'tensorflow.python.framework.graph_util', 'tensorflow.python.framework.graph_util_impl', 'tensorflow.python.ops.gen_data_flow_ops', 'tensorflow.python.ops.gen_nn_ops', 'tensorflow.python.ops.gen_sparse_ops', 'tensorflow.python.ops.gen_spectral_ops', 'tensorflow.python.util.nest', 'tensorflow.python.ops.variables', 'tensorflow.python.ops.control_flow_ops', 'tensorflow.core.protobuf.control_flow_pb2', 'tensorflow.python.ops.gen_control_flow_ops', 'tensorflow.python.ops.gen_logging_ops', 'tensorflow.python.ops.tensor_array_ops', 'tensorflow.python.util.tf_should_use', 'tensorflow.python.ops.state_ops', 'tensorflow.python.training', 'tensorflow.python.training.checkpointable', 'tensorflow.python.training.checkpointable.base', 'tensorflow.python.ops.gen_io_ops', 'tensorflow.python.training.saveable_object', 'tensorflow.python.util.serialization', 'tensorflow.python.ops.variable_scope', 'tensorflow.python.ops.init_ops', 'tensorflow.python.ops.linalg_ops_impl', 'tensorflow.python.ops.gen_linalg_ops', 'tensorflow.python.ops.random_ops', 'tensorflow.python.ops.gen_random_ops', 'tensorflow.python.util.function_utils', 'tensorflow.python.framework.load_library', 'tensorflow.python.client', 'tensorflow.python.client.client_lib', 'tensorflow.python.client.session', 'tensorflow.python.ops.session_ops', 'tensorflow.python.ops.standard_ops', 'tensorflow.python.ops.array_grad', 'tensorflow.python.ops.sparse_ops', 'tensorflow.python.ops.check_ops', 'tensorflow.python.ops.cudnn_rnn_grad', 'tensorflow.python.ops.gen_cudnn_rnn_ops', 'tensorflow.python.ops.data_flow_grad', 'tensorflow.python.ops.data_flow_ops', 'tensorflow.python.lib', 'tensorflow.python.lib.io', 'tensorflow.python.lib.io.python_io', 'tensorflow.python.lib.io.tf_record', 'tensorflow.python.ops.manip_grad', 'tensorflow.python.ops.manip_ops', 'tensorflow.python.ops.gen_manip_ops', 'tensorflow.python.ops.math_grad', 'tensorflow.python.ops.random_grad', 'tensorflow.python.ops.sparse_grad', 'tensorflow.python.ops.spectral_grad', 'tensorflow.python.ops.spectral_ops', 'tensorflow.python.ops.state_grad', 'tensorflow.python.ops.tensor_array_grad', 'tensorflow.python.ops.clip_ops', 'tensorflow.python.ops.special_math_ops', 'tensorflow.python.ops.confusion_matrix', 'tensorflow.python.ops.functional_ops', 'tensorflow.python.ops.gradients', 'tensorflow.python.eager.backprop', 'tensorflow.python.eager.imperative_grad', 'tensorflow.python.ops.custom_gradient', 'tensorflow.python.ops.gradients_impl', 'tensorflow.python.ops.control_flow_grad', 'tensorflow.python.ops.image_grad', 'tensorflow.python.ops.gen_image_ops', 'tensorflow.python.ops.linalg_grad', 'tensorflow.python.ops.linalg_ops', 'tensorflow.python.ops.linalg', 'tensorflow.python.ops.linalg.linalg_impl', 'tensorflow.python.ops.logging_ops', 'tensorflow.python.ops.histogram_ops', 'tensorflow.python.ops.io_ops', 'tensorflow.python.ops.lookup_ops', 'tensorflow.python.ops.gen_lookup_ops', 'tensorflow.python.ops.string_ops', 'tensorflow.python.ops.gen_string_ops', 'tensorflow.python.ops.numerics', 'tensorflow.python.ops.parsing_ops', 'tensorflow.python.ops.gen_parsing_ops', 'tensorflow.python.ops.partitioned_variables', 'tensorflow.python.ops.script_ops', 'tensorflow.python.ops.gen_script_ops', 'tensorflow.python.ops.template', 'tensorflow.python.eager.function', 'tensorflow.python.eager.graph_only_ops', 'tensorflow.python.training.checkpointable.util', 'tensorflow.core.protobuf.checkpointable_object_graph_pb2', 'tensorflow.python.training.optimizer', 'tensorflow.python.training.distribute', 'tensorflow.python.data', 'tensorflow.python.data.ops', 'tensorflow.python.data.ops.dataset_ops', 'tensorflow.python.compat', 'tensorflow.python.compat.compat', 'tensorflow.python.data.ops.iterator_ops', 'tensorflow.python.data.util', 'tensorflow.python.data.util.nest', 'tensorflow.python.data.util.sparse', 'tensorflow.python.ops.gen_dataset_ops', 'tensorflow.python.data.util.random_seed', 'tensorflow.python.framework.smart_cond', 'tensorflow.python.data.ops.readers', 'tensorflow.python.data.util.convert', 'tensorflow.python.ops.losses', 'tensorflow.python.ops.losses.losses_impl', 'tensorflow.python.ops.nn', 'tensorflow.python.ops.ctc_ops', 'tensorflow.python.ops.gen_ctc_ops', 'tensorflow.python.ops.nn_grad', 'tensorflow.python.ops.nn_ops', 'tensorflow.python.ops.embedding_ops', 'tensorflow.python.ops.nn_impl', 'tensorflow.python.ops.candidate_sampling_ops', 'tensorflow.python.ops.gen_candidate_sampling_ops', 'tensorflow.python.ops.weights_broadcast_ops', 'tensorflow.python.ops.sets', 'tensorflow.python.ops.sets_impl', 'tensorflow.python.ops.gen_set_ops', 'tensorflow.python.ops.losses.util', 'tensorflow.python.training.device_util', 'tensorflow.python.training.slot_creator', 'tensorflow.python.training.saver', 'tensorflow.python.framework.meta_graph', 'tensorflow.python.framework.graph_io', 'tensorflow.python.lib.io.file_io', 'tensorflow.python.platform.gfile', 'tensorflow.python.training.training_util', 'tensorflow.python.training.checkpoint_state_pb2', 'tensorflow.python.training.checkpointable.data_structures', 'tensorflow.python.training.checkpointable.layer_utils', 'tensorflow.python.training.checkpointable.tracking', 'tensorflow.python.ops.initializers_ns', 'tensorflow.python.keras', 'tensorflow.python.keras.activations', 'tensorflow.python.keras.backend', 'tensorflow.python.ops.image_ops', 'tensorflow.python.ops.image_ops_impl', 'tensorflow.python.keras.utils', 'tensorflow.python.keras.utils.data_utils', 'tensorflow.python.keras.utils.generic_utils', 'tensorflow.python.keras.utils.io_utils', 'tensorflow.python.keras.utils.layer_utils', 'tensorflow.python.keras.utils.conv_utils', 'tensorflow.python.keras.utils.multi_gpu_utils', 'tensorflow.python.keras.engine', 'tensorflow.python.keras.engine.base_layer', 'tensorflow.python.keras.constraints', 'tensorflow.python.keras.initializers', 'tensorflow.python.keras.regularizers', 'tensorflow.python.keras.utils.tf_utils', 'tensorflow.python.keras.engine.input_layer', 'tensorflow.python.keras.engine.training', 'tensorflow.python.keras.losses', 'tensorflow.python.keras.metrics', 'tensorflow.python.keras.optimizers', 'tensorflow.python.keras.engine.training_arrays', 'tensorflow.python.keras.callbacks', 'tensorflow.python.summary', 'tensorflow.python.summary.summary', 'google.protobuf.json_format', 'tensorflow.python.ops.gen_summary_ops', 'tensorflow.python.ops.summary_op_util', 'tensorflow.python.ops.summary_ops', 'tensorflow.python.summary.text_summary', 'tensorflow.python.summary.writer', 'tensorflow.python.summary.writer.writer', 'tensorflow.python.summary.plugin_asset', 'tensorflow.python.summary.writer.event_file_writer', 'tensorflow.python.summary.writer.event_file_writer_v2', 'tensorflow.python.ops.summary_ops_v2', 'tensorflow.python.summary.writer.writer_cache', 'requests', 'urllib3', 'urllib3.connectionpool', 'urllib3.exceptions', 'urllib3.packages', 'urllib3.packages.ssl_match_hostname', 'urllib3.packages.six', 'urllib3.packages.six.moves', 'urllib3.packages.six.moves.http_client', 'urllib3.connection', 'urllib3.util', 'urllib3.util.connection', 'urllib3.util.wait', 'urllib3.util.request', 'urllib3.util.response', 'urllib3.util.ssl_', 'urllib3.util.timeout', 'urllib3.util.retry', 'urllib3.util.url', 'urllib3._collections', 'urllib3.request', 'urllib3.filepost', 'urllib3.fields', 'urllib3.packages.six.moves.urllib', 'urllib3.packages.six.moves.urllib.parse', 'urllib3.response', 'urllib3.util.queue', 'urllib3.poolmanager', 'chardet', 'chardet.compat', 'chardet.universaldetector', 'chardet.charsetgroupprober', 'chardet.enums', 'chardet.charsetprober', 'chardet.escprober', 'chardet.codingstatemachine', 'chardet.escsm', 'chardet.latin1prober', 'chardet.mbcsgroupprober', 'chardet.utf8prober', 'chardet.mbcssm', 'chardet.sjisprober', 'chardet.mbcharsetprober', 'chardet.chardistribution', 'chardet.euctwfreq', 'chardet.euckrfreq', 'chardet.gb2312freq', 'chardet.big5freq', 'chardet.jisfreq', 'chardet.jpcntx', 'chardet.eucjpprober', 'chardet.gb2312prober', 'chardet.euckrprober', 'chardet.cp949prober', 'chardet.big5prober', 'chardet.euctwprober', 'chardet.sbcsgroupprober', 'chardet.sbcharsetprober', 'chardet.langcyrillicmodel', 'chardet.langgreekmodel', 'chardet.langbulgarianmodel', 'chardet.langthaimodel', 'chardet.langhebrewmodel', 'chardet.hebrewprober', 'chardet.langturkishmodel', 'chardet.version', 'requests.exceptions', 'urllib3.contrib', 'urllib3.contrib.pyopenssl', 'OpenSSL', 'OpenSSL.crypto', 'cryptography', 'cryptography.__about__', 'cryptography.x509', 'cryptography.x509.certificate_transparency', 'cryptography.x509.base', 'cryptography.utils', 'cryptography.hazmat', 'cryptography.hazmat.primitives', 'cryptography.hazmat.primitives.asymmetric', 'cryptography.hazmat.primitives.asymmetric.dsa', 'cryptography.hazmat.primitives.asymmetric.ec', 'cryptography.hazmat.primitives.asymmetric.rsa', 'cryptography.exceptions', 'cryptography.hazmat.backends', 'cryptography.hazmat.backends.interfaces', 'cryptography.x509.extensions', 'asn1crypto', 'asn1crypto.version', 'asn1crypto.keys', 'asn1crypto._elliptic_curve', 'asn1crypto._int', 'asn1crypto.util', 'asn1crypto._errors', 'asn1crypto._iri', 'encodings.idna', 'stringprep', 'asn1crypto._types', 'asn1crypto._ordereddict', 'asn1crypto._ffi', 'asn1crypto._perf', 'asn1crypto._perf._big_num_ctypes', 'asn1crypto.algos', 'asn1crypto.core', 'asn1crypto._teletex_codec', 'asn1crypto.parser', 'cryptography.hazmat.primitives.constant_time', 'cryptography.hazmat.bindings', '_cffi_backend', '_constant_time.lib', '_constant_time', 'cryptography.hazmat.bindings._constant_time', 'cryptography.hazmat.primitives.serialization', 'cryptography.x509.general_name', 'idna', 'idna.package_data', 'idna.core', 'idna.idnadata', 'idna.intranges', 'cryptography.x509.name', 'cryptography.x509.oid', 'cryptography.hazmat.primitives.hashes', 'OpenSSL._util', 'cryptography.hazmat.bindings.openssl', 'cryptography.hazmat.bindings.openssl.binding', '_openssl.lib', '_openssl', 'cryptography.hazmat.bindings._openssl', 'cryptography.hazmat.bindings.openssl._conditional', 'OpenSSL.SSL', 'OpenSSL.version', 'cryptography.hazmat.backends.openssl', 'cryptography.hazmat.backends.openssl.backend', 'cryptography.hazmat.backends.openssl.aead', 'cryptography.hazmat.backends.openssl.ciphers', 'cryptography.hazmat.primitives.ciphers', 'cryptography.hazmat.primitives.ciphers.base', 'cryptography.hazmat.primitives.ciphers.modes', 'cryptography.hazmat.backends.openssl.cmac', 'cryptography.hazmat.primitives.mac', 'cryptography.hazmat.backends.openssl.decode_asn1', 'cryptography.hazmat.backends.openssl.dh', 'cryptography.hazmat.primitives.asymmetric.dh', 'cryptography.hazmat.backends.openssl.dsa', 'cryptography.hazmat.backends.openssl.utils', 'cryptography.hazmat.primitives.asymmetric.utils', 'cryptography.hazmat.backends.openssl.ec', 'cryptography.hazmat.backends.openssl.encode_asn1', 'cryptography.hazmat.backends.openssl.hashes', 'cryptography.hazmat.backends.openssl.hmac', 'cryptography.hazmat.backends.openssl.rsa', 'cryptography.hazmat.primitives.asymmetric.padding', 'cryptography.hazmat.backends.openssl.x25519', 'cryptography.hazmat.primitives.asymmetric.x25519', 'cryptography.hazmat.backends.openssl.x509', 'cryptography.hazmat.primitives.ciphers.algorithms', 'cryptography.hazmat.primitives.kdf', 'cryptography.hazmat.primitives.kdf.scrypt', 'urllib3.packages.backports', 'urllib3.packages.backports.makefile', 'requests.__version__', 'requests.utils', 'requests.certs', 'certifi', 'certifi.core', 'requests._internal_utils', 'requests.compat', 'http.cookiejar', 'http.cookies', 'requests.cookies', 'requests.structures', 'requests.packages', 'requests.packages.urllib3', 'requests.packages.urllib3.connectionpool', 'requests.packages.urllib3.exceptions', 'requests.packages.urllib3.packages', 'requests.packages.urllib3.packages.ssl_match_hostname', 'requests.packages.urllib3.packages.six', 'requests.packages.urllib3.packages.six.moves', 'requests.packages.urllib3.packages.six.moves.http_client', 'requests.packages.urllib3.connection', 'requests.packages.urllib3.util', 'requests.packages.urllib3.util.connection', 'requests.packages.urllib3.util.wait', 'requests.packages.urllib3.util.request', 'requests.packages.urllib3.util.response', 'requests.packages.urllib3.util.ssl_', 'requests.packages.urllib3.util.timeout', 'requests.packages.urllib3.util.retry', 'requests.packages.urllib3.util.url', 'requests.packages.urllib3._collections', 'requests.packages.urllib3.request', 'requests.packages.urllib3.filepost', 'requests.packages.urllib3.fields', 'requests.packages.urllib3.packages.six.moves.urllib', 'requests.packages.urllib3.packages.six.moves.urllib.parse', 'requests.packages.urllib3.response', 'requests.packages.urllib3.util.queue', 'requests.packages.urllib3.poolmanager', 'requests.packages.urllib3.contrib', 'requests.packages.urllib3.contrib.pyopenssl', 'requests.packages.urllib3.packages.backports', 'requests.packages.urllib3.packages.backports.makefile', 'requests.packages.idna', 'requests.packages.idna.package_data', 'requests.packages.idna.core', 'requests.packages.idna.idnadata', 'requests.packages.idna.intranges', 'requests.packages.chardet', 'requests.packages.chardet.compat', 'requests.packages.chardet.universaldetector', 'requests.packages.chardet.charsetgroupprober', 'requests.packages.chardet.enums', 'requests.packages.chardet.charsetprober', 'requests.packages.chardet.escprober', 'requests.packages.chardet.codingstatemachine', 'requests.packages.chardet.escsm', 'requests.packages.chardet.latin1prober', 'requests.packages.chardet.mbcsgroupprober', 'requests.packages.chardet.utf8prober', 'requests.packages.chardet.mbcssm', 'requests.packages.chardet.sjisprober', 'requests.packages.chardet.mbcharsetprober', 'requests.packages.chardet.chardistribution', 'requests.packages.chardet.euctwfreq', 'requests.packages.chardet.euckrfreq', 'requests.packages.chardet.gb2312freq', 'requests.packages.chardet.big5freq', 'requests.packages.chardet.jisfreq', 'requests.packages.chardet.jpcntx', 'requests.packages.chardet.eucjpprober', 'requests.packages.chardet.gb2312prober', 'requests.packages.chardet.euckrprober', 'requests.packages.chardet.cp949prober', 'requests.packages.chardet.big5prober', 'requests.packages.chardet.euctwprober', 'requests.packages.chardet.sbcsgroupprober', 'requests.packages.chardet.sbcharsetprober', 'requests.packages.chardet.langcyrillicmodel', 'requests.packages.chardet.langgreekmodel', 'requests.packages.chardet.langbulgarianmodel', 'requests.packages.chardet.langthaimodel', 'requests.packages.chardet.langhebrewmodel', 'requests.packages.chardet.hebrewprober', 'requests.packages.chardet.langturkishmodel', 'requests.packages.chardet.version', 'requests.models', 'requests.hooks', 'requests.auth', 'requests.status_codes', 'requests.api', 'requests.sessions', 'requests.adapters', 'urllib3.contrib.socks', 'socks', 'tensorflow.python.keras.engine.training_utils', 'tensorflow.python.keras.engine.training_eager', 'tensorflow.python.keras.engine.training_generator', 'tensorflow.python.keras.engine.network', 'tensorflow.python.keras.engine.saving', 'yaml', 'yaml.error', 'yaml.tokens', 'yaml.events', 'yaml.nodes', 'yaml.loader', 'yaml.reader', 'yaml.scanner', 'yaml.parser', 'yaml.composer', 'yaml.constructor', 'yaml.resolver', 'yaml.dumper', 'yaml.emitter', 'yaml.serializer', 'yaml.representer', 'yaml.cyaml', '_yaml', 'tensorflow.python.keras.utils.np_utils', 'tensorflow.python.keras.utils.vis_utils', 'tensorflow.python.keras.applications', 'tensorflow.python.keras.applications.densenet', 'tensorflow.python.keras.applications.imagenet_utils', 'tensorflow.python.keras.layers', 'tensorflow.python.keras.layers.advanced_activations', 'tensorflow.python.keras.layers.convolutional', 'tensorflow.python.keras.layers.pooling', 'tensorflow.python.keras.layers.core', 'tensorflow.python.keras.layers.embeddings', 'tensorflow.python.keras.layers.local', 'tensorflow.python.keras.layers.merge', 'tensorflow.python.keras.layers.noise', 'tensorflow.python.keras.layers.normalization', 'tensorflow.python.keras.layers.recurrent', 'tensorflow.python.keras.layers.convolutional_recurrent', 'tensorflow.python.keras.layers.cudnn_recurrent', 'tensorflow.python.keras.layers.wrappers', 'tensorflow.python.keras.layers.serialization', 'tensorflow.python.keras.models', 'tensorflow.python.keras.engine.sequential', 'tensorflow.python.keras.applications.inception_resnet_v2', 'tensorflow.python.keras.applications.inception_v3', 'tensorflow.python.keras.applications.mobilenet', 'tensorflow.python.keras.applications.nasnet', 'tensorflow.python.keras.applications.resnet50', 'tensorflow.python.keras.applications.vgg16', 'tensorflow.python.keras.applications.vgg19', 'tensorflow.python.keras.applications.xception', 'tensorflow.python.keras.datasets', 'tensorflow.python.keras.datasets.boston_housing', 'tensorflow.python.keras.datasets.cifar10', 'tensorflow.python.keras.datasets.cifar', 'tensorflow.python.keras.datasets.cifar100', 'tensorflow.python.keras.datasets.fashion_mnist', 'tensorflow.python.keras.datasets.imdb', 'tensorflow.python.keras.preprocessing', 'tensorflow.python.keras.preprocessing.image', 'scipy.ndimage', 'scipy.ndimage.filters', 'scipy.ndimage._ni_support', 'scipy.ndimage._nd_image', 'scipy.ndimage._ni_docstrings', 'scipy.ndimage.fourier', 'scipy.ndimage.interpolation', 'scipy.ndimage.measurements', '_ni_label', 'scipy.ndimage._ni_label', 'scipy.ndimage.morphology', 'scipy.ndimage.io', 'tensorflow.python.keras.preprocessing.sequence', 'tensorflow.python.keras.preprocessing.text', 'tensorflow.python.keras.datasets.mnist', 'tensorflow.python.keras.datasets.reuters', 'tensorflow.python.keras.estimator', 'tensorflow.python.estimator', 'tensorflow.python.estimator.estimator_lib', 'tensorflow.python.estimator.canned', 'tensorflow.python.estimator.canned.baseline', 'tensorflow.python.estimator.estimator', 'tensorflow.python.estimator.model_fn', 'tensorflow.python.estimator.export', 'tensorflow.python.estimator.export.export_output', 'tensorflow.python.saved_model', 'tensorflow.python.saved_model.signature_def_utils', 'tensorflow.python.saved_model.signature_def_utils_impl', 'tensorflow.python.saved_model.signature_constants', 'tensorflow.python.saved_model.utils', 'tensorflow.python.saved_model.utils_impl', 'tensorflow.python.saved_model.tag_constants', 'tensorflow.python.training.monitored_session', 'tensorflow.python.ops.resources', 'tensorflow.python.training.basic_session_run_hooks', 'tensorflow.python.client.timeline', 'tensorflow.python.training.session_run_hook', 'tensorflow.python.training.summary_io', 'tensorflow.python.summary.summary_iterator', 'tensorflow.python.training.coordinator', 'tensorflow.python.training.queue_runner', 'tensorflow.python.training.queue_runner_impl', 'tensorflow.core.protobuf.queue_runner_pb2', 'tensorflow.python.training.session_manager', 'tensorflow.python.estimator.run_config', 'tensorflow.python.training.server_lib', 'tensorflow.python.util.compat_internal', 'tensorflow.python.estimator.util', 'tensorflow.python.training.training', 'tensorflow.python.ops.sdca_ops', 'tensorflow.python.ops.gen_sdca_ops', 'tensorflow.python.training.adadelta', 'tensorflow.python.training.training_ops', 'tensorflow.python.training.gen_training_ops', 'tensorflow.python.training.adagrad', 'tensorflow.python.training.adagrad_da', 'tensorflow.python.training.proximal_adagrad', 'tensorflow.python.training.adam', 'tensorflow.python.training.ftrl', 'tensorflow.python.training.momentum', 'tensorflow.python.training.moving_averages', 'tensorflow.python.training.rmsprop', 'tensorflow.python.training.gradient_descent', 'tensorflow.python.training.proximal_gradient_descent', 'tensorflow.python.training.sync_replicas_optimizer', 'tensorflow.python.training.input', 'tensorflow.python.layers', 'tensorflow.python.layers.utils', 'tensorflow.python.training.basic_loops', 'tensorflow.python.training.checkpoint_utils', 'tensorflow.python.training.device_setter', 'tensorflow.python.training.supervisor', 'tensorflow.python.training.warm_starting_util', 'tensorflow.python.training.checkpoint_ops', 'tensorflow.python.ops.gen_checkpoint_ops', 'tensorflow.core.example', 'tensorflow.core.example.example_pb2', 'tensorflow.core.example.feature_pb2', 'tensorflow.python.training.learning_rate_decay', 'tensorflow.python.estimator.export.export', 'tensorflow.python.ops.metrics', 'tensorflow.python.ops.metrics_impl', 'tensorflow.python.saved_model.builder', 'tensorflow.python.saved_model.builder_impl', 'tensorflow.core.protobuf.saved_model_pb2', 'tensorflow.python.saved_model.constants', 'tensorflow.python.training.evaluation', 'tensorflow.python.estimator.canned.head', 'tensorflow.python.estimator.canned.metric_keys', 'tensorflow.python.estimator.canned.prediction_keys', 'tensorflow.python.feature_column', 'tensorflow.python.feature_column.feature_column', 'tensorflow.python.layers.base', 'tensorflow.python.ops.losses.losses', 'tensorflow.python.estimator.canned.optimizers', 'tensorflow.python.estimator.canned.boosted_trees', 'tensorflow.python.ops.boosted_trees_ops', 'tensorflow.python.ops.gen_boosted_trees_ops', 'tensorflow.python.estimator.canned.dnn', 'tensorflow.python.layers.core', 'tensorflow.python.layers.normalization', 'tensorflow.python.estimator.canned.dnn_linear_combined', 'tensorflow.python.estimator.canned.linear', 'tensorflow.python.estimator.canned.parsing_utils', 'tensorflow.python.estimator.export.export_lib', 'tensorflow.python.estimator.exporter', 'tensorflow.python.estimator.gc', 'tensorflow.python.estimator.inputs', 'tensorflow.python.estimator.inputs.inputs', 'tensorflow.python.estimator.inputs.numpy_io', 'tensorflow.python.estimator.inputs.queues', 'tensorflow.python.estimator.inputs.queues.feeding_functions', 'tensorflow.python.estimator.inputs.queues.feeding_queue_runner', 'pandas', 'pytz', 'pytz.exceptions', 'pytz.lazy', 'pytz.tzinfo', 'pytz.tzfile', 'pandas.compat', 'pandas.compat.chainmap', 'pandas.compat.numpy', 'pandas._libs', 'pandas._libs.tslib', 'pandas._libs.tslibs', 'pandas._libs.tslibs.conversion', 'pandas._libs.tslibs.np_datetime', '_cython_0_28_4', 'pandas._libs.tslibs.nattype', 'pandas._libs.tslibs.timedeltas', 'pandas._libs.tslibs.timezones', 'pandas._libs.tslibs.parsing', 'pandas._libs.tslibs.ccalendar', 'pandas._libs.tslibs.strptime', 'pandas._libs.tslibs.timestamps', 'pandas._libs.tslibs.fields', 'pandas._libs.hashtable', 'pandas._libs.missing', 'pandas._libs.lib', 'pandas.core', 'pandas.core.config_init', 'pandas.core.config', 'pandas.io', 'pandas.io.formats', 'pandas.io.formats.printing', 'pandas.core.dtypes', 'pandas.core.dtypes.inference', 'pandas.io.formats.console', 'pandas.io.formats.terminal', 'pandas.core.api', 'pandas.core.algorithms', 'pandas.core.dtypes.cast', 'pandas.core.dtypes.common', 'pandas._libs.algos', 'pandas.core.dtypes.dtypes', 'pandas.core.dtypes.generic', 'pandas.core.dtypes.base', 'pandas.errors', 'pandas.core.dtypes.missing', 'pandas.core.common', 'pandas.util', 'pandas.util._decorators', 'pandas._libs.properties', 'pandas.core.util', 'pandas.core.util.hashing', 'pandas._libs.hashing', 'pandas.core.arrays', 'pandas.core.arrays.base', 'pandas.compat.numpy.function', 'pandas.util._validators', 'pandas.core.arrays.categorical', 'pandas.core.accessor', 'pandas.core.base', 'pandas.core.nanops', 'pandas.core.missing', 'pandas.core.groupby', 'pandas.core.groupby.groupby', 'pandas.core.index', 'pandas.core.indexes', 'pandas.core.indexes.api', 'pandas.core.indexes.base', 'pandas._libs.index', 'pandas._libs.tslibs.period', 'pandas._libs.tslibs.frequencies', 'pandas._libs.tslibs.resolution', 'pandas.tseries', 'pandas.tseries.offsets', 'pandas.core.tools', 'pandas.core.tools.datetimes', 'dateutil.easter', 'pandas._libs.tslibs.offsets', 'pandas.tseries.frequencies', 'pandas._libs.join', 'pandas.core.ops', 'pandas._libs.ops', 'pandas.core.indexes.frozen', 'pandas.core.dtypes.concat', 'pandas.core.sorting', 'pandas.core.strings', 'pandas.core.indexes.category', 'pandas.core.indexes.multi', 'pandas.core.indexes.interval', 'pandas._libs.interval', 'pandas.core.indexes.datetimes', 'pandas.core.indexes.numeric', 'pandas.core.indexes.datetimelike', 'pandas.core.tools.timedeltas', 'pandas.core.indexes.timedeltas', 'pandas.core.indexes.range', 'pandas.core.indexes.period', 'pandas.core.frame', 'pandas.core.generic', 'pandas.core.indexing', 'pandas._libs.indexing', 'pandas.core.internals', 'pandas._libs.internals', 'pandas.core.sparse', 'pandas.core.sparse.array', 'pandas._libs.sparse', 'pandas.io.formats.format', 'pandas.io.common', 'pandas.core.series', 'pandas.core.indexes.accessors', 'pandas.plotting', 'pandas.plotting._misc', 'pandas.plotting._style', 'pandas.plotting._compat', 'pandas.plotting._tools', 'pandas.plotting._core', 'pandas.plotting._converter', 'matplotlib', 'matplotlib.cbook', 'matplotlib.cbook.deprecation', 'matplotlib.cbook._backports', 'matplotlib.compat', 'matplotlib.compat.subprocess', 'matplotlib.rcsetup', 'matplotlib.testing', 'matplotlib.fontconfig_pattern', 'pyparsing', 'matplotlib.colors', 'matplotlib._color_data', 'cycler', 'matplotlib._version']\n"
     ]
    },
    {
     "name": "stderr",
     "output_type": "stream",
     "text": [
      "[DEBUG] robotsearch.ml.classifier 2018-09-20 13:52:04,460: Loading model /home/iain/Code/robotsearch/robotsearch/data/rct/rct_svm_weights.npz...\n",
      "[DEBUG] robotsearch.ml.classifier 2018-09-20 13:52:04,502: Model /home/iain/Code/robotsearch/robotsearch/data/rct/rct_svm_weights.npz loaded\n",
      "/home/iain/anaconda3/envs/rr3/lib/python3.6/site-packages/keras/engine/topology.py:1271: UserWarning: The `Merge` layer is deprecated and will be removed after 08/2017. Use instead layers from `keras.layers.merge`, e.g. `add`, `concatenate`, etc.\n",
      "  return cls(**config)\n",
      "/home/iain/anaconda3/envs/rr3/lib/python3.6/site-packages/keras/models.py:291: UserWarning: Error in loading the saved optimizer state. As a result, your model is starting with a freshly initialized optimizer.\n",
      "  warnings.warn('Error in loading the saved optimizer '\n"
     ]
    }
   ],
   "source": [
    "from robotsearch.robots import rct_robot\n",
    "rct_clf = rct_robot.RCTRobot()\n"
   ]
  },
  {
   "cell_type": "code",
   "execution_count": 14,
   "metadata": {
    "scrolled": true
   },
   "outputs": [
    {
     "name": "stdout",
     "output_type": "stream",
     "text": [
      "\t1 of 6\n",
      "\t2 of 6\n",
      "\t3 of 6\n",
      "\t4 of 6\n",
      "\t5 of 6\n",
      "\t6 of 6\n"
     ]
    }
   ],
   "source": [
    "use_ptyp = True if entry['status']=='MEDLINE' else False\n",
    "pred = rct_clf.predict({\"title\": entry['title'], \"abstract\": entry['abstract_plaintext'], \"ptyp\": entry['ptyp'], \"use_ptyp\": use_ptyp}, filter_type=\"sensitive\", filter_class=\"svm_cnn\")"
   ]
  },
  {
   "cell_type": "code",
   "execution_count": 15,
   "metadata": {},
   "outputs": [
    {
     "data": {
      "text/plain": [
       "[{'score': -0.6182302381489372,\n",
       "  'model': 'svm_cnn_ptyp',\n",
       "  'threshold_type': 'sensitive',\n",
       "  'threshold_value': 0.19441410243541343,\n",
       "  'is_rct': False,\n",
       "  'ptyp_rct': 0}]"
      ]
     },
     "execution_count": 15,
     "metadata": {},
     "output_type": "execute_result"
    }
   ],
   "source": [
    "pred"
   ]
  },
  {
   "cell_type": "code",
   "execution_count": 6,
   "metadata": {},
   "outputs": [
    {
     "data": {
      "text/plain": [
       "{'pmid': '2',\n",
       " 'status': 'MEDLINE',\n",
       " 'title': 'Delineation of the intimate details of the backbone conformation of pyridine nucleotide coenzymes in aqueous solution.',\n",
       " 'abstract': [],\n",
       " 'abstract_plaintext': '',\n",
       " 'authors': [{'Initials': 'KS',\n",
       "   'LastName': 'Bose',\n",
       "   'ForeName': 'K S',\n",
       "   'Affiliation': ''},\n",
       "  {'Initials': 'RH',\n",
       "   'LastName': 'Sarma',\n",
       "   'ForeName': 'R H',\n",
       "   'Affiliation': ''}],\n",
       " 'journal': 'Biochemical and biophysical research communications',\n",
       " 'journal_abbrv': 'Biochem. Biophys. Res. Commun.',\n",
       " 'year': '1975',\n",
       " 'mesh': ['Fourier Analysis',\n",
       "  'Magnetic Resonance Spectroscopy',\n",
       "  'Models, Molecular',\n",
       "  'Molecular Conformation',\n",
       "  'NAD',\n",
       "  'NADP',\n",
       "  'Structure-Activity Relationship',\n",
       "  'Temperature'],\n",
       " 'month': 'Oct',\n",
       " 'volume': '66',\n",
       " 'issue': '4',\n",
       " 'pages': {'page_from': '1173', 'page_to': '1179'},\n",
       " 'ptyp': ['Journal Article',\n",
       "  \"Research Support, U.S. Gov't, Non-P.H.S.\",\n",
       "  \"Research Support, U.S. Gov't, P.H.S.\"],\n",
       " 'registry_ids': [],\n",
       " 'dois': []}"
      ]
     },
     "execution_count": 6,
     "metadata": {},
     "output_type": "execute_result"
    }
   ],
   "source": [
    "entry"
   ]
  },
  {
   "cell_type": "code",
   "execution_count": 2,
   "metadata": {},
   "outputs": [
    {
     "name": "stderr",
     "output_type": "stream",
     "text": [
      "/home/iain/anaconda3/envs/rr3/lib/python3.6/site-packages/psycopg2/__init__.py:144: UserWarning: The psycopg2 wheel package will be renamed from release 2.8; in order to keep installing from binary please use \"pip install psycopg2-binary\" instead. For details see: <http://initd.org/psycopg/docs/install.html#binary-install-from-pypi>.\n",
      "  \"\"\")\n"
     ]
    }
   ],
   "source": [
    "from trialstreamer import dbutil"
   ]
  },
  {
   "cell_type": "code",
   "execution_count": null,
   "metadata": {},
   "outputs": [],
   "source": []
  }
 ],
 "metadata": {
  "kernelspec": {
   "display_name": "Python 3",
   "language": "python",
   "name": "python3"
  },
  "language_info": {
   "codemirror_mode": {
    "name": "ipython",
    "version": 3
   },
   "file_extension": ".py",
   "mimetype": "text/x-python",
   "name": "python",
   "nbconvert_exporter": "python",
   "pygments_lexer": "ipython3",
   "version": "3.7.3"
  }
 },
 "nbformat": 4,
 "nbformat_minor": 2
}
