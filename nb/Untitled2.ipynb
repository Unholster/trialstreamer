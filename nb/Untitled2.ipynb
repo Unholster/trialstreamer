{
 "cells": [
  {
   "cell_type": "code",
   "execution_count": 4,
   "metadata": {},
   "outputs": [
    {
     "name": "stderr",
     "output_type": "stream",
     "text": [
      "[INFO] robotdata 2019-03-29 16:45:20,703: Welcome to RobotData :)\n"
     ]
    }
   ],
   "source": [
    "from robotreviewer"
   ]
  },
  {
   "cell_type": "code",
   "execution_count": 5,
   "metadata": {},
   "outputs": [
    {
     "name": "stderr",
     "output_type": "stream",
     "text": [
      "[INFO] trialstreamer.pubmed 2019-03-29 16:45:21,282: getting list of all PICOs done so far...\n",
      "[INFO] trialstreamer.pubmed 2019-03-29 16:45:21,283: Fetching data to annotate\n",
      "[INFO] trialstreamer.pubmed 2019-03-29 16:45:27,334: PICO annotation in progress\n",
      "articles annotated: 6450it [35:52:14, 18.13s/it]\n"
     ]
    }
   ],
   "source": [
    "pubmed.compute_pico()"
   ]
  },
  {
   "cell_type": "code",
   "execution_count": 6,
   "metadata": {},
   "outputs": [
    {
     "data": {
      "text/plain": [
       "144000.0"
      ]
     },
     "execution_count": 6,
     "metadata": {},
     "output_type": "execute_result"
    }
   ],
   "source": []
  }
 ],
 "metadata": {
  "kernelspec": {
   "display_name": "Python 3",
   "language": "python",
   "name": "python3"
  },
  "language_info": {
   "codemirror_mode": {
    "name": "ipython",
    "version": 3
   },
   "file_extension": ".py",
   "mimetype": "text/x-python",
   "name": "python",
   "nbconvert_exporter": "python",
   "pygments_lexer": "ipython3",
   "version": "3.7.3"
  }
 },
 "nbformat": 4,
 "nbformat_minor": 2
}
