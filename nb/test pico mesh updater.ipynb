{
 "cells": [
  {
   "cell_type": "code",
   "execution_count": 1,
   "metadata": {},
   "outputs": [
    {
     "name": "stderr",
     "output_type": "stream",
     "text": [
      "[INFO] robotdata 2019-06-01 13:45:29,383: Welcome to RobotData :)\n"
     ]
    }
   ],
   "source": [
    "from trialstreamer import pubmed"
   ]
  },
  {
   "cell_type": "code",
   "execution_count": null,
   "metadata": {},
   "outputs": [
    {
     "name": "stderr",
     "output_type": "stream",
     "text": [
      "[INFO] trialstreamer.PICO_BERT_batch 2019-06-01 13:45:34,691: instantiating BERT\n",
      "[INFO] trialstreamer.PICO_BERT_batch 2019-06-01 13:45:34,803: retrieve all PICO snippets in the database\n",
      "[INFO] trialstreamer.PICO_BERT_batch 2019-06-01 13:45:34,805: calculating PICO BERTs for new records only...\n",
      "[INFO] trialstreamer.PICO_BERT_batch 2019-06-01 13:45:34,807: getting source data\n",
      "[INFO] trialstreamer.PICO_BERT_batch 2019-06-01 13:45:36,341: calculating number of records to process\n",
      "[INFO] trialstreamer.PICO_BERT_batch 2019-06-01 13:45:36,341: processing the BERTs!\n",
      "articles processed for BERT embeddings:   3%|▎         | 32/1258.96 [01:13<59:47,  2.92s/it]  /home/iain/anaconda3/envs/trialstreamer/lib/python3.7/site-packages/bert_serving/client/__init__.py:286: UserWarning: some of your sentences have more tokens than \"max_seq_len=64\" set on the server, as consequence you may get less-accurate or truncated embeddings.\n",
      "here is what you can do:\n",
      "- disable the length-check by create a new \"BertClient(check_length=False)\" when you do not want to display this warning\n",
      "- or, start a new server with a larger \"max_seq_len\"\n",
      "  '- or, start a new server with a larger \"max_seq_len\"' % self.length_limit)\n",
      "articles processed for BERT embeddings:  72%|███████▏  | 905/1258.96 [45:46<14:30,  2.46s/it] "
     ]
    }
   ],
   "source": [
    "PICO_BERT_batch.map_all_in_db(force_refresh=False)"
   ]
  },
  {
   "cell_type": "code",
   "execution_count": 1,
   "metadata": {},
   "outputs": [
    {
     "ename": "NameError",
     "evalue": "name 'pubmed' is not defined",
     "output_type": "error",
     "traceback": [
      "\u001b[0;31m---------------------------------------------------------------------------\u001b[0m",
      "\u001b[0;31mNameError\u001b[0m                                 Traceback (most recent call last)",
      "\u001b[0;32m<ipython-input-1-15321505f59b>\u001b[0m in \u001b[0;36m<module>\u001b[0;34m\u001b[0m\n\u001b[0;32m----> 1\u001b[0;31m \u001b[0mpubmed\u001b[0m\u001b[0;34m.\u001b[0m\u001b[0mcompute_pico_mesh\u001b[0m\u001b[0;34m(\u001b[0m\u001b[0;34m)\u001b[0m\u001b[0;34m\u001b[0m\u001b[0;34m\u001b[0m\u001b[0m\n\u001b[0m",
      "\u001b[0;31mNameError\u001b[0m: name 'pubmed' is not defined"
     ]
    }
   ],
   "source": []
  },
  {
   "cell_type": "code",
   "execution_count": 2,
   "metadata": {},
   "outputs": [],
   "source": [
    "from trialstreamer import PICO_BERT_batch"
   ]
  },
  {
   "cell_type": "code",
   "execution_count": null,
   "metadata": {},
   "outputs": [],
   "source": []
  },
  {
   "cell_type": "code",
   "execution_count": null,
   "metadata": {},
   "outputs": [],
   "source": []
  }
 ],
 "metadata": {
  "kernelspec": {
   "display_name": "Python (trialstreamer2)",
   "language": "python",
   "name": "trialstreamer"
  },
  "language_info": {
   "codemirror_mode": {
    "name": "ipython",
    "version": 3
   },
   "file_extension": ".py",
   "mimetype": "text/x-python",
   "name": "python",
   "nbconvert_exporter": "python",
   "pygments_lexer": "ipython3",
   "version": "3.7.3"
  }
 },
 "nbformat": 4,
 "nbformat_minor": 2
}
