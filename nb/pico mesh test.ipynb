{
 "cells": [
  {
   "cell_type": "code",
   "execution_count": 1,
   "metadata": {},
   "outputs": [],
   "source": [
    "from trialstreamer import minimap"
   ]
  },
  {
   "cell_type": "code",
   "execution_count": 2,
   "metadata": {},
   "outputs": [
    {
     "name": "stderr",
     "output_type": "stream",
     "text": [
      "[INFO] robotdata 2019-05-07 11:25:05,716: Welcome to RobotData :)\n"
     ]
    }
   ],
   "source": [
    "from psycopg2.extras import execute_values\n",
    "from trialstreamer import dbutil, config\n",
    "import psycopg2\n",
    "import trialstreamer\n",
    "from trialstreamer.pubmed import grouper\n",
    "import json\n",
    "import tqdm\n"
   ]
  },
  {
   "cell_type": "code",
   "execution_count": 3,
   "metadata": {},
   "outputs": [],
   "source": [
    "read_cur = dbutil.db.cursor(cursor_factory=psycopg2.extras.RealDictCursor)\n",
    "update_cur = dbutil.db.cursor()"
   ]
  },
  {
   "cell_type": "code",
   "execution_count": 4,
   "metadata": {},
   "outputs": [],
   "source": [
    "def get_unique_terms(l):\n",
    "    \n",
    "    terms = [minimap.minimap(s) for s in l]\n",
    "    flat_terms = [item for sublist in terms for item in sublist]\n",
    "    \n",
    "    encountered_terms = set()\n",
    "    unique_terms = []\n",
    "    \n",
    "    for term in flat_terms:\n",
    "        if term['cui'] not in encountered_terms:\n",
    "            term.pop('start_idx')\n",
    "            term.pop('end_idx')\n",
    "            term.pop('source_text')\n",
    "            unique_terms.append(term)\n",
    "            encountered_terms.add(term['cui'])\n",
    "        \n",
    "    \n",
    "    return unique_terms\n",
    "    \n",
    "    \n",
    "    "
   ]
  },
  {
   "cell_type": "code",
   "execution_count": 5,
   "metadata": {},
   "outputs": [
    {
     "name": "stderr",
     "output_type": "stream",
     "text": [
      "articles annotated: 6500it [9:09:43,  4.30s/it]\n"
     ]
    }
   ],
   "source": [
    "\n",
    "read_cur.execute(\"SELECT * FROM pubmed_pico;\")\n",
    "\n",
    "records = read_cur.fetchall()\n",
    "\n",
    "batch_size = 100\n",
    "\n",
    "\n",
    "for batch in tqdm.tqdm(grouper(records, batch_size), desc='articles annotated'):\n",
    "    \n",
    "    out = []\n",
    "        \n",
    "    \n",
    "    for r in batch:\n",
    "        pmid = r['pmid']\n",
    "        population_mesh = get_unique_terms(r['population'])\n",
    "        interventions_mesh = get_unique_terms(r['interventions'])\n",
    "        outcomes_mesh = get_unique_terms(r['outcomes'])\n",
    "        \n",
    "        row = (json.dumps(population_mesh),\n",
    "               json.dumps(interventions_mesh),\n",
    "               json.dumps(outcomes_mesh),\n",
    "               pmid)\n",
    "        \n",
    "        out.append(row)\n",
    "        \n",
    "        update_cur.execute(\"update pubmed_pico set population_mesh=(%s), interventions_mesh=(%s), outcomes_mesh=(%s) where pmid=(%s);\",\n",
    "    row)\n",
    "        \n",
    "    dbutil.db.commit()\n",
    "\n",
    "\n",
    "        \n",
    "    \n",
    "    \n",
    "    \n"
   ]
  },
  {
   "cell_type": "code",
   "execution_count": 7,
   "metadata": {
    "scrolled": true
   },
   "outputs": [],
   "source": [
    "QUERY FOR OBTAINING TRIALS BY POPULATION\n",
    "select pmid from pubmed_pico, jsonb_array_elements(population_mesh) as p where p->>'mesh_term'='Stroke' limit 10;\n"
   ]
  },
  {
   "cell_type": "code",
   "execution_count": 6,
   "metadata": {},
   "outputs": [],
   "source": [
    "ids = ['NCT01657461',\n",
    " 'NCT01270867',\n",
    "'NCT01054560',\n",
    " 'ACTRN12611000969965',\n",
    " 'NCT01492725',\n",
    " 'NCT01778335',\n",
    " 'NCT01657461',\n",
    " 'NCT01054560',\n",
    " 'NCT01327989',\n",
    " 'NCT02523261',\n",
    " 'NCT01062698',\n",
    " 'NCT03036631',\n",
    " 'NCT01692379',\n",
    " 'NCT02135926',\n",
    " 'NCT01692379',\n",
    " 'NCT01745692',\n",
    " 'NCT02126085',\n",
    " 'NCT02157532',\n",
    " 'NCT01692379',\n",
    " 'NCT00860366',\n",
    " 'NCT02586415',\n",
    " 'NCT02350283',\n",
    " 'NCT01062698',\n",
    " 'NCT01657461',\n",
    " 'NCT01584609',\n",
    " 'NCT02222714']\n",
    "\n",
    "\n"
   ]
  },
  {
   "cell_type": "code",
   "execution_count": 7,
   "metadata": {},
   "outputs": [
    {
     "data": {
      "text/plain": [
       "{'ACTRN12611000969965',\n",
       " 'NCT00860366',\n",
       " 'NCT01054560',\n",
       " 'NCT01062698',\n",
       " 'NCT01270867',\n",
       " 'NCT01327989',\n",
       " 'NCT01492725',\n",
       " 'NCT01584609',\n",
       " 'NCT01657461',\n",
       " 'NCT01692379',\n",
       " 'NCT01745692',\n",
       " 'NCT01778335',\n",
       " 'NCT02126085',\n",
       " 'NCT02135926',\n",
       " 'NCT02157532',\n",
       " 'NCT02222714',\n",
       " 'NCT02350283',\n",
       " 'NCT02523261',\n",
       " 'NCT02586415',\n",
       " 'NCT03036631'}"
      ]
     },
     "execution_count": 7,
     "metadata": {},
     "output_type": "execute_result"
    }
   ],
   "source": [
    "set(ids)"
   ]
  },
  {
   "cell_type": "code",
   "execution_count": null,
   "metadata": {},
   "outputs": [],
   "source": []
  }
 ],
 "metadata": {
  "kernelspec": {
   "display_name": "Python (trialstreamer2)",
   "language": "python",
   "name": "trialstreamer"
  },
  "language_info": {
   "codemirror_mode": {
    "name": "ipython",
    "version": 3
   },
   "file_extension": ".py",
   "mimetype": "text/x-python",
   "name": "python",
   "nbconvert_exporter": "python",
   "pygments_lexer": "ipython3",
   "version": "3.7.3"
  }
 },
 "nbformat": 4,
 "nbformat_minor": 2
}
