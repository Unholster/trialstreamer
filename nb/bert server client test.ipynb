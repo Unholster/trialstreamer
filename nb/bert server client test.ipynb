{
 "cells": [
  {
   "cell_type": "code",
   "execution_count": 16,
   "metadata": {},
   "outputs": [],
   "source": [
    "from bert_serving.client import BertClient"
   ]
  },
  {
   "cell_type": "code",
   "execution_count": 19,
   "metadata": {},
   "outputs": [
    {
     "data": {
      "text/plain": [
       "array([[-0.20216396,  0.5860976 ,  0.30070075, ..., -0.22786947,\n",
       "        -1.1188158 , -1.6218872 ],\n",
       "       [-0.932224  ,  0.38708475,  0.25843266, ..., -0.17596972,\n",
       "        -0.44443715, -1.8124996 ],\n",
       "       [-0.95999366,  0.267781  ,  0.0621869 , ..., -0.33035535,\n",
       "        -0.5957386 , -1.4234557 ]], dtype=float32)"
      ]
     },
     "execution_count": 19,
     "metadata": {},
     "output_type": "execute_result"
    }
   ],
   "source": [
    "bc = BertClient()\n",
    "bc.encode(['First do it', 'then do it right', 'then do it better'])"
   ]
  },
  {
   "cell_type": "code",
   "execution_count": null,
   "metadata": {},
   "outputs": [],
   "source": []
  }
 ],
 "metadata": {
  "kernelspec": {
   "display_name": "Python (trialstreamer2)",
   "language": "python",
   "name": "trialstreamer"
  },
  "language_info": {
   "codemirror_mode": {
    "name": "ipython",
    "version": 3
   },
   "file_extension": ".py",
   "mimetype": "text/x-python",
   "name": "python",
   "nbconvert_exporter": "python",
   "pygments_lexer": "ipython3",
   "version": "3.7.3"
  }
 },
 "nbformat": 4,
 "nbformat_minor": 2
}
