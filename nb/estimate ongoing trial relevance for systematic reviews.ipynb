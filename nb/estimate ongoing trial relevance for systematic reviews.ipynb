{
 "cells": [
  {
   "cell_type": "markdown",
   "metadata": {},
   "source": [
    "## Looking at ongoing trials registered in BCC, SCC, and urinary incontinence in women\n",
    "### Preliminary estimates for NLM renewal\n"
   ]
  },
  {
   "cell_type": "code",
   "execution_count": 1,
   "metadata": {},
   "outputs": [
    {
     "name": "stderr",
     "output_type": "stream",
     "text": [
      "/home/iain/anaconda3/envs/rr3/lib/python3.6/site-packages/psycopg2/__init__.py:144: UserWarning: The psycopg2 wheel package will be renamed from release 2.8; in order to keep installing from binary please use \"pip install psycopg2-binary\" instead. For details see: <http://initd.org/psycopg/docs/install.html#binary-install-from-pypi>.\n",
      "  \"\"\")\n"
     ]
    }
   ],
   "source": [
    "from trialstreamer.dbutil import db\n",
    "import psycopg2\n",
    "import tqdm\n",
    "import json\n",
    "import os"
   ]
  },
  {
   "cell_type": "code",
   "execution_count": 70,
   "metadata": {},
   "outputs": [],
   "source": [
    "queries = [\"basal cell carcinoma\", \"squamous cell carcinoma\", \"urinary incontinence\"]\n",
    "\n",
    "exclude_strings = [[\"diagnos\", \"signatures\", 'non-interventional', 'database', 'retrospective'],\n",
    "                   [\"esophag\", \"head\", \"oral\", \"pharyn\", 'laryng', \"lung\", \"cervical\", \"mouth\", \"hnscc\", \"nsclc\", \"neck\", \"buccal\", 'hpv', 'anal', 'tongue', 'glott', 'digestive', 'penis', 'penile', 'extremities', 'sino', 'sinus', 'nasal', 'cervix', 'actinic keratosis', 'organ transplant', 'prognostic'],\n",
    "                   [\"male\", \"prevalence\", \"peni\", 'men', 'prosta', 'child']]\n",
    "\n",
    "base_path = \"/home/iain/Dropbox/documents/nlm-renewal/brown-systematic-reviews/trial-registry-searches\""
   ]
  },
  {
   "cell_type": "code",
   "execution_count": 71,
   "metadata": {},
   "outputs": [],
   "source": [
    "# initial searches for manual screening of relevant studies\n",
    "for q, e in zip(queries, exclude_strings):\n",
    "    cur = db.cursor(cursor_factory=psycopg2.extras.DictCursor)\n",
    "    cur.execute(\"select ti, year, ictrp_data from ictrp where lower(ti) like %s;\", (\"%{}%\".format(q),))\n",
    "    records = cur.fetchall()\n",
    "    with open(os.path.join(base_path, \"1-search-retrieval-{}\".format(q.replace(\" \", '-'))), 'w') as f:\n",
    "        filt = [r['ti'].strip() for r in records if r['year'] is not None and int(r['year']) > 2012]\n",
    "        filt = [r for r in filt if all((e_x not in r.lower() for e_x in e))]\n",
    "        filt = list(set(filt)) # remove dupes\n",
    "        f.write(\"{} RECORDS retrieved for {}\\n\\n\\n\".format(len(filt), q))\n",
    "        f.write('\\n\\n'.join([\"{}.\\t{}\".format(ix+1, fr) for ix, fr in enumerate(filt)]))\n"
   ]
  },
  {
   "cell_type": "code",
   "execution_count": null,
   "metadata": {},
   "outputs": [],
   "source": []
  }
 ],
 "metadata": {
  "kernelspec": {
   "display_name": "Python 3",
   "language": "python",
   "name": "python3"
  },
  "language_info": {
   "codemirror_mode": {
    "name": "ipython",
    "version": 3
   },
   "file_extension": ".py",
   "mimetype": "text/x-python",
   "name": "python",
   "nbconvert_exporter": "python",
   "pygments_lexer": "ipython3",
   "version": "3.6.6"
  }
 },
 "nbformat": 4,
 "nbformat_minor": 2
}
